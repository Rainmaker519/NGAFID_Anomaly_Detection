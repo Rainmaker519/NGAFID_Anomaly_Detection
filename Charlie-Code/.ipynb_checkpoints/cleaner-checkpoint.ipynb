{
 "cells": [
  {
   "cell_type": "code",
   "execution_count": 1,
   "id": "17017c5b",
   "metadata": {
    "executionInfo": {
     "elapsed": 26926,
     "status": "ok",
     "timestamp": 1636737512324,
     "user": {
      "displayName": "Charlie Selden",
      "photoUrl": "https://lh3.googleusercontent.com/a-/AOh14GgfbbHmqrIRC_YWHFUfqElKU9f6D4F88A1vYwTZ=s64",
      "userId": "01585634715821529613"
     },
     "user_tz": 300
    },
    "id": "17017c5b"
   },
   "outputs": [],
   "source": [
    "import torch\n",
    "import torch.nn as nn\n",
    "import torch.nn.functional as F\n",
    "import numpy as np\n",
    "import pandas as pd\n",
    "import matplotlib.pyplot as plt\n",
    "from sklearn.preprocessing import MinMaxScaler, StandardScaler\n",
    "from sklearn.model_selection import train_test_split\n",
    "from torch.autograd import Variable\n",
    "#import torch.cuda\n",
    "import random\n",
    "from itertools import chain as chain\n",
    "from torch.distributions.multivariate_normal import MultivariateNormal\n",
    "\n",
    "#conda activate base\n",
    "cudaOn = False"
   ]
  },
  {
   "cell_type": "code",
   "execution_count": 2,
   "id": "6507ca8e",
   "metadata": {
    "executionInfo": {
     "elapsed": 87584,
     "status": "ok",
     "timestamp": 1636737636972,
     "user": {
      "displayName": "Charlie Selden",
      "photoUrl": "https://lh3.googleusercontent.com/a-/AOh14GgfbbHmqrIRC_YWHFUfqElKU9f6D4F88A1vYwTZ=s64",
      "userId": "01585634715821529613"
     },
     "user_tz": 300
    },
    "id": "6507ca8e"
   },
   "outputs": [],
   "source": [
    "tepLoc = \"C:/Users/Charlie/Desktop/TEP_Data/\"\n",
    "tepTrain = tepLoc + \"TEP_Faulty_Training.csv\"\n",
    "tepTrain2 = tepLoc + \"TEP_FaultFree_Training.csv\"\n",
    "#tepTest = tepLoc + \"TEP_FaultFree_Testing.csv\"\n",
    "tepTest = tepLoc + \"TEP_Faulty_Testing.csv\"\n",
    "#tepTrain = '/content/TEP_Faulty_Training.csv'\n",
    "#tepTest = '/content/TEP_Faulty_Testing.csv'\n",
    "\n",
    "scaler = StandardScaler()\n",
    "\n",
    "#data = pd.read_csv('c172_file_1.csv')\n",
    "data = pd.read_csv(tepTrain)\n",
    "data2 = pd.read_csv(tepTrain2)\n",
    "data = pd.concat([data,data2])\n",
    "dataTest = pd.read_csv(tepTest)\n",
    "#I should only be scaling the values that are double values, scaling fault number and other stuff just kinda fucks output\n",
    "#scaler.fit(dataTest)\n",
    "#data = pd.DataFrame(scaler.transform(data))\n",
    "#dataTest = pd.DataFrame(scaler.transform(dataTest))\n"
   ]
  },
  {
   "cell_type": "code",
   "execution_count": 3,
   "id": "bf7e59bc",
   "metadata": {
    "executionInfo": {
     "elapsed": 6354,
     "status": "ok",
     "timestamp": 1636737685813,
     "user": {
      "displayName": "Charlie Selden",
      "photoUrl": "https://lh3.googleusercontent.com/a-/AOh14GgfbbHmqrIRC_YWHFUfqElKU9f6D4F88A1vYwTZ=s64",
      "userId": "01585634715821529613"
     },
     "user_tz": 300
    },
    "id": "bf7e59bc"
   },
   "outputs": [],
   "source": [
    "data = data.drop('Unnamed: 0',axis=1)\n",
    "data = data.drop('faultNumber',axis=1)\n",
    "data = data.drop('simulationRun',axis=1)\n",
    "data = data.drop('sample',axis=1)\n",
    "\n",
    "faultNumbersTest = []\n",
    "faultNumbersT = dataTest.get('faultNumber')\n",
    "for i in faultNumbersT:\n",
    "    faultNumbersTest.append(i)\n",
    "\n",
    "\"\"\"\n",
    "faultNumbersTest = []\n",
    "faultNumbersT = dataTest.get('faultNumber')\n",
    "for i in faultNumbersT:\n",
    "    if i != 1:\n",
    "        faultNumbersTest.append(1)\n",
    "    else:\n",
    "        faultNumbersTest.append(0)\n",
    "\"\"\"\n",
    "dataTest = dataTest.drop('Unnamed: 0',axis=1)\n",
    "dataTest = dataTest.drop('faultNumber',axis=1)\n",
    "dataTest = dataTest.drop('simulationRun',axis=1)\n",
    "#strtOfTwo = int(len(dataTest)/20)\n",
    "dataTest = dataTest.drop('sample',axis=1)\n",
    "dataTest = dataTest.iloc(0)[77000:77500]\n",
    "data = data.astype('float64')\n",
    "dataTest = dataTest.astype('float64')"
   ]
  },
  {
   "cell_type": "code",
   "execution_count": 4,
   "id": "WuvIIiEuG9DR",
   "metadata": {
    "colab": {
     "base_uri": "https://localhost:8080/"
    },
    "executionInfo": {
     "elapsed": 182,
     "status": "ok",
     "timestamp": 1636736995474,
     "user": {
      "displayName": "Charlie Selden",
      "photoUrl": "https://lh3.googleusercontent.com/a-/AOh14GgfbbHmqrIRC_YWHFUfqElKU9f6D4F88A1vYwTZ=s64",
      "userId": "01585634715821529613"
     },
     "user_tz": 300
    },
    "id": "WuvIIiEuG9DR",
    "outputId": "4bba6790-0f7e-42e9-f45c-1b584f8b0a95"
   },
   "outputs": [
    {
     "name": "stdout",
     "output_type": "stream",
     "text": [
      "[11, 11, 11, 11, 11, 11, 11, 11, 11, 11, 11, 11, 11, 11, 11, 11, 11, 11, 11, 11, 11, 11, 11, 11, 11, 11, 11, 11, 11, 11, 11, 11, 11, 11, 11, 11, 11, 11, 11, 11, 11, 11, 11, 11, 11, 11, 11, 11, 11, 11, 11, 11, 11, 11, 11, 11, 11, 11, 11, 11, 11, 11, 11, 11, 11, 11, 11, 11, 11, 11, 11, 11, 11, 11, 11, 11, 11, 11, 11, 11, 11, 11, 11, 11, 11, 11, 11, 11, 11, 11, 11, 11, 11, 11, 11, 11, 11, 11, 11, 11]\n"
     ]
    }
   ],
   "source": [
    "#print(faultNumbersT[10000:10100])\n",
    "print(faultNumbersTest[10000:10100])"
   ]
  },
  {
   "cell_type": "code",
   "execution_count": 5,
   "id": "5pZNB1ldG_39",
   "metadata": {
    "colab": {
     "base_uri": "https://localhost:8080/"
    },
    "executionInfo": {
     "elapsed": 263,
     "status": "ok",
     "timestamp": 1636737741127,
     "user": {
      "displayName": "Charlie Selden",
      "photoUrl": "https://lh3.googleusercontent.com/a-/AOh14GgfbbHmqrIRC_YWHFUfqElKU9f6D4F88A1vYwTZ=s64",
      "userId": "01585634715821529613"
     },
     "user_tz": 300
    },
    "id": "5pZNB1ldG_39",
    "outputId": "dcb5acec-d772-44f0-df0b-b8dd8e0ab3eb"
   },
   "outputs": [
    {
     "name": "stdout",
     "output_type": "stream",
     "text": [
      "       xmeas_1  xmeas_2  xmeas_3  xmeas_4  xmeas_5  xmeas_6  xmeas_7  xmeas_8  \\\n",
      "77000  0.90226   3638.0   4432.3   8.4121   27.061   42.176   2799.4   76.508   \n",
      "77001  0.90265   3646.0   4459.7   8.5330   26.943   42.210   2797.3   77.534   \n",
      "77002  0.93606   3672.2   4480.0   8.4576   26.878   42.217   2793.6   77.512   \n",
      "77003  0.93138   3682.7   4579.1   8.3506   26.825   41.882   2788.8   77.363   \n",
      "77004  0.95671   3662.0   4562.6   8.4281   26.750   41.862   2785.7   77.124   \n",
      "...        ...      ...      ...      ...      ...      ...      ...      ...   \n",
      "77495  0.79301   3617.9   4441.7   8.8561   26.917   42.160   2692.5   73.939   \n",
      "77496  0.78217   3707.2   4389.3   8.8533   26.804   42.140   2693.8   74.000   \n",
      "77497  0.78111   3691.9   4477.0   8.6669   26.784   42.515   2692.1   75.560   \n",
      "77498  0.77633   3626.5   4440.3   8.8028   27.295   41.969   2691.2   74.286   \n",
      "77499  0.77555   3644.0   4419.7   8.7613   26.742   42.459   2690.8   74.532   \n",
      "\n",
      "       xmeas_9  xmeas_10  ...   xmv_2   xmv_3   xmv_4   xmv_5   xmv_6   xmv_7  \\\n",
      "77000   120.40   0.27963  ...  54.368  88.824  56.230  21.886  33.340  35.966   \n",
      "77001   120.40   0.27798  ...  54.039  88.785  53.540  21.763  33.541  41.463   \n",
      "77002   120.43   0.26936  ...  54.444  91.721  56.248  21.852  32.145  34.762   \n",
      "77003   120.39   0.27092  ...  53.257  92.181  56.794  22.018  31.955  36.605   \n",
      "77004   120.42   0.27696  ...  54.580  94.134  54.666  21.584  32.843  37.610   \n",
      "...        ...       ...  ...     ...     ...     ...     ...     ...     ...   \n",
      "77495   120.40   0.33094  ...  53.474  77.879  58.065  22.603  39.007  40.029   \n",
      "77496   120.40   0.33025  ...  53.827  76.821  56.805  22.266  39.274  35.801   \n",
      "77497   120.41   0.33297  ...  52.776  76.925  59.481  21.863  38.942  42.451   \n",
      "77498   120.39   0.33025  ...  53.477  75.956  59.651  22.724  39.729  39.128   \n",
      "77499   120.41   0.33105  ...  53.724  76.032  60.075  22.346  39.631  37.452   \n",
      "\n",
      "        xmv_8   xmv_9  xmv_10  xmv_11  \n",
      "77000  44.974  57.123  40.373  18.406  \n",
      "77001  43.267  58.240  40.173  19.763  \n",
      "77002  46.637  59.412  40.596  19.339  \n",
      "77003  46.723  60.660  40.163  20.080  \n",
      "77004  47.216  61.799  41.368  20.612  \n",
      "...       ...     ...     ...     ...  \n",
      "77495  46.325  65.105  41.587  17.960  \n",
      "77496  46.654  65.116  41.378  17.081  \n",
      "77497  44.380  65.078  41.386  17.721  \n",
      "77498  45.913  65.213  41.287  19.180  \n",
      "77499  44.386  65.094  40.895  16.361  \n",
      "\n",
      "[500 rows x 52 columns]\n"
     ]
    }
   ],
   "source": [
    "print(dataTest)\n",
    "numVariables = 52"
   ]
  },
  {
   "cell_type": "code",
   "execution_count": 6,
   "id": "ada8c248",
   "metadata": {
    "executionInfo": {
     "elapsed": 2484,
     "status": "ok",
     "timestamp": 1636738008928,
     "user": {
      "displayName": "Charlie Selden",
      "photoUrl": "https://lh3.googleusercontent.com/a-/AOh14GgfbbHmqrIRC_YWHFUfqElKU9f6D4F88A1vYwTZ=s64",
      "userId": "01585634715821529613"
     },
     "user_tz": 300
    },
    "id": "ada8c248"
   },
   "outputs": [],
   "source": [
    "def tep_testing_stepped(dat,step_size):\n",
    "    res = []\n",
    "    ind = 0\n",
    "    scale = MinMaxScaler().fit(dat)\n",
    "    dat = pd.DataFrame(scale.transform(dat))\n",
    "    #print(int((len(data)/step_size)))\n",
    "    for i in range(int((len(dat)/step_size))):\n",
    "        if ind + step_size < len(dat):\n",
    "            step = []\n",
    "            for j in range(step_size):\n",
    "              #print(data.iloc(0)[ind])#[ind])\n",
    "              step.append(dat.iloc(0)[ind])\n",
    "              ind = ind + 1\n",
    "            res.append(step)\n",
    "    return res\n",
    "\n",
    "t = tep_testing_stepped(dataTest,5)\n",
    "#t = to_var(t)\n",
    "#print(len(t[0][0]))"
   ]
  },
  {
   "cell_type": "code",
   "execution_count": 7,
   "id": "0ec85e94",
   "metadata": {
    "executionInfo": {
     "elapsed": 93,
     "status": "ok",
     "timestamp": 1636738016013,
     "user": {
      "displayName": "Charlie Selden",
      "photoUrl": "https://lh3.googleusercontent.com/a-/AOh14GgfbbHmqrIRC_YWHFUfqElKU9f6D4F88A1vYwTZ=s64",
      "userId": "01585634715821529613"
     },
     "user_tz": 300
    },
    "id": "0ec85e94"
   },
   "outputs": [],
   "source": [
    "#Split and reshape the data set by step_size , use min-max or stanrdardlize method to rescale the data\n",
    "def Splitting_dataset(data, step_size, scale=True, scaler_type=MinMaxScaler):\n",
    "        l = len(data) \n",
    "        data = scaler_type().fit_transform(data)\n",
    "        Xs = []\n",
    "        Ys = []\n",
    "        for i in range(0, (len(data) - step_size)):\n",
    "            Xs.append(data[i:i+step_size])\n",
    "            Ys.append(data[i:i+step_size])\n",
    "        train_x, test_x, train_y, test_y = [np.array(x) for x in train_test_split(Xs, Ys)]\n",
    "        assert train_x.shape[2] == test_x.shape[2] == (data.shape[1] if (type(data) == np.ndarray) else len(data))\n",
    "        return  (train_x.shape[2], train_x, train_y, test_x, test_y)\n",
    "    \n",
    "def get_batch(x, batch_size):\n",
    "    \"\"\"Made with taking test_x or XX as input\"\"\"\n",
    "    t = 0\n",
    "    while t >= 0:\n",
    "        x_mod = len(x) % batch_size\n",
    "        start = random.random() * (len(x)-x_mod)\n",
    "        start = int(start)\n",
    "        if start + batch_size < len(x):\n",
    "            t = t-1\n",
    "    batch = x[start:(start+batch_size)]\n",
    "    #print(batch.shape)\n",
    "    return batch\n",
    "\n",
    "def to_var(x):\n",
    "    if torch.cuda.is_available():\n",
    "        x = x.cuda()\n",
    "    return Variable(x)\n",
    "\n",
    "def loss_fn(recon_x, x, mu, logvar):\n",
    "        BCE = F.binary_cross_entropy(recon_x, x, size_average=False)\n",
    "    \n",
    "        # see Appendix B from VAE paper:\n",
    "        # Kingma and Welling. Auto-Encoding Variational Bayes. ICLR, 2014\n",
    "        # 0.5 * sum(1 + log(sigma^2) - mu^2 - sigma^2)\n",
    "        KLD = -0.5 * torch.sum(1 + logvar - mu**2 -  logvar.exp())\n",
    "        return BCE + KLD\n",
    "    \n"
   ]
  },
  {
   "cell_type": "code",
   "execution_count": 8,
   "id": "a6b2b35f",
   "metadata": {
    "executionInfo": {
     "elapsed": 231,
     "status": "ok",
     "timestamp": 1636738018407,
     "user": {
      "displayName": "Charlie Selden",
      "photoUrl": "https://lh3.googleusercontent.com/a-/AOh14GgfbbHmqrIRC_YWHFUfqElKU9f6D4F88A1vYwTZ=s64",
      "userId": "01585634715821529613"
     },
     "user_tz": 300
    },
    "id": "a6b2b35f"
   },
   "outputs": [],
   "source": [
    "class VAE(nn.Module):\n",
    "    def __init__(self, image_size=784, h_dim=27, z_dim=31, n_flow_steps=1):\n",
    "        super(VAE, self).__init__()\n",
    "        self.encoder = nn.Sequential(\n",
    "            nn.Linear(image_size, h_dim),\n",
    "            nn.LeakyReLU(0.1),\n",
    "            nn.Linear(h_dim, z_dim*2) #is it saying its getting a mu and a var for each z dim out?\n",
    "            \n",
    "            #how can I represent the encoder as a distribution acting as the prior?\n",
    "        )\n",
    "        \n",
    "        self.decoder = nn.Sequential(\n",
    "            nn.Linear(z_dim, h_dim),\n",
    "            nn.ReLU(),\n",
    "            nn.Linear(h_dim, image_size),\n",
    "            nn.Sigmoid()\n",
    "        )\n",
    "    \n",
    "    def reparameterize(self, mu, logvar):\n",
    "        std = logvar.mul(0.5).exp_() \n",
    "        esp = to_var(torch.randn(*mu.size()))\n",
    "        z = mu + std * esp\n",
    "        return z\n",
    "    \n",
    "    def forward(self, x):\n",
    "        h = self.encoder(x)\n",
    "        mu, logvar = torch.chunk(h, 2, dim=1)\n",
    "        #print(mu.shape)\n",
    "        #print(logvar.shape)\n",
    "        z = self.reparameterize(mu, logvar)\n",
    "        #print(z.shape)\n",
    "        #z = z.float()\n",
    "        z = model(z)\n",
    "        #print(z)\n",
    "        tensorZ = z[0]#torch.tensor(z[0])\n",
    "        #print(tensorZ.shape)\n",
    "        #print(z[0])\n",
    "        return self.decoder(tensorZ), mu, logvar\n",
    "    \n",
    "\n",
    "class stacked_NVP(nn.Module):\n",
    "    def __init__(self, d, k, hidden, n):\n",
    "        super().__init__()\n",
    "        self.bijectors = nn.ModuleList([\n",
    "            R_NVP(d, k, hidden=hidden) for _ in range(n)\n",
    "        ])\n",
    "        self.flips = [True if i%2 else False for i in range(n)]\n",
    "        \n",
    "    def forward(self, x):\n",
    "        log_jacobs = []\n",
    "\n",
    "        for bijector, f in zip(self.bijectors, self.flips):\n",
    "            x, log_pz, lj = bijector(x, flip=f)\n",
    "            log_jacobs.append(lj)\n",
    "        \n",
    "        return x, log_pz, sum(log_jacobs)\n",
    "    \n",
    "    def inverse(self, z):\n",
    "        for bijector, f in zip(reversed(self.bijectors), reversed(self.flips)):\n",
    "            z = bijector.inverse(z, flip=f)\n",
    "        return z\n",
    "    \n",
    "class R_NVP(nn.Module):\n",
    "    def __init__(self, d, k, hidden):\n",
    "        super().__init__()\n",
    "        self.d, self.k = d, k\n",
    "        self.sig_net = nn.Sequential(\n",
    "                    nn.Linear(k, hidden),\n",
    "                    nn.LeakyReLU(),\n",
    "                    nn.Linear(hidden, d - k))\n",
    "\n",
    "        self.mu_net = nn.Sequential(\n",
    "                    nn.Linear(k, hidden),\n",
    "                    nn.LeakyReLU(),\n",
    "                    nn.Linear(hidden, d - k))\n",
    "\n",
    "    def forward(self, x, flip=False):\n",
    "        x1, x2 = x[:, :self.k], x[:, self.k:] \n",
    "\n",
    "        if flip:\n",
    "            x2, x1 = x1, x2\n",
    "        \n",
    "        # forward\n",
    "        sig = self.sig_net(x1)\n",
    "        z1, z2 = x1, x2 * torch.exp(sig) + self.mu_net(x1)\n",
    "        \n",
    "        if flip:\n",
    "            z2, z1 = z1, z2\n",
    "        \n",
    "        z_hat = torch.cat([z1, z2], dim=-1)\n",
    "\n",
    "        log_pz = base_dist.log_prob(z_hat)\n",
    "        log_jacob = sig.sum(-1)\n",
    "        \n",
    "        return z_hat, log_pz, log_jacob\n",
    "    \n",
    "    def inverse(self, Z, flip=False):\n",
    "        z1, z2 = Z[:, :self.k], Z[:, self.k:] \n",
    "        \n",
    "        if flip:\n",
    "            z2, z1 = z1, z2\n",
    "        \n",
    "        x1 = z1\n",
    "        x2 = (z2 - self.mu_net(z1)) * torch.exp(-self.sig_net(z1))\n",
    "        \n",
    "        if flip:\n",
    "            x2, x1 = x1, x2\n",
    "        return torch.cat([x1, x2], -1)"
   ]
  },
  {
   "cell_type": "code",
   "execution_count": 9,
   "id": "8a6c8460",
   "metadata": {
    "id": "8a6c8460"
   },
   "outputs": [],
   "source": [
    "step_size = 8\n",
    "batch = 512\n",
    "index_step_length = numVariables\n",
    "epochs = 10\n",
    "\n",
    "num = 5\n",
    "\n",
    "d = 2\n",
    "k = 1\n",
    "\n",
    "base_mu, base_cov = torch.zeros(2), torch.eye(2)\n",
    "\n",
    "base_mu = to_var(base_mu.double())\n",
    "base_cov = to_var(base_cov.double())\n",
    "\n",
    "base_dist = MultivariateNormal(base_mu, base_cov)\n",
    "#---------------------------------------------------------------------------------------------------------------------------------\n",
    "labels, X, Y, XX, YY = Splitting_dataset(data, step_size)\n",
    "#XX.cuda()\n",
    "demo = VAE(index_step_length,h_dim=7,z_dim=2)\n",
    "model = stacked_NVP(d, k, hidden=512,n=num)\n",
    "demo.double()\n",
    "model.double()\n",
    "    \n",
    "#next set of tests should be with n=3, last set was with n=1\n",
    "optimizer = torch.optim.RMSprop(model.parameters(), lr=1e-3)\n",
    "optimizer2 = torch.optim.RMSprop(demo.parameters(), lr=1e-3)\n",
    "\n",
    "scheduler = torch.optim.lr_scheduler.ExponentialLR(optimizer, 0.999)\n",
    "\n",
    "if torch.cuda.is_available() & cudaOn:\n",
    "    demo.cuda()\n",
    "    print(\"demo done\")\n",
    "    model.cuda()\n",
    "    print(\"model done\")"
   ]
  },
  {
   "cell_type": "code",
   "execution_count": 10,
   "id": "1d71db30",
   "metadata": {
    "id": "1d71db30"
   },
   "outputs": [
    {
     "name": "stderr",
     "output_type": "stream",
     "text": [
      "C:\\Users\\Charlie\\anaconda3\\lib\\site-packages\\torch\\nn\\_reduction.py:43: UserWarning: size_average and reduce args will be deprecated, please use reduction='sum' instead.\n",
      "  warnings.warn(warning.format(ret))\n"
     ]
    },
    {
     "name": "stdout",
     "output_type": "stream",
     "text": [
      "Epoch[1/10] Loss: 0.541\n",
      "Epoch[1/10] Loss: 0.544\n",
      "Epoch[1/10] Loss: 0.541\n",
      "Epoch[1/10] Loss: 0.545\n",
      "Epoch[1/10] Loss: 0.544\n",
      "Epoch[2/10] Loss: 0.544\n",
      "Epoch[2/10] Loss: 0.555\n",
      "Epoch[2/10] Loss: 0.556\n",
      "Epoch[2/10] Loss: 0.545\n",
      "Epoch[2/10] Loss: 0.541\n",
      "Epoch[3/10] Loss: 0.542\n",
      "Epoch[3/10] Loss: 0.554\n",
      "Epoch[3/10] Loss: 0.543\n",
      "Epoch[3/10] Loss: 0.556\n",
      "Epoch[3/10] Loss: 0.542\n",
      "Epoch[4/10] Loss: 0.548\n",
      "Epoch[4/10] Loss: 0.543\n",
      "Epoch[4/10] Loss: 0.544\n",
      "Epoch[4/10] Loss: 0.543\n",
      "Epoch[4/10] Loss: 0.528\n",
      "Epoch[5/10] Loss: 0.541\n",
      "Epoch[5/10] Loss: 0.544\n",
      "Epoch[5/10] Loss: 0.543\n",
      "Epoch[5/10] Loss: 0.542\n",
      "Epoch[5/10] Loss: 0.543\n",
      "Epoch[6/10] Loss: 0.545\n",
      "Epoch[6/10] Loss: 0.545\n",
      "Epoch[6/10] Loss: 0.543\n",
      "Epoch[6/10] Loss: 0.534\n",
      "Epoch[6/10] Loss: 0.544\n",
      "Epoch[7/10] Loss: 0.543\n",
      "Epoch[7/10] Loss: 0.545\n",
      "Epoch[7/10] Loss: 0.522\n",
      "Epoch[7/10] Loss: 0.544\n",
      "Epoch[7/10] Loss: 0.543\n",
      "Epoch[8/10] Loss: 0.543\n",
      "Epoch[8/10] Loss: 0.550\n",
      "Epoch[8/10] Loss: 0.540\n",
      "Epoch[8/10] Loss: 0.545\n",
      "Epoch[8/10] Loss: 0.543\n",
      "Epoch[9/10] Loss: 0.544\n",
      "Epoch[9/10] Loss: 0.546\n",
      "Epoch[9/10] Loss: 0.534\n",
      "Epoch[9/10] Loss: 0.541\n",
      "Epoch[9/10] Loss: 0.541\n",
      "Epoch[9/10] Loss: 0.545\n",
      "Epoch[10/10] Loss: 0.541\n",
      "Epoch[10/10] Loss: 0.542\n",
      "Epoch[10/10] Loss: 0.543\n",
      "Epoch[10/10] Loss: 0.542\n",
      "Epoch[10/10] Loss: 0.544\n",
      "99\n",
      "\n",
      "0.016988295064990507\n",
      "0.038596086130797305\n",
      "8.17892479805793e-05\n"
     ]
    },
    {
     "data": {
      "text/plain": [
       "[<matplotlib.lines.Line2D at 0x189e8540b50>]"
      ]
     },
     "execution_count": 10,
     "metadata": {},
     "output_type": "execute_result"
    },
    {
     "data": {
      "image/png": "[encoded data removed]",
      "text/plain": [
       "<Figure size 432x288 with 1 Axes>"
      ]
     },
     "metadata": {
      "needs_background": "light"
     },
     "output_type": "display_data"
    },
    {
     "data": {
      "image/png": "[encoded data removed]",
      "text/plain": [
       "<Figure size 432x288 with 1 Axes>"
      ]
     },
     "metadata": {
      "needs_background": "light"
     },
     "output_type": "display_data"
    },
    {
     "data": {
      "image/png": "[encoded data removed]",
      "text/plain": [
       "<Figure size 432x288 with 1 Axes>"
      ]
     },
     "metadata": {
      "needs_background": "light"
     },
     "output_type": "display_data"
    }
   ],
   "source": [
    "idx = 0\n",
    "\n",
    "anomaly_history = []\n",
    "loss_history = []\n",
    "avgSum = 0\n",
    "avgCount = 0\n",
    "\n",
    "for epoch in range(epochs):\n",
    "    b = get_batch(X,batch)\n",
    "    #print(range(batch))\n",
    "    for i in range(batch):\n",
    "        #localX = torch.tensor(b[i].cuda())\n",
    "        localX = to_var(torch.tensor(b[i]))\n",
    "        recon, mu, logvar = demo(localX)\n",
    "        loss = loss_fn(recon, localX, mu, logvar) #doing kl-divergence loss correctly\n",
    "        \"\"\"This bound (kl loss) provides a unified objective function for \n",
    "        op-timization of both the parameters θ and φ of the model and variational approximation, respectively.\"\"\"\n",
    "        optimizer.zero_grad()\n",
    "        optimizer2.zero_grad()\n",
    "        loss.backward()\n",
    "        optimizer.step()\n",
    "        optimizer2.step()\n",
    "        scheduler.step()\n",
    "        idx = idx + 1\n",
    "\n",
    "        avgSum = avgSum + torch.mean(loss/batch)\n",
    "        avgCount = avgCount + 1\n",
    "        anomaly_score = abs(torch.mean(localX-recon))\n",
    "\n",
    "        if idx%30 == 0:\n",
    "            loss_history.append(avgSum/avgCount)\n",
    "            anomaly_history.append(anomaly_score)\n",
    "            avgSum = 0\n",
    "            avgCount = 0\n",
    "\n",
    "        if idx%100 == 0:\n",
    "            print(\"Epoch[{}/{}] Loss: {:.3f}\".format(epoch+1, epochs, loss.data.item()/batch))\n",
    "            \n",
    "p1 = plt.figure()\n",
    "plt.plot(loss_history,'g-',label='h 10,z 2')\n",
    "\n",
    "\n",
    "step_start = 0\n",
    "anomalies = []\n",
    "y_nomalies = []\n",
    "county = 0\n",
    "#print(type(XX))\n",
    "#print(len(XX))\n",
    "#print(XX.shape)\n",
    "for step in t:\n",
    "  step = to_var(torch.tensor(step,dtype=torch.float64))\n",
    "  if True:\n",
    "      #step = torch.tensor(XX[step_start:step_start+step_size])[0]\n",
    "      recon,_,_ = demo(step)\n",
    "      anom = abs(torch.mean(step-recon))\n",
    "      anom2 = torch.mean(torch.tensor(faultNumbersTest[county*step_size:county*step_size+step_size],dtype=torch.float64))\n",
    "      #if county%100 == 0:\n",
    "        #print(\"step: \" + str(step))\n",
    "        #print(\"recon: \" + str(recon))\n",
    "        #print(anom)\n",
    "      anomalies.append(anom)\n",
    "      y_nomalies.append(anom2)\n",
    "      step_start = step_start + 1\n",
    "      county = county + 1\n",
    "\n",
    "start = 0\n",
    "view = []\n",
    "max = -99999\n",
    "min = 99999\n",
    "maxA = -99999\n",
    "minA = 99999\n",
    "\n",
    "print(len(anomalies))\n",
    "\n",
    "for a in anomalies:\n",
    "    if start+1 < len(anomalies):\n",
    "        view.append(abs(anomalies[start+1].item() - a.item()))  \n",
    "        start = start + 1\n",
    "  \n",
    "for i in range(len(view)):\n",
    "    j = i + 1\n",
    "    if view[i] > max:\n",
    "        max = a.item()\n",
    "    if view[i] < min:\n",
    "        min = a.item()\n",
    "    if i < len(view)-1:\n",
    "        #print(\"i: \" + str(view[i]))\n",
    "        #print(\"j: \" + str(view[j]))\n",
    "        v = abs(view[i]-view[j])\n",
    "        #print(\"v: \" + str(v))\n",
    "        if v > maxA:\n",
    "            maxA = v\n",
    "        if v < minA:\n",
    "            minA = v\n",
    "            \n",
    "print()\n",
    "print(max)\n",
    "print(maxA)\n",
    "print(minA)\n",
    "\n",
    "#could get loc min and max given a step size rather than literally between individual points\n",
    "                \n",
    "p3 = plt.figure()\n",
    "plt.plot(anomalies, 'g-')\n",
    "p4 = plt.figure()\n",
    "plt.plot(y_nomalies, 'b-')"
   ]
  },
  {
   "cell_type": "code",
   "execution_count": null,
   "id": "e516dea7",
   "metadata": {
    "id": "e516dea7"
   },
   "outputs": [],
   "source": []
  }
 ],
 "metadata": {
  "accelerator": "GPU",
  "colab": {
   "collapsed_sections": [],
   "name": "cleaner.ipynb",
   "provenance": []
  },
  "kernelspec": {
   "display_name": "Python 3 (ipykernel)",
   "language": "python",
   "name": "python3"
  },
  "language_info": {
   "codemirror_mode": {
    "name": "ipython",
    "version": 3
   },
   "file_extension": ".py",
   "mimetype": "text/x-python",
   "name": "python",
   "nbconvert_exporter": "python",
   "pygments_lexer": "ipython3",
   "version": "3.8.11"
  }
 },
 "nbformat": 4,
 "nbformat_minor": 5
}
