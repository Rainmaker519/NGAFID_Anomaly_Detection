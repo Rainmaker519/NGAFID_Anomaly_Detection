{
 "cells": [
  {
   "cell_type": "code",
   "execution_count": 2,
   "id": "stopped-begin",
   "metadata": {},
   "outputs": [],
   "source": [
    "# Things to be included\n",
    "# 1. visualization tools for optimization\n",
    "# 2. visualization tools for plotting actual and predicted sequence, and anomaly points\n",
    "# 3. Computation cost calculation\n",
    "# 4. Warnings / Errors?"
   ]
  },
  {
   "cell_type": "code",
   "execution_count": 3,
   "id": "printable-invitation",
   "metadata": {},
   "outputs": [],
   "source": [
    "import numpy as np\n",
    "from numpy import array\n",
    "import random\n",
    "from random import randint\n",
    "import os\n",
    "import matplotlib.pyplot as plt\n",
    "import pandas as pd\n",
    "import sklearn.model_selection\n",
    "import keras\n",
    "from keras.models import Sequential\n",
    "from keras.layers import Dense, Conv1D, Flatten, Activation, MaxPooling1D, Dropout\n",
    "from keras.optimizers import SGD\n",
    "import pdb"
   ]
  },
  {
   "cell_type": "code",
   "execution_count": 4,
   "id": "norwegian-thunder",
   "metadata": {},
   "outputs": [],
   "source": [
    "#model will be trained on GPU 1, I don't need it now.\n",
    "# os.environ[\"CUDA_DEVICE_ORDER\"]=\"PCI_BUS_ID\"\n",
    "# os.environ[\"CUDA_VISIBLE_DEVICES\"]=\"1\""
   ]
  },
  {
   "cell_type": "code",
   "execution_count": 5,
   "id": "experienced-brooks",
   "metadata": {},
   "outputs": [],
   "source": [
    "def anomaly_detector(prediction_seq, ground_truth_seq):\n",
    "    \n",
    "    \"\"\" Anomaly detector\n",
    "    \n",
    "    This is the method to determin whether this is an anomaly outlier.\n",
    "    Enclidean distance is used to calculate the number here.\n",
    "    \n",
    "    parameter\n",
    "    ----\n",
    "    prediction_seq: list.\n",
    "    ground_truth_seq: array.\n",
    "    \n",
    "    return\n",
    "    ----\n",
    "    final_list: array of boolean.\n",
    "    \n",
    "    \"\"\"\n",
    "    # calculate Euclidean between actual seq and predicted seq\n",
    "    if len(prediction_seq) != len(ground_truth_seq):\n",
    "        print(\"Error! You did not have same length of sequence!\")\n",
    "        return\n",
    "    else:\n",
    "        final_list = []\n",
    "        for i in range(len(prediction_seq)):\n",
    "            dist = np.linalg.norm(ground_truth_seq[i][0] - prediction_seq[i])\n",
    "            if (abs(dist) > anm_det_thr):\n",
    "                final_list.append(True)  # anomaly\n",
    "            else:\n",
    "                final_list.append(False) # normal\n",
    "        return np.array(final_list)"
   ]
  },
  {
   "cell_type": "code",
   "execution_count": 32,
   "id": "ready-separate",
   "metadata": {},
   "outputs": [],
   "source": [
    "\"\"\"Hyperparameters\n",
    "\n",
    "List down all the hyperparamters and the explianation.\n",
    "\"\"\"\n",
    "\n",
    "w = 10                 # History window (number of time stamps taken into account) \n",
    "                         # i.e., filter(kernel) size       \n",
    "p_w = 1                # Prediction window (number of time stampes required to be \n",
    "                         # predicted)\n",
    "n_features = 1           # Univariate time series\n",
    "\n",
    "kernel_size = 2          # Size of filter in conv layers\n",
    "num_filt_1 = 32          # Number of filters in first conv layer\n",
    "num_filt_2 = 32          # Number of filters in second conv layer\n",
    "num_nrn_dl = 40          # Number of neurons in dense layer\n",
    "num_nrn_ol = p_w         # Number of neurons in output layer\n",
    "\n",
    "conv_strides = 1\n",
    "pool_size_1 = 2          # Length of window of pooling layer 1\n",
    "pool_size_2 = 2          # Length of window of pooling layer 2\n",
    "pool_strides_1 = 2       # Stride of window of pooling layer 1\n",
    "pool_strides_2 = 2       # Stride of window of pooling layer 2\n",
    "\n",
    "epochs = 100\n",
    "dropout_rate = 0.5       # Dropout rate in the fully connected layer\n",
    "learning_rate = 0.01  \n",
    "anm_det_thr = 0.5        # Threshold for classifying anomaly (0.5~0.8)"
   ]
  },
  {
   "cell_type": "code",
   "execution_count": 7,
   "id": "renewable-boundary",
   "metadata": {},
   "outputs": [
    {
     "data": {
      "image/png": "[encoded data removed]",
      "text/plain": [
       "<Figure size 432x288 with 1 Axes>"
      ]
     },
     "metadata": {
      "needs_background": "light"
     },
     "output_type": "display_data"
    },
    {
     "data": {
      "text/plain": [
       "<Figure size 7200x720 with 0 Axes>"
      ]
     },
     "metadata": {},
     "output_type": "display_data"
    },
    {
     "name": "stdout",
     "output_type": "stream",
     "text": [
      "   timestamp     value  is_anomaly\n",
      "0          1  0.000000           0\n",
      "1          2  0.091758           0\n",
      "2          3  0.172297           0\n",
      "3          4  0.226219           0\n",
      "4          5  0.176358           0\n"
     ]
    },
    {
     "data": {
      "text/html": [
       "<div>\n",
       "<style scoped>\n",
       "    .dataframe tbody tr th:only-of-type {\n",
       "        vertical-align: middle;\n",
       "    }\n",
       "\n",
       "    .dataframe tbody tr th {\n",
       "        vertical-align: top;\n",
       "    }\n",
       "\n",
       "    .dataframe thead th {\n",
       "        text-align: right;\n",
       "    }\n",
       "</style>\n",
       "<table border=\"1\" class=\"dataframe\">\n",
       "  <thead>\n",
       "    <tr style=\"text-align: right;\">\n",
       "      <th></th>\n",
       "      <th>timestamp</th>\n",
       "      <th>value</th>\n",
       "    </tr>\n",
       "  </thead>\n",
       "  <tbody>\n",
       "    <tr>\n",
       "      <th>0</th>\n",
       "      <td>1</td>\n",
       "      <td>0.000000</td>\n",
       "    </tr>\n",
       "    <tr>\n",
       "      <th>1</th>\n",
       "      <td>2</td>\n",
       "      <td>0.116573</td>\n",
       "    </tr>\n",
       "    <tr>\n",
       "      <th>2</th>\n",
       "      <td>3</td>\n",
       "      <td>0.218893</td>\n",
       "    </tr>\n",
       "    <tr>\n",
       "      <th>3</th>\n",
       "      <td>4</td>\n",
       "      <td>0.287399</td>\n",
       "    </tr>\n",
       "    <tr>\n",
       "      <th>4</th>\n",
       "      <td>5</td>\n",
       "      <td>0.224053</td>\n",
       "    </tr>\n",
       "  </tbody>\n",
       "</table>\n",
       "</div>"
      ],
      "text/plain": [
       "   timestamp     value\n",
       "0          1  0.000000\n",
       "1          2  0.116573\n",
       "2          3  0.218893\n",
       "3          4  0.287399\n",
       "4          5  0.224053"
      ]
     },
     "execution_count": 7,
     "metadata": {},
     "output_type": "execute_result"
    }
   ],
   "source": [
    "\"\"\"Data loading\n",
    "\n",
    "Load the data and normalize the value.\n",
    "Separate the is_anomaly data out from the dataset.\n",
    "Plot the overview of the dataset\n",
    "\"\"\"\n",
    "\n",
    "yahoo = pd.read_csv('/Users/fermat/Desktop/RIT_Class/2021 Spring/Data_Science_project/paper_dataset/ydata-labeled-time-series-anomalies-v1_0/A1Benchmark/real_1.csv')\n",
    "plt.plot(yahoo['value'])\n",
    "plt.title('yahoo')\n",
    "plt.ylabel('value')\n",
    "plt.xlabel('index')\n",
    "plt.legend(['yahoo'], loc='upper right')\n",
    "plt.figure(figsize=(100,10))\n",
    "plt.show()\n",
    "print(yahoo.head())\n",
    "norm_data = list(yahoo['value'])\n",
    "yahoo['value'] = [(float(i)-min(norm_data))/(max(norm_data)-min(norm_data)) for i in norm_data]\n",
    "true_label = yahoo['is_anomaly'].copy()\n",
    "yahoo = yahoo.drop(columns=['is_anomaly'])\n",
    "yahoo.head()\n"
   ]
  },
  {
   "cell_type": "code",
   "execution_count": 8,
   "id": "biological-america",
   "metadata": {},
   "outputs": [
    {
     "name": "stdout",
     "output_type": "stream",
     "text": [
      "[[0.         0.11657333 0.21889332 ... 0.08693264 0.16935357 0.10802149]\n",
      " [0.11657333 0.21889332 0.28739895 ... 0.16935357 0.10802149 0.12332587]\n",
      " [0.21889332 0.28739895 0.22405289 ... 0.10802149 0.12332587 0.        ]\n",
      " ...\n",
      " [0.05579008 0.06745122 0.26040117 ... 0.22281139 0.20285787 0.17484625]\n",
      " [0.06745122 0.26040117 0.04549539 ... 0.20285787 0.17484625 0.25083827]\n",
      " [0.26040117 0.04549539 0.04189874 ... 0.17484625 0.25083827 0.20576891]]\n",
      "(1410, 10)\n"
     ]
    }
   ],
   "source": [
    "\"\"\"Data preprocessing\"\"\"\n",
    "\n",
    "# split a univariate sequence into samples\n",
    "def split_sequence(sequence):\n",
    "    \"\"\"\n",
    "    In the model,\n",
    "    Sample batch: w data points(from time (t-w) to (t)).\n",
    "    batch label: p_w(prediction window) data points(at time (t+p_w)).\n",
    "    \n",
    "    \"\"\"\n",
    "    X, y = [], []\n",
    "    for i in range(len(sequence)):\n",
    "        # find the end of this pattern\n",
    "        end_ix = i + w\n",
    "        out_end_ix = end_ix + p_w\n",
    "        # check if we are beyond the sequence\n",
    "        if out_end_ix > len(sequence):\n",
    "            break\n",
    "        # gather input and output parts of the pattern\n",
    "        seq_x, seq_y = sequence[i:end_ix], sequence[end_ix:out_end_ix]\n",
    "        X.append(seq_x)\n",
    "        y.append(seq_y)\n",
    "        \n",
    "    return array(X), array(y)\n",
    "      \n",
    "\n",
    "# define input sequence\n",
    "raw_seq = list(yahoo['value'])\n",
    "\n",
    "# split into samples\n",
    "batch_sample, batch_label = split_sequence(raw_seq)\n",
    "print(batch_sample)\n",
    "print(batch_sample.shape)\n",
    "\n",
    "\n",
    "# 2. reshape from [samples, timesteps] into [samples, timesteps, features]\n",
    "# need to convert batch into 3D tensor of the form [batch_size, input_seq_len, n_features]\n",
    "\n",
    "batch_sample = batch_sample.reshape((batch_sample.shape[0], batch_sample.shape[1], n_features))"
   ]
  },
  {
   "cell_type": "code",
   "execution_count": 48,
   "id": "electronic-workplace",
   "metadata": {},
   "outputs": [
    {
     "name": "stdout",
     "output_type": "stream",
     "text": [
      "Model: \"sequential_9\"\n",
      "_________________________________________________________________\n",
      "Layer (type)                 Output Shape              Param #   \n",
      "=================================================================\n",
      "conv1d_18 (Conv1D)           (None, 9, 32)             96        \n",
      "_________________________________________________________________\n",
      "max_pooling1d_18 (MaxPooling (None, 4, 32)             0         \n",
      "_________________________________________________________________\n",
      "conv1d_19 (Conv1D)           (None, 3, 32)             2080      \n",
      "_________________________________________________________________\n",
      "max_pooling1d_19 (MaxPooling (None, 1, 32)             0         \n",
      "_________________________________________________________________\n",
      "flatten_9 (Flatten)          (None, 32)                0         \n",
      "_________________________________________________________________\n",
      "dense_16 (Dense)             (None, 40)                1320      \n",
      "_________________________________________________________________\n",
      "dropout_7 (Dropout)          (None, 40)                0         \n",
      "_________________________________________________________________\n",
      "dense_17 (Dense)             (None, 1)                 41        \n",
      "=================================================================\n",
      "Total params: 3,537\n",
      "Trainable params: 3,537\n",
      "Non-trainable params: 0\n",
      "_________________________________________________________________\n"
     ]
    }
   ],
   "source": [
    "\"\"\"Generate model for predictor\"\"\"\n",
    "model = Sequential()\n",
    "\n",
    "# Convolutional Layer #1\n",
    "# Computes 32 features using a 1D filter(kernel) of with w with ReLU activation. \n",
    "# Padding is added to preserve width.\n",
    "# Input Tensor Shape: [batch_size, w, 1] / batch_size = len(batch_sample)\n",
    "# Output Tensor Shape: [batch_size, w, num_filt_1] (num_filt_1 = 32 feature vectors)\n",
    "model.add(Conv1D(filters=num_filt_1,\n",
    "                 kernel_size=kernel_size,\n",
    "                 strides=conv_strides,\n",
    "                 padding='valid',\n",
    "                 activation='relu',\n",
    "                 input_shape=(w, n_features)))\n",
    "\n",
    "# Pooling Layer #1\n",
    "# First max pooling layer with a filter of length 2 and stride of 2\n",
    "# Input Tensor Shape: [batch_size, w, num_filt_1]\n",
    "# Output Tensor Shape: [batch_size, 0.5 * w, num_filt_1]\n",
    "\n",
    "model.add(MaxPooling1D(pool_size=pool_size_1)) \n",
    "                    #  strides=pool_strides_1, \n",
    "                    #  padding='valid'))\n",
    "\n",
    "# Convolutional Layer #2\n",
    "# Computes 64 features using a 5x5 filter.\n",
    "# Padding is added to preserve width and height.\n",
    "# Input Tensor Shape: [batch_size, 0.5 * w, 32]\n",
    "# Output Tensor Shape: [batch_size, 0.5 * w, num_filt_1 * num_filt_2]\n",
    "model.add(Conv1D(filters=num_filt_2,\n",
    "                 kernel_size=kernel_size,\n",
    "                 strides=conv_strides,\n",
    "                 padding='valid',\n",
    "                 activation='relu'))\n",
    "\n",
    "# Max Pooling Layer #2\n",
    "# Second max pooling layer with a 2x2 filter and stride of 2\n",
    "# Input Tensor Shape: [batch_size, 0.5 * w, num_filt_1 * num_filt_2]\n",
    "# Output Tensor Shape: [batch_size, 0.25 * w, num_filt_1 * num_filt_2]\n",
    "model.add(MaxPooling1D(pool_size=pool_size_2))\n",
    "                    #  strides=pool_strides_2, \n",
    "                    #  padding='valid'\n",
    "          \n",
    "# Flatten tensor into a batch of vectors\n",
    "# Input Tensor Shape: [batch_size, 0.25 * w, num_filt_1 * num_filt_2]\n",
    "# Output Tensor Shape: [batch_size, 0.25 * w * num_filt_1 * num_filt_2]\n",
    "model.add(Flatten())\n",
    "\n",
    "# Dense Layer (Output layer)\n",
    "# Densely connected layer with 1024 neurons\n",
    "# Input Tensor Shape: [batch_size, 0.25 * w * num_filt_1 * num_filt_2]\n",
    "# Output Tensor Shape: [batch_size, 1024]\n",
    "model.add(Dense(units=num_nrn_dl, activation='relu'))  \n",
    "\n",
    "# Dropout\n",
    "# Prevents overfitting in deep neural networks\n",
    "model.add(Dropout(dropout_rate))\n",
    "\n",
    "# Output layer\n",
    "# Input Tensor Shape: [batch_size, 1024]\n",
    "# Output Tensor Shape: [batch_size, p_w]\n",
    "model.add(Dense(units=num_nrn_ol))\n",
    "\n",
    "# Summarize model structure\n",
    "model.summary()"
   ]
  },
  {
   "cell_type": "code",
   "execution_count": 54,
   "id": "raised-denver",
   "metadata": {},
   "outputs": [],
   "source": [
    "'''configure model'''\n",
    "model.compile(optimizer='adam', \n",
    "              loss='mean_squared_error',\n",
    "              metrics=['accuracy'])\n",
    "\n",
    "# In paper -> mean_absolute_error\n",
    "\n",
    "# sgd = keras.optimizers.SGD(lr=learning_rate, \n",
    "#                          decay=1e-6, \n",
    "#                          momentum=0.9, \n",
    "#                          nesterov=True)\n",
    "# model.compile(optimizer='sgd', \n",
    "#               loss='mean_absolute_error', \n",
    "#               metrics=['accuracy'])"
   ]
  },
  {
   "cell_type": "code",
   "execution_count": 55,
   "id": "sustainable-drain",
   "metadata": {},
   "outputs": [],
   "source": [
    "'''Training'''\n",
    "history = model.fit(batch_sample, batch_label, validation_split=0.2, epochs=epochs, batch_size=15, verbose=0).history\n",
    "# model_fit = model.fit(X_train,\n",
    "#                       y_train,\n",
    "#                       epochs=epochs,\n",
    "#                       verbose=1)"
   ]
  },
  {
   "cell_type": "code",
   "execution_count": 56,
   "id": "mediterranean-israeli",
   "metadata": {},
   "outputs": [
    {
     "data": {
      "image/png": "[encoded data removed]",
      "text/plain": [
       "<Figure size 1120x640 with 1 Axes>"
      ]
     },
     "metadata": {
      "needs_background": "light"
     },
     "output_type": "display_data"
    },
    {
     "data": {
      "image/png": "[encoded data removed]",
      "text/plain": [
       "<Figure size 1120x640 with 1 Axes>"
      ]
     },
     "metadata": {
      "needs_background": "light"
     },
     "output_type": "display_data"
    }
   ],
   "source": [
    "fig, loss_validation= plt.subplots(figsize=(14,8), dpi=80)\n",
    "loss_validation.plot(history['loss'],'b',label = 'Train',linewidth=2)\n",
    "loss_validation.plot(history['val_loss'],'r',label = 'Validation',linewidth=2)\n",
    "loss_validation.set_xlabel('Epoch')\n",
    "loss_validation.set_ylabel('Loss(mse)')\n",
    "loss_validation.legend(loc='center right')\n",
    "plt.savefig('Loss')\n",
    "\n",
    "fig, accuracy_validation= plt.subplots(figsize=(14,8), dpi=80)\n",
    "accuracy_validation.plot(history['accuracy'],'b',label = 'Train',linewidth=2)\n",
    "accuracy_validation.plot(history['val_accuracy'],'r',label = 'Validatioin',linewidth=2)\n",
    "accuracy_validation.set_xlabel('Epoch')\n",
    "accuracy_validation.set_ylabel('Accuracy(mse)')\n",
    "accuracy_validation.legend(loc='center right')\n",
    "plt.savefig('Accuracy')"
   ]
  },
  {
   "cell_type": "code",
   "execution_count": 57,
   "id": "sound-stability",
   "metadata": {},
   "outputs": [],
   "source": [
    "\"\"\"Save Weights (DeepAnT)\"\"\"\n",
    "# save it to disk so we can load it back up anytime\n",
    "model.save_weights('yahoo_DeepAnT.h5')"
   ]
  },
  {
   "cell_type": "code",
   "execution_count": 58,
   "id": "controlling-southwest",
   "metadata": {},
   "outputs": [
    {
     "name": "stdout",
     "output_type": "stream",
     "text": [
      "1/1 [==============================] - 0s 1ms/step - loss: 0.0018 - accuracy: 0.0000e+00\n"
     ]
    },
    {
     "data": {
      "text/plain": [
       "[0.0018367994343861938, 0.0]"
      ]
     },
     "execution_count": 58,
     "metadata": {},
     "output_type": "execute_result"
    }
   ],
   "source": [
    "\"\"\"Testing with random interval(DeepAnT)\"\"\"\n",
    "# Set number of test sequences \n",
    "n_test_seq = 20\n",
    "\n",
    "# Split a univariate sequence into samples\n",
    "def generate_test_batch(raw_seq, n_test_seq):\n",
    "  # Sample a portion of the raw_seq randomly\n",
    "    ran_ix = random.randint(0,len(raw_seq) - n_test_seq * w - n_test_seq * p_w)\n",
    "    raw_test_seq = array(raw_seq[ran_ix:ran_ix + n_test_seq * w +  n_test_seq * p_w])\n",
    "    batch_test_seq, batch_test_label = list(), list()\n",
    "    ix = ran_ix\n",
    "    for i in range(n_test_seq):\n",
    "        # gather input and output parts of the pattern\n",
    "        seq_x = raw_seq[ix : ix+w],\n",
    "        seq_y = raw_seq[ix+w : ix+w+p_w]\n",
    "        ix = ix+w+p_w\n",
    "        batch_test_seq.append(seq_x)\n",
    "        batch_test_label.append(seq_y)\n",
    "    return array(batch_test_seq), array(batch_test_label)\n",
    "\n",
    "batch_test_seq, batch_test_label = generate_test_batch(list(yahoo['value']), n_test_seq)\n",
    "batch_test_seq = batch_test_seq.reshape((batch_test_seq.shape[0], w, n_features))\n",
    "batch_test_label = batch_test_label.reshape((batch_test_label.shape[0], p_w))\n",
    "\n",
    "# Returns the loss value & metrics values for the model in test mode\n",
    "model.evaluate(x=batch_test_seq,\n",
    "               y=batch_test_label,\n",
    "               verbose=1)"
   ]
  },
  {
   "cell_type": "code",
   "execution_count": 60,
   "id": "prompt-sector",
   "metadata": {},
   "outputs": [
    {
     "name": "stdout",
     "output_type": "stream",
     "text": [
      "1/1 [==============================] - 0s 2ms/step\n",
      "[[0.10991982]]\n",
      "[0.23159759]\n"
     ]
    }
   ],
   "source": [
    "\"\"\"Predicting random intervals (DeepAnT)\"\"\"\n",
    "# Build model \n",
    "model = Sequential()\n",
    "model.add(Conv1D(filters=num_filt_1,\n",
    "                 kernel_size=kernel_size,\n",
    "                 strides=conv_strides,\n",
    "                 padding='valid',\n",
    "                 activation='relu',\n",
    "                 input_shape=(w, n_features)))\n",
    "model.add(MaxPooling1D(pool_size=pool_size_1)) \n",
    "model.add(Conv1D(filters=num_filt_2,\n",
    "                 kernel_size=kernel_size,\n",
    "                 strides=conv_strides,\n",
    "                 padding='valid',\n",
    "                 activation='relu'))\n",
    "model.add(MaxPooling1D(pool_size=pool_size_2))\n",
    "model.add(Flatten())\n",
    "model.add(Dense(units=num_nrn_dl, activation='relu')) \n",
    "model.add(Dropout(dropout_rate))\n",
    "model.add(Dense(units=num_nrn_ol))\n",
    "\n",
    "# Load the model's saved weights.\n",
    "model.load_weights('aws_DeepAnT.h5')\n",
    "          \n",
    "# Sample a portion of the raw_seq randomly\n",
    "# 1. Choose \n",
    "ran_ix = random.randint(1,len(raw_seq) - w - p_w)\n",
    "input_seq = array(raw_seq[ran_ix : ran_ix + w])\n",
    "target_seq = array(raw_seq[ran_ix + w : ran_ix + w + p_w])\n",
    "input_seq = input_seq.reshape((1, w, n_features))\n",
    "\n",
    "# Predict the next time stampes of the sampled sequence\n",
    "yhat = model.predict(input_seq, verbose=1)\n",
    "\n",
    "# Print our model's predictions.\n",
    "print(yhat)\n",
    "\n",
    "# Check our predictions against the ground truths.\n",
    "print(target_seq) "
   ]
  },
  {
   "cell_type": "code",
   "execution_count": 61,
   "id": "vital-fundamentals",
   "metadata": {
    "tags": []
   },
   "outputs": [],
   "source": [
    "\"\"\"Predicting the whole sequence (DeepAnT)\"\"\"\n",
    "# Build model \n",
    "model = Sequential()\n",
    "model.add(Conv1D(filters=num_filt_1,\n",
    "                 kernel_size=kernel_size,\n",
    "                 strides=conv_strides,\n",
    "                 padding='valid',\n",
    "                 activation='relu',\n",
    "                 input_shape=(w, n_features)))\n",
    "model.add(MaxPooling1D(pool_size=pool_size_1)) \n",
    "model.add(Conv1D(filters=num_filt_2,\n",
    "                 kernel_size=kernel_size,\n",
    "                 strides=conv_strides,\n",
    "                 padding='valid',\n",
    "                 activation='relu'))\n",
    "model.add(MaxPooling1D(pool_size=pool_size_2))\n",
    "model.add(Flatten())\n",
    "model.add(Dense(units=num_nrn_dl, activation='relu')) \n",
    "model.add(Dropout(dropout_rate))\n",
    "model.add(Dense(units=num_nrn_ol))\n",
    "\n",
    "# Load the model's saved weights.\n",
    "model.load_weights('aws_DeepAnT.h5')\n",
    "          \n",
    "\n",
    "input_seq = batch_sample.copy()\n",
    "target_seq = batch_label.copy()\n",
    "predicted_seq = []\n",
    "for i in range(len(input_seq)):\n",
    "    input = input_seq[i]\n",
    "    input = input.reshape((1, w, n_features))\n",
    "    t = model.predict(input, verbose=0)[0][0]\n",
    "    predicted_seq.append(t)\n",
    "# Predict the next time stampes of the sampled sequence\n",
    "\n",
    "\n",
    "# Print our model's predictions.\n",
    "# print(predicted_seq)\n",
    "\n",
    "# Check our predictions against the ground truths.\n",
    "# print(target_seq)"
   ]
  },
  {
   "cell_type": "code",
   "execution_count": 62,
   "id": "blond-throat",
   "metadata": {},
   "outputs": [
    {
     "data": {
      "image/png": "[encoded data removed]",
      "text/plain": [
       "<Figure size 432x288 with 1 Axes>"
      ]
     },
     "metadata": {
      "needs_background": "light"
     },
     "output_type": "display_data"
    },
    {
     "data": {
      "text/plain": [
       "<Figure size 7200x720 with 0 Axes>"
      ]
     },
     "metadata": {},
     "output_type": "display_data"
    }
   ],
   "source": [
    "\"\"\"Visualization of predicted time series\"\"\"\n",
    "\n",
    "# Acquire the target sequence.\n",
    "tar_seq = yahoo['value'][w:]\n",
    "# Build up the predicted sequence in dataframe.\n",
    "d = {'timestamp': yahoo['timestamp'][w:], 'values': predicted_seq}\n",
    "yahoo_pre = pd.DataFrame(data=d)\n",
    "pre_seq = yahoo_pre['values']\n",
    "\n",
    "# plt.plot(in_seq)\n",
    "plt.plot(tar_seq)\n",
    "plt.plot(pre_seq)\n",
    "plt.title('yahoo prediction')\n",
    "plt.ylabel('value')\n",
    "plt.xlabel('timestamp')\n",
    "plt.legend(['target_seq', 'predicted_seq'], loc='upper left')\n",
    "axes = plt.gca()\n",
    "\n",
    "# set the x axis, from w to last index of predicted seq\n",
    "axes.set_xlim([w,len(predicted_seq)])\n",
    "fig_predict = plt.figure(figsize=(100,10))\n",
    "# fig_predict.savefig('predicted_sequence.png')\n",
    "plt.show()"
   ]
  }
 ],
 "metadata": {
  "kernelspec": {
   "display_name": "Python 3",
   "language": "python",
   "name": "python3"
  },
  "language_info": {
   "codemirror_mode": {
    "name": "ipython",
    "version": 3
   },
   "file_extension": ".py",
   "mimetype": "text/x-python",
   "name": "python",
   "nbconvert_exporter": "python",
   "pygments_lexer": "ipython3",
   "version": "3.7.7"
  }
 },
 "nbformat": 4,
 "nbformat_minor": 5
}
