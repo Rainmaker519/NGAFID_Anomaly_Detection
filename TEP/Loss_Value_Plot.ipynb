{
  "nbformat": 4,
  "nbformat_minor": 5,
  "metadata": {
    "kernelspec": {
      "display_name": "Python 3",
      "language": "python",
      "name": "python3"
    },
    "language_info": {
      "codemirror_mode": {
        "name": "ipython",
        "version": 3
      },
      "file_extension": ".py",
      "mimetype": "text/x-python",
      "name": "python",
      "nbconvert_exporter": "python",
      "pygments_lexer": "ipython3",
      "version": "3.8.8"
    },
    "colab": {
      "name": "Loss_Value_Plot.ipynb",
      "provenance": [],
      "collapsed_sections": []
    }
  },
  "cells": [
    {
      "cell_type": "code",
      "metadata": {
        "id": "7556483b"
      },
      "source": [
        "import pandas as pd\n",
        "import numpy as np\n",
        "import matplotlib.pyplot as plt\n",
        "%matplotlib inline\n",
        "from operator import itemgetter\n",
        "from google.colab import files"
      ],
      "id": "7556483b",
      "execution_count": 128,
      "outputs": []
    },
    {
      "cell_type": "code",
      "metadata": {
        "colab": {
          "base_uri": "https://localhost:8080/"
        },
        "id": "3Nn1ws-r7DEK",
        "outputId": "359ed06c-e566-41bf-9a4d-defce39eb6b6"
      },
      "source": [
        "from google.colab import drive\n",
        "drive.mount('/content/drive')"
      ],
      "id": "3Nn1ws-r7DEK",
      "execution_count": 1,
      "outputs": [
        {
          "output_type": "stream",
          "name": "stdout",
          "text": [
            "Mounted at /content/drive\n"
          ]
        }
      ]
    },
    {
      "cell_type": "markdown",
      "metadata": {
        "id": "Pzp17hCI8GIV"
      },
      "source": [
        "### NGAFID mse value and Significant test"
      ],
      "id": "Pzp17hCI8GIV"
    },
    {
      "cell_type": "code",
      "metadata": {
        "id": "E0poudVkBT3h"
      },
      "source": [
        "## mannwhitneyu is for independent smaple\n",
        "#from scipy.stats import mannwhitneyu\n",
        "## We use the same sample with different model. So we have to do the paired sample test.\n",
        "#wilcoxon is for paired sample test here.\n",
        "\n",
        "from scipy.stats import wilcoxon"
      ],
      "id": "E0poudVkBT3h",
      "execution_count": 92,
      "outputs": []
    },
    {
      "cell_type": "code",
      "metadata": {
        "id": "IyApqHB5NI4G"
      },
      "source": [
        "#data preprocessing\n",
        "def csv_to_df(target_model, starting_index):\n",
        "  \n",
        "  final_dict = {}\n",
        "  for i in range(1,5):\n",
        "    path = \"/content/drive/MyDrive/NGAFID_file/myfile_f_\"+ target_model + '_' + str(i) + \".csv\"\n",
        "    cnn_faulty = pd.read_csv(path)\n",
        "    tm = target_model + \"_\" + str(i)\n",
        "    final_dict[tm] = {}\n",
        "    for j in range(30):\n",
        "      final_dict[tm][j] = list(cnn_faulty.index[j][starting_index:])\n",
        "    \n",
        "\n",
        "  return final_dict"
      ],
      "id": "IyApqHB5NI4G",
      "execution_count": 119,
      "outputs": []
    },
    {
      "cell_type": "code",
      "metadata": {
        "id": "gHTpWJr5XuIo"
      },
      "source": [
        "#convert the dataset to dataframe\n",
        "acnn = csv_to_df('cnn', 0)"
      ],
      "id": "gHTpWJr5XuIo",
      "execution_count": 143,
      "outputs": []
    },
    {
      "cell_type": "code",
      "metadata": {
        "id": "uCUpufC1X18v"
      },
      "source": [
        "#save all the files\n",
        "for i in acnn.keys():\n",
        "  cnn = pd.DataFrame(acnn[i])\n",
        "  target = \"cnn_\" + str(i) + \".csv\" \n",
        "  cnn.to_csv(target)\n",
        "  files.download(target)"
      ],
      "id": "uCUpufC1X18v",
      "execution_count": null,
      "outputs": []
    },
    {
      "cell_type": "code",
      "metadata": {
        "id": "Vocnc7s7wfen"
      },
      "source": [
        "#convert the dataset to dataframe\n",
        "arnn = csv_to_df('rnn', 0)"
      ],
      "id": "Vocnc7s7wfen",
      "execution_count": 145,
      "outputs": []
    },
    {
      "cell_type": "code",
      "metadata": {
        "id": "4ancs1REv7Fj"
      },
      "source": [
        "for i in arnn.keys():\n",
        "  rnn = pd.DataFrame(arnn[i])\n",
        "  target = \"rnn_\" + str(i) + \".csv\" \n",
        "  rnn.to_csv(target)\n",
        "  files.download(target)"
      ],
      "id": "4ancs1REv7Fj",
      "execution_count": null,
      "outputs": []
    },
    {
      "cell_type": "code",
      "metadata": {
        "id": "2Kt4X0JlCfRG"
      },
      "source": [
        "def get_average_list(target_model, starting_index):\n",
        "  \n",
        "  final_list = []\n",
        "  for i in range(1,5):\n",
        "    path = \"/content/drive/MyDrive/NGAFID_file/myfile_f_\"+ target_model + '_' + str(i) + \".csv\"\n",
        "    cnn_faulty = pd.read_csv(path)\n",
        "    temp_list = []\n",
        "    for j in range(30):\n",
        "      temp_list.append(np.average(list(cnn_faulty.index[j][starting_index:])))\n",
        "    final_list.append(temp_list)\n",
        "\n",
        "  return final_list"
      ],
      "id": "2Kt4X0JlCfRG",
      "execution_count": 109,
      "outputs": []
    },
    {
      "cell_type": "code",
      "metadata": {
        "id": "SGa8p17aJPmt"
      },
      "source": [
        "CNN_list = get_average_list('cnn', 120)"
      ],
      "id": "SGa8p17aJPmt",
      "execution_count": 110,
      "outputs": []
    },
    {
      "cell_type": "code",
      "metadata": {
        "id": "27G0Dc3cJjD0"
      },
      "source": [
        "RNN_list = get_average_list('rnn', 120)"
      ],
      "id": "27G0Dc3cJjD0",
      "execution_count": 112,
      "outputs": []
    },
    {
      "cell_type": "code",
      "metadata": {
        "colab": {
          "base_uri": "https://localhost:8080/"
        },
        "id": "FwmDPR1HE6ae",
        "outputId": "58a0d2d7-7da5-413a-87ed-6669e40fec8c"
      },
      "source": [
        "#This is the example of Mann U test. It is not suitable here.\n",
        "print('CNN_0', np.mean(np.asarray(CNN_list[0])))\n",
        "for i in range(1,len(CNN_list)):\n",
        "    result = mannwhitneyu(np.asarray(CNN_list[0]), np.asarray(CNN_list[i]))\n",
        "    print(str(i), ':' , result)\n",
        "    print('CNN_' + str(i), ':', np.mean(np.asarray(CNN_list[i])))\n",
        "\n",
        "print('---------------------------------------')\n",
        "\n",
        "print('RNN_0', np.mean(np.asarray(RNN_list[0])))\n",
        "for i in range(1,len(RNN_list)):\n",
        "    result = mannwhitneyu(np.asarray(RNN_list[0]), np.asarray(RNN_list[i]))\n",
        "    print(str(i), ':' , result)\n",
        "    print('RNN_' + str(i), ':', np.mean(np.asarray(RNN_list[i])))"
      ],
      "id": "FwmDPR1HE6ae",
      "execution_count": 115,
      "outputs": [
        {
          "output_type": "stream",
          "name": "stdout",
          "text": [
            "CNN_0 0.27067738883825376\n",
            "1 : MannwhitneyuResult(statistic=14.0, pvalue=6.028339503179921e-11)\n",
            "CNN_1 : 0.25282502288110054\n",
            "2 : MannwhitneyuResult(statistic=128.0, pvalue=1.0011463507646893e-06)\n",
            "CNN_2 : 0.25835623461833884\n",
            "3 : MannwhitneyuResult(statistic=180.0, pvalue=3.3825041231857496e-05)\n",
            "CNN_3 : 0.26209775246513795\n",
            "---------------------------------------\n",
            "RNN_0 0.2562542187588322\n",
            "1 : MannwhitneyuResult(statistic=323.0, pvalue=0.030725955505628493)\n",
            "RNN_1 : 0.23756517494588136\n",
            "2 : MannwhitneyuResult(statistic=77.0, pvalue=1.8229457462531186e-08)\n",
            "RNN_2 : 0.180351128462327\n",
            "3 : MannwhitneyuResult(statistic=23.0, pvalue=1.4357923871490578e-10)\n",
            "RNN_3 : 0.1710686120088885\n"
          ]
        }
      ]
    },
    {
      "cell_type": "code",
      "metadata": {
        "colab": {
          "base_uri": "https://localhost:8080/"
        },
        "id": "tZn0wVdJLcAR",
        "outputId": "bdfb1539-b353-45cf-d6a9-60130056a2df"
      },
      "source": [
        "print('CNN_1',':', np.mean(np.asarray(CNN_list[0])))\n",
        "for i in range(1,len(CNN_list)):\n",
        "    result = wilcoxon(np.asarray(CNN_list[0]), np.asarray(CNN_list[i]))\n",
        "    print(str(i+1), ':' , result)\n",
        "    print('CNN_' + str(i+1), ':', np.mean(np.asarray(CNN_list[i])))\n",
        "\n",
        "print('---------------------------------------')\n",
        "\n",
        "print('RNN_1',':', np.mean(np.asarray(RNN_list[0])))\n",
        "for i in range(1,len(RNN_list)):\n",
        "    result = wilcoxon(np.asarray(RNN_list[0]), np.asarray(RNN_list[i]))\n",
        "    print(str(i+1), ':' , result)\n",
        "    print('RNN_' + str(i+1), ':', np.mean(np.asarray(RNN_list[i])))"
      ],
      "id": "tZn0wVdJLcAR",
      "execution_count": 155,
      "outputs": [
        {
          "output_type": "stream",
          "name": "stdout",
          "text": [
            "CNN_1 : 0.27067738883825376\n",
            "2 : WilcoxonResult(statistic=0.0, pvalue=1.7343976283205784e-06)\n",
            "CNN_2 : 0.25282502288110054\n",
            "3 : WilcoxonResult(statistic=31.0, pvalue=3.4052567232805375e-05)\n",
            "CNN_3 : 0.25835623461833884\n",
            "4 : WilcoxonResult(statistic=72.0, pvalue=0.0009626589290659114)\n",
            "CNN_4 : 0.26209775246513795\n",
            "---------------------------------------\n",
            "RNN_1 : 0.2562542187588322\n",
            "2 : WilcoxonResult(statistic=151.0, pvalue=0.09367559653193051)\n",
            "RNN_2 : 0.23756517494588136\n",
            "3 : WilcoxonResult(statistic=6.0, pvalue=3.181679410969855e-06)\n",
            "RNN_3 : 0.180351128462327\n",
            "4 : WilcoxonResult(statistic=3.0, pvalue=2.3534209951215346e-06)\n",
            "RNN_4 : 0.1710686120088885\n"
          ]
        }
      ]
    },
    {
      "cell_type": "markdown",
      "metadata": {
        "id": "RmSHqlf_Joxj"
      },
      "source": [
        "### Visualize "
      ],
      "id": "RmSHqlf_Joxj"
    },
    {
      "cell_type": "code",
      "metadata": {
        "id": "0008579d"
      },
      "source": [
        "numRepeat = 20\n",
        "maxGenome = 20000\n",
        "n = int(maxGenome * 0.98)\n",
        "# resultDir = \"/Users/zimenglyu/Documents/git/cluster_results/2021_gecco_workshop/eds_boiler/min_max/max_genome_{}\".format(maxGenome)\n"
      ],
      "id": "0008579d",
      "execution_count": null,
      "outputs": []
    },
    {
      "cell_type": "code",
      "metadata": {
        "id": "c88cc08a",
        "outputId": "0a3040aa-e88d-490b-b00e-532c3ac737ad"
      },
      "source": [
        "#cla()  # Clear axis\n",
        "#clf()  # Clear figure\n",
        "#close() # Close a figure window\n",
        "\n",
        "plt.cla()\n",
        "plt.close()\n",
        "generation = []\n",
        "mse = []\n",
        "\n",
        "for offset in [1,2,4,8]:\n",
        "    for repeat in range(numRepeat):\n",
        "        data = np.genfromtxt(resultDir+'/uniform_10_20/offset_{}/HEAT_RATE_LOSS_CALC/{}/fitness_log.csv'.format(offset, repeat), delimiter=',', skip_header=True, usecols=(0,4))[0:n]\n",
        "        generation.append(data[:,0])\n",
        "        mse.append(data[:,1])\n",
        "\n",
        "    plt.plot(np.average(generation, axis = 0), np.average(mse, axis=0), label='offset {}'.)\n",
        "    plt.fill_between(np.average(generation, axis = 0), np.min(mse, axis=0), np.max(mse, axis=0), alpha=.2)\n",
        "\n",
        "\n",
        "\n",
        "plt.ylim([0.0,0.008])\n",
        "plt.legend(loc='upper center', bbox_to_anchor=(0.5, -0.15))\n",
        "plt.legend()\n",
        "plt.ylabel(\"MSE\")\n",
        "plt.xlabel(\"Generated Genomes\")\n",
        "title = \"MSE Progress Plot Example\"\n",
        "name = \"plot_example\"\n",
        "plt.title(title)\n",
        "plt.savefig(name + \".png\",bbox_inches='tight')  "
      ],
      "id": "c88cc08a",
      "execution_count": null,
      "outputs": [
        {
          "data": {
            "image/png": "[encoded data removed]",
            "text/plain": [
              "<Figure size 432x288 with 1 Axes>"
            ]
          },
          "metadata": {
            "needs_background": "light"
          },
          "output_type": "display_data"
        }
      ]
    },
    {
      "cell_type": "code",
      "metadata": {
        "colab": {
          "base_uri": "https://localhost:8080/",
          "height": 265
        },
        "id": "eZUA5Hg9GZD-",
        "outputId": "e8bf930e-6b82-42f3-e1f0-100d6b577439"
      },
      "source": [
        "x = np.arange(0,10,0.1)\n",
        "  \n",
        "# plotting the lines\n",
        "a1 = 4 - 2*x\n",
        "a2 = 3 - 0.5*x\n",
        "a3 = 1 -x\n",
        "  \n",
        "# The upper edge of\n",
        "# polygon\n",
        "a4 = np.minimum(a1, a2)\n",
        "  \n",
        "# Setting the y-limit\n",
        "plt.ylim(-10, 5)\n",
        "  \n",
        "# Plot the lines\n",
        "plt.plot(x, a1,\n",
        "        x, a2,\n",
        "        x, a3)\n",
        "  \n",
        "# Filling between line a3 and line a4\n",
        "#example a\n",
        "# plt.fill_between(x, a3, a4, color='red', alpha=0.5)\n",
        "#example b\n",
        "plt.fill_between(x, a3, -10, where = (x > 2) & (x <= 3), color='red',alpha=0.5)\n",
        "\n",
        "plt.show()"
      ],
      "id": "eZUA5Hg9GZD-",
      "execution_count": null,
      "outputs": [
        {
          "output_type": "display_data",
          "data": {
            "image/png": "[encoded data removed]",
            "text/plain": [
              "<Figure size 432x288 with 1 Axes>"
            ]
          },
          "metadata": {
            "needs_background": "light"
          }
        }
      ]
    }
  ]
}