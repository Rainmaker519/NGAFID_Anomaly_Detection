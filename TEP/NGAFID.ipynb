{
  "nbformat": 4,
  "nbformat_minor": 0,
  "metadata": {
    "colab": {
      "name": "NGAFID.ipynb",
      "provenance": [],
      "collapsed_sections": []
    },
    "kernelspec": {
      "name": "python3",
      "display_name": "Python 3"
    },
    "language_info": {
      "name": "python"
    },
    "accelerator": "TPU"
  },
  "cells": [
    {
      "cell_type": "markdown",
      "metadata": {
        "id": "z0laBdydQo_r"
      },
      "source": [
        "# SETUP"
      ]
    },
    {
      "cell_type": "markdown",
      "metadata": {
        "id": "FRPzoG2uG0bE"
      },
      "source": [
        "###Acquire the dataset from kaggle. \n",
        "Know how to download data from kaggle: https://www.analyticsvidhya.com/blog/2021/06/how-to-load-kaggle-datasets-directly-into-google-colab/\n",
        "\n",
        "Visit the dataset: https://www.kaggle.com/hooong/ngafid-mc-20210917?select=NGAFID_MC_C37.csv"
      ]
    },
    {
      "cell_type": "code",
      "metadata": {
        "id": "cRpVNcU5GECV"
      },
      "source": [
        "! pip install kaggle"
      ],
      "execution_count": null,
      "outputs": []
    },
    {
      "cell_type": "code",
      "metadata": {
        "id": "YWTNqqi-GO5K"
      },
      "source": [
        "! mkdir ~/.kaggle"
      ],
      "execution_count": null,
      "outputs": []
    },
    {
      "cell_type": "code",
      "metadata": {
        "id": "V8wgEkN-GQtY"
      },
      "source": [
        "! cp kaggle.json ~/.kaggle/"
      ],
      "execution_count": null,
      "outputs": []
    },
    {
      "cell_type": "code",
      "metadata": {
        "id": "wjQUEJUBGShK"
      },
      "source": [
        "! chmod 600 ~/.kaggle/kaggle.json"
      ],
      "execution_count": null,
      "outputs": []
    },
    {
      "cell_type": "code",
      "metadata": {
        "id": "wOC4jlBvGVru"
      },
      "source": [
        "!kaggle datasets download -d hooong/ngafid-mc-20210917"
      ],
      "execution_count": null,
      "outputs": []
    },
    {
      "cell_type": "code",
      "metadata": {
        "id": "AiezoAugGXmx"
      },
      "source": [
        "!unzip /content/ngafid-mc-20210917.zip"
      ],
      "execution_count": null,
      "outputs": []
    },
    {
      "cell_type": "code",
      "metadata": {
        "id": "088mMzSVOq0_"
      },
      "source": [
        "#solve the dataset will be changed after the training process\n",
        "\n",
        "import pandas as pd \n",
        "import numpy as np \n",
        "import tensorflow as tf\n",
        "import gc \n",
        "import tensorflow_datasets as tfds\n",
        "import tensorflow_probability as tfp\n",
        "from tqdm.notebook import tqdm\n",
        "from sklearn.model_selection import train_test_split, KFold\n",
        "from sklearn import preprocessing\n",
        "import matplotlib as plt\n",
        "import seaborn as sns\n",
        "tfk = tf.keras\n",
        "tfkl = tf.keras.layers\n",
        "tfpl = tfp.layers\n",
        "tfd = tfp.distributions\n",
        "\n",
        "\n",
        "gc.collect() \n",
        "\n",
        "pd.options.mode.chained_assignment = None"
      ],
      "execution_count": null,
      "outputs": []
    },
    {
      "cell_type": "code",
      "metadata": {
        "id": "-i1wEAxZQmXo"
      },
      "source": [
        "#TPU\n",
        "\n",
        "import os\n",
        "assert 'COLAB_TPU_ADDR' in os.environ, 'ERROR: Not connected to a TPU runtime; please see the first cell in this notebook for instructions!'\n",
        "TPU_ADDRESS = 'grpc://' + os.environ['COLAB_TPU_ADDR']\n",
        "print('TPU address is', TPU_ADDRESS)\n",
        "\n",
        "# Detect hardware, return appropriate distribution strategy\n",
        "try:\n",
        "    # TPU detection. No parameters necessary if TPU_NAME environment variable is\n",
        "    # set: this is always the case on Kaggle.\n",
        "    tpu = tf.distribute.cluster_resolver.TPUClusterResolver()\n",
        "    print('Running on TPU ', tpu.master())\n",
        "except ValueError:\n",
        "    tpu = None\n",
        "\n",
        "if tpu:\n",
        "    tf.config.experimental_connect_to_cluster(tpu)\n",
        "    tf.tpu.experimental.initialize_tpu_system(tpu)\n",
        "    strategy = tf.distribute.experimental.TPUStrategy(tpu)\n",
        "else:\n",
        "    # Default distribution strategy in Tensorflow. Works on CPU and single GPU.\n",
        "    strategy = tf.distribute.get_strategy()\n",
        "\n",
        "print(\"REPLICAS: \", strategy.num_replicas_in_sync)"
      ],
      "execution_count": null,
      "outputs": []
    },
    {
      "cell_type": "markdown",
      "metadata": {
        "id": "v6qUuTklSyZq"
      },
      "source": [
        "# HYPER"
      ]
    },
    {
      "cell_type": "code",
      "metadata": {
        "id": "oQ2J7rVBS0sJ"
      },
      "source": [
        "BASE_SEQ_LEN = 1000\n",
        "NUM_VAR = 31\n",
        "INPUT_SEQ_LEN = 32 \n",
        "OUTPUT_SEQ_LEN = 1 \n",
        "BATCH_SIZE = 128"
      ],
      "execution_count": null,
      "outputs": []
    },
    {
      "cell_type": "markdown",
      "metadata": {
        "id": "xxSWs-yuQt3o"
      },
      "source": [
        "# READ DATA"
      ]
    },
    {
      "cell_type": "code",
      "metadata": {
        "id": "Y95pBl8_R_fh"
      },
      "source": [
        "#start from 2 to 12\n",
        "df = {}\n",
        "for i in range(2,13):\n",
        "  url = 'https:' + '//raw.githubusercontent.com/Rainmaker519/NGAFID_Anomaly_Detection/main/NGAFID_dataset/c172_file_' + str(i)+ '.csv'\n",
        "  df[i] = pd.read_csv(url)\n"
      ],
      "execution_count": null,
      "outputs": []
    },
    {
      "cell_type": "code",
      "metadata": {
        "id": "yzF1XEUNG1iK"
      },
      "source": [
        "df[2].describe()"
      ],
      "execution_count": null,
      "outputs": []
    },
    {
      "cell_type": "code",
      "metadata": {
        "id": "5_Du3PqjQmx7"
      },
      "source": [
        "#cut the dataset to 1000 in the mid point\n",
        "df_final = {}\n",
        "for i in df.keys():\n",
        "  df_final[i] = df[i][(int(len(df[i])/2)-499):(int(len(df[i])/2)+501)]"
      ],
      "execution_count": null,
      "outputs": []
    },
    {
      "cell_type": "code",
      "metadata": {
        "id": "yAq9ZBb2XowI"
      },
      "source": [
        "df_final[2].head()"
      ],
      "execution_count": null,
      "outputs": []
    },
    {
      "cell_type": "code",
      "metadata": {
        "id": "bYI3wuYOUgDa"
      },
      "source": [
        "def df_to_np_array(df): \n",
        "    \"\"\" This function will turn the dataframe to numpy array\n",
        "    Parameter: dataframe\n",
        "    Return: Numpy array\n",
        "    \"\"\"\n",
        "    examples = []\n",
        "    examples.append(df.iloc[:, :].values)\n",
        "    \n",
        "    return np.stack(examples)\n",
        "\n",
        "def get_slice_random_segment(length):\n",
        "    \"\"\"This function will acquire a length of slice from the dataset.\n",
        "    Parameter: length, length of the dataset\n",
        "    return: array\n",
        "    \"\"\"\n",
        "    def slice_random_segment(x):\n",
        "      \"\"\"This function will return the specific array\n",
        "      Parameter: x, dataset\n",
        "      return: array\n",
        "      \"\"\"\n",
        "      #minval = min numbers of data points, maxval = max numbers of data points\n",
        "      start = tf.random.uniform(shape=[], minval=0, maxval= BASE_SEQ_LEN-length, dtype=tf.int64)\n",
        "      x = x[start:start+length]\n",
        "      print(x)\n",
        "      #reshape will turn x into the shape of (length, NUM_VAR)\n",
        "      x = tf.reshape(x, (length, NUM_VAR))\n",
        "      print(x)\n",
        "      return x \n",
        "    return slice_random_segment\n",
        "\n",
        "def get_split_xy(y_length):\n",
        "  \"\"\"This will get two specific group of data points.\n",
        "  Parameter: y_length\n",
        "  return: x, y \n",
        "  \"\"\"\n",
        "  def split_xy(x):\n",
        "    \"\"\"\n",
        "    Parameter: dataset\n",
        "    \"\"\"\n",
        "    y = x[-y_length:]\n",
        "    return x[:-y_length], y \n",
        "  return split_xy\n",
        "\n",
        "def get_dataset(train_data, shuffle = False, repeat = False): \n",
        "    train_data = df_to_np_array(train_data)\n",
        "    ds = tf.data.Dataset.from_tensor_slices(train_data)\n",
        "    ds = ds.map(get_slice_random_segment(length = INPUT_SEQ_LEN + OUTPUT_SEQ_LEN))\n",
        "    ds = ds.map(get_split_xy(y_length=OUTPUT_SEQ_LEN))\n",
        "\n",
        "    #Changing the value of buffer_size affects how uniform the shuffling\n",
        "    ds = ds.shuffle(512) if shuffle else ds \n",
        "    ds = ds.repeat() if repeat else ds.repeat(2)\n",
        "    ds = ds.batch(BATCH_SIZE, drop_remainder=True)\n",
        "\n",
        "    return ds \n",
        "\n",
        "  \n",
        "def get_detection_xy(df , scaler):\n",
        "    \"\"\"get the testing dataset\n",
        "    Parameter: dataset, number of simulation run, the scaler you use in the training process\n",
        "    return: x:slice of dataset(testing), y:target value\n",
        "    \"\"\"\n",
        "    \n",
        "    scaled = scaler.transform(df.iloc[:, :])\n",
        "\n",
        "    x = []\n",
        "    y = []\n",
        "\n",
        "    for i in range(BASE_SEQ_LEN - INPUT_SEQ_LEN - OUTPUT_SEQ_LEN):\n",
        "        x.append(scaled[i:i+ INPUT_SEQ_LEN])\n",
        "        y.append(scaled[i+INPUT_SEQ_LEN: i + INPUT_SEQ_LEN + OUTPUT_SEQ_LEN])\n",
        "\n",
        "    x = np.stack(x)\n",
        "    y = np.stack(y)\n",
        "\n",
        "    return x,y \n",
        "    \n",
        "    \n",
        "def get_mse(model, df, scaler):\n",
        "    \"\"\" Get loss value: the mean squared error value\n",
        "    Parameter: dataset, simulation run, model\n",
        "    Return: loss value\n",
        "    \"\"\"\n",
        "    x, y = get_detection_xy(df, scaler) \n",
        "    y_pred_1 = model.predict(x, verbose = True)\n",
        "    mse_1 = tfk.losses.MSE(y, y_pred_1).numpy()\n",
        "    return mse_1.flatten()"
      ],
      "execution_count": null,
      "outputs": []
    },
    {
      "cell_type": "code",
      "metadata": {
        "id": "jvg0_Hu1y392"
      },
      "source": [
        "def train_model(df, model):\n",
        "  \"\"\"This function is to tain the model\n",
        "  Parameter: df, model\n",
        "  Return: trained model, and trained scaler\n",
        "  \"\"\"\n",
        "  train_df = df[:]\n",
        "\n",
        "\n",
        "  scaler = preprocessing.MinMaxScaler()\n",
        "  scaler.fit(train_df.iloc[:, :].values)\n",
        "\n",
        "  train_df.iloc[:, :] = scaler.transform(train_df.iloc[:, :].values)\n",
        "  train_ds = get_dataset(train_df, shuffle = True, repeat=True)\n",
        "\n",
        "  model.fit(\n",
        "      train_ds, \n",
        "      epochs = 20,\n",
        "      steps_per_epoch = 1000,\n",
        "  )\n",
        "\n",
        "  return model, scaler"
      ],
      "execution_count": null,
      "outputs": []
    },
    {
      "cell_type": "code",
      "metadata": {
        "id": "YQb-V1Dzy3Q1"
      },
      "source": [
        "def get_result( model, data, baseline, scaler):\n",
        "  \"\"\"This function is to get and plot the result\n",
        "  Paramter: baseline, simrun, trained model, and trained scaler\n",
        "  \"\"\"\n",
        "\n",
        "  mse_model_1 = get_mse(model, data, scaler)\n",
        "  # pd.DataFrame({'normal' : mse_model_1, 'baseline': baseline}).plot(ylim = (0.0, 0.02))\n",
        "  return mse_model_1"
      ],
      "execution_count": 36,
      "outputs": []
    },
    {
      "cell_type": "markdown",
      "metadata": {
        "id": "vpoMG2kTVwkk"
      },
      "source": [
        "# MODEL"
      ]
    },
    {
      "cell_type": "code",
      "metadata": {
        "id": "3fK_QybpXJLE"
      },
      "source": [
        "#LSTM\n",
        "def get_rnn_model_final():\n",
        "    with strategy.scope():\n",
        "      model = tf.keras.Sequential([\n",
        "                              tf.keras.Input(shape  = (INPUT_SEQ_LEN, NUM_VAR)),\n",
        "                              tfkl.LSTM(64, return_sequences=True), \n",
        "                              tfkl.LSTM(64, return_sequences=True),\n",
        "                              tfkl.LSTM(64, return_sequences=False),\n",
        "                              tfkl.Dropout(0.5),\n",
        "                              tfkl.RepeatVector(OUTPUT_SEQ_LEN), \n",
        "                              tfkl.LSTM(64, return_sequences=True),\n",
        "                              tfkl.Dense(NUM_VAR, activation = 'relu')\n",
        "\n",
        "      ])\n",
        "\n",
        "      model.compile(optimizer = tfk.optimizers.Adam(learning_rate=1e-4), loss = \"mse\" )\n",
        "\n",
        "      return model "
      ],
      "execution_count": null,
      "outputs": []
    },
    {
      "cell_type": "code",
      "metadata": {
        "id": "PMe-nMT7YvFP"
      },
      "source": [
        "#CNN\n",
        "def get_cnn_model_final():\n",
        "    with strategy.scope():\n",
        "      model = tf.keras.Sequential([\n",
        "                              tf.keras.Input(shape  = (INPUT_SEQ_LEN, NUM_VAR)),\n",
        "                              tfkl.Conv1D(128, 15, 9,activation= 'relu'),\n",
        "                              tfkl.MaxPooling1D(),\n",
        "                              tfkl.Dense(NUM_VAR, activation='sigmoid')\n",
        "\n",
        "      ])\n",
        "      model.compile(optimizer= tfk.optimizers.Adam(learning_rate=1e-4), loss='mse')\n",
        "\n",
        "      return model "
      ],
      "execution_count": null,
      "outputs": []
    },
    {
      "cell_type": "markdown",
      "metadata": {
        "id": "dVEOOjUrzpTV"
      },
      "source": [
        "# Train the model"
      ]
    },
    {
      "cell_type": "code",
      "metadata": {
        "id": "qiXkOhmvGdN-",
        "colab": {
          "base_uri": "https://localhost:8080/"
        },
        "outputId": "79e38244-e73d-46ce-907b-c30a5b63804d"
      },
      "source": [
        "model_rnn = get_rnn_model_final()\n",
        "model_rnn, scaler_rnn = train_model(df_final[2] ,model_rnn)"
      ],
      "execution_count": 40,
      "outputs": [
        {
          "output_type": "stream",
          "name": "stdout",
          "text": [
            "Tensor(\"strided_slice:0\", shape=(None, 31), dtype=float64)\n",
            "Tensor(\"Reshape:0\", shape=(33, 31), dtype=float64)\n",
            "Epoch 1/20\n",
            "1000/1000 [==============================] - 45s 36ms/step - loss: 0.0728\n",
            "Epoch 2/20\n",
            "1000/1000 [==============================] - 34s 34ms/step - loss: 0.0288\n",
            "Epoch 3/20\n",
            "1000/1000 [==============================] - 33s 33ms/step - loss: 0.0125\n",
            "Epoch 4/20\n",
            "1000/1000 [==============================] - 33s 33ms/step - loss: 0.0099\n",
            "Epoch 5/20\n",
            "1000/1000 [==============================] - 33s 33ms/step - loss: 0.0084\n",
            "Epoch 6/20\n",
            "1000/1000 [==============================] - 34s 34ms/step - loss: 0.0073\n",
            "Epoch 7/20\n",
            "1000/1000 [==============================] - 33s 34ms/step - loss: 0.0064\n",
            "Epoch 8/20\n",
            "1000/1000 [==============================] - 33s 33ms/step - loss: 0.0059\n",
            "Epoch 9/20\n",
            "1000/1000 [==============================] - 35s 35ms/step - loss: 0.0053\n",
            "Epoch 10/20\n",
            "1000/1000 [==============================] - 33s 33ms/step - loss: 0.0049\n",
            "Epoch 11/20\n",
            "1000/1000 [==============================] - 34s 34ms/step - loss: 0.0046\n",
            "Epoch 12/20\n",
            "1000/1000 [==============================] - 31s 31ms/step - loss: 0.0043\n",
            "Epoch 13/20\n",
            "1000/1000 [==============================] - 32s 32ms/step - loss: 0.0041\n",
            "Epoch 14/20\n",
            "1000/1000 [==============================] - 31s 31ms/step - loss: 0.0039\n",
            "Epoch 15/20\n",
            "1000/1000 [==============================] - 32s 32ms/step - loss: 0.0037\n",
            "Epoch 16/20\n",
            "1000/1000 [==============================] - 33s 33ms/step - loss: 0.0036\n",
            "Epoch 17/20\n",
            "1000/1000 [==============================] - 32s 32ms/step - loss: 0.0034\n",
            "Epoch 18/20\n",
            "1000/1000 [==============================] - 34s 34ms/step - loss: 0.0033\n",
            "Epoch 19/20\n",
            "1000/1000 [==============================] - 34s 34ms/step - loss: 0.0032\n",
            "Epoch 20/20\n",
            "1000/1000 [==============================] - 35s 35ms/step - loss: 0.0031\n"
          ]
        }
      ]
    },
    {
      "cell_type": "code",
      "metadata": {
        "id": "8zKt7Huv5EXz"
      },
      "source": [
        "model_rnn.summary()"
      ],
      "execution_count": null,
      "outputs": []
    },
    {
      "cell_type": "code",
      "metadata": {
        "id": "sKuTGtBO9gRb"
      },
      "source": [
        "model_cnn = get_cnn_model_final()\n",
        "model_cnn, scaler_cnn = train_model(df_final[2] ,model_cnn)"
      ],
      "execution_count": null,
      "outputs": []
    },
    {
      "cell_type": "code",
      "metadata": {
        "id": "z5teNnNaJdtE"
      },
      "source": [
        "model_cnn.summary()"
      ],
      "execution_count": null,
      "outputs": []
    },
    {
      "cell_type": "markdown",
      "metadata": {
        "id": "D8ER43tSKLaE"
      },
      "source": [
        "# Get the result"
      ]
    },
    {
      "cell_type": "code",
      "metadata": {
        "id": "MO3uDBQidyqe",
        "colab": {
          "base_uri": "https://localhost:8080/",
          "height": 985
        },
        "outputId": "885e1bb1-6bfc-42f6-aa67-0f6a615237b1"
      },
      "source": [
        "# baseline = 0.01\n",
        "# # models = [model_rnn, model_cnn]\n",
        "\n",
        "# final_result = {}\n",
        "# for i in df.keys():\n",
        "#   temp = get_result(model_rnn, df_final[i], baseline, scaler)\n",
        "#   final_result[i] = temp\n",
        "\n",
        "# df_loss = pd.DataFrame(final_result)\n",
        "df_loss.plot(subplots = True, figsize = (20,20), ylim = (0.0, 10.0), layout= (5,5))"
      ],
      "execution_count": 44,
      "outputs": [
        {
          "output_type": "execute_result",
          "data": {
            "text/plain": [
              "array([[<matplotlib.axes._subplots.AxesSubplot object at 0x7f3657c46250>,\n",
              "        <matplotlib.axes._subplots.AxesSubplot object at 0x7f3657c654d0>,\n",
              "        <matplotlib.axes._subplots.AxesSubplot object at 0x7f36584c6390>,\n",
              "        <matplotlib.axes._subplots.AxesSubplot object at 0x7f36589dcb10>,\n",
              "        <matplotlib.axes._subplots.AxesSubplot object at 0x7f3657b646d0>],\n",
              "       [<matplotlib.axes._subplots.AxesSubplot object at 0x7f365809fdd0>,\n",
              "        <matplotlib.axes._subplots.AxesSubplot object at 0x7f36585ae650>,\n",
              "        <matplotlib.axes._subplots.AxesSubplot object at 0x7f3657ab3910>,\n",
              "        <matplotlib.axes._subplots.AxesSubplot object at 0x7f3657ab3950>,\n",
              "        <matplotlib.axes._subplots.AxesSubplot object at 0x7f3658477b90>],\n",
              "       [<matplotlib.axes._subplots.AxesSubplot object at 0x7f365878e410>,\n",
              "        <matplotlib.axes._subplots.AxesSubplot object at 0x7f3658029790>,\n",
              "        <matplotlib.axes._subplots.AxesSubplot object at 0x7f3658032c90>,\n",
              "        <matplotlib.axes._subplots.AxesSubplot object at 0x7f3658982d10>,\n",
              "        <matplotlib.axes._subplots.AxesSubplot object at 0x7f36588d06d0>],\n",
              "       [<matplotlib.axes._subplots.AxesSubplot object at 0x7f36582ddbd0>,\n",
              "        <matplotlib.axes._subplots.AxesSubplot object at 0x7f365839f190>,\n",
              "        <matplotlib.axes._subplots.AxesSubplot object at 0x7f3654d5f450>,\n",
              "        <matplotlib.axes._subplots.AxesSubplot object at 0x7f36597f2c50>,\n",
              "        <matplotlib.axes._subplots.AxesSubplot object at 0x7f3658231ed0>],\n",
              "       [<matplotlib.axes._subplots.AxesSubplot object at 0x7f3658363f10>,\n",
              "        <matplotlib.axes._subplots.AxesSubplot object at 0x7f365487c810>,\n",
              "        <matplotlib.axes._subplots.AxesSubplot object at 0x7f365482ee10>,\n",
              "        <matplotlib.axes._subplots.AxesSubplot object at 0x7f36547e8490>,\n",
              "        <matplotlib.axes._subplots.AxesSubplot object at 0x7f365481aa90>]],\n",
              "      dtype=object)"
            ]
          },
          "metadata": {},
          "execution_count": 44
        },
        {
          "output_type": "display_data",
          "data": {
            "image/png": "[encoded data removed]",
            "text/plain": [
              "<Figure size 1440x1440 with 25 Axes>"
            ]
          },
          "metadata": {
            "needs_background": "light"
          }
        }
      ]
    }
  ]
}