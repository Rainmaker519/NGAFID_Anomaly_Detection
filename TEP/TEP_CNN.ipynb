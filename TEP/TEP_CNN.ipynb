{
  "nbformat": 4,
  "nbformat_minor": 0,
  "metadata": {
    "colab": {
      "name": "TEP_CNN.ipynb",
      "provenance": [],
      "collapsed_sections": []
    },
    "kernelspec": {
      "name": "python3",
      "display_name": "Python 3"
    },
    "language_info": {
      "name": "python"
    },
    "accelerator": "TPU"
  },
  "cells": [
    {
      "cell_type": "markdown",
      "metadata": {
        "id": "z0laBdydQo_r"
      },
      "source": [
        "# SETUP"
      ]
    },
    {
      "cell_type": "code",
      "metadata": {
        "colab": {
          "base_uri": "https://localhost:8080/"
        },
        "id": "FSqWdN-p6mdR",
        "outputId": "344b3cb7-3beb-4119-d057-c1f68421abed"
      },
      "source": [
        "#link to the google drive.\n",
        "from google.colab import drive\n",
        "drive.mount('/content/drive')"
      ],
      "execution_count": null,
      "outputs": [
        {
          "output_type": "stream",
          "name": "stdout",
          "text": [
            "Mounted at /content/drive\n"
          ]
        }
      ]
    },
    {
      "cell_type": "code",
      "metadata": {
        "colab": {
          "base_uri": "https://localhost:8080/"
        },
        "id": "N0Go5LlWR96A",
        "outputId": "24bb97a4-ddbd-4e8e-b1c7-acb871dbad80"
      },
      "source": [
        " #Check the package pyreadr.\n",
        " !pip install pyreadr"
      ],
      "execution_count": null,
      "outputs": [
        {
          "output_type": "stream",
          "name": "stdout",
          "text": [
            "Collecting pyreadr\n",
            "  Downloading pyreadr-0.4.2-cp37-cp37m-manylinux_2_17_x86_64.manylinux2014_x86_64.whl (409 kB)\n",
            "\u001b[?25l\r\u001b[K     |▉                               | 10 kB 23.5 MB/s eta 0:00:01\r\u001b[K     |█▋                              | 20 kB 29.2 MB/s eta 0:00:01\r\u001b[K     |██▍                             | 30 kB 21.7 MB/s eta 0:00:01\r\u001b[K     |███▏                            | 40 kB 12.9 MB/s eta 0:00:01\r\u001b[K     |████                            | 51 kB 6.0 MB/s eta 0:00:01\r\u001b[K     |████▉                           | 61 kB 6.5 MB/s eta 0:00:01\r\u001b[K     |█████▋                          | 71 kB 6.2 MB/s eta 0:00:01\r\u001b[K     |██████▍                         | 81 kB 7.0 MB/s eta 0:00:01\r\u001b[K     |███████▏                        | 92 kB 5.1 MB/s eta 0:00:01\r\u001b[K     |████████                        | 102 kB 5.5 MB/s eta 0:00:01\r\u001b[K     |████████▉                       | 112 kB 5.5 MB/s eta 0:00:01\r\u001b[K     |█████████▋                      | 122 kB 5.5 MB/s eta 0:00:01\r\u001b[K     |██████████▍                     | 133 kB 5.5 MB/s eta 0:00:01\r\u001b[K     |███████████▏                    | 143 kB 5.5 MB/s eta 0:00:01\r\u001b[K     |████████████                    | 153 kB 5.5 MB/s eta 0:00:01\r\u001b[K     |████████████▉                   | 163 kB 5.5 MB/s eta 0:00:01\r\u001b[K     |█████████████▋                  | 174 kB 5.5 MB/s eta 0:00:01\r\u001b[K     |██████████████▍                 | 184 kB 5.5 MB/s eta 0:00:01\r\u001b[K     |███████████████▏                | 194 kB 5.5 MB/s eta 0:00:01\r\u001b[K     |████████████████                | 204 kB 5.5 MB/s eta 0:00:01\r\u001b[K     |████████████████▉               | 215 kB 5.5 MB/s eta 0:00:01\r\u001b[K     |█████████████████▋              | 225 kB 5.5 MB/s eta 0:00:01\r\u001b[K     |██████████████████▍             | 235 kB 5.5 MB/s eta 0:00:01\r\u001b[K     |███████████████████▏            | 245 kB 5.5 MB/s eta 0:00:01\r\u001b[K     |████████████████████            | 256 kB 5.5 MB/s eta 0:00:01\r\u001b[K     |████████████████████▉           | 266 kB 5.5 MB/s eta 0:00:01\r\u001b[K     |█████████████████████▋          | 276 kB 5.5 MB/s eta 0:00:01\r\u001b[K     |██████████████████████▍         | 286 kB 5.5 MB/s eta 0:00:01\r\u001b[K     |███████████████████████▏        | 296 kB 5.5 MB/s eta 0:00:01\r\u001b[K     |████████████████████████        | 307 kB 5.5 MB/s eta 0:00:01\r\u001b[K     |████████████████████████▉       | 317 kB 5.5 MB/s eta 0:00:01\r\u001b[K     |█████████████████████████▋      | 327 kB 5.5 MB/s eta 0:00:01\r\u001b[K     |██████████████████████████▍     | 337 kB 5.5 MB/s eta 0:00:01\r\u001b[K     |███████████████████████████▏    | 348 kB 5.5 MB/s eta 0:00:01\r\u001b[K     |████████████████████████████    | 358 kB 5.5 MB/s eta 0:00:01\r\u001b[K     |████████████████████████████▉   | 368 kB 5.5 MB/s eta 0:00:01\r\u001b[K     |█████████████████████████████▋  | 378 kB 5.5 MB/s eta 0:00:01\r\u001b[K     |██████████████████████████████▍ | 389 kB 5.5 MB/s eta 0:00:01\r\u001b[K     |███████████████████████████████▏| 399 kB 5.5 MB/s eta 0:00:01\r\u001b[K     |████████████████████████████████| 409 kB 5.5 MB/s eta 0:00:01\r\u001b[K     |████████████████████████████████| 409 kB 5.5 MB/s \n",
            "\u001b[?25hRequirement already satisfied: pandas>0.24.0 in /usr/local/lib/python3.7/dist-packages (from pyreadr) (1.1.5)\n",
            "Requirement already satisfied: numpy>=1.15.4 in /usr/local/lib/python3.7/dist-packages (from pandas>0.24.0->pyreadr) (1.19.5)\n",
            "Requirement already satisfied: python-dateutil>=2.7.3 in /usr/local/lib/python3.7/dist-packages (from pandas>0.24.0->pyreadr) (2.8.2)\n",
            "Requirement already satisfied: pytz>=2017.2 in /usr/local/lib/python3.7/dist-packages (from pandas>0.24.0->pyreadr) (2018.9)\n",
            "Requirement already satisfied: six>=1.5 in /usr/local/lib/python3.7/dist-packages (from python-dateutil>=2.7.3->pandas>0.24.0->pyreadr) (1.15.0)\n",
            "Installing collected packages: pyreadr\n",
            "Successfully installed pyreadr-0.4.2\n"
          ]
        }
      ]
    },
    {
      "cell_type": "code",
      "metadata": {
        "id": "088mMzSVOq0_"
      },
      "source": [
        "import pandas as pd \n",
        "import pyreadr as py \n",
        "import numpy as np \n",
        "import tensorflow as tf\n",
        "import gc \n",
        "import tensorflow_datasets as tfds\n",
        "import tensorflow_probability as tfp\n",
        "from tqdm.notebook import tqdm\n",
        "from sklearn.model_selection import train_test_split, KFold\n",
        "from sklearn import preprocessing\n",
        "import matplotlib as plt\n",
        "from google.colab import files\n",
        "tfk = tf.keras\n",
        "tfkl = tf.keras.layers\n",
        "tfpl = tfp.layers\n",
        "tfd = tfp.distributions\n",
        "\n",
        "\n",
        "gc.collect() \n",
        "\n",
        "pd.options.mode.chained_assignment = None"
      ],
      "execution_count": null,
      "outputs": []
    },
    {
      "cell_type": "code",
      "metadata": {
        "colab": {
          "base_uri": "https://localhost:8080/"
        },
        "id": "-i1wEAxZQmXo",
        "outputId": "dda1a197-a56b-40e1-d925-0c3f4bc930d9"
      },
      "source": [
        "#TPU\n",
        "\n",
        "import os\n",
        "assert 'COLAB_TPU_ADDR' in os.environ, 'ERROR: Not connected to a TPU runtime; please see the first cell in this notebook for instructions!'\n",
        "TPU_ADDRESS = 'grpc://' + os.environ['COLAB_TPU_ADDR']\n",
        "print('TPU address is', TPU_ADDRESS)\n",
        "\n",
        "# Detect hardware, return appropriate distribution strategy\n",
        "try:\n",
        "    # TPU detection. No parameters necessary if TPU_NAME environment variable is\n",
        "    # set: this is always the case on Kaggle.\n",
        "    tpu = tf.distribute.cluster_resolver.TPUClusterResolver()\n",
        "    print('Running on TPU ', tpu.master())\n",
        "except ValueError:\n",
        "    tpu = None\n",
        "\n",
        "if tpu:\n",
        "    tf.config.experimental_connect_to_cluster(tpu)\n",
        "    tf.tpu.experimental.initialize_tpu_system(tpu)\n",
        "    strategy = tf.distribute.experimental.TPUStrategy(tpu)\n",
        "else:\n",
        "    # Default distribution strategy in Tensorflow. Works on CPU and single GPU.\n",
        "    strategy = tf.distribute.get_strategy()\n",
        "\n",
        "print(\"REPLICAS: \", strategy.num_replicas_in_sync)"
      ],
      "execution_count": null,
      "outputs": [
        {
          "output_type": "stream",
          "name": "stdout",
          "text": [
            "TPU address is grpc://10.34.2.34:8470\n",
            "Running on TPU  grpc://10.34.2.34:8470\n",
            "INFO:tensorflow:Clearing out eager caches\n"
          ]
        },
        {
          "output_type": "stream",
          "name": "stderr",
          "text": [
            "INFO:tensorflow:Clearing out eager caches\n"
          ]
        },
        {
          "output_type": "stream",
          "name": "stdout",
          "text": [
            "WARNING:tensorflow:TPU system grpc://10.34.2.34:8470 has already been initialized. Reinitializing the TPU can cause previously created variables on TPU to be lost.\n"
          ]
        },
        {
          "output_type": "stream",
          "name": "stderr",
          "text": [
            "WARNING:tensorflow:TPU system grpc://10.34.2.34:8470 has already been initialized. Reinitializing the TPU can cause previously created variables on TPU to be lost.\n"
          ]
        },
        {
          "output_type": "stream",
          "name": "stdout",
          "text": [
            "INFO:tensorflow:Initializing the TPU system: grpc://10.34.2.34:8470\n"
          ]
        },
        {
          "output_type": "stream",
          "name": "stderr",
          "text": [
            "INFO:tensorflow:Initializing the TPU system: grpc://10.34.2.34:8470\n"
          ]
        },
        {
          "output_type": "stream",
          "name": "stdout",
          "text": [
            "INFO:tensorflow:Finished initializing TPU system.\n"
          ]
        },
        {
          "output_type": "stream",
          "name": "stderr",
          "text": [
            "INFO:tensorflow:Finished initializing TPU system.\n",
            "WARNING:absl:`tf.distribute.experimental.TPUStrategy` is deprecated, please use  the non experimental symbol `tf.distribute.TPUStrategy` instead.\n"
          ]
        },
        {
          "output_type": "stream",
          "name": "stdout",
          "text": [
            "INFO:tensorflow:Found TPU system:\n"
          ]
        },
        {
          "output_type": "stream",
          "name": "stderr",
          "text": [
            "INFO:tensorflow:Found TPU system:\n"
          ]
        },
        {
          "output_type": "stream",
          "name": "stdout",
          "text": [
            "INFO:tensorflow:*** Num TPU Cores: 8\n"
          ]
        },
        {
          "output_type": "stream",
          "name": "stderr",
          "text": [
            "INFO:tensorflow:*** Num TPU Cores: 8\n"
          ]
        },
        {
          "output_type": "stream",
          "name": "stdout",
          "text": [
            "INFO:tensorflow:*** Num TPU Workers: 1\n"
          ]
        },
        {
          "output_type": "stream",
          "name": "stderr",
          "text": [
            "INFO:tensorflow:*** Num TPU Workers: 1\n"
          ]
        },
        {
          "output_type": "stream",
          "name": "stdout",
          "text": [
            "INFO:tensorflow:*** Num TPU Cores Per Worker: 8\n"
          ]
        },
        {
          "output_type": "stream",
          "name": "stderr",
          "text": [
            "INFO:tensorflow:*** Num TPU Cores Per Worker: 8\n"
          ]
        },
        {
          "output_type": "stream",
          "name": "stdout",
          "text": [
            "INFO:tensorflow:*** Available Device: _DeviceAttributes(/job:localhost/replica:0/task:0/device:CPU:0, CPU, 0, 0)\n"
          ]
        },
        {
          "output_type": "stream",
          "name": "stderr",
          "text": [
            "INFO:tensorflow:*** Available Device: _DeviceAttributes(/job:localhost/replica:0/task:0/device:CPU:0, CPU, 0, 0)\n"
          ]
        },
        {
          "output_type": "stream",
          "name": "stdout",
          "text": [
            "INFO:tensorflow:*** Available Device: _DeviceAttributes(/job:worker/replica:0/task:0/device:CPU:0, CPU, 0, 0)\n"
          ]
        },
        {
          "output_type": "stream",
          "name": "stderr",
          "text": [
            "INFO:tensorflow:*** Available Device: _DeviceAttributes(/job:worker/replica:0/task:0/device:CPU:0, CPU, 0, 0)\n"
          ]
        },
        {
          "output_type": "stream",
          "name": "stdout",
          "text": [
            "INFO:tensorflow:*** Available Device: _DeviceAttributes(/job:worker/replica:0/task:0/device:TPU:0, TPU, 0, 0)\n"
          ]
        },
        {
          "output_type": "stream",
          "name": "stderr",
          "text": [
            "INFO:tensorflow:*** Available Device: _DeviceAttributes(/job:worker/replica:0/task:0/device:TPU:0, TPU, 0, 0)\n"
          ]
        },
        {
          "output_type": "stream",
          "name": "stdout",
          "text": [
            "INFO:tensorflow:*** Available Device: _DeviceAttributes(/job:worker/replica:0/task:0/device:TPU:1, TPU, 0, 0)\n"
          ]
        },
        {
          "output_type": "stream",
          "name": "stderr",
          "text": [
            "INFO:tensorflow:*** Available Device: _DeviceAttributes(/job:worker/replica:0/task:0/device:TPU:1, TPU, 0, 0)\n"
          ]
        },
        {
          "output_type": "stream",
          "name": "stdout",
          "text": [
            "INFO:tensorflow:*** Available Device: _DeviceAttributes(/job:worker/replica:0/task:0/device:TPU:2, TPU, 0, 0)\n"
          ]
        },
        {
          "output_type": "stream",
          "name": "stderr",
          "text": [
            "INFO:tensorflow:*** Available Device: _DeviceAttributes(/job:worker/replica:0/task:0/device:TPU:2, TPU, 0, 0)\n"
          ]
        },
        {
          "output_type": "stream",
          "name": "stdout",
          "text": [
            "INFO:tensorflow:*** Available Device: _DeviceAttributes(/job:worker/replica:0/task:0/device:TPU:3, TPU, 0, 0)\n"
          ]
        },
        {
          "output_type": "stream",
          "name": "stderr",
          "text": [
            "INFO:tensorflow:*** Available Device: _DeviceAttributes(/job:worker/replica:0/task:0/device:TPU:3, TPU, 0, 0)\n"
          ]
        },
        {
          "output_type": "stream",
          "name": "stdout",
          "text": [
            "INFO:tensorflow:*** Available Device: _DeviceAttributes(/job:worker/replica:0/task:0/device:TPU:4, TPU, 0, 0)\n"
          ]
        },
        {
          "output_type": "stream",
          "name": "stderr",
          "text": [
            "INFO:tensorflow:*** Available Device: _DeviceAttributes(/job:worker/replica:0/task:0/device:TPU:4, TPU, 0, 0)\n"
          ]
        },
        {
          "output_type": "stream",
          "name": "stdout",
          "text": [
            "INFO:tensorflow:*** Available Device: _DeviceAttributes(/job:worker/replica:0/task:0/device:TPU:5, TPU, 0, 0)\n"
          ]
        },
        {
          "output_type": "stream",
          "name": "stderr",
          "text": [
            "INFO:tensorflow:*** Available Device: _DeviceAttributes(/job:worker/replica:0/task:0/device:TPU:5, TPU, 0, 0)\n"
          ]
        },
        {
          "output_type": "stream",
          "name": "stdout",
          "text": [
            "INFO:tensorflow:*** Available Device: _DeviceAttributes(/job:worker/replica:0/task:0/device:TPU:6, TPU, 0, 0)\n"
          ]
        },
        {
          "output_type": "stream",
          "name": "stderr",
          "text": [
            "INFO:tensorflow:*** Available Device: _DeviceAttributes(/job:worker/replica:0/task:0/device:TPU:6, TPU, 0, 0)\n"
          ]
        },
        {
          "output_type": "stream",
          "name": "stdout",
          "text": [
            "INFO:tensorflow:*** Available Device: _DeviceAttributes(/job:worker/replica:0/task:0/device:TPU:7, TPU, 0, 0)\n"
          ]
        },
        {
          "output_type": "stream",
          "name": "stderr",
          "text": [
            "INFO:tensorflow:*** Available Device: _DeviceAttributes(/job:worker/replica:0/task:0/device:TPU:7, TPU, 0, 0)\n"
          ]
        },
        {
          "output_type": "stream",
          "name": "stdout",
          "text": [
            "INFO:tensorflow:*** Available Device: _DeviceAttributes(/job:worker/replica:0/task:0/device:TPU_SYSTEM:0, TPU_SYSTEM, 0, 0)\n"
          ]
        },
        {
          "output_type": "stream",
          "name": "stderr",
          "text": [
            "INFO:tensorflow:*** Available Device: _DeviceAttributes(/job:worker/replica:0/task:0/device:TPU_SYSTEM:0, TPU_SYSTEM, 0, 0)\n"
          ]
        },
        {
          "output_type": "stream",
          "name": "stdout",
          "text": [
            "INFO:tensorflow:*** Available Device: _DeviceAttributes(/job:worker/replica:0/task:0/device:XLA_CPU:0, XLA_CPU, 0, 0)\n"
          ]
        },
        {
          "output_type": "stream",
          "name": "stderr",
          "text": [
            "INFO:tensorflow:*** Available Device: _DeviceAttributes(/job:worker/replica:0/task:0/device:XLA_CPU:0, XLA_CPU, 0, 0)\n"
          ]
        },
        {
          "output_type": "stream",
          "name": "stdout",
          "text": [
            "REPLICAS:  8\n"
          ]
        }
      ]
    },
    {
      "cell_type": "markdown",
      "metadata": {
        "id": "v6qUuTklSyZq"
      },
      "source": [
        "# HYPER"
      ]
    },
    {
      "cell_type": "code",
      "metadata": {
        "id": "oQ2J7rVBS0sJ"
      },
      "source": [
        "BASE_SEQ_LEN = 500\n",
        "NUM_VAR = 52\n",
        "INPUT_SEQ_LEN = 32 \n",
        "OUTPUT_SEQ_LEN = 1 \n",
        "BATCH_SIZE = 128"
      ],
      "execution_count": null,
      "outputs": []
    },
    {
      "cell_type": "markdown",
      "metadata": {
        "id": "xxSWs-yuQt3o"
      },
      "source": [
        "# READ DATA"
      ]
    },
    {
      "cell_type": "code",
      "metadata": {
        "id": "Y95pBl8_R_fh"
      },
      "source": [
        "a1 = py.read_r(\"drive/MyDrive/TEP_dataset/TEP_FaultFree_Training.RData\")\n",
        "fault_free_training = a1['fault_free_training']\n",
        "a1 = None \n",
        "a2 = py.read_r(\"drive/MyDrive/TEP_dataset/TEP_Faulty_Training.RData\")\n",
        "faulty_training = a2['faulty_training']\n",
        "a2 = None\n",
        "a3 = py.read_r(\"drive/MyDrive/TEP_dataset/TEP_FaultFree_Testing.RData\")\n",
        "fault_free_testing = a3['fault_free_testing']\n",
        "a3 = None \n",
        "a4 = py.read_r(\"drive/MyDrive/TEP_dataset/TEP_Faulty_Testing.RData\")\n",
        "faulty_testing = a4['faulty_testing']\n",
        "a4 = None "
      ],
      "execution_count": null,
      "outputs": []
    },
    {
      "cell_type": "code",
      "metadata": {
        "id": "J4HuxdOdQLVy",
        "colab": {
          "base_uri": "https://localhost:8080/"
        },
        "outputId": "3a8a855b-f9c8-4e50-a0b9-a79dbac6d1c7"
      },
      "source": [
        "gc.collect()"
      ],
      "execution_count": null,
      "outputs": [
        {
          "output_type": "execute_result",
          "data": {
            "text/plain": [
              "50"
            ]
          },
          "metadata": {},
          "execution_count": 7
        }
      ]
    },
    {
      "cell_type": "code",
      "metadata": {
        "id": "dL5aYpYvMkW4"
      },
      "source": [
        "for col in fault_free_training.columns: \n",
        "    fault_free_training.loc[: , col] = fault_free_training.loc[: , col].astype('float32')\n",
        "\n",
        "for col in faulty_training.columns: \n",
        "    faulty_training.loc[: , col] = faulty_training.loc[: , col].astype('float32')\n",
        "\n",
        "for col in fault_free_testing.columns: \n",
        "    fault_free_testing.loc[: , col] = fault_free_testing.loc[: , col].astype('float32')\n",
        "\n",
        "for col in faulty_testing.columns: \n",
        "    faulty_testing.loc[: , col] = faulty_testing.loc[: , col].astype('float32')\n"
      ],
      "execution_count": null,
      "outputs": []
    },
    {
      "cell_type": "code",
      "metadata": {
        "id": "2BkqQupghw10",
        "colab": {
          "base_uri": "https://localhost:8080/"
        },
        "outputId": "1788e62b-3147-46e9-c8c8-9b8efde86772"
      },
      "source": [
        "gc.collect()"
      ],
      "execution_count": null,
      "outputs": [
        {
          "output_type": "execute_result",
          "data": {
            "text/plain": [
              "50"
            ]
          },
          "metadata": {},
          "execution_count": 9
        }
      ]
    },
    {
      "cell_type": "code",
      "metadata": {
        "id": "bYI3wuYOUgDa"
      },
      "source": [
        "def df_to_np_array(df = fault_free_training): \n",
        "    \"\"\" This function will turn the dataframe to numpy array, only use for faulty free dataset\n",
        "    Parameter: dataframe\n",
        "    Return: Numpy array\n",
        "    \"\"\"\n",
        "    examples = []\n",
        "    for i in df.simulationRun.unique():\n",
        "        examples.append(df[df.simulationRun == i].iloc[:, 3:].values)\n",
        "    \n",
        "    return np.stack(examples)\n",
        "\n",
        "\n",
        "def get_slice_random_segment(length):\n",
        "    \"\"\"This function will acquire a length of slice from the dataset.\n",
        "    Parameter: length, length of the dataset\n",
        "    return: array\n",
        "    \"\"\"\n",
        "    def slice_random_segment(x):\n",
        "      \"\"\"This function will return the specific array\n",
        "      Parameter: x, dataset\n",
        "      return: array\n",
        "      \"\"\"\n",
        "      #minval = min numbers of data points, maxval = max numbers of data points\n",
        "      start = tf.random.uniform(shape=[], minval=0, maxval= BASE_SEQ_LEN-length, dtype=tf.int64)\n",
        "      x = x[start:start+length]\n",
        "      print(x)\n",
        "      #reshape will turn x into the shape of (length, NUM_VAR)\n",
        "      x = tf.reshape(x, (length, NUM_VAR))\n",
        "      print(x)\n",
        "      return x \n",
        "    return slice_random_segment\n",
        "\n",
        "def get_split_xy(y_length):\n",
        "  \"\"\"This will get two specific group of data points.\n",
        "  Parameter: y_length\n",
        "  return: x, y \n",
        "  \"\"\"\n",
        "  def split_xy(x):\n",
        "    \"\"\"\n",
        "    Parameter: dataset\n",
        "    \"\"\"\n",
        "    y = x[-y_length:]\n",
        "    return x[:-y_length], y \n",
        "  return split_xy\n",
        "\n",
        "def get_dataset(train_data, shuffle = False, repeat = False): \n",
        "    train_data = df_to_np_array(train_data)\n",
        "    ds = tf.data.Dataset.from_tensor_slices(train_data)\n",
        "    ds = ds.map(get_slice_random_segment(length = INPUT_SEQ_LEN + OUTPUT_SEQ_LEN))\n",
        "    ds = ds.map(get_split_xy(y_length=OUTPUT_SEQ_LEN))\n",
        "\n",
        "    #Changing the value of buffer_size affects how uniform the shuffling\n",
        "    ds = ds.shuffle(512) if shuffle else ds \n",
        "    ds = ds.repeat() if repeat else ds.repeat(2)\n",
        "    ds = ds.batch(BATCH_SIZE, drop_remainder=True)\n",
        "\n",
        "    return ds \n",
        "\n",
        "  \n",
        "def get_detection_xy(df , simrun, scaler):\n",
        "    \"\"\"get the testing dataset\n",
        "    Parameter: dataset, number of simulation run, the scaler you use in the training process\n",
        "    return: x:slice of dataset(testing), y:target value\n",
        "    \"\"\"\n",
        "    \n",
        "    scaled = scaler.transform(df[df.simulationRun == simrun].iloc[:500, 3:])\n",
        "\n",
        "    x = []\n",
        "    y = []\n",
        "\n",
        "    for i in range(BASE_SEQ_LEN - INPUT_SEQ_LEN - OUTPUT_SEQ_LEN):\n",
        "        x.append(scaled[i:i+ INPUT_SEQ_LEN])\n",
        "        y.append(scaled[i+INPUT_SEQ_LEN: i + INPUT_SEQ_LEN + OUTPUT_SEQ_LEN])\n",
        "\n",
        "    x = np.stack(x)\n",
        "    y = np.stack(y)\n",
        "\n",
        "    return x,y \n",
        "    \n",
        "    \n",
        "def get_mse(model, df, scaler, simrun):\n",
        "    \"\"\" Get loss value: the mean squared error value\n",
        "    Parameter: dataset, simulation run, model\n",
        "    Return: loss value\n",
        "    \"\"\"\n",
        "    x, y = get_detection_xy(df, simrun, scaler) \n",
        "    y_pred_1 = model.predict(x, verbose = True)\n",
        "    mse_1 = tfk.losses.MSE(y, y_pred_1).numpy()\n",
        "    return mse_1.flatten()\n"
      ],
      "execution_count": null,
      "outputs": []
    },
    {
      "cell_type": "code",
      "metadata": {
        "id": "jvg0_Hu1y392"
      },
      "source": [
        "def train_model(df, model):\n",
        "  \"\"\"This function is to tain the model\n",
        "  Parameter: df, model\n",
        "  Return: trained model, and trained scaler\n",
        "  \"\"\"\n",
        "  # train_df = fault_free_training\n",
        "  train_df = df[:]\n",
        "\n",
        "\n",
        "  scaler = preprocessing.MinMaxScaler()\n",
        "  scaler.fit(train_df.iloc[:, 3:].values)\n",
        "\n",
        "  train_df.iloc[:, 3:] = scaler.transform(train_df.iloc[:, 3:].values)\n",
        "  train_ds = get_dataset(train_df, shuffle = True, repeat=True)\n",
        "\n",
        "  model.fit(\n",
        "      train_ds, \n",
        "      epochs = 20,\n",
        "      steps_per_epoch = 1000,\n",
        "  )\n",
        "\n",
        "  return model, scaler"
      ],
      "execution_count": null,
      "outputs": []
    },
    {
      "cell_type": "code",
      "metadata": {
        "id": "YQb-V1Dzy3Q1"
      },
      "source": [
        "def get_result( model, baseline, scaler, simrun):\n",
        "  \"\"\"This function is to get and plot the result\n",
        "  Paramter: baseline, simrun, trained model, and trained scaler\n",
        "  \"\"\"\n",
        "\n",
        "  mse_model_1 = get_mse(model, fault_free_testing, scaler, simrun)\n",
        "  print(len(mse_model_1))\n",
        "  print(type(mse_model_1))\n",
        "  print(mse_model_1)\n",
        "  mse_model_2 = get_mse(model, faulty_testing, scaler, simrun)\n",
        "  print(len(mse_model_2))\n",
        "  print(type(mse_model_2))\n",
        "  print(mse_model_2)\n",
        "  pd.DataFrame({'normal' : mse_model_1, 'with_fault' : mse_model_2, 'baseline': baseline}).plot(ylim = (0.0, 1.0))"
      ],
      "execution_count": null,
      "outputs": []
    },
    {
      "cell_type": "markdown",
      "metadata": {
        "id": "vpoMG2kTVwkk"
      },
      "source": [
        "# MODEL"
      ]
    },
    {
      "cell_type": "code",
      "metadata": {
        "id": "t-4lKJKuSxju"
      },
      "source": [
        "#CNN\n",
        "def get_model_CNN_1():\n",
        "    with strategy.scope():\n",
        "      model = tf.keras.Sequential([\n",
        "                              tf.keras.Input(shape  = (INPUT_SEQ_LEN, NUM_VAR)),\n",
        "                              tfkl.Conv1D(128, 15, 9,activation= 'relu'),\n",
        "                              tfkl.MaxPooling1D(),\n",
        "                              tfkl.Dense(NUM_VAR, activation='sigmoid')\n",
        "\n",
        "      ])\n",
        "      model.compile(optimizer= tfk.optimizers.Adam(learning_rate=1e-4), loss='mse')\n",
        "\n",
        "      return model "
      ],
      "execution_count": null,
      "outputs": []
    },
    {
      "cell_type": "code",
      "metadata": {
        "id": "r1LHAVU3P8TP"
      },
      "source": [
        "#CNN\n",
        "def get_model_CNN_2():\n",
        "    with strategy.scope():\n",
        "      model = tf.keras.Sequential([\n",
        "                              tf.keras.Input(shape  = (INPUT_SEQ_LEN, NUM_VAR)),\n",
        "                              tfkl.Conv1D(128, 5, 2, activation= 'relu'),\n",
        "                              tfkl.Conv1D(128, 5, 2, activation= 'relu'),\n",
        "                              tfkl.Conv1D(128, 4, 1, activation= 'relu'),\n",
        "                              tfkl.MaxPooling1D(),\n",
        "                              tfkl.Dense(NUM_VAR, activation='sigmoid')\n",
        "\n",
        "      ])\n",
        "      model.compile(optimizer= tfk.optimizers.Adam(learning_rate=1e-4), loss='mse')\n",
        "\n",
        "      return model "
      ],
      "execution_count": null,
      "outputs": []
    },
    {
      "cell_type": "code",
      "metadata": {
        "id": "TekVBi-FQZFM"
      },
      "source": [
        "#CNN\n",
        "def get_model_CNN_3():\n",
        "    with strategy.scope():\n",
        "      model = tf.keras.Sequential([\n",
        "                              tf.keras.Input(shape  = (INPUT_SEQ_LEN, NUM_VAR)),\n",
        "                              tfkl.Conv1D(64, 5, 1, activation= 'relu'),\n",
        "                              tfkl.Conv1D(64, 5, 1, activation= 'relu'),\n",
        "                              tfkl.MaxPooling1D(),\n",
        "                              tfkl.Conv1D(128, 7, 3, activation= 'relu'),\n",
        "                              tfkl.MaxPooling1D(),\n",
        "                              tfkl.Dense(NUM_VAR, activation='sigmoid')\n",
        "\n",
        "      ])\n",
        "      model.compile(optimizer= tfk.optimizers.Adam(learning_rate=1e-4), loss='mse')\n",
        "\n",
        "      return model "
      ],
      "execution_count": null,
      "outputs": []
    },
    {
      "cell_type": "code",
      "metadata": {
        "id": "F9yESdUfVAAE"
      },
      "source": [
        "#CNN\n",
        "def get_model_CNN_4():\n",
        "    with strategy.scope():\n",
        "      model = tf.keras.Sequential([\n",
        "                              tf.keras.Input(shape  = (INPUT_SEQ_LEN, NUM_VAR)),\n",
        "                              tfkl.Conv1D(64, 5, 1,activation= 'relu'),\n",
        "                              tfkl.Conv1D(64, 5, 1, activation= 'relu'),\n",
        "                              tfkl.MaxPooling1D(),\n",
        "                              tfkl.Conv1D(128, 5, 2, activation= 'relu'),\n",
        "                              tfkl.Conv1D(128, 3, 2, activation= 'relu'),\n",
        "                              tfkl.Dense(NUM_VAR, activation='sigmoid')\n",
        "\n",
        "      ])\n",
        "      model.compile(optimizer= tfk.optimizers.Adam(learning_rate=1e-4), loss='mse')\n",
        "\n",
        "      return model "
      ],
      "execution_count": null,
      "outputs": []
    },
    {
      "cell_type": "markdown",
      "metadata": {
        "id": "dVEOOjUrzpTV"
      },
      "source": [
        "# Train the model"
      ]
    },
    {
      "cell_type": "code",
      "metadata": {
        "id": "q3UHMM6XSAX_",
        "colab": {
          "base_uri": "https://localhost:8080/"
        },
        "outputId": "898bfa9c-ff78-41ef-91a6-c10a464a55c0"
      },
      "source": [
        "cnn_model_1 = get_model_CNN_1()\n",
        "cnn_model_1, scaler = train_model(fault_free_training ,cnn_model_1)"
      ],
      "execution_count": null,
      "outputs": [
        {
          "output_type": "stream",
          "name": "stdout",
          "text": [
            "Tensor(\"strided_slice:0\", shape=(None, 52), dtype=float32)\n",
            "Tensor(\"Reshape:0\", shape=(33, 52), dtype=float32)\n",
            "Epoch 1/20\n",
            "1000/1000 [==============================] - 8s 6ms/step - loss: 0.0120\n",
            "Epoch 2/20\n",
            "1000/1000 [==============================] - 6s 6ms/step - loss: 0.0107\n",
            "Epoch 3/20\n",
            "1000/1000 [==============================] - 6s 6ms/step - loss: 0.0105\n",
            "Epoch 4/20\n",
            "1000/1000 [==============================] - 6s 6ms/step - loss: 0.0104\n",
            "Epoch 5/20\n",
            "1000/1000 [==============================] - 6s 6ms/step - loss: 0.0104\n",
            "Epoch 6/20\n",
            "1000/1000 [==============================] - 6s 6ms/step - loss: 0.0103\n",
            "Epoch 7/20\n",
            "1000/1000 [==============================] - 6s 6ms/step - loss: 0.0103\n",
            "Epoch 8/20\n",
            "1000/1000 [==============================] - 6s 6ms/step - loss: 0.0103\n",
            "Epoch 9/20\n",
            "1000/1000 [==============================] - 6s 6ms/step - loss: 0.0102\n",
            "Epoch 10/20\n",
            "1000/1000 [==============================] - 6s 6ms/step - loss: 0.0102\n",
            "Epoch 11/20\n",
            "1000/1000 [==============================] - 6s 6ms/step - loss: 0.0102\n",
            "Epoch 12/20\n",
            "1000/1000 [==============================] - 6s 6ms/step - loss: 0.0102\n",
            "Epoch 13/20\n",
            "1000/1000 [==============================] - 5s 5ms/step - loss: 0.0102\n",
            "Epoch 14/20\n",
            "1000/1000 [==============================] - 5s 5ms/step - loss: 0.0102\n",
            "Epoch 15/20\n",
            "1000/1000 [==============================] - 6s 6ms/step - loss: 0.0102\n",
            "Epoch 16/20\n",
            "1000/1000 [==============================] - 6s 6ms/step - loss: 0.0102\n",
            "Epoch 17/20\n",
            "1000/1000 [==============================] - 6s 6ms/step - loss: 0.0102\n",
            "Epoch 18/20\n",
            "1000/1000 [==============================] - 6s 6ms/step - loss: 0.0102\n",
            "Epoch 19/20\n",
            "1000/1000 [==============================] - 6s 6ms/step - loss: 0.0101\n",
            "Epoch 20/20\n",
            "1000/1000 [==============================] - 6s 6ms/step - loss: 0.0101\n"
          ]
        }
      ]
    },
    {
      "cell_type": "code",
      "metadata": {
        "colab": {
          "base_uri": "https://localhost:8080/"
        },
        "id": "8zKt7Huv5EXz",
        "outputId": "7195bfdb-7fc2-4845-9bab-01c1151cfa15"
      },
      "source": [
        "cnn_model_1.summary()"
      ],
      "execution_count": null,
      "outputs": [
        {
          "output_type": "stream",
          "name": "stdout",
          "text": [
            "Model: \"sequential\"\n",
            "_________________________________________________________________\n",
            "Layer (type)                 Output Shape              Param #   \n",
            "=================================================================\n",
            "conv1d (Conv1D)              (None, 2, 128)            99968     \n",
            "_________________________________________________________________\n",
            "max_pooling1d (MaxPooling1D) (None, 1, 128)            0         \n",
            "_________________________________________________________________\n",
            "dense (Dense)                (None, 1, 52)             6708      \n",
            "=================================================================\n",
            "Total params: 106,676\n",
            "Trainable params: 106,676\n",
            "Non-trainable params: 0\n",
            "_________________________________________________________________\n"
          ]
        }
      ]
    },
    {
      "cell_type": "code",
      "metadata": {
        "colab": {
          "base_uri": "https://localhost:8080/"
        },
        "id": "udkNvGQ94iaN",
        "outputId": "83ee58f4-1df9-4361-f963-a8141ac10900"
      },
      "source": [
        "cnn_model_2 = get_model_CNN_2()\n",
        "cnn_model_2, scaler = train_model(fault_free_training ,cnn_model_2)"
      ],
      "execution_count": null,
      "outputs": [
        {
          "output_type": "stream",
          "name": "stdout",
          "text": [
            "Tensor(\"strided_slice:0\", shape=(None, 52), dtype=float32)\n",
            "Tensor(\"Reshape:0\", shape=(33, 52), dtype=float32)\n",
            "Epoch 1/20\n",
            "1000/1000 [==============================] - 8s 6ms/step - loss: 0.0109\n",
            "Epoch 2/20\n",
            "1000/1000 [==============================] - 6s 6ms/step - loss: 0.0102\n",
            "Epoch 3/20\n",
            "1000/1000 [==============================] - 6s 6ms/step - loss: 0.0101\n",
            "Epoch 4/20\n",
            "1000/1000 [==============================] - 6s 6ms/step - loss: 0.0100\n",
            "Epoch 5/20\n",
            "1000/1000 [==============================] - 6s 6ms/step - loss: 0.0100\n",
            "Epoch 6/20\n",
            "1000/1000 [==============================] - 6s 6ms/step - loss: 0.0099\n",
            "Epoch 7/20\n",
            "1000/1000 [==============================] - 6s 6ms/step - loss: 0.0099\n",
            "Epoch 8/20\n",
            "1000/1000 [==============================] - 6s 6ms/step - loss: 0.0099\n",
            "Epoch 9/20\n",
            "1000/1000 [==============================] - 6s 6ms/step - loss: 0.0099\n",
            "Epoch 10/20\n",
            "1000/1000 [==============================] - 6s 6ms/step - loss: 0.0099\n",
            "Epoch 11/20\n",
            "1000/1000 [==============================] - 6s 6ms/step - loss: 0.0099\n",
            "Epoch 12/20\n",
            "1000/1000 [==============================] - 6s 6ms/step - loss: 0.0098\n",
            "Epoch 13/20\n",
            "1000/1000 [==============================] - 6s 6ms/step - loss: 0.0098\n",
            "Epoch 14/20\n",
            "1000/1000 [==============================] - 6s 6ms/step - loss: 0.0098\n",
            "Epoch 15/20\n",
            "1000/1000 [==============================] - 6s 6ms/step - loss: 0.0098\n",
            "Epoch 16/20\n",
            "1000/1000 [==============================] - 6s 6ms/step - loss: 0.0098\n",
            "Epoch 17/20\n",
            "1000/1000 [==============================] - 6s 6ms/step - loss: 0.0098\n",
            "Epoch 18/20\n",
            "1000/1000 [==============================] - 6s 6ms/step - loss: 0.0098\n",
            "Epoch 19/20\n",
            "1000/1000 [==============================] - 6s 6ms/step - loss: 0.0098\n",
            "Epoch 20/20\n",
            "1000/1000 [==============================] - 6s 6ms/step - loss: 0.0098\n"
          ]
        }
      ]
    },
    {
      "cell_type": "code",
      "metadata": {
        "colab": {
          "base_uri": "https://localhost:8080/"
        },
        "id": "0miziwu-IFFy",
        "outputId": "84cab54c-2894-41fd-ce46-c914969e6a45"
      },
      "source": [
        "cnn_model_2.summary()"
      ],
      "execution_count": null,
      "outputs": [
        {
          "output_type": "stream",
          "name": "stdout",
          "text": [
            "Model: \"sequential_1\"\n",
            "_________________________________________________________________\n",
            "Layer (type)                 Output Shape              Param #   \n",
            "=================================================================\n",
            "conv1d_1 (Conv1D)            (None, 14, 128)           33408     \n",
            "_________________________________________________________________\n",
            "conv1d_2 (Conv1D)            (None, 5, 128)            82048     \n",
            "_________________________________________________________________\n",
            "conv1d_3 (Conv1D)            (None, 2, 128)            65664     \n",
            "_________________________________________________________________\n",
            "max_pooling1d_1 (MaxPooling1 (None, 1, 128)            0         \n",
            "_________________________________________________________________\n",
            "dense_1 (Dense)              (None, 1, 52)             6708      \n",
            "=================================================================\n",
            "Total params: 187,828\n",
            "Trainable params: 187,828\n",
            "Non-trainable params: 0\n",
            "_________________________________________________________________\n"
          ]
        }
      ]
    },
    {
      "cell_type": "code",
      "metadata": {
        "colab": {
          "base_uri": "https://localhost:8080/"
        },
        "id": "1JADcr2h8sXd",
        "outputId": "f017ca99-445e-4012-86d5-bbbc16ea17a5"
      },
      "source": [
        "cnn_model_3 = get_model_CNN_3()\n",
        "cnn_model_3, scaler = train_model(fault_free_training ,cnn_model_3)"
      ],
      "execution_count": null,
      "outputs": [
        {
          "output_type": "stream",
          "name": "stdout",
          "text": [
            "Tensor(\"strided_slice:0\", shape=(None, 52), dtype=float32)\n",
            "Tensor(\"Reshape:0\", shape=(33, 52), dtype=float32)\n",
            "Epoch 1/20\n",
            "1000/1000 [==============================] - 8s 6ms/step - loss: 0.0111\n",
            "Epoch 2/20\n",
            "1000/1000 [==============================] - 6s 6ms/step - loss: 0.0103\n",
            "Epoch 3/20\n",
            "1000/1000 [==============================] - 5s 5ms/step - loss: 0.0102\n",
            "Epoch 4/20\n",
            "1000/1000 [==============================] - 6s 6ms/step - loss: 0.0101\n",
            "Epoch 5/20\n",
            "1000/1000 [==============================] - 6s 6ms/step - loss: 0.0101\n",
            "Epoch 6/20\n",
            "1000/1000 [==============================] - 6s 6ms/step - loss: 0.0101\n",
            "Epoch 7/20\n",
            "1000/1000 [==============================] - 6s 6ms/step - loss: 0.0100\n",
            "Epoch 8/20\n",
            "1000/1000 [==============================] - 6s 6ms/step - loss: 0.0100\n",
            "Epoch 9/20\n",
            "1000/1000 [==============================] - 6s 6ms/step - loss: 0.0100\n",
            "Epoch 10/20\n",
            "1000/1000 [==============================] - 6s 6ms/step - loss: 0.0100\n",
            "Epoch 11/20\n",
            "1000/1000 [==============================] - 6s 6ms/step - loss: 0.0100\n",
            "Epoch 12/20\n",
            "1000/1000 [==============================] - 6s 6ms/step - loss: 0.0100\n",
            "Epoch 13/20\n",
            "1000/1000 [==============================] - 6s 6ms/step - loss: 0.0099\n",
            "Epoch 14/20\n",
            "1000/1000 [==============================] - 6s 6ms/step - loss: 0.0099\n",
            "Epoch 15/20\n",
            "1000/1000 [==============================] - 6s 6ms/step - loss: 0.0099\n",
            "Epoch 16/20\n",
            "1000/1000 [==============================] - 6s 6ms/step - loss: 0.0099\n",
            "Epoch 17/20\n",
            "1000/1000 [==============================] - 6s 6ms/step - loss: 0.0099\n",
            "Epoch 18/20\n",
            "1000/1000 [==============================] - 6s 6ms/step - loss: 0.0099\n",
            "Epoch 19/20\n",
            "1000/1000 [==============================] - 6s 6ms/step - loss: 0.0099\n",
            "Epoch 20/20\n",
            "1000/1000 [==============================] - 6s 6ms/step - loss: 0.0099\n"
          ]
        }
      ]
    },
    {
      "cell_type": "code",
      "metadata": {
        "colab": {
          "base_uri": "https://localhost:8080/"
        },
        "id": "5bHxkaoxJABL",
        "outputId": "bd06de4b-553e-41a1-a79e-14386f36fe74"
      },
      "source": [
        "cnn_model_3.summary()"
      ],
      "execution_count": null,
      "outputs": [
        {
          "output_type": "stream",
          "name": "stdout",
          "text": [
            "Model: \"sequential_2\"\n",
            "_________________________________________________________________\n",
            "Layer (type)                 Output Shape              Param #   \n",
            "=================================================================\n",
            "conv1d_4 (Conv1D)            (None, 28, 64)            16704     \n",
            "_________________________________________________________________\n",
            "conv1d_5 (Conv1D)            (None, 24, 64)            20544     \n",
            "_________________________________________________________________\n",
            "max_pooling1d_2 (MaxPooling1 (None, 12, 64)            0         \n",
            "_________________________________________________________________\n",
            "conv1d_6 (Conv1D)            (None, 2, 128)            57472     \n",
            "_________________________________________________________________\n",
            "max_pooling1d_3 (MaxPooling1 (None, 1, 128)            0         \n",
            "_________________________________________________________________\n",
            "dense_2 (Dense)              (None, 1, 52)             6708      \n",
            "=================================================================\n",
            "Total params: 101,428\n",
            "Trainable params: 101,428\n",
            "Non-trainable params: 0\n",
            "_________________________________________________________________\n"
          ]
        }
      ]
    },
    {
      "cell_type": "code",
      "metadata": {
        "colab": {
          "base_uri": "https://localhost:8080/"
        },
        "id": "sKuTGtBO9gRb",
        "outputId": "c43b3ca2-5a67-4f58-88b5-f1a535bf2740"
      },
      "source": [
        "cnn_model_4 = get_model_CNN_4()\n",
        "cnn_model_4, scaler = train_model(fault_free_training ,cnn_model_4)"
      ],
      "execution_count": null,
      "outputs": [
        {
          "output_type": "stream",
          "name": "stdout",
          "text": [
            "Tensor(\"strided_slice:0\", shape=(None, 52), dtype=float32)\n",
            "Tensor(\"Reshape:0\", shape=(33, 52), dtype=float32)\n",
            "Epoch 1/20\n",
            "1000/1000 [==============================] - 9s 6ms/step - loss: 0.0111\n",
            "Epoch 2/20\n",
            "1000/1000 [==============================] - 6s 6ms/step - loss: 0.0104\n",
            "Epoch 3/20\n",
            "1000/1000 [==============================] - 6s 6ms/step - loss: 0.0102\n",
            "Epoch 4/20\n",
            "1000/1000 [==============================] - 6s 6ms/step - loss: 0.0101\n",
            "Epoch 5/20\n",
            "1000/1000 [==============================] - 6s 6ms/step - loss: 0.0101\n",
            "Epoch 6/20\n",
            "1000/1000 [==============================] - 6s 6ms/step - loss: 0.0101\n",
            "Epoch 7/20\n",
            "1000/1000 [==============================] - 6s 6ms/step - loss: 0.0101\n",
            "Epoch 8/20\n",
            "1000/1000 [==============================] - 6s 6ms/step - loss: 0.0100\n",
            "Epoch 9/20\n",
            "1000/1000 [==============================] - 6s 6ms/step - loss: 0.0100\n",
            "Epoch 10/20\n",
            "1000/1000 [==============================] - 6s 6ms/step - loss: 0.0100\n",
            "Epoch 11/20\n",
            "1000/1000 [==============================] - 6s 6ms/step - loss: 0.0100\n",
            "Epoch 12/20\n",
            "1000/1000 [==============================] - 6s 6ms/step - loss: 0.0100\n",
            "Epoch 13/20\n",
            "1000/1000 [==============================] - 6s 6ms/step - loss: 0.0100\n",
            "Epoch 14/20\n",
            "1000/1000 [==============================] - 6s 6ms/step - loss: 0.0100\n",
            "Epoch 15/20\n",
            "1000/1000 [==============================] - 6s 6ms/step - loss: 0.0100\n",
            "Epoch 16/20\n",
            "1000/1000 [==============================] - 6s 6ms/step - loss: 0.0099\n",
            "Epoch 17/20\n",
            "1000/1000 [==============================] - 6s 6ms/step - loss: 0.0099\n",
            "Epoch 18/20\n",
            "1000/1000 [==============================] - 6s 6ms/step - loss: 0.0099\n",
            "Epoch 19/20\n",
            "1000/1000 [==============================] - 6s 6ms/step - loss: 0.0099\n",
            "Epoch 20/20\n",
            "1000/1000 [==============================] - 6s 6ms/step - loss: 0.0099\n"
          ]
        }
      ]
    },
    {
      "cell_type": "code",
      "metadata": {
        "colab": {
          "base_uri": "https://localhost:8080/"
        },
        "id": "z5teNnNaJdtE",
        "outputId": "038d8f4a-0b61-4c07-fa69-4ed204b44642"
      },
      "source": [
        "cnn_model_4.summary()"
      ],
      "execution_count": null,
      "outputs": [
        {
          "output_type": "stream",
          "name": "stdout",
          "text": [
            "Model: \"sequential_3\"\n",
            "_________________________________________________________________\n",
            "Layer (type)                 Output Shape              Param #   \n",
            "=================================================================\n",
            "conv1d_7 (Conv1D)            (None, 28, 64)            16704     \n",
            "_________________________________________________________________\n",
            "conv1d_8 (Conv1D)            (None, 24, 64)            20544     \n",
            "_________________________________________________________________\n",
            "max_pooling1d_4 (MaxPooling1 (None, 12, 64)            0         \n",
            "_________________________________________________________________\n",
            "conv1d_9 (Conv1D)            (None, 4, 128)            41088     \n",
            "_________________________________________________________________\n",
            "conv1d_10 (Conv1D)           (None, 1, 128)            49280     \n",
            "_________________________________________________________________\n",
            "dense_3 (Dense)              (None, 1, 52)             6708      \n",
            "=================================================================\n",
            "Total params: 134,324\n",
            "Trainable params: 134,324\n",
            "Non-trainable params: 0\n",
            "_________________________________________________________________\n"
          ]
        }
      ]
    },
    {
      "cell_type": "markdown",
      "metadata": {
        "id": "D8ER43tSKLaE"
      },
      "source": [
        "# Get the result"
      ]
    },
    {
      "cell_type": "code",
      "metadata": {
        "id": "wCFMqBsd-LMf"
      },
      "source": [
        "baseline = 0.1\n",
        "run = 1\n",
        "models = [cnn_model_1, cnn_model_2, cnn_model_3, cnn_model_4]\n",
        "\n",
        "\n",
        "for i in range(len(models)):\n",
        "  get_result(models[i], 0.1, scaler, run)"
      ],
      "execution_count": null,
      "outputs": []
    },
    {
      "cell_type": "code",
      "metadata": {
        "id": "_iv9EWuNmkfM"
      },
      "source": [
        "run = 1\n",
        "mse_f = []\n",
        "mse_fault_f = []\n",
        "target = \"get_model_CNN_\" + str(4) + \"()\"\n",
        "for j in range(30):\n",
        "  cnn_model = eval(target)\n",
        "  print(cnn_model)\n",
        "  cnn_model, scaler = train_model(fault_free_training ,cnn_model)\n",
        "  mse_model_1 = get_mse(cnn_model, fault_free_testing, scaler, run)\n",
        "  mse_model_2 = get_mse(cnn_model, faulty_testing, scaler, run)\n",
        "  mse_fault_f.append(mse_model_1)\n",
        "  mse_f.append(mse_model_2)\n",
        "  \n",
        "np.savetxt('myfile.csv', mse_fault_f, delimiter=',', header = \"4_fault_free\")\n",
        "np.savetxt('myfile_f.csv', mse_f, delimiter=',', header = \"4_fault\")\n",
        "\n",
        "files.download('myfile.csv')\n",
        "files.download('myfile_f.csv')\n"
      ],
      "execution_count": null,
      "outputs": []
    },
    {
      "cell_type": "markdown",
      "metadata": {
        "id": "WMtCI8ghFbu4"
      },
      "source": [
        "# Cross Validation"
      ]
    },
    {
      "cell_type": "code",
      "metadata": {
        "colab": {
          "base_uri": "https://localhost:8080/"
        },
        "id": "8ZxKBQhqO6eO",
        "outputId": "220c52a9-3fb4-4b05-e859-b376455ebfa1"
      },
      "source": [
        "#cross validation\n",
        "for train_split, val_split in KFold().split([i+1 for i in range(500)]):\n",
        "    train_df = fault_free_training[fault_free_training.simulationRun.isin(train_split)]\n",
        "    val_df = fault_free_training[fault_free_training.simulationRun.isin(val_split)]\n",
        "\n",
        "  \n",
        "    scaler = preprocessing.MinMaxScaler()\n",
        "    scaler.fit(train_df.iloc[:, 3:].values)\n",
        "\n",
        "    train_df.iloc[:, 3:] = scaler.transform(train_df.iloc[:, 3:].values)\n",
        "    val_df.iloc[:, 3:] = scaler.transform(val_df.iloc[:, 3:].values)\n",
        "\n",
        "    train_ds = get_dataset(train_df, shuffle = True, repeat=True)\n",
        "    val_ds = get_dataset(val_df)\n",
        "\n",
        "\n",
        "    model = get_model_1() \n",
        "\n",
        "\n",
        "    model.fit(\n",
        "        train_ds, \n",
        "        epochs = 20,\n",
        "        steps_per_epoch = 1000,\n",
        "        validation_data= val_ds,\n",
        "        \n",
        "    )\n",
        "\n",
        "    break\n"
      ],
      "execution_count": null,
      "outputs": [
        {
          "output_type": "stream",
          "name": "stdout",
          "text": [
            "Epoch 1/20\n",
            "1000/1000 [==============================] - 18s 11ms/step - loss: 0.1253 - val_loss: 0.1170\n",
            "Epoch 2/20\n",
            "1000/1000 [==============================] - 9s 9ms/step - loss: 0.0784 - val_loss: 0.0672\n",
            "Epoch 3/20\n",
            "1000/1000 [==============================] - 10s 10ms/step - loss: 0.0535 - val_loss: 0.0463\n",
            "Epoch 4/20\n",
            "1000/1000 [==============================] - 10s 10ms/step - loss: 0.0472 - val_loss: 0.0478\n",
            "Epoch 5/20\n",
            "1000/1000 [==============================] - 9s 9ms/step - loss: 0.0470 - val_loss: 0.0474\n",
            "Epoch 6/20\n",
            "1000/1000 [==============================] - 10s 10ms/step - loss: 0.0468 - val_loss: 0.0471\n",
            "Epoch 7/20\n",
            "1000/1000 [==============================] - 9s 9ms/step - loss: 0.0466 - val_loss: 0.0473\n",
            "Epoch 8/20\n",
            "1000/1000 [==============================] - 9s 9ms/step - loss: 0.0460 - val_loss: 0.0422\n",
            "Epoch 9/20\n",
            "1000/1000 [==============================] - 10s 10ms/step - loss: 0.0412 - val_loss: 0.0385\n",
            "Epoch 10/20\n",
            "1000/1000 [==============================] - 10s 10ms/step - loss: 0.0377 - val_loss: 0.0376\n",
            "Epoch 11/20\n",
            "1000/1000 [==============================] - 10s 10ms/step - loss: 0.0355 - val_loss: 0.0330\n",
            "Epoch 12/20\n",
            "1000/1000 [==============================] - 10s 10ms/step - loss: 0.0328 - val_loss: 0.0337\n",
            "Epoch 13/20\n",
            "1000/1000 [==============================] - 10s 10ms/step - loss: 0.0294 - val_loss: 0.0278\n",
            "Epoch 14/20\n",
            "1000/1000 [==============================] - 10s 10ms/step - loss: 0.0278 - val_loss: 0.0274\n",
            "Epoch 15/20\n",
            "1000/1000 [==============================] - 10s 10ms/step - loss: 0.0277 - val_loss: 0.0279\n",
            "Epoch 16/20\n",
            "1000/1000 [==============================] - 10s 10ms/step - loss: 0.0276 - val_loss: 0.0280\n",
            "Epoch 17/20\n",
            "1000/1000 [==============================] - 10s 10ms/step - loss: 0.0275 - val_loss: 0.0279\n",
            "Epoch 18/20\n",
            "1000/1000 [==============================] - 10s 10ms/step - loss: 0.0274 - val_loss: 0.0265\n",
            "Epoch 19/20\n",
            "1000/1000 [==============================] - 10s 10ms/step - loss: 0.0273 - val_loss: 0.0267\n",
            "Epoch 20/20\n",
            "1000/1000 [==============================] - 10s 10ms/step - loss: 0.0272 - val_loss: 0.0264\n"
          ]
        }
      ]
    },
    {
      "cell_type": "code",
      "metadata": {
        "id": "0BWWF6Uusz2-"
      },
      "source": [
        "#add the ndarray then do the significant test from data point 120"
      ],
      "execution_count": null,
      "outputs": []
    },
    {
      "cell_type": "markdown",
      "metadata": {
        "id": "b0X9cSjWQ0Hr"
      },
      "source": [
        "### Test on NGAFID Dataset"
      ]
    },
    {
      "cell_type": "code",
      "metadata": {
        "id": "RKmtuIjCbGYL"
      },
      "source": [
        "import pandas as pd \n",
        "import numpy as np \n",
        "import tensorflow as tf\n",
        "import gc \n",
        "import tensorflow_datasets as tfds\n",
        "import tensorflow_probability as tfp\n",
        "from tqdm.notebook import tqdm\n",
        "from sklearn.model_selection import train_test_split, KFold\n",
        "from sklearn import preprocessing\n",
        "import matplotlib as plt\n",
        "tfk = tf.keras\n",
        "tfkl = tf.keras.layers\n",
        "tfpl = tfp.layers\n",
        "tfd = tfp.distributions\n",
        "\n",
        "\n",
        "gc.collect() \n",
        "\n",
        "pd.options.mode.chained_assignment = None"
      ],
      "execution_count": null,
      "outputs": []
    },
    {
      "cell_type": "code",
      "metadata": {
        "id": "w_qUzdCDbN_b"
      },
      "source": [
        "BASE_SEQ_LEN = 1000\n",
        "NUM_VAR = 31\n",
        "INPUT_SEQ_LEN = 32 \n",
        "OUTPUT_SEQ_LEN = 1 \n",
        "BATCH_SIZE = 128"
      ],
      "execution_count": null,
      "outputs": []
    },
    {
      "cell_type": "code",
      "metadata": {
        "id": "8xcwnHeRbQ5m"
      },
      "source": [
        "url = 'https://raw.githubusercontent.com/Rainmaker519/NGAFID_Anomaly_Detection/main/NGAFID_dataset/c172_file_2.csv'\n",
        "dataset = pd.read_csv(url)"
      ],
      "execution_count": null,
      "outputs": []
    },
    {
      "cell_type": "code",
      "metadata": {
        "id": "qrSHlkk1bUTC"
      },
      "source": [
        "#cut the dataset to 1000 in the mid point\n",
        "data = dataset[(int(len(dataset)/2)-499):(int(len(dataset)/2)+501)]"
      ],
      "execution_count": null,
      "outputs": []
    },
    {
      "cell_type": "code",
      "metadata": {
        "id": "kZKAQUhLbXCI"
      },
      "source": [
        "def df_to_np_array(df): \n",
        "    \"\"\" This function will turn the dataframe to numpy array\n",
        "    Parameter: dataframe\n",
        "    Return: Numpy array\n",
        "    \"\"\"\n",
        "    examples = []\n",
        "    examples.append(df.iloc[:, :].values)\n",
        "    \n",
        "    return np.stack(examples)\n",
        "\n",
        "def get_slice_random_segment(length):\n",
        "    \"\"\"This function will acquire a length of slice from the dataset.\n",
        "    Parameter: length, length of the dataset\n",
        "    return: array\n",
        "    \"\"\"\n",
        "    def slice_random_segment(x):\n",
        "      \"\"\"This function will return the specific array\n",
        "      Parameter: x, dataset\n",
        "      return: array\n",
        "      \"\"\"\n",
        "      #minval = min numbers of data points, maxval = max numbers of data points\n",
        "      start = tf.random.uniform(shape=[], minval=0, maxval= BASE_SEQ_LEN-length, dtype=tf.int64)\n",
        "      x = x[start:start+length]\n",
        "      print(x)\n",
        "      #reshape will turn x into the shape of (length, NUM_VAR)\n",
        "      x = tf.reshape(x, (length, NUM_VAR))\n",
        "      print(x)\n",
        "      return x \n",
        "    return slice_random_segment\n",
        "\n",
        "def get_split_xy(y_length):\n",
        "  \"\"\"This will get two specific group of data points.\n",
        "  Parameter: y_length\n",
        "  return: x, y \n",
        "  \"\"\"\n",
        "  def split_xy(x):\n",
        "    \"\"\"\n",
        "    Parameter: dataset\n",
        "    \"\"\"\n",
        "    y = x[-y_length:]\n",
        "    return x[:-y_length], y \n",
        "  return split_xy\n",
        "\n",
        "def get_dataset(train_data, shuffle = False, repeat = False): \n",
        "    train_data = df_to_np_array(train_data)\n",
        "    print(train_data)\n",
        "    ds = tf.data.Dataset.from_tensor_slices(train_data)\n",
        "    print(ds)\n",
        "    ds = ds.map(get_slice_random_segment(length = INPUT_SEQ_LEN + OUTPUT_SEQ_LEN))\n",
        "    ds = ds.map(get_split_xy(y_length=OUTPUT_SEQ_LEN))\n",
        "\n",
        "    #Changing the value of buffer_size affects how uniform the shuffling\n",
        "    ds = ds.shuffle(512) if shuffle else ds \n",
        "    ds = ds.repeat() if repeat else ds.repeat(2)\n",
        "    ds = ds.batch(BATCH_SIZE, drop_remainder=True)\n",
        "\n",
        "    return ds \n",
        "\n",
        "  \n",
        "def get_detection_xy(df , scaler):\n",
        "    \"\"\"get the testing dataset\n",
        "    Parameter: dataset, number of simulation run, the scaler you use in the training process\n",
        "    return: x:slice of dataset(testing), y:target value\n",
        "    \"\"\"\n",
        "    \n",
        "    scaled = scaler.transform(df.iloc[:, :])\n",
        "\n",
        "    x = []\n",
        "    y = []\n",
        "\n",
        "    for i in range(BASE_SEQ_LEN - INPUT_SEQ_LEN - OUTPUT_SEQ_LEN):\n",
        "        x.append(scaled[i:i+ INPUT_SEQ_LEN])\n",
        "        y.append(scaled[i+INPUT_SEQ_LEN: i + INPUT_SEQ_LEN + OUTPUT_SEQ_LEN])\n",
        "\n",
        "    x = np.stack(x)\n",
        "    y = np.stack(y)\n",
        "\n",
        "    return x,y \n",
        "    \n",
        "    \n",
        "def get_mse(model, df, scaler):\n",
        "    \"\"\" Get loss value: the mean squared error value\n",
        "    Parameter: dataset, simulation run, model\n",
        "    Return: loss value\n",
        "    \"\"\"\n",
        "    x, y = get_detection_xy(df, scaler) \n",
        "    y_pred_1 = model.predict(x, verbose = True)\n",
        "    mse_1 = tfk.losses.MSE(y, y_pred_1).numpy()\n",
        "    return mse_1.flatten()\n"
      ],
      "execution_count": null,
      "outputs": []
    },
    {
      "cell_type": "code",
      "metadata": {
        "id": "a0KvFbe7bYA2"
      },
      "source": [
        "def train_model(df, model):\n",
        "  \"\"\"This function is to tain the model\n",
        "  Parameter: df, model\n",
        "  Return: trained model, and trained scaler\n",
        "  \"\"\"\n",
        "  train_df = df[:]\n",
        "\n",
        "\n",
        "  scaler = preprocessing.MinMaxScaler()\n",
        "  scaler.fit(train_df.iloc[:, :].values)\n",
        "\n",
        "  train_df.iloc[:, :] = scaler.transform(train_df.iloc[:, :].values)\n",
        "  train_ds = get_dataset(train_df, shuffle = True, repeat=True)\n",
        "\n",
        "  model.fit(\n",
        "      train_ds, \n",
        "      epochs = 20,\n",
        "      steps_per_epoch = 1000,\n",
        "  )\n",
        "\n",
        "  return model, scaler"
      ],
      "execution_count": null,
      "outputs": []
    },
    {
      "cell_type": "code",
      "metadata": {
        "id": "oqboAR66bZt2"
      },
      "source": [
        "def get_result( model, baseline, scaler):\n",
        "  \"\"\"This function is to get and plot the result\n",
        "  Paramter: baseline, simrun, trained model, and trained scaler\n",
        "  \"\"\"\n",
        "\n",
        "  mse_model_1 = get_mse(model, data, scaler)\n",
        "  pd.DataFrame({'normal' : mse_model_1, 'baseline': baseline}).plot(ylim = (0.0, 0.02))"
      ],
      "execution_count": null,
      "outputs": []
    },
    {
      "cell_type": "code",
      "metadata": {
        "id": "30E73QlhbcXp"
      },
      "source": [
        "#LSTM\n",
        "def get_rnn_model():\n",
        "    with strategy.scope():\n",
        "      model = tf.keras.Sequential([\n",
        "                              tf.keras.Input(shape  = (INPUT_SEQ_LEN, NUM_VAR)),\n",
        "                              tfkl.LSTM(64, return_sequences=True), \n",
        "                              tfkl.LSTM(64, return_sequences=True),\n",
        "                              tfkl.LSTM(64, return_sequences=False),\n",
        "                              tfkl.Dropout(0.5),\n",
        "                              tfkl.RepeatVector(OUTPUT_SEQ_LEN), \n",
        "                              tfkl.LSTM(64, return_sequences=True),\n",
        "                              tfkl.Dense(NUM_VAR, activation = 'relu')\n",
        "\n",
        "      ])\n",
        "\n",
        "      model.compile(optimizer = tfk.optimizers.Adam(learning_rate=1e-4), loss = \"mse\" )\n",
        "\n",
        "      return model "
      ],
      "execution_count": null,
      "outputs": []
    },
    {
      "cell_type": "code",
      "metadata": {
        "id": "ZtGhzAg8beQO"
      },
      "source": [
        "#CNN\n",
        "def get_cnn_model():\n",
        "    with strategy.scope():\n",
        "      model = tf.keras.Sequential([\n",
        "                              tf.keras.Input(shape  = (INPUT_SEQ_LEN, NUM_VAR)),\n",
        "                              tfkl.Conv1D(128, 15, 9,activation= 'relu'),\n",
        "                              tfkl.MaxPooling1D(),\n",
        "                              tfkl.Dense(NUM_VAR, activation='sigmoid')\n",
        "\n",
        "      ])\n",
        "      model.compile(optimizer= tfk.optimizers.Adam(learning_rate=1e-4), loss='mse')\n",
        "\n",
        "      return model "
      ],
      "execution_count": null,
      "outputs": []
    },
    {
      "cell_type": "code",
      "metadata": {
        "colab": {
          "base_uri": "https://localhost:8080/"
        },
        "id": "r0GTk_-Dbfwx",
        "outputId": "bc3aafb0-00b8-4927-859e-5df563da357f"
      },
      "source": [
        "model_rnn = get_rnn_model()\n",
        "model_rnn, scaler = train_model(data ,model_rnn)"
      ],
      "execution_count": null,
      "outputs": [
        {
          "output_type": "stream",
          "name": "stdout",
          "text": [
            "[[[0.33239963 0.34666667 0.33919741 ... 0.23280313 0.68788216 0.54219745]\n",
            "  [0.32026144 0.32952381 0.32978319 ... 0.23771652 0.68982768 0.53423567]\n",
            "  [0.31185808 0.32       0.32065424 ... 0.24591939 0.692607   0.52388535]\n",
            "  ...\n",
            "  [0.73762838 0.74380952 0.72613161 ... 0.29018155 0.75541968 0.66321656]\n",
            "  [0.7264239  0.73809524 0.71500571 ... 0.19999167 0.74819344 0.64171975]\n",
            "  [0.7124183  0.72761905 0.70074173 ... 0.11967022 0.7409672  0.61783439]]]\n",
            "<TensorSliceDataset shapes: (1000, 31), types: tf.float64>\n",
            "Tensor(\"strided_slice:0\", shape=(None, 31), dtype=float64)\n",
            "Tensor(\"Reshape:0\", shape=(33, 31), dtype=float64)\n",
            "Epoch 1/20\n",
            "1000/1000 [==============================] - 41s 33ms/step - loss: 0.0645\n",
            "Epoch 2/20\n",
            "1000/1000 [==============================] - 34s 34ms/step - loss: 0.0180\n",
            "Epoch 3/20\n",
            "1000/1000 [==============================] - 33s 33ms/step - loss: 0.0136\n",
            "Epoch 4/20\n",
            "1000/1000 [==============================] - 35s 35ms/step - loss: 0.0106\n",
            "Epoch 5/20\n",
            "1000/1000 [==============================] - 34s 34ms/step - loss: 0.0088\n",
            "Epoch 6/20\n",
            "1000/1000 [==============================] - 33s 33ms/step - loss: 0.0076\n",
            "Epoch 7/20\n",
            "1000/1000 [==============================] - 31s 31ms/step - loss: 0.0067\n",
            "Epoch 8/20\n",
            "1000/1000 [==============================] - 34s 34ms/step - loss: 0.0061\n",
            "Epoch 9/20\n",
            "1000/1000 [==============================] - 32s 32ms/step - loss: 0.0056\n",
            "Epoch 10/20\n",
            "1000/1000 [==============================] - 32s 32ms/step - loss: 0.0052\n",
            "Epoch 11/20\n",
            "1000/1000 [==============================] - 32s 32ms/step - loss: 0.0048\n",
            "Epoch 12/20\n",
            "1000/1000 [==============================] - 33s 33ms/step - loss: 0.0046\n",
            "Epoch 13/20\n",
            "1000/1000 [==============================] - 34s 34ms/step - loss: 0.0043\n",
            "Epoch 14/20\n",
            "1000/1000 [==============================] - 35s 35ms/step - loss: 0.0041\n",
            "Epoch 15/20\n",
            "1000/1000 [==============================] - 32s 32ms/step - loss: 0.0039\n",
            "Epoch 16/20\n",
            "1000/1000 [==============================] - 33s 33ms/step - loss: 0.0038\n",
            "Epoch 17/20\n",
            "1000/1000 [==============================] - 32s 32ms/step - loss: 0.0036\n",
            "Epoch 18/20\n",
            "1000/1000 [==============================] - 32s 32ms/step - loss: 0.0035\n",
            "Epoch 19/20\n",
            "1000/1000 [==============================] - 31s 31ms/step - loss: 0.0034\n",
            "Epoch 20/20\n",
            "1000/1000 [==============================] - 33s 33ms/step - loss: 0.0033\n"
          ]
        }
      ]
    },
    {
      "cell_type": "code",
      "metadata": {
        "colab": {
          "base_uri": "https://localhost:8080/"
        },
        "id": "EEs8RZpbbj4z",
        "outputId": "ac9c852d-0367-4433-fc8b-8a840657bdd8"
      },
      "source": [
        "model_cnn = get_cnn_model()\n",
        "model_cnn, scaler = train_model(data ,model_cnn)"
      ],
      "execution_count": null,
      "outputs": [
        {
          "output_type": "stream",
          "name": "stdout",
          "text": [
            "[[[0.33239963 0.34666667 0.33919741 ... 0.23280313 0.68788216 0.54219745]\n",
            "  [0.32026144 0.32952381 0.32978319 ... 0.23771652 0.68982768 0.53423567]\n",
            "  [0.31185808 0.32       0.32065424 ... 0.24591939 0.692607   0.52388535]\n",
            "  ...\n",
            "  [0.73762838 0.74380952 0.72613161 ... 0.29018155 0.75541968 0.66321656]\n",
            "  [0.7264239  0.73809524 0.71500571 ... 0.19999167 0.74819344 0.64171975]\n",
            "  [0.7124183  0.72761905 0.70074173 ... 0.11967022 0.7409672  0.61783439]]]\n",
            "<TensorSliceDataset shapes: (1000, 31), types: tf.float64>\n",
            "Tensor(\"strided_slice:0\", shape=(None, 31), dtype=float64)\n",
            "Tensor(\"Reshape:0\", shape=(33, 31), dtype=float64)\n",
            "Epoch 1/20\n",
            "1000/1000 [==============================] - 34s 32ms/step - loss: 0.0192\n",
            "Epoch 2/20\n",
            "1000/1000 [==============================] - 34s 34ms/step - loss: 0.0094\n",
            "Epoch 3/20\n",
            "1000/1000 [==============================] - 35s 35ms/step - loss: 0.0072\n",
            "Epoch 4/20\n",
            "1000/1000 [==============================] - 33s 33ms/step - loss: 0.0059\n",
            "Epoch 5/20\n",
            "1000/1000 [==============================] - 32s 32ms/step - loss: 0.0050\n",
            "Epoch 6/20\n",
            "1000/1000 [==============================] - 33s 33ms/step - loss: 0.0043\n",
            "Epoch 7/20\n",
            "1000/1000 [==============================] - 33s 33ms/step - loss: 0.0038\n",
            "Epoch 8/20\n",
            "1000/1000 [==============================] - 33s 33ms/step - loss: 0.0035\n",
            "Epoch 9/20\n",
            "1000/1000 [==============================] - 31s 31ms/step - loss: 0.0032\n",
            "Epoch 10/20\n",
            "1000/1000 [==============================] - 33s 33ms/step - loss: 0.0030\n",
            "Epoch 11/20\n",
            "1000/1000 [==============================] - 31s 31ms/step - loss: 0.0028\n",
            "Epoch 12/20\n",
            "1000/1000 [==============================] - 33s 33ms/step - loss: 0.0026\n",
            "Epoch 13/20\n",
            "1000/1000 [==============================] - 32s 32ms/step - loss: 0.0024\n",
            "Epoch 14/20\n",
            "1000/1000 [==============================] - 32s 32ms/step - loss: 0.0023\n",
            "Epoch 15/20\n",
            "1000/1000 [==============================] - 31s 31ms/step - loss: 0.0022\n",
            "Epoch 16/20\n",
            "1000/1000 [==============================] - 34s 34ms/step - loss: 0.0021\n",
            "Epoch 17/20\n",
            "1000/1000 [==============================] - 31s 31ms/step - loss: 0.0020\n",
            "Epoch 18/20\n",
            "1000/1000 [==============================] - 32s 33ms/step - loss: 0.0019\n",
            "Epoch 19/20\n",
            "1000/1000 [==============================] - 32s 32ms/step - loss: 0.0018\n",
            "Epoch 20/20\n",
            "1000/1000 [==============================] - 32s 32ms/step - loss: 0.0018\n"
          ]
        }
      ]
    },
    {
      "cell_type": "code",
      "metadata": {
        "colab": {
          "base_uri": "https://localhost:8080/",
          "height": 556
        },
        "id": "WtdCz0Spbl6M",
        "outputId": "44431936-a3f7-43a1-ab3f-f242d7e61eff"
      },
      "source": [
        "baseline = 0.01\n",
        "models = [model_rnn, model_cnn]\n",
        "\n",
        "\n",
        "for i in range(len(models)):\n",
        "  get_result(models[i], baseline, scaler)"
      ],
      "execution_count": null,
      "outputs": [
        {
          "output_type": "stream",
          "name": "stdout",
          "text": [
            "31/31 [==============================] - 1s 5ms/step\n",
            "31/31 [==============================] - 1s 5ms/step\n"
          ]
        },
        {
          "output_type": "display_data",
          "data": {
            "image/png": "[encoded data removed]",
            "text/plain": [
              "<Figure size 432x288 with 1 Axes>"
            ]
          },
          "metadata": {
            "needs_background": "light"
          }
        },
        {
          "output_type": "display_data",
          "data": {
            "image/png": "[encoded data removed]",
            "text/plain": [
              "<Figure size 432x288 with 1 Axes>"
            ]
          },
          "metadata": {
            "needs_background": "light"
          }
        }
      ]
    }
  ]
}