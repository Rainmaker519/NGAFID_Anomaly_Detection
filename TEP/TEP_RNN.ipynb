{
  "nbformat": 4,
  "nbformat_minor": 0,
  "metadata": {
    "colab": {
      "name": "TEP_RNN.ipynb",
      "provenance": [],
      "collapsed_sections": []
    },
    "kernelspec": {
      "name": "python3",
      "display_name": "Python 3"
    },
    "language_info": {
      "name": "python"
    },
    "accelerator": "TPU"
  },
  "cells": [
    {
      "cell_type": "markdown",
      "metadata": {
        "id": "z0laBdydQo_r"
      },
      "source": [
        "# SETUP"
      ]
    },
    {
      "cell_type": "code",
      "metadata": {
        "colab": {
          "base_uri": "https://localhost:8080/"
        },
        "id": "FSqWdN-p6mdR",
        "outputId": "ecea992c-2669-4ff4-a470-b0c4c14192b9"
      },
      "source": [
        "#link to the google drive.\n",
        "from google.colab import drive\n",
        "drive.mount('/content/drive')"
      ],
      "execution_count": 22,
      "outputs": [
        {
          "output_type": "stream",
          "name": "stdout",
          "text": [
            "Drive already mounted at /content/drive; to attempt to forcibly remount, call drive.mount(\"/content/drive\", force_remount=True).\n"
          ]
        }
      ]
    },
    {
      "cell_type": "code",
      "metadata": {
        "colab": {
          "base_uri": "https://localhost:8080/"
        },
        "id": "N0Go5LlWR96A",
        "outputId": "2199d129-981a-4371-c0ad-eed5112704ad"
      },
      "source": [
        " #Check the package pyreadr.\n",
        " !pip install pyreadr"
      ],
      "execution_count": 2,
      "outputs": [
        {
          "output_type": "stream",
          "name": "stdout",
          "text": [
            "Collecting pyreadr\n",
            "  Downloading pyreadr-0.4.2-cp37-cp37m-manylinux_2_17_x86_64.manylinux2014_x86_64.whl (409 kB)\n",
            "\u001b[?25l\r\u001b[K     |▉                               | 10 kB 23.3 MB/s eta 0:00:01\r\u001b[K     |█▋                              | 20 kB 10.5 MB/s eta 0:00:01\r\u001b[K     |██▍                             | 30 kB 8.7 MB/s eta 0:00:01\r\u001b[K     |███▏                            | 40 kB 7.9 MB/s eta 0:00:01\r\u001b[K     |████                            | 51 kB 5.2 MB/s eta 0:00:01\r\u001b[K     |████▉                           | 61 kB 5.3 MB/s eta 0:00:01\r\u001b[K     |█████▋                          | 71 kB 5.5 MB/s eta 0:00:01\r\u001b[K     |██████▍                         | 81 kB 6.1 MB/s eta 0:00:01\r\u001b[K     |███████▏                        | 92 kB 4.8 MB/s eta 0:00:01\r\u001b[K     |████████                        | 102 kB 5.3 MB/s eta 0:00:01\r\u001b[K     |████████▉                       | 112 kB 5.3 MB/s eta 0:00:01\r\u001b[K     |█████████▋                      | 122 kB 5.3 MB/s eta 0:00:01\r\u001b[K     |██████████▍                     | 133 kB 5.3 MB/s eta 0:00:01\r\u001b[K     |███████████▏                    | 143 kB 5.3 MB/s eta 0:00:01\r\u001b[K     |████████████                    | 153 kB 5.3 MB/s eta 0:00:01\r\u001b[K     |████████████▉                   | 163 kB 5.3 MB/s eta 0:00:01\r\u001b[K     |█████████████▋                  | 174 kB 5.3 MB/s eta 0:00:01\r\u001b[K     |██████████████▍                 | 184 kB 5.3 MB/s eta 0:00:01\r\u001b[K     |███████████████▏                | 194 kB 5.3 MB/s eta 0:00:01\r\u001b[K     |████████████████                | 204 kB 5.3 MB/s eta 0:00:01\r\u001b[K     |████████████████▉               | 215 kB 5.3 MB/s eta 0:00:01\r\u001b[K     |█████████████████▋              | 225 kB 5.3 MB/s eta 0:00:01\r\u001b[K     |██████████████████▍             | 235 kB 5.3 MB/s eta 0:00:01\r\u001b[K     |███████████████████▏            | 245 kB 5.3 MB/s eta 0:00:01\r\u001b[K     |████████████████████            | 256 kB 5.3 MB/s eta 0:00:01\r\u001b[K     |████████████████████▉           | 266 kB 5.3 MB/s eta 0:00:01\r\u001b[K     |█████████████████████▋          | 276 kB 5.3 MB/s eta 0:00:01\r\u001b[K     |██████████████████████▍         | 286 kB 5.3 MB/s eta 0:00:01\r\u001b[K     |███████████████████████▏        | 296 kB 5.3 MB/s eta 0:00:01\r\u001b[K     |████████████████████████        | 307 kB 5.3 MB/s eta 0:00:01\r\u001b[K     |████████████████████████▉       | 317 kB 5.3 MB/s eta 0:00:01\r\u001b[K     |█████████████████████████▋      | 327 kB 5.3 MB/s eta 0:00:01\r\u001b[K     |██████████████████████████▍     | 337 kB 5.3 MB/s eta 0:00:01\r\u001b[K     |███████████████████████████▏    | 348 kB 5.3 MB/s eta 0:00:01\r\u001b[K     |████████████████████████████    | 358 kB 5.3 MB/s eta 0:00:01\r\u001b[K     |████████████████████████████▉   | 368 kB 5.3 MB/s eta 0:00:01\r\u001b[K     |█████████████████████████████▋  | 378 kB 5.3 MB/s eta 0:00:01\r\u001b[K     |██████████████████████████████▍ | 389 kB 5.3 MB/s eta 0:00:01\r\u001b[K     |███████████████████████████████▏| 399 kB 5.3 MB/s eta 0:00:01\r\u001b[K     |████████████████████████████████| 409 kB 5.3 MB/s eta 0:00:01\r\u001b[K     |████████████████████████████████| 409 kB 5.3 MB/s \n",
            "\u001b[?25hRequirement already satisfied: pandas>0.24.0 in /usr/local/lib/python3.7/dist-packages (from pyreadr) (1.1.5)\n",
            "Requirement already satisfied: pytz>=2017.2 in /usr/local/lib/python3.7/dist-packages (from pandas>0.24.0->pyreadr) (2018.9)\n",
            "Requirement already satisfied: numpy>=1.15.4 in /usr/local/lib/python3.7/dist-packages (from pandas>0.24.0->pyreadr) (1.19.5)\n",
            "Requirement already satisfied: python-dateutil>=2.7.3 in /usr/local/lib/python3.7/dist-packages (from pandas>0.24.0->pyreadr) (2.8.2)\n",
            "Requirement already satisfied: six>=1.5 in /usr/local/lib/python3.7/dist-packages (from python-dateutil>=2.7.3->pandas>0.24.0->pyreadr) (1.15.0)\n",
            "Installing collected packages: pyreadr\n",
            "Successfully installed pyreadr-0.4.2\n"
          ]
        }
      ]
    },
    {
      "cell_type": "code",
      "metadata": {
        "id": "088mMzSVOq0_"
      },
      "source": [
        "import pandas as pd \n",
        "import pyreadr as py \n",
        "import numpy as np \n",
        "import tensorflow as tf\n",
        "import gc \n",
        "import tensorflow_datasets as tfds\n",
        "import tensorflow_probability as tfp\n",
        "from tqdm.notebook import tqdm\n",
        "from sklearn.model_selection import train_test_split, KFold\n",
        "from sklearn import preprocessing\n",
        "import matplotlib as plt\n",
        "tfk = tf.keras\n",
        "tfkl = tf.keras.layers\n",
        "tfpl = tfp.layers\n",
        "tfd = tfp.distributions\n",
        "\n",
        "\n",
        "gc.collect() \n",
        "\n",
        "pd.options.mode.chained_assignment = None"
      ],
      "execution_count": 72,
      "outputs": []
    },
    {
      "cell_type": "code",
      "metadata": {
        "colab": {
          "base_uri": "https://localhost:8080/"
        },
        "id": "-i1wEAxZQmXo",
        "outputId": "98757819-bc19-4a61-af67-9e951d713245"
      },
      "source": [
        "#TPU\n",
        "\n",
        "import os\n",
        "assert 'COLAB_TPU_ADDR' in os.environ, 'ERROR: Not connected to a TPU runtime; please see the first cell in this notebook for instructions!'\n",
        "TPU_ADDRESS = 'grpc://' + os.environ['COLAB_TPU_ADDR']\n",
        "print('TPU address is', TPU_ADDRESS)\n",
        "\n",
        "# Detect hardware, return appropriate distribution strategy\n",
        "try:\n",
        "    # TPU detection. No parameters necessary if TPU_NAME environment variable is\n",
        "    # set: this is always the case on Kaggle.\n",
        "    tpu = tf.distribute.cluster_resolver.TPUClusterResolver()\n",
        "    print('Running on TPU ', tpu.master())\n",
        "except ValueError:\n",
        "    tpu = None\n",
        "\n",
        "if tpu:\n",
        "    tf.config.experimental_connect_to_cluster(tpu)\n",
        "    tf.tpu.experimental.initialize_tpu_system(tpu)\n",
        "    strategy = tf.distribute.experimental.TPUStrategy(tpu)\n",
        "else:\n",
        "    # Default distribution strategy in Tensorflow. Works on CPU and single GPU.\n",
        "    strategy = tf.distribute.get_strategy()\n",
        "\n",
        "print(\"REPLICAS: \", strategy.num_replicas_in_sync)"
      ],
      "execution_count": 4,
      "outputs": [
        {
          "output_type": "stream",
          "name": "stdout",
          "text": [
            "TPU address is grpc://10.126.157.170:8470\n",
            "Running on TPU  grpc://10.126.157.170:8470\n",
            "INFO:tensorflow:Clearing out eager caches\n"
          ]
        },
        {
          "output_type": "stream",
          "name": "stderr",
          "text": [
            "INFO:tensorflow:Clearing out eager caches\n"
          ]
        },
        {
          "output_type": "stream",
          "name": "stdout",
          "text": [
            "INFO:tensorflow:Initializing the TPU system: grpc://10.126.157.170:8470\n"
          ]
        },
        {
          "output_type": "stream",
          "name": "stderr",
          "text": [
            "INFO:tensorflow:Initializing the TPU system: grpc://10.126.157.170:8470\n"
          ]
        },
        {
          "output_type": "stream",
          "name": "stdout",
          "text": [
            "INFO:tensorflow:Finished initializing TPU system.\n"
          ]
        },
        {
          "output_type": "stream",
          "name": "stderr",
          "text": [
            "INFO:tensorflow:Finished initializing TPU system.\n",
            "WARNING:absl:`tf.distribute.experimental.TPUStrategy` is deprecated, please use  the non experimental symbol `tf.distribute.TPUStrategy` instead.\n"
          ]
        },
        {
          "output_type": "stream",
          "name": "stdout",
          "text": [
            "INFO:tensorflow:Found TPU system:\n"
          ]
        },
        {
          "output_type": "stream",
          "name": "stderr",
          "text": [
            "INFO:tensorflow:Found TPU system:\n"
          ]
        },
        {
          "output_type": "stream",
          "name": "stdout",
          "text": [
            "INFO:tensorflow:*** Num TPU Cores: 8\n"
          ]
        },
        {
          "output_type": "stream",
          "name": "stderr",
          "text": [
            "INFO:tensorflow:*** Num TPU Cores: 8\n"
          ]
        },
        {
          "output_type": "stream",
          "name": "stdout",
          "text": [
            "INFO:tensorflow:*** Num TPU Workers: 1\n"
          ]
        },
        {
          "output_type": "stream",
          "name": "stderr",
          "text": [
            "INFO:tensorflow:*** Num TPU Workers: 1\n"
          ]
        },
        {
          "output_type": "stream",
          "name": "stdout",
          "text": [
            "INFO:tensorflow:*** Num TPU Cores Per Worker: 8\n"
          ]
        },
        {
          "output_type": "stream",
          "name": "stderr",
          "text": [
            "INFO:tensorflow:*** Num TPU Cores Per Worker: 8\n"
          ]
        },
        {
          "output_type": "stream",
          "name": "stdout",
          "text": [
            "INFO:tensorflow:*** Available Device: _DeviceAttributes(/job:localhost/replica:0/task:0/device:CPU:0, CPU, 0, 0)\n"
          ]
        },
        {
          "output_type": "stream",
          "name": "stderr",
          "text": [
            "INFO:tensorflow:*** Available Device: _DeviceAttributes(/job:localhost/replica:0/task:0/device:CPU:0, CPU, 0, 0)\n"
          ]
        },
        {
          "output_type": "stream",
          "name": "stdout",
          "text": [
            "INFO:tensorflow:*** Available Device: _DeviceAttributes(/job:worker/replica:0/task:0/device:CPU:0, CPU, 0, 0)\n"
          ]
        },
        {
          "output_type": "stream",
          "name": "stderr",
          "text": [
            "INFO:tensorflow:*** Available Device: _DeviceAttributes(/job:worker/replica:0/task:0/device:CPU:0, CPU, 0, 0)\n"
          ]
        },
        {
          "output_type": "stream",
          "name": "stdout",
          "text": [
            "INFO:tensorflow:*** Available Device: _DeviceAttributes(/job:worker/replica:0/task:0/device:TPU:0, TPU, 0, 0)\n"
          ]
        },
        {
          "output_type": "stream",
          "name": "stderr",
          "text": [
            "INFO:tensorflow:*** Available Device: _DeviceAttributes(/job:worker/replica:0/task:0/device:TPU:0, TPU, 0, 0)\n"
          ]
        },
        {
          "output_type": "stream",
          "name": "stdout",
          "text": [
            "INFO:tensorflow:*** Available Device: _DeviceAttributes(/job:worker/replica:0/task:0/device:TPU:1, TPU, 0, 0)\n"
          ]
        },
        {
          "output_type": "stream",
          "name": "stderr",
          "text": [
            "INFO:tensorflow:*** Available Device: _DeviceAttributes(/job:worker/replica:0/task:0/device:TPU:1, TPU, 0, 0)\n"
          ]
        },
        {
          "output_type": "stream",
          "name": "stdout",
          "text": [
            "INFO:tensorflow:*** Available Device: _DeviceAttributes(/job:worker/replica:0/task:0/device:TPU:2, TPU, 0, 0)\n"
          ]
        },
        {
          "output_type": "stream",
          "name": "stderr",
          "text": [
            "INFO:tensorflow:*** Available Device: _DeviceAttributes(/job:worker/replica:0/task:0/device:TPU:2, TPU, 0, 0)\n"
          ]
        },
        {
          "output_type": "stream",
          "name": "stdout",
          "text": [
            "INFO:tensorflow:*** Available Device: _DeviceAttributes(/job:worker/replica:0/task:0/device:TPU:3, TPU, 0, 0)\n"
          ]
        },
        {
          "output_type": "stream",
          "name": "stderr",
          "text": [
            "INFO:tensorflow:*** Available Device: _DeviceAttributes(/job:worker/replica:0/task:0/device:TPU:3, TPU, 0, 0)\n"
          ]
        },
        {
          "output_type": "stream",
          "name": "stdout",
          "text": [
            "INFO:tensorflow:*** Available Device: _DeviceAttributes(/job:worker/replica:0/task:0/device:TPU:4, TPU, 0, 0)\n"
          ]
        },
        {
          "output_type": "stream",
          "name": "stderr",
          "text": [
            "INFO:tensorflow:*** Available Device: _DeviceAttributes(/job:worker/replica:0/task:0/device:TPU:4, TPU, 0, 0)\n"
          ]
        },
        {
          "output_type": "stream",
          "name": "stdout",
          "text": [
            "INFO:tensorflow:*** Available Device: _DeviceAttributes(/job:worker/replica:0/task:0/device:TPU:5, TPU, 0, 0)\n"
          ]
        },
        {
          "output_type": "stream",
          "name": "stderr",
          "text": [
            "INFO:tensorflow:*** Available Device: _DeviceAttributes(/job:worker/replica:0/task:0/device:TPU:5, TPU, 0, 0)\n"
          ]
        },
        {
          "output_type": "stream",
          "name": "stdout",
          "text": [
            "INFO:tensorflow:*** Available Device: _DeviceAttributes(/job:worker/replica:0/task:0/device:TPU:6, TPU, 0, 0)\n"
          ]
        },
        {
          "output_type": "stream",
          "name": "stderr",
          "text": [
            "INFO:tensorflow:*** Available Device: _DeviceAttributes(/job:worker/replica:0/task:0/device:TPU:6, TPU, 0, 0)\n"
          ]
        },
        {
          "output_type": "stream",
          "name": "stdout",
          "text": [
            "INFO:tensorflow:*** Available Device: _DeviceAttributes(/job:worker/replica:0/task:0/device:TPU:7, TPU, 0, 0)\n"
          ]
        },
        {
          "output_type": "stream",
          "name": "stderr",
          "text": [
            "INFO:tensorflow:*** Available Device: _DeviceAttributes(/job:worker/replica:0/task:0/device:TPU:7, TPU, 0, 0)\n"
          ]
        },
        {
          "output_type": "stream",
          "name": "stdout",
          "text": [
            "INFO:tensorflow:*** Available Device: _DeviceAttributes(/job:worker/replica:0/task:0/device:TPU_SYSTEM:0, TPU_SYSTEM, 0, 0)\n"
          ]
        },
        {
          "output_type": "stream",
          "name": "stderr",
          "text": [
            "INFO:tensorflow:*** Available Device: _DeviceAttributes(/job:worker/replica:0/task:0/device:TPU_SYSTEM:0, TPU_SYSTEM, 0, 0)\n"
          ]
        },
        {
          "output_type": "stream",
          "name": "stdout",
          "text": [
            "INFO:tensorflow:*** Available Device: _DeviceAttributes(/job:worker/replica:0/task:0/device:XLA_CPU:0, XLA_CPU, 0, 0)\n"
          ]
        },
        {
          "output_type": "stream",
          "name": "stderr",
          "text": [
            "INFO:tensorflow:*** Available Device: _DeviceAttributes(/job:worker/replica:0/task:0/device:XLA_CPU:0, XLA_CPU, 0, 0)\n"
          ]
        },
        {
          "output_type": "stream",
          "name": "stdout",
          "text": [
            "REPLICAS:  8\n"
          ]
        }
      ]
    },
    {
      "cell_type": "markdown",
      "metadata": {
        "id": "v6qUuTklSyZq"
      },
      "source": [
        "# HYPER"
      ]
    },
    {
      "cell_type": "code",
      "metadata": {
        "id": "oQ2J7rVBS0sJ"
      },
      "source": [
        "BASE_SEQ_LEN = 500\n",
        "NUM_VAR = 52\n",
        "INPUT_SEQ_LEN = 32 \n",
        "OUTPUT_SEQ_LEN = 1 \n",
        "BATCH_SIZE = 128"
      ],
      "execution_count": 5,
      "outputs": []
    },
    {
      "cell_type": "markdown",
      "metadata": {
        "id": "xxSWs-yuQt3o"
      },
      "source": [
        "# READ DATA"
      ]
    },
    {
      "cell_type": "code",
      "metadata": {
        "id": "Y95pBl8_R_fh"
      },
      "source": [
        "a1 = py.read_r(\"drive/MyDrive/TEP_dataset/TEP_FaultFree_Training.RData\")\n",
        "fault_free_training = a1['fault_free_training']\n",
        "a1 = None \n",
        "a2 = py.read_r(\"drive/MyDrive/TEP_dataset/TEP_Faulty_Training.RData\")\n",
        "faulty_training = a2['faulty_training']\n",
        "a2 = None\n",
        "a3 = py.read_r(\"drive/MyDrive/TEP_dataset/TEP_FaultFree_Testing.RData\")\n",
        "fault_free_testing = a3['fault_free_testing']\n",
        "a3 = None \n",
        "a4 = py.read_r(\"drive/MyDrive/TEP_dataset/TEP_Faulty_Testing.RData\")\n",
        "faulty_testing = a4['faulty_testing']\n",
        "a4 = None "
      ],
      "execution_count": 6,
      "outputs": []
    },
    {
      "cell_type": "code",
      "metadata": {
        "colab": {
          "base_uri": "https://localhost:8080/"
        },
        "id": "J4HuxdOdQLVy",
        "outputId": "c7ae5be9-2402-48a3-eb53-295f2bd59c1c"
      },
      "source": [
        "gc.collect()"
      ],
      "execution_count": 7,
      "outputs": [
        {
          "output_type": "execute_result",
          "data": {
            "text/plain": [
              "221"
            ]
          },
          "metadata": {},
          "execution_count": 7
        }
      ]
    },
    {
      "cell_type": "code",
      "metadata": {
        "id": "dL5aYpYvMkW4"
      },
      "source": [
        "for col in fault_free_training.columns: \n",
        "    fault_free_training.loc[: , col] = fault_free_training.loc[: , col].astype('float32')\n",
        "\n",
        "for col in faulty_training.columns: \n",
        "    faulty_training.loc[: , col] = faulty_training.loc[: , col].astype('float32')\n",
        "\n",
        "for col in fault_free_testing.columns: \n",
        "    fault_free_testing.loc[: , col] = fault_free_testing.loc[: , col].astype('float32')\n",
        "\n",
        "for col in faulty_testing.columns: \n",
        "    faulty_testing.loc[: , col] = faulty_testing.loc[: , col].astype('float32')\n"
      ],
      "execution_count": 8,
      "outputs": []
    },
    {
      "cell_type": "code",
      "metadata": {
        "colab": {
          "base_uri": "https://localhost:8080/"
        },
        "id": "2BkqQupghw10",
        "outputId": "8aee8338-d646-488c-8c1f-5c6a8824c55d"
      },
      "source": [
        "gc.collect()"
      ],
      "execution_count": 9,
      "outputs": [
        {
          "output_type": "execute_result",
          "data": {
            "text/plain": [
              "283"
            ]
          },
          "metadata": {},
          "execution_count": 9
        }
      ]
    },
    {
      "cell_type": "code",
      "metadata": {
        "id": "bYI3wuYOUgDa"
      },
      "source": [
        "def df_to_np_array(df = fault_free_training): \n",
        "    \"\"\" This function will turn the dataframe to numpy array, only use for faulty free dataset\n",
        "    Parameter: dataframe\n",
        "    Return: Numpy array\n",
        "    \"\"\"\n",
        "    examples = []\n",
        "    for i in df.simulationRun.unique():\n",
        "        examples.append(df[df.simulationRun == i].iloc[:, 3:].values)\n",
        "    \n",
        "    return np.stack(examples)\n",
        "\n",
        "\n",
        "def get_slice_random_segment(length):\n",
        "    \"\"\"This function will acquire a length of slice from the dataset.\n",
        "    Parameter: length, length of the dataset\n",
        "    return: array\n",
        "    \"\"\"\n",
        "    def slice_random_segment(x):\n",
        "      \"\"\"This function will return the specific array\n",
        "      Parameter: x, dataset\n",
        "      return: array\n",
        "      \"\"\"\n",
        "      #minval = min numbers of data points, maxval = max numbers of data points\n",
        "      start = tf.random.uniform(shape=[], minval=0, maxval= BASE_SEQ_LEN-length, dtype=tf.int64)\n",
        "      x = x[start:start+length]\n",
        "      #reshape will turn x into the shape of (length, NUM_VAR)\n",
        "      x = tf.reshape(x, (length, NUM_VAR))\n",
        "      return x \n",
        "    return slice_random_segment\n",
        "\n",
        "def get_split_xy(y_length):\n",
        "  \"\"\"This will get two specific group of data points.\n",
        "  Parameter: y_length\n",
        "  return: x, y \n",
        "  \"\"\"\n",
        "  def split_xy(x):\n",
        "    \"\"\"\n",
        "    Parameter: dataset\n",
        "    \"\"\"\n",
        "    y = x[-y_length:]\n",
        "    return x[:-y_length], y \n",
        "  return split_xy\n",
        "\n",
        "def get_dataset(train_data, shuffle = False, repeat = False): \n",
        "    train_data = df_to_np_array(train_data)\n",
        "    ds = tf.data.Dataset.from_tensor_slices(train_data)\n",
        "    ds = ds.map(get_slice_random_segment(length = INPUT_SEQ_LEN + OUTPUT_SEQ_LEN))\n",
        "    ds = ds.map(get_split_xy(y_length=OUTPUT_SEQ_LEN))\n",
        "\n",
        "    #Changing the value of buffer_size affects how uniform the shuffling\n",
        "    ds = ds.shuffle(512) if shuffle else ds \n",
        "    ds = ds.repeat() if repeat else ds.repeat(2)\n",
        "    ds = ds.batch(BATCH_SIZE, drop_remainder=True)\n",
        "\n",
        "    return ds \n",
        "\n",
        "\n",
        "def get_detection_xy(df , simrun):\n",
        "    \"\"\"get the testing dataset\n",
        "    Parameter: dataset, number of simulation run\n",
        "    return: x:slice of dataset(testing), y:target value\n",
        "    \"\"\"\n",
        "    scaled = scaler.transform(df[df.simulationRun == simrun].iloc[:500, 3:])\n",
        "\n",
        "    x = []\n",
        "    y = []\n",
        "\n",
        "    for i in range(BASE_SEQ_LEN - INPUT_SEQ_LEN - OUTPUT_SEQ_LEN):\n",
        "        x.append(scaled[i:i+ INPUT_SEQ_LEN])\n",
        "        y.append(scaled[i+INPUT_SEQ_LEN: i + INPUT_SEQ_LEN + OUTPUT_SEQ_LEN])\n",
        "\n",
        "    x = np.stack(x)\n",
        "    y = np.stack(y)\n",
        "\n",
        "    return x,y \n",
        "    \n",
        "def get_mse(df, simrun, model):\n",
        "    \"\"\" Get loss value: the mean squared error value\n",
        "    Parameter: dataset, simulation run, model\n",
        "    Return: loss value\n",
        "    \"\"\"\n",
        "    x, y = get_detection_xy(df, simrun) \n",
        "    y_pred_1 = model.predict(x, verbose = True)\n",
        "    mse_1 = tfk.losses.MSE(y, y_pred_1).numpy()\n",
        "    return mse_1.flatten()\n"
      ],
      "execution_count": 25,
      "outputs": []
    },
    {
      "cell_type": "markdown",
      "metadata": {
        "id": "vpoMG2kTVwkk"
      },
      "source": [
        "# MODEL"
      ]
    },
    {
      "cell_type": "code",
      "metadata": {
        "id": "17mCyV75Vxnj"
      },
      "source": [
        "#LSTM\n",
        "def get_model_1():\n",
        "    with strategy.scope():\n",
        "      model = tf.keras.Sequential([\n",
        "                              tf.keras.Input(shape  = (INPUT_SEQ_LEN, NUM_VAR)),\n",
        "                              tfkl.LSTM(64, return_sequences=True), \n",
        "                              tfkl.LSTM(64, return_sequences=False),\n",
        "                              tfkl.RepeatVector(OUTPUT_SEQ_LEN), \n",
        "                              tfkl.LSTM(64, return_sequences=True),\n",
        "                              tfkl.Dense(NUM_VAR, activation = 'relu')\n",
        "\n",
        "      ])\n",
        "\n",
        "      model.compile(optimizer = tfk.optimizers.Adam(learning_rate=1e-4), loss = \"mse\" )\n",
        "\n",
        "      return model "
      ],
      "execution_count": 27,
      "outputs": []
    },
    {
      "cell_type": "code",
      "metadata": {
        "id": "3fK_QybpXJLE"
      },
      "source": [
        "#LSTM\n",
        "def get_model_2():\n",
        "    with strategy.scope():\n",
        "      model = tf.keras.Sequential([\n",
        "                              tf.keras.Input(shape  = (INPUT_SEQ_LEN, NUM_VAR)),\n",
        "                              tfkl.LSTM(64, return_sequences=True), \n",
        "                              tfkl.LSTM(64, return_sequences=True),\n",
        "                              tfkl.LSTM(64, return_sequences=False),\n",
        "                              tfkl.Dropout(0.5),\n",
        "                              tfkl.RepeatVector(OUTPUT_SEQ_LEN), \n",
        "                              tfkl.LSTM(64, return_sequences=True),\n",
        "                              tfkl.Dense(NUM_VAR, activation = 'relu')\n",
        "\n",
        "      ])\n",
        "\n",
        "      model.compile(optimizer = tfk.optimizers.Adam(learning_rate=1e-4), loss = \"mse\" )\n",
        "\n",
        "      return model "
      ],
      "execution_count": 47,
      "outputs": []
    },
    {
      "cell_type": "code",
      "metadata": {
        "id": "MRYdT0dDXKkF"
      },
      "source": [
        "#GRU\n",
        "def get_model_3():\n",
        "    with strategy.scope():\n",
        "      model = tf.keras.Sequential([\n",
        "                              tf.keras.Input(shape  = (INPUT_SEQ_LEN, NUM_VAR)),\n",
        "                              tfkl.GRU(64, return_sequences=True), \n",
        "                              tfkl.GRU(64, return_sequences=False),\n",
        "                              tfkl.RepeatVector(OUTPUT_SEQ_LEN), \n",
        "                              tfkl.GRU(64, return_sequences=True),\n",
        "                              tfkl.Dense(NUM_VAR, activation = 'relu')\n",
        "\n",
        "      ])\n",
        "\n",
        "      model.compile(optimizer = tfk.optimizers.Adam(learning_rate=1e-4), loss = \"mse\" )\n",
        "\n",
        "      return model "
      ],
      "execution_count": 30,
      "outputs": []
    },
    {
      "cell_type": "code",
      "metadata": {
        "id": "YeTl-WGfXLp9"
      },
      "source": [
        "#GRU\n",
        "def get_model_4():\n",
        "    with strategy.scope():\n",
        "      model = tf.keras.Sequential([\n",
        "                              tf.keras.Input(shape  = (INPUT_SEQ_LEN, NUM_VAR)),\n",
        "                              # tfkl.Conv1D(64, 5, 1),\n",
        "                              tfkl.GRU(64, return_sequences=True), \n",
        "                              tfkl.GRU(64, return_sequences=True),\n",
        "                              tfkl.GRU(64, return_sequences=False),\n",
        "                              tfkl.Dropout(0.5),\n",
        "                              tfkl.RepeatVector(OUTPUT_SEQ_LEN), \n",
        "                              tfkl.GRU(64, return_sequences=True),\n",
        "                              tfkl.Dense(NUM_VAR, activation = 'relu')\n",
        "\n",
        "      ])\n",
        "\n",
        "      model.compile(optimizer = tfk.optimizers.Adam(learning_rate=1e-4), loss = \"mse\" )\n",
        "\n",
        "      return model \n"
      ],
      "execution_count": 57,
      "outputs": []
    },
    {
      "cell_type": "code",
      "metadata": {
        "id": "GFUBEA3o6i7g"
      },
      "source": [
        "def train_model(df, model):\n",
        "  # train_df = fault_free_training\n",
        "  train_df = df\n",
        "\n",
        "  scaler = preprocessing.MinMaxScaler()\n",
        "  scaler.fit(train_df.iloc[:, 3:].values)\n",
        "\n",
        "  train_df.iloc[:, 3:] = scaler.transform(train_df.iloc[:, 3:].values)\n",
        "  train_ds = get_dataset(train_df, shuffle = True, repeat=True)\n",
        "\n",
        "  model.fit(\n",
        "      train_ds, \n",
        "      epochs = 20,\n",
        "      steps_per_epoch = 1000,\n",
        "  )\n",
        "\n",
        "  return model"
      ],
      "execution_count": 82,
      "outputs": []
    },
    {
      "cell_type": "code",
      "metadata": {
        "colab": {
          "base_uri": "https://localhost:8080/"
        },
        "id": "qiXkOhmvGdN-",
        "outputId": "07e5758d-2503-49ce-f604-4a817b107232"
      },
      "source": [
        "model = get_model_1()\n",
        "model = train_model(fault_free_training, model)"
      ],
      "execution_count": 85,
      "outputs": [
        {
          "output_type": "stream",
          "name": "stdout",
          "text": [
            "Epoch 1/20\n",
            "1000/1000 [==============================] - 14s 8ms/step - loss: 0.0987\n",
            "Epoch 2/20\n",
            "1000/1000 [==============================] - 8s 8ms/step - loss: 0.0742\n",
            "Epoch 3/20\n",
            "1000/1000 [==============================] - 8s 8ms/step - loss: 0.0701\n",
            "Epoch 4/20\n",
            "1000/1000 [==============================] - 8s 8ms/step - loss: 0.0627\n",
            "Epoch 5/20\n",
            "1000/1000 [==============================] - 8s 8ms/step - loss: 0.0625\n",
            "Epoch 6/20\n",
            "1000/1000 [==============================] - 8s 8ms/step - loss: 0.0592\n",
            "Epoch 7/20\n",
            "1000/1000 [==============================] - 8s 8ms/step - loss: 0.0527\n",
            "Epoch 8/20\n",
            "1000/1000 [==============================] - 8s 8ms/step - loss: 0.0525\n",
            "Epoch 9/20\n",
            "1000/1000 [==============================] - 8s 8ms/step - loss: 0.0523\n",
            "Epoch 10/20\n",
            "1000/1000 [==============================] - 8s 8ms/step - loss: 0.0521\n",
            "Epoch 11/20\n",
            "1000/1000 [==============================] - 8s 8ms/step - loss: 0.0519\n",
            "Epoch 12/20\n",
            "1000/1000 [==============================] - 8s 8ms/step - loss: 0.0518\n",
            "Epoch 13/20\n",
            "1000/1000 [==============================] - 8s 8ms/step - loss: 0.0514\n",
            "Epoch 14/20\n",
            "1000/1000 [==============================] - 8s 8ms/step - loss: 0.0250\n",
            "Epoch 15/20\n",
            "1000/1000 [==============================] - 8s 8ms/step - loss: 0.0230\n",
            "Epoch 16/20\n",
            "1000/1000 [==============================] - 8s 8ms/step - loss: 0.0228\n",
            "Epoch 17/20\n",
            "1000/1000 [==============================] - 8s 8ms/step - loss: 0.0227\n",
            "Epoch 18/20\n",
            "1000/1000 [==============================] - 8s 8ms/step - loss: 0.0227\n",
            "Epoch 19/20\n",
            "1000/1000 [==============================] - 8s 8ms/step - loss: 0.0225\n",
            "Epoch 20/20\n",
            "1000/1000 [==============================] - 8s 8ms/step - loss: 0.0224\n"
          ]
        }
      ]
    },
    {
      "cell_type": "code",
      "metadata": {
        "colab": {
          "base_uri": "https://localhost:8080/"
        },
        "id": "8zKt7Huv5EXz",
        "outputId": "a8444922-900b-42b2-b63f-e751c3cfaf9d"
      },
      "source": [
        "model.summary()"
      ],
      "execution_count": 46,
      "outputs": [
        {
          "output_type": "stream",
          "name": "stdout",
          "text": [
            "Model: \"sequential\"\n",
            "_________________________________________________________________\n",
            "Layer (type)                 Output Shape              Param #   \n",
            "=================================================================\n",
            "lstm (LSTM)                  (None, 32, 64)            29952     \n",
            "_________________________________________________________________\n",
            "lstm_1 (LSTM)                (None, 64)                33024     \n",
            "_________________________________________________________________\n",
            "repeat_vector (RepeatVector) (None, 1, 64)             0         \n",
            "_________________________________________________________________\n",
            "lstm_2 (LSTM)                (None, 1, 64)             33024     \n",
            "_________________________________________________________________\n",
            "dense (Dense)                (None, 1, 52)             3380      \n",
            "=================================================================\n",
            "Total params: 99,380\n",
            "Trainable params: 99,380\n",
            "Non-trainable params: 0\n",
            "_________________________________________________________________\n"
          ]
        }
      ]
    },
    {
      "cell_type": "code",
      "metadata": {
        "colab": {
          "base_uri": "https://localhost:8080/"
        },
        "id": "udkNvGQ94iaN",
        "outputId": "8476f763-b7a1-4596-bffa-a623a5988825"
      },
      "source": [
        "model_2 = get_model_2()\n",
        "model_2 = train_model(fault_free_training, model_2) "
      ],
      "execution_count": 83,
      "outputs": [
        {
          "output_type": "stream",
          "name": "stdout",
          "text": [
            "Epoch 1/20\n",
            "1000/1000 [==============================] - 18s 9ms/step - loss: 0.0455\n",
            "Epoch 2/20\n",
            "1000/1000 [==============================] - 9s 9ms/step - loss: 0.0187\n",
            "Epoch 3/20\n",
            "1000/1000 [==============================] - 9s 9ms/step - loss: 0.0168\n",
            "Epoch 4/20\n",
            "1000/1000 [==============================] - 9s 9ms/step - loss: 0.0160\n",
            "Epoch 5/20\n",
            "1000/1000 [==============================] - 9s 9ms/step - loss: 0.0158\n",
            "Epoch 6/20\n",
            "1000/1000 [==============================] - 9s 9ms/step - loss: 0.0156\n",
            "Epoch 7/20\n",
            "1000/1000 [==============================] - 9s 9ms/step - loss: 0.0155\n",
            "Epoch 8/20\n",
            "1000/1000 [==============================] - 9s 9ms/step - loss: 0.0155\n",
            "Epoch 9/20\n",
            "1000/1000 [==============================] - 9s 9ms/step - loss: 0.0154\n",
            "Epoch 10/20\n",
            "1000/1000 [==============================] - 9s 9ms/step - loss: 0.0153\n",
            "Epoch 11/20\n",
            "1000/1000 [==============================] - 9s 9ms/step - loss: 0.0153\n",
            "Epoch 12/20\n",
            "1000/1000 [==============================] - 9s 9ms/step - loss: 0.0152\n",
            "Epoch 13/20\n",
            "1000/1000 [==============================] - 9s 9ms/step - loss: 0.0152\n",
            "Epoch 14/20\n",
            "1000/1000 [==============================] - 9s 9ms/step - loss: 0.0151\n",
            "Epoch 15/20\n",
            "1000/1000 [==============================] - 9s 9ms/step - loss: 0.0151\n",
            "Epoch 16/20\n",
            "1000/1000 [==============================] - 9s 9ms/step - loss: 0.0150\n",
            "Epoch 17/20\n",
            "1000/1000 [==============================] - 9s 9ms/step - loss: 0.0149\n",
            "Epoch 18/20\n",
            "1000/1000 [==============================] - 9s 9ms/step - loss: 0.0148\n",
            "Epoch 19/20\n",
            "1000/1000 [==============================] - 9s 9ms/step - loss: 0.0147\n",
            "Epoch 20/20\n",
            "1000/1000 [==============================] - 9s 9ms/step - loss: 0.0146\n"
          ]
        }
      ]
    },
    {
      "cell_type": "code",
      "metadata": {
        "colab": {
          "base_uri": "https://localhost:8080/"
        },
        "id": "0miziwu-IFFy",
        "outputId": "b297e63e-e022-45b5-b889-fb2537eb9f3a"
      },
      "source": [
        "model_2.summary()"
      ],
      "execution_count": 86,
      "outputs": [
        {
          "output_type": "stream",
          "name": "stdout",
          "text": [
            "Model: \"sequential_8\"\n",
            "_________________________________________________________________\n",
            "Layer (type)                 Output Shape              Param #   \n",
            "=================================================================\n",
            "lstm_19 (LSTM)               (None, 32, 64)            29952     \n",
            "_________________________________________________________________\n",
            "lstm_20 (LSTM)               (None, 32, 64)            33024     \n",
            "_________________________________________________________________\n",
            "lstm_21 (LSTM)               (None, 64)                33024     \n",
            "_________________________________________________________________\n",
            "dropout_5 (Dropout)          (None, 64)                0         \n",
            "_________________________________________________________________\n",
            "repeat_vector_8 (RepeatVecto (None, 1, 64)             0         \n",
            "_________________________________________________________________\n",
            "lstm_22 (LSTM)               (None, 1, 64)             33024     \n",
            "_________________________________________________________________\n",
            "dense_8 (Dense)              (None, 1, 52)             3380      \n",
            "=================================================================\n",
            "Total params: 132,404\n",
            "Trainable params: 132,404\n",
            "Non-trainable params: 0\n",
            "_________________________________________________________________\n"
          ]
        }
      ]
    },
    {
      "cell_type": "code",
      "metadata": {
        "colab": {
          "base_uri": "https://localhost:8080/"
        },
        "id": "1JADcr2h8sXd",
        "outputId": "8a8fe05f-f48e-411d-acbf-26585d5812a1"
      },
      "source": [
        "model_3 = get_model_3()\n",
        "model_3 = train_model(fault_free_training, model_3)"
      ],
      "execution_count": 55,
      "outputs": [
        {
          "output_type": "stream",
          "name": "stdout",
          "text": [
            "Epoch 1/20\n",
            "1000/1000 [==============================] - 14s 8ms/step - loss: 0.0857\n",
            "Epoch 2/20\n",
            "1000/1000 [==============================] - 8s 8ms/step - loss: 0.0551\n",
            "Epoch 3/20\n",
            "1000/1000 [==============================] - 8s 8ms/step - loss: 0.0355\n",
            "Epoch 4/20\n",
            "1000/1000 [==============================] - 8s 8ms/step - loss: 0.0288\n",
            "Epoch 5/20\n",
            "1000/1000 [==============================] - 8s 8ms/step - loss: 0.0276\n",
            "Epoch 6/20\n",
            "1000/1000 [==============================] - 8s 8ms/step - loss: 0.0224\n",
            "Epoch 7/20\n",
            "1000/1000 [==============================] - 8s 8ms/step - loss: 0.0125\n",
            "Epoch 8/20\n",
            "1000/1000 [==============================] - 8s 8ms/step - loss: 0.0121\n",
            "Epoch 9/20\n",
            "1000/1000 [==============================] - 8s 8ms/step - loss: 0.0119\n",
            "Epoch 10/20\n",
            "1000/1000 [==============================] - 8s 8ms/step - loss: 0.0116\n",
            "Epoch 11/20\n",
            "1000/1000 [==============================] - 8s 8ms/step - loss: 0.0115\n",
            "Epoch 12/20\n",
            "1000/1000 [==============================] - 8s 8ms/step - loss: 0.0114\n",
            "Epoch 13/20\n",
            "1000/1000 [==============================] - 8s 8ms/step - loss: 0.0112\n",
            "Epoch 14/20\n",
            "1000/1000 [==============================] - 8s 8ms/step - loss: 0.0111\n",
            "Epoch 15/20\n",
            "1000/1000 [==============================] - 8s 8ms/step - loss: 0.0111\n",
            "Epoch 16/20\n",
            "1000/1000 [==============================] - 8s 8ms/step - loss: 0.0110\n",
            "Epoch 17/20\n",
            "1000/1000 [==============================] - 8s 8ms/step - loss: 0.0109\n",
            "Epoch 18/20\n",
            "1000/1000 [==============================] - 8s 8ms/step - loss: 0.0108\n",
            "Epoch 19/20\n",
            "1000/1000 [==============================] - 8s 8ms/step - loss: 0.0108\n",
            "Epoch 20/20\n",
            "1000/1000 [==============================] - 8s 8ms/step - loss: 0.0108\n"
          ]
        }
      ]
    },
    {
      "cell_type": "code",
      "metadata": {
        "colab": {
          "base_uri": "https://localhost:8080/"
        },
        "id": "5bHxkaoxJABL",
        "outputId": "0884d3be-5399-4f47-ba5b-ce95ff01b4e6"
      },
      "source": [
        "model_3.summary()"
      ],
      "execution_count": 87,
      "outputs": [
        {
          "output_type": "stream",
          "name": "stdout",
          "text": [
            "Model: \"sequential_4\"\n",
            "_________________________________________________________________\n",
            "Layer (type)                 Output Shape              Param #   \n",
            "=================================================================\n",
            "gru (GRU)                    (None, 32, 64)            22656     \n",
            "_________________________________________________________________\n",
            "gru_1 (GRU)                  (None, 64)                24960     \n",
            "_________________________________________________________________\n",
            "repeat_vector_4 (RepeatVecto (None, 1, 64)             0         \n",
            "_________________________________________________________________\n",
            "gru_2 (GRU)                  (None, 1, 64)             24960     \n",
            "_________________________________________________________________\n",
            "dense_4 (Dense)              (None, 1, 52)             3380      \n",
            "=================================================================\n",
            "Total params: 75,956\n",
            "Trainable params: 75,956\n",
            "Non-trainable params: 0\n",
            "_________________________________________________________________\n"
          ]
        }
      ]
    },
    {
      "cell_type": "code",
      "metadata": {
        "colab": {
          "base_uri": "https://localhost:8080/"
        },
        "id": "sKuTGtBO9gRb",
        "outputId": "5753bd71-9701-4b0a-9571-f77ff6a7c152"
      },
      "source": [
        "model_4 = get_model_4()\n",
        "model_4 = train_model(fault_free_training, model_4)"
      ],
      "execution_count": 58,
      "outputs": [
        {
          "output_type": "stream",
          "name": "stdout",
          "text": [
            "Epoch 1/20\n",
            "1000/1000 [==============================] - 18s 11ms/step - loss: 0.0369\n",
            "Epoch 2/20\n",
            "1000/1000 [==============================] - 9s 9ms/step - loss: 0.0175\n",
            "Epoch 3/20\n",
            "1000/1000 [==============================] - 9s 9ms/step - loss: 0.0156\n",
            "Epoch 4/20\n",
            "1000/1000 [==============================] - 9s 9ms/step - loss: 0.0151\n",
            "Epoch 5/20\n",
            "1000/1000 [==============================] - 9s 9ms/step - loss: 0.0148\n",
            "Epoch 6/20\n",
            "1000/1000 [==============================] - 9s 9ms/step - loss: 0.0145\n",
            "Epoch 7/20\n",
            "1000/1000 [==============================] - 9s 9ms/step - loss: 0.0143\n",
            "Epoch 8/20\n",
            "1000/1000 [==============================] - 9s 9ms/step - loss: 0.0139\n",
            "Epoch 9/20\n",
            "1000/1000 [==============================] - 9s 9ms/step - loss: 0.0136\n",
            "Epoch 10/20\n",
            "1000/1000 [==============================] - 9s 9ms/step - loss: 0.0134\n",
            "Epoch 11/20\n",
            "1000/1000 [==============================] - 9s 9ms/step - loss: 0.0132\n",
            "Epoch 12/20\n",
            "1000/1000 [==============================] - 9s 9ms/step - loss: 0.0131\n",
            "Epoch 13/20\n",
            "1000/1000 [==============================] - 9s 9ms/step - loss: 0.0129\n",
            "Epoch 14/20\n",
            "1000/1000 [==============================] - 9s 9ms/step - loss: 0.0127\n",
            "Epoch 15/20\n",
            "1000/1000 [==============================] - 9s 9ms/step - loss: 0.0126\n",
            "Epoch 16/20\n",
            "1000/1000 [==============================] - 9s 9ms/step - loss: 0.0125\n",
            "Epoch 17/20\n",
            "1000/1000 [==============================] - 9s 9ms/step - loss: 0.0124\n",
            "Epoch 18/20\n",
            "1000/1000 [==============================] - 9s 9ms/step - loss: 0.0123\n",
            "Epoch 19/20\n",
            "1000/1000 [==============================] - 9s 9ms/step - loss: 0.0123\n",
            "Epoch 20/20\n",
            "1000/1000 [==============================] - 9s 9ms/step - loss: 0.0122\n"
          ]
        }
      ]
    },
    {
      "cell_type": "code",
      "metadata": {
        "colab": {
          "base_uri": "https://localhost:8080/"
        },
        "id": "z5teNnNaJdtE",
        "outputId": "a425b27c-b905-45b7-8aa7-61ad98d0846b"
      },
      "source": [
        "model_4.summary()"
      ],
      "execution_count": 88,
      "outputs": [
        {
          "output_type": "stream",
          "name": "stdout",
          "text": [
            "Model: \"sequential_6\"\n",
            "_________________________________________________________________\n",
            "Layer (type)                 Output Shape              Param #   \n",
            "=================================================================\n",
            "gru_7 (GRU)                  (None, 32, 64)            22656     \n",
            "_________________________________________________________________\n",
            "gru_8 (GRU)                  (None, 32, 64)            24960     \n",
            "_________________________________________________________________\n",
            "gru_9 (GRU)                  (None, 64)                24960     \n",
            "_________________________________________________________________\n",
            "dropout_3 (Dropout)          (None, 64)                0         \n",
            "_________________________________________________________________\n",
            "repeat_vector_6 (RepeatVecto (None, 1, 64)             0         \n",
            "_________________________________________________________________\n",
            "gru_10 (GRU)                 (None, 1, 64)             24960     \n",
            "_________________________________________________________________\n",
            "dense_6 (Dense)              (None, 1, 52)             3380      \n",
            "=================================================================\n",
            "Total params: 100,916\n",
            "Trainable params: 100,916\n",
            "Non-trainable params: 0\n",
            "_________________________________________________________________\n"
          ]
        }
      ]
    },
    {
      "cell_type": "markdown",
      "metadata": {
        "id": "D8ER43tSKLaE"
      },
      "source": [
        "# Get the result"
      ]
    },
    {
      "cell_type": "code",
      "metadata": {
        "id": "07UV9KE1DSkt"
      },
      "source": [
        "def get_result(model, baseline, simrun):\n",
        "  mse_model_1 = get_mse(fault_free_testing, simrun, model)\n",
        "  mse_model_2 = get_mse(faulty_testing, simrun, model)\n",
        "  pd.DataFrame({'normal' : mse_model_1, 'with_fault' : mse_model_2, 'baseline': baseline}).plot(ylim = (0.0, 1.0))"
      ],
      "execution_count": 66,
      "outputs": []
    },
    {
      "cell_type": "code",
      "metadata": {
        "id": "wCFMqBsd-LMf",
        "colab": {
          "base_uri": "https://localhost:8080/",
          "height": 1000
        },
        "outputId": "2b9b674f-331d-421a-f37c-d4b9ea36af8e"
      },
      "source": [
        "baseline = 0.1\n",
        "run = 1\n",
        "models = [model, model_2, model_3, model_4]\n",
        "\n",
        "\n",
        "for i in range(len(models)):\n",
        "  get_result(models[i], 0.1, run)"
      ],
      "execution_count": 68,
      "outputs": [
        {
          "output_type": "stream",
          "name": "stdout",
          "text": [
            "15/15 [==============================] - 1s 6ms/step\n",
            "15/15 [==============================] - 1s 5ms/step\n",
            "15/15 [==============================] - 1s 6ms/step\n",
            "15/15 [==============================] - 1s 6ms/step\n",
            "15/15 [==============================] - 3s 103ms/step\n",
            "15/15 [==============================] - 1s 8ms/step\n",
            "15/15 [==============================] - 4s 130ms/step\n",
            "15/15 [==============================] - 1s 6ms/step\n"
          ]
        },
        {
          "output_type": "display_data",
          "data": {
            "image/png": "[encoded data removed]",
            "text/plain": [
              "<Figure size 432x288 with 1 Axes>"
            ]
          },
          "metadata": {
            "needs_background": "light"
          }
        },
        {
          "output_type": "display_data",
          "data": {
            "image/png": "[encoded data removed]",
            "text/plain": [
              "<Figure size 432x288 with 1 Axes>"
            ]
          },
          "metadata": {
            "needs_background": "light"
          }
        },
        {
          "output_type": "display_data",
          "data": {
            "image/png": "[encoded data removed]",
            "text/plain": [
              "<Figure size 432x288 with 1 Axes>"
            ]
          },
          "metadata": {
            "needs_background": "light"
          }
        },
        {
          "output_type": "display_data",
          "data": {
            "image/png": "[encoded data removed]",
            "text/plain": [
              "<Figure size 432x288 with 1 Axes>"
            ]
          },
          "metadata": {
            "needs_background": "light"
          }
        }
      ]
    },
    {
      "cell_type": "markdown",
      "metadata": {
        "id": "1SCbTKejI_CL"
      },
      "source": [
        ""
      ]
    },
    {
      "cell_type": "code",
      "metadata": {
        "colab": {
          "base_uri": "https://localhost:8080/"
        },
        "id": "8ZxKBQhqO6eO",
        "outputId": "d98e8516-099c-4a7a-ac7f-4a1d58184c6d"
      },
      "source": [
        "#cross validation\n",
        "for train_split, val_split in KFold().split([i+1 for i in range(500)]):\n",
        "    train_df = fault_free_training[fault_free_training.simulationRun.isin(train_split)]\n",
        "    val_df = fault_free_training[fault_free_training.simulationRun.isin(val_split)]\n",
        "\n",
        "\n",
        "    scaler = preprocessing.MinMaxScaler()\n",
        "    scaler.fit(train_df.iloc[:, 3:].values)\n",
        "\n",
        "    train_df.iloc[:, 3:] = scaler.transform(train_df.iloc[:, 3:].values)\n",
        "    val_df.iloc[:, 3:] = scaler.transform(val_df.iloc[:, 3:].values)\n",
        "\n",
        "    train_ds = get_dataset(train_df, shuffle = True, repeat=True)\n",
        "    val_ds = get_dataset(val_df)\n",
        "\n",
        "\n",
        "    model = get_model() \n",
        "\n",
        "\n",
        "    model.fit(\n",
        "        train_ds, \n",
        "        epochs = 20,\n",
        "        steps_per_epoch = 1000,\n",
        "        validation_data= val_ds,\n",
        "        \n",
        "    )\n",
        "\n",
        "    break\n"
      ],
      "execution_count": null,
      "outputs": [
        {
          "output_type": "stream",
          "name": "stdout",
          "text": [
            "Epoch 1/20\n",
            "1000/1000 [==============================] - 17s 11ms/step - loss: 0.1071 - val_loss: 0.0980\n",
            "Epoch 2/20\n",
            "1000/1000 [==============================] - 10s 10ms/step - loss: 0.0744 - val_loss: 0.0678\n",
            "Epoch 3/20\n",
            "1000/1000 [==============================] - 10s 10ms/step - loss: 0.0604 - val_loss: 0.0538\n",
            "Epoch 4/20\n",
            "1000/1000 [==============================] - 10s 10ms/step - loss: 0.0501 - val_loss: 0.0491\n",
            "Epoch 5/20\n",
            "1000/1000 [==============================] - 10s 10ms/step - loss: 0.0485 - val_loss: 0.0479\n",
            "Epoch 6/20\n",
            "1000/1000 [==============================] - 10s 10ms/step - loss: 0.0484 - val_loss: 0.0485\n",
            "Epoch 7/20\n",
            "1000/1000 [==============================] - 10s 10ms/step - loss: 0.0451 - val_loss: 0.0421\n",
            "Epoch 8/20\n",
            "1000/1000 [==============================] - 10s 10ms/step - loss: 0.0424 - val_loss: 0.0407\n",
            "Epoch 9/20\n",
            "1000/1000 [==============================] - 10s 10ms/step - loss: 0.0420 - val_loss: 0.0427\n",
            "Epoch 10/20\n",
            "1000/1000 [==============================] - 10s 10ms/step - loss: 0.0385 - val_loss: 0.0373\n",
            "Epoch 11/20\n",
            "1000/1000 [==============================] - 10s 10ms/step - loss: 0.0369 - val_loss: 0.0375\n",
            "Epoch 12/20\n",
            "1000/1000 [==============================] - 10s 10ms/step - loss: 0.0368 - val_loss: 0.0371\n",
            "Epoch 13/20\n",
            "1000/1000 [==============================] - 10s 10ms/step - loss: 0.0366 - val_loss: 0.0364\n",
            "Epoch 14/20\n",
            "1000/1000 [==============================] - 10s 10ms/step - loss: 0.0365 - val_loss: 0.0370\n",
            "Epoch 15/20\n",
            "1000/1000 [==============================] - 10s 10ms/step - loss: 0.0364 - val_loss: 0.0360\n",
            "Epoch 16/20\n",
            "1000/1000 [==============================] - 10s 10ms/step - loss: 0.0363 - val_loss: 0.0354\n",
            "Epoch 17/20\n",
            "1000/1000 [==============================] - 10s 10ms/step - loss: 0.0362 - val_loss: 0.0367\n",
            "Epoch 18/20\n",
            "1000/1000 [==============================] - 10s 10ms/step - loss: 0.0361 - val_loss: 0.0371\n",
            "Epoch 19/20\n",
            "1000/1000 [==============================] - 10s 10ms/step - loss: 0.0360 - val_loss: 0.0361\n",
            "Epoch 20/20\n",
            "1000/1000 [==============================] - 10s 10ms/step - loss: 0.0360 - val_loss: 0.0364\n"
          ]
        }
      ]
    }
  ]
}