{
  "nbformat": 4,
  "nbformat_minor": 0,
  "metadata": {
    "colab": {
      "name": "TEP_RNN.ipynb",
      "provenance": [],
      "collapsed_sections": []
    },
    "kernelspec": {
      "name": "python3",
      "display_name": "Python 3"
    },
    "language_info": {
      "name": "python"
    },
    "accelerator": "TPU"
  },
  "cells": [
    {
      "cell_type": "markdown",
      "metadata": {
        "id": "z0laBdydQo_r"
      },
      "source": [
        "# SETUP"
      ]
    },
    {
      "cell_type": "code",
      "metadata": {
        "colab": {
          "base_uri": "https://localhost:8080/"
        },
        "id": "FSqWdN-p6mdR",
        "outputId": "79a56d04-fb35-4d7d-93b5-607f6a103e8c"
      },
      "source": [
        "from google.colab import drive\n",
        "drive.mount('/content/drive')"
      ],
      "execution_count": 1,
      "outputs": [
        {
          "output_type": "stream",
          "name": "stdout",
          "text": [
            "Drive already mounted at /content/drive; to attempt to forcibly remount, call drive.mount(\"/content/drive\", force_remount=True).\n"
          ]
        }
      ]
    },
    {
      "cell_type": "code",
      "metadata": {
        "colab": {
          "base_uri": "https://localhost:8080/"
        },
        "id": "N0Go5LlWR96A",
        "outputId": "2b1d86f8-a1db-407a-dac0-584a709bb880"
      },
      "source": [
        " !pip install pyreadr"
      ],
      "execution_count": 2,
      "outputs": [
        {
          "output_type": "stream",
          "name": "stdout",
          "text": [
            "Requirement already satisfied: pyreadr in /usr/local/lib/python3.7/dist-packages (0.4.2)\n",
            "Requirement already satisfied: pandas>0.24.0 in /usr/local/lib/python3.7/dist-packages (from pyreadr) (1.1.5)\n",
            "Requirement already satisfied: pytz>=2017.2 in /usr/local/lib/python3.7/dist-packages (from pandas>0.24.0->pyreadr) (2018.9)\n",
            "Requirement already satisfied: numpy>=1.15.4 in /usr/local/lib/python3.7/dist-packages (from pandas>0.24.0->pyreadr) (1.19.5)\n",
            "Requirement already satisfied: python-dateutil>=2.7.3 in /usr/local/lib/python3.7/dist-packages (from pandas>0.24.0->pyreadr) (2.8.2)\n",
            "Requirement already satisfied: six>=1.5 in /usr/local/lib/python3.7/dist-packages (from python-dateutil>=2.7.3->pandas>0.24.0->pyreadr) (1.15.0)\n"
          ]
        }
      ]
    },
    {
      "cell_type": "code",
      "metadata": {
        "id": "088mMzSVOq0_"
      },
      "source": [
        "import pandas as pd \n",
        "import pyreadr as py \n",
        "import numpy as np \n",
        "import tensorflow as tf\n",
        "import gc \n",
        "import tensorflow as tf \n",
        "import tensorflow_datasets as tfds\n",
        "import tensorflow_probability as tfp\n",
        "from tqdm.notebook import tqdm\n",
        "from sklearn.model_selection import train_test_split, KFold\n",
        "from sklearn import preprocessing\n",
        "tfk = tf.keras\n",
        "tfkl = tf.keras.layers\n",
        "tfpl = tfp.layers\n",
        "tfd = tfp.distributions\n",
        "\n",
        "\n",
        "gc.collect() \n",
        "\n",
        "pd.options.mode.chained_assignment = None"
      ],
      "execution_count": 3,
      "outputs": []
    },
    {
      "cell_type": "code",
      "metadata": {
        "colab": {
          "base_uri": "https://localhost:8080/"
        },
        "id": "-i1wEAxZQmXo",
        "outputId": "b3bcecbf-6587-4477-faa8-49db234a3be1"
      },
      "source": [
        "import os\n",
        "assert 'COLAB_TPU_ADDR' in os.environ, 'ERROR: Not connected to a TPU runtime; please see the first cell in this notebook for instructions!'\n",
        "TPU_ADDRESS = 'grpc://' + os.environ['COLAB_TPU_ADDR']\n",
        "print('TPU address is', TPU_ADDRESS)\n",
        "\n",
        "import tensorflow as tf\n",
        "# Detect hardware, return appropriate distribution strategy\n",
        "try:\n",
        "    # TPU detection. No parameters necessary if TPU_NAME environment variable is\n",
        "    # set: this is always the case on Kaggle.\n",
        "    tpu = tf.distribute.cluster_resolver.TPUClusterResolver()\n",
        "    print('Running on TPU ', tpu.master())\n",
        "except ValueError:\n",
        "    tpu = None\n",
        "\n",
        "if tpu:\n",
        "    tf.config.experimental_connect_to_cluster(tpu)\n",
        "    tf.tpu.experimental.initialize_tpu_system(tpu)\n",
        "    strategy = tf.distribute.experimental.TPUStrategy(tpu)\n",
        "else:\n",
        "    # Default distribution strategy in Tensorflow. Works on CPU and single GPU.\n",
        "    strategy = tf.distribute.get_strategy()\n",
        "\n",
        "print(\"REPLICAS: \", strategy.num_replicas_in_sync)"
      ],
      "execution_count": 4,
      "outputs": [
        {
          "output_type": "stream",
          "name": "stdout",
          "text": [
            "TPU address is grpc://10.44.121.226:8470\n",
            "Running on TPU  grpc://10.44.121.226:8470\n",
            "INFO:tensorflow:Clearing out eager caches\n"
          ]
        },
        {
          "output_type": "stream",
          "name": "stderr",
          "text": [
            "INFO:tensorflow:Clearing out eager caches\n"
          ]
        },
        {
          "output_type": "stream",
          "name": "stdout",
          "text": [
            "INFO:tensorflow:Initializing the TPU system: grpc://10.44.121.226:8470\n"
          ]
        },
        {
          "output_type": "stream",
          "name": "stderr",
          "text": [
            "INFO:tensorflow:Initializing the TPU system: grpc://10.44.121.226:8470\n"
          ]
        },
        {
          "output_type": "stream",
          "name": "stdout",
          "text": [
            "INFO:tensorflow:Finished initializing TPU system.\n"
          ]
        },
        {
          "output_type": "stream",
          "name": "stderr",
          "text": [
            "INFO:tensorflow:Finished initializing TPU system.\n",
            "WARNING:absl:`tf.distribute.experimental.TPUStrategy` is deprecated, please use  the non experimental symbol `tf.distribute.TPUStrategy` instead.\n"
          ]
        },
        {
          "output_type": "stream",
          "name": "stdout",
          "text": [
            "INFO:tensorflow:Found TPU system:\n"
          ]
        },
        {
          "output_type": "stream",
          "name": "stderr",
          "text": [
            "INFO:tensorflow:Found TPU system:\n"
          ]
        },
        {
          "output_type": "stream",
          "name": "stdout",
          "text": [
            "INFO:tensorflow:*** Num TPU Cores: 8\n"
          ]
        },
        {
          "output_type": "stream",
          "name": "stderr",
          "text": [
            "INFO:tensorflow:*** Num TPU Cores: 8\n"
          ]
        },
        {
          "output_type": "stream",
          "name": "stdout",
          "text": [
            "INFO:tensorflow:*** Num TPU Workers: 1\n"
          ]
        },
        {
          "output_type": "stream",
          "name": "stderr",
          "text": [
            "INFO:tensorflow:*** Num TPU Workers: 1\n"
          ]
        },
        {
          "output_type": "stream",
          "name": "stdout",
          "text": [
            "INFO:tensorflow:*** Num TPU Cores Per Worker: 8\n"
          ]
        },
        {
          "output_type": "stream",
          "name": "stderr",
          "text": [
            "INFO:tensorflow:*** Num TPU Cores Per Worker: 8\n"
          ]
        },
        {
          "output_type": "stream",
          "name": "stdout",
          "text": [
            "INFO:tensorflow:*** Available Device: _DeviceAttributes(/job:localhost/replica:0/task:0/device:CPU:0, CPU, 0, 0)\n"
          ]
        },
        {
          "output_type": "stream",
          "name": "stderr",
          "text": [
            "INFO:tensorflow:*** Available Device: _DeviceAttributes(/job:localhost/replica:0/task:0/device:CPU:0, CPU, 0, 0)\n"
          ]
        },
        {
          "output_type": "stream",
          "name": "stdout",
          "text": [
            "INFO:tensorflow:*** Available Device: _DeviceAttributes(/job:worker/replica:0/task:0/device:CPU:0, CPU, 0, 0)\n"
          ]
        },
        {
          "output_type": "stream",
          "name": "stderr",
          "text": [
            "INFO:tensorflow:*** Available Device: _DeviceAttributes(/job:worker/replica:0/task:0/device:CPU:0, CPU, 0, 0)\n"
          ]
        },
        {
          "output_type": "stream",
          "name": "stdout",
          "text": [
            "INFO:tensorflow:*** Available Device: _DeviceAttributes(/job:worker/replica:0/task:0/device:TPU:0, TPU, 0, 0)\n"
          ]
        },
        {
          "output_type": "stream",
          "name": "stderr",
          "text": [
            "INFO:tensorflow:*** Available Device: _DeviceAttributes(/job:worker/replica:0/task:0/device:TPU:0, TPU, 0, 0)\n"
          ]
        },
        {
          "output_type": "stream",
          "name": "stdout",
          "text": [
            "INFO:tensorflow:*** Available Device: _DeviceAttributes(/job:worker/replica:0/task:0/device:TPU:1, TPU, 0, 0)\n"
          ]
        },
        {
          "output_type": "stream",
          "name": "stderr",
          "text": [
            "INFO:tensorflow:*** Available Device: _DeviceAttributes(/job:worker/replica:0/task:0/device:TPU:1, TPU, 0, 0)\n"
          ]
        },
        {
          "output_type": "stream",
          "name": "stdout",
          "text": [
            "INFO:tensorflow:*** Available Device: _DeviceAttributes(/job:worker/replica:0/task:0/device:TPU:2, TPU, 0, 0)\n"
          ]
        },
        {
          "output_type": "stream",
          "name": "stderr",
          "text": [
            "INFO:tensorflow:*** Available Device: _DeviceAttributes(/job:worker/replica:0/task:0/device:TPU:2, TPU, 0, 0)\n"
          ]
        },
        {
          "output_type": "stream",
          "name": "stdout",
          "text": [
            "INFO:tensorflow:*** Available Device: _DeviceAttributes(/job:worker/replica:0/task:0/device:TPU:3, TPU, 0, 0)\n"
          ]
        },
        {
          "output_type": "stream",
          "name": "stderr",
          "text": [
            "INFO:tensorflow:*** Available Device: _DeviceAttributes(/job:worker/replica:0/task:0/device:TPU:3, TPU, 0, 0)\n"
          ]
        },
        {
          "output_type": "stream",
          "name": "stdout",
          "text": [
            "INFO:tensorflow:*** Available Device: _DeviceAttributes(/job:worker/replica:0/task:0/device:TPU:4, TPU, 0, 0)\n"
          ]
        },
        {
          "output_type": "stream",
          "name": "stderr",
          "text": [
            "INFO:tensorflow:*** Available Device: _DeviceAttributes(/job:worker/replica:0/task:0/device:TPU:4, TPU, 0, 0)\n"
          ]
        },
        {
          "output_type": "stream",
          "name": "stdout",
          "text": [
            "INFO:tensorflow:*** Available Device: _DeviceAttributes(/job:worker/replica:0/task:0/device:TPU:5, TPU, 0, 0)\n"
          ]
        },
        {
          "output_type": "stream",
          "name": "stderr",
          "text": [
            "INFO:tensorflow:*** Available Device: _DeviceAttributes(/job:worker/replica:0/task:0/device:TPU:5, TPU, 0, 0)\n"
          ]
        },
        {
          "output_type": "stream",
          "name": "stdout",
          "text": [
            "INFO:tensorflow:*** Available Device: _DeviceAttributes(/job:worker/replica:0/task:0/device:TPU:6, TPU, 0, 0)\n"
          ]
        },
        {
          "output_type": "stream",
          "name": "stderr",
          "text": [
            "INFO:tensorflow:*** Available Device: _DeviceAttributes(/job:worker/replica:0/task:0/device:TPU:6, TPU, 0, 0)\n"
          ]
        },
        {
          "output_type": "stream",
          "name": "stdout",
          "text": [
            "INFO:tensorflow:*** Available Device: _DeviceAttributes(/job:worker/replica:0/task:0/device:TPU:7, TPU, 0, 0)\n"
          ]
        },
        {
          "output_type": "stream",
          "name": "stderr",
          "text": [
            "INFO:tensorflow:*** Available Device: _DeviceAttributes(/job:worker/replica:0/task:0/device:TPU:7, TPU, 0, 0)\n"
          ]
        },
        {
          "output_type": "stream",
          "name": "stdout",
          "text": [
            "INFO:tensorflow:*** Available Device: _DeviceAttributes(/job:worker/replica:0/task:0/device:TPU_SYSTEM:0, TPU_SYSTEM, 0, 0)\n"
          ]
        },
        {
          "output_type": "stream",
          "name": "stderr",
          "text": [
            "INFO:tensorflow:*** Available Device: _DeviceAttributes(/job:worker/replica:0/task:0/device:TPU_SYSTEM:0, TPU_SYSTEM, 0, 0)\n"
          ]
        },
        {
          "output_type": "stream",
          "name": "stdout",
          "text": [
            "INFO:tensorflow:*** Available Device: _DeviceAttributes(/job:worker/replica:0/task:0/device:XLA_CPU:0, XLA_CPU, 0, 0)\n"
          ]
        },
        {
          "output_type": "stream",
          "name": "stderr",
          "text": [
            "INFO:tensorflow:*** Available Device: _DeviceAttributes(/job:worker/replica:0/task:0/device:XLA_CPU:0, XLA_CPU, 0, 0)\n"
          ]
        },
        {
          "output_type": "stream",
          "name": "stdout",
          "text": [
            "REPLICAS:  8\n"
          ]
        }
      ]
    },
    {
      "cell_type": "markdown",
      "metadata": {
        "id": "v6qUuTklSyZq"
      },
      "source": [
        "# HYPER"
      ]
    },
    {
      "cell_type": "code",
      "metadata": {
        "id": "oQ2J7rVBS0sJ"
      },
      "source": [
        "BASE_SEQ_LEN = 500\n",
        "NUM_VAR = 52\n",
        "INPUT_SEQ_LEN = 32 \n",
        "OUTPUT_SEQ_LEN = 1 \n",
        "BATCH_SIZE = 128"
      ],
      "execution_count": 5,
      "outputs": []
    },
    {
      "cell_type": "markdown",
      "metadata": {
        "id": "xxSWs-yuQt3o"
      },
      "source": [
        "# READ DATA"
      ]
    },
    {
      "cell_type": "code",
      "metadata": {
        "id": "Y95pBl8_R_fh"
      },
      "source": [
        "a1 = py.read_r(\"drive/MyDrive/TEP_dataset/TEP_FaultFree_Training.RData\")\n",
        "fault_free_training = a1['fault_free_training']\n",
        "a1 = None \n",
        "a2 = py.read_r(\"drive/MyDrive/TEP_dataset/TEP_Faulty_Training.RData\")\n",
        "faulty_training = a2['faulty_training']\n",
        "a2 = None\n",
        "a3 = py.read_r(\"drive/MyDrive/TEP_dataset/TEP_FaultFree_Testing.RData\")\n",
        "fault_free_testing = a3['fault_free_testing']\n",
        "a3 = None \n",
        "a4 = py.read_r(\"drive/MyDrive/TEP_dataset/TEP_Faulty_Testing.RData\")\n",
        "faulty_testing = a4['faulty_testing']\n",
        "a4 = None "
      ],
      "execution_count": 6,
      "outputs": []
    },
    {
      "cell_type": "code",
      "metadata": {
        "colab": {
          "base_uri": "https://localhost:8080/"
        },
        "id": "J4HuxdOdQLVy",
        "outputId": "be7e57d1-9d05-4e02-ef32-773256c8732e"
      },
      "source": [
        "gc.collect()"
      ],
      "execution_count": 7,
      "outputs": [
        {
          "output_type": "execute_result",
          "data": {
            "text/plain": [
              "50"
            ]
          },
          "metadata": {},
          "execution_count": 7
        }
      ]
    },
    {
      "cell_type": "code",
      "metadata": {
        "id": "dL5aYpYvMkW4"
      },
      "source": [
        "for col in fault_free_training.columns: \n",
        "    fault_free_training.loc[: , col] = fault_free_training.loc[: , col].astype('float32')\n",
        "\n",
        "for col in faulty_training.columns: \n",
        "    faulty_training.loc[: , col] = faulty_training.loc[: , col].astype('float32')\n",
        "\n",
        "for col in fault_free_testing.columns: \n",
        "    fault_free_testing.loc[: , col] = fault_free_testing.loc[: , col].astype('float32')\n",
        "\n",
        "for col in faulty_testing.columns: \n",
        "    faulty_testing.loc[: , col] = faulty_testing.loc[: , col].astype('float32')\n"
      ],
      "execution_count": 8,
      "outputs": []
    },
    {
      "cell_type": "code",
      "metadata": {
        "id": "bYI3wuYOUgDa"
      },
      "source": [
        "def df_to_np_array(df = fault_free_training): \n",
        "    examples = [] \n",
        "    for i in df.simulationRun.unique():\n",
        "        examples.append(df[df.simulationRun == i].iloc[:, 3:].values)\n",
        "    \n",
        "    return np.stack(examples)\n",
        "\n",
        "\n",
        "def get_slice_random_segment(length):\n",
        "    def slice_random_segment(x):\n",
        "        start = tf.random.uniform(shape=[], minval=0, maxval= BASE_SEQ_LEN-length, dtype=tf.int64)\n",
        "        x = x[start:start+length]\n",
        "        x = tf.reshape(x, (length, NUM_VAR))\n",
        "        return x \n",
        "    return slice_random_segment\n",
        "\n",
        "def get_split_xy(y_length): \n",
        "    def split_xy(x):\n",
        "        y = x[-y_length:]\n",
        "        return x[:-y_length], y \n",
        "    return split_xy\n",
        "\n",
        "def get_dataset(train_data, shuffle = False, repeat = False): \n",
        "    train_data = df_to_np_array(train_data)\n",
        "    ds = tf.data.Dataset.from_tensor_slices(train_data)\n",
        "    ds = ds.map(get_slice_random_segment(length = INPUT_SEQ_LEN + OUTPUT_SEQ_LEN))\n",
        "    ds = ds.map(get_split_xy(y_length=OUTPUT_SEQ_LEN))\n",
        "\n",
        "    ds = ds.shuffle(512) if shuffle else ds \n",
        "    ds = ds.repeat() if repeat else ds.repeat(2)\n",
        "    ds = ds.batch(BATCH_SIZE, drop_remainder=True)\n",
        "\n",
        "    return ds \n",
        "\n",
        "\n",
        "def get_detection_xy(df , simrun):\n",
        "\n",
        "    scaler = preprocessing.StandardScaler()\n",
        "    scaler.fit(df[df.simulationRun == simrun].iloc[:500, 3:])    \n",
        "    scaled = scaler.transform(df[df.simulationRun == simrun].iloc[:500, 3:])\n",
        "\n",
        "    x = []\n",
        "    y = []\n",
        "\n",
        "    for i in range(BASE_SEQ_LEN - INPUT_SEQ_LEN - OUTPUT_SEQ_LEN):\n",
        "        x.append(scaled[i:i+ INPUT_SEQ_LEN])\n",
        "        y.append(scaled[i+INPUT_SEQ_LEN: i + INPUT_SEQ_LEN + OUTPUT_SEQ_LEN])\n",
        "\n",
        "    x = np.stack(x)\n",
        "    y = np.stack(y)\n",
        "\n",
        "    return x,y \n",
        "    \n",
        "def get_mse(df, simrun, model):\n",
        "\n",
        "    x, y = get_detection_xy(df, simrun) \n",
        "    y_pred_1 = model.predict(x, verbose = True)\n",
        "    mse_1 = tfk.losses.MSE(y, y_pred_1).numpy()\n",
        "    return mse_1.flatten()\n",
        "\n",
        "\n",
        "\n",
        "\n"
      ],
      "execution_count": 10,
      "outputs": []
    },
    {
      "cell_type": "markdown",
      "metadata": {
        "id": "vpoMG2kTVwkk"
      },
      "source": [
        "# MODEL"
      ]
    },
    {
      "cell_type": "code",
      "metadata": {
        "id": "17mCyV75Vxnj"
      },
      "source": [
        "def get_model():\n",
        "\n",
        "    with strategy.scope(): \n",
        "        model = tf.keras.Sequential([\n",
        "                                tf.keras.Input(shape  = (INPUT_SEQ_LEN, NUM_VAR)),\n",
        "                                tfkl.LSTM(64, return_sequences=True), \n",
        "                                tfkl.LSTM(64, return_sequences=False),\n",
        "                                tfkl.RepeatVector(OUTPUT_SEQ_LEN), \n",
        "                                tfkl.LSTM(64, return_sequences=True),\n",
        "                                tfkl.Dense(NUM_VAR, activation = 'relu')\n",
        "\n",
        "        ])\n",
        "\n",
        "        model.compile(optimizer = tfk.optimizers.Adam(learning_rate=1e-4), loss = tfk.losses.MeanSquaredError() )\n",
        "\n",
        "        model.summary()\n",
        "\n",
        "    return model "
      ],
      "execution_count": 11,
      "outputs": []
    },
    {
      "cell_type": "code",
      "metadata": {
        "id": "0PwpZfX_QNq0",
        "colab": {
          "base_uri": "https://localhost:8080/"
        },
        "outputId": "507f3460-3fd5-464d-b241-28b1147d9b40"
      },
      "source": [
        "model = get_model()"
      ],
      "execution_count": 12,
      "outputs": [
        {
          "output_type": "stream",
          "name": "stdout",
          "text": [
            "Model: \"sequential\"\n",
            "_________________________________________________________________\n",
            "Layer (type)                 Output Shape              Param #   \n",
            "=================================================================\n",
            "lstm (LSTM)                  (None, 32, 64)            29952     \n",
            "_________________________________________________________________\n",
            "lstm_1 (LSTM)                (None, 64)                33024     \n",
            "_________________________________________________________________\n",
            "repeat_vector (RepeatVector) (None, 1, 64)             0         \n",
            "_________________________________________________________________\n",
            "lstm_2 (LSTM)                (None, 1, 64)             33024     \n",
            "_________________________________________________________________\n",
            "dense (Dense)                (None, 1, 52)             3380      \n",
            "=================================================================\n",
            "Total params: 99,380\n",
            "Trainable params: 99,380\n",
            "Non-trainable params: 0\n",
            "_________________________________________________________________\n"
          ]
        }
      ]
    },
    {
      "cell_type": "code",
      "metadata": {
        "colab": {
          "base_uri": "https://localhost:8080/",
          "height": 320
        },
        "id": "07UV9KE1DSkt",
        "outputId": "bee0313e-6777-4b5f-9286-aaf0d67326ce"
      },
      "source": [
        "mse_1 = get_mse(fault_free_testing, 1, model)\n",
        "mse_2 = get_mse(faulty_testing, 1, model)\n",
        "\n",
        "pd.DataFrame({'normal' : mse_1, 'with_fault' : mse_2}).plot(ylim = (0.0, 5.0))"
      ],
      "execution_count": 13,
      "outputs": [
        {
          "output_type": "stream",
          "name": "stdout",
          "text": [
            "15/15 [==============================] - 4s 128ms/step\n",
            "15/15 [==============================] - 1s 6ms/step\n"
          ]
        },
        {
          "output_type": "execute_result",
          "data": {
            "text/plain": [
              "<matplotlib.axes._subplots.AxesSubplot at 0x7fec37cd9350>"
            ]
          },
          "metadata": {},
          "execution_count": 13
        },
        {
          "output_type": "display_data",
          "data": {
            "image/png": "[encoded data removed]",
            "text/plain": [
              "<Figure size 432x288 with 1 Axes>"
            ]
          },
          "metadata": {
            "needs_background": "light"
          }
        }
      ]
    },
    {
      "cell_type": "code",
      "metadata": {
        "colab": {
          "base_uri": "https://localhost:8080/"
        },
        "id": "8ZxKBQhqO6eO",
        "outputId": "bb64645e-b1eb-46c7-bc10-789f8a949b38"
      },
      "source": [
        "for train_split, val_split in KFold().split([i+1 for i in range(500)]):\n",
        "    train_df = fault_free_training[fault_free_training.simulationRun.isin(train_split)]\n",
        "    val_df = fault_free_training[fault_free_training.simulationRun.isin(val_split)]\n",
        "\n",
        "\n",
        "    scaler = preprocessing.MinMaxScaler()\n",
        "    scaler.fit(train_df.iloc[:, 3:].values)\n",
        "\n",
        "    train_df.iloc[:, 3:] = scaler.transform(train_df.iloc[:, 3:].values)\n",
        "    val_df.iloc[:, 3:] = scaler.transform(val_df.iloc[:, 3:].values)\n",
        "\n",
        "    train_ds = get_dataset(train_df, shuffle = True, repeat=True)\n",
        "    val_ds = get_dataset(val_df)\n",
        "\n",
        "\n",
        "    model = get_model() \n",
        "\n",
        "\n",
        "    model.fit(\n",
        "        train_ds, \n",
        "        epochs = 20,\n",
        "        steps_per_epoch = 1000,\n",
        "        validation_data= val_ds,\n",
        "        \n",
        "    )\n",
        "\n",
        "    break\n"
      ],
      "execution_count": 14,
      "outputs": [
        {
          "output_type": "stream",
          "name": "stdout",
          "text": [
            "Model: \"sequential_1\"\n",
            "_________________________________________________________________\n",
            "Layer (type)                 Output Shape              Param #   \n",
            "=================================================================\n",
            "lstm_3 (LSTM)                (None, 32, 64)            29952     \n",
            "_________________________________________________________________\n",
            "lstm_4 (LSTM)                (None, 64)                33024     \n",
            "_________________________________________________________________\n",
            "repeat_vector_1 (RepeatVecto (None, 1, 64)             0         \n",
            "_________________________________________________________________\n",
            "lstm_5 (LSTM)                (None, 1, 64)             33024     \n",
            "_________________________________________________________________\n",
            "dense_1 (Dense)              (None, 1, 52)             3380      \n",
            "=================================================================\n",
            "Total params: 99,380\n",
            "Trainable params: 99,380\n",
            "Non-trainable params: 0\n",
            "_________________________________________________________________\n",
            "Epoch 1/20\n",
            "1000/1000 [==============================] - 19s 12ms/step - loss: 0.0925 - val_loss: 0.0824\n",
            "Epoch 2/20\n",
            "1000/1000 [==============================] - 10s 10ms/step - loss: 0.0623 - val_loss: 0.0446\n",
            "Epoch 3/20\n",
            "1000/1000 [==============================] - 10s 10ms/step - loss: 0.0449 - val_loss: 0.0451\n",
            "Epoch 4/20\n",
            "1000/1000 [==============================] - 10s 10ms/step - loss: 0.0447 - val_loss: 0.0454\n",
            "Epoch 5/20\n",
            "1000/1000 [==============================] - 10s 10ms/step - loss: 0.0445 - val_loss: 0.0442\n",
            "Epoch 6/20\n",
            "1000/1000 [==============================] - 10s 10ms/step - loss: 0.0444 - val_loss: 0.0448\n",
            "Epoch 7/20\n",
            "1000/1000 [==============================] - 10s 10ms/step - loss: 0.0442 - val_loss: 0.0436\n",
            "Epoch 8/20\n",
            "1000/1000 [==============================] - 10s 10ms/step - loss: 0.0440 - val_loss: 0.0437\n",
            "Epoch 9/20\n",
            "1000/1000 [==============================] - 10s 10ms/step - loss: 0.0437 - val_loss: 0.0434\n",
            "Epoch 10/20\n",
            "1000/1000 [==============================] - 10s 10ms/step - loss: 0.0434 - val_loss: 0.0430\n",
            "Epoch 11/20\n",
            "1000/1000 [==============================] - 10s 10ms/step - loss: 0.0390 - val_loss: 0.0394\n",
            "Epoch 12/20\n",
            "1000/1000 [==============================] - 10s 10ms/step - loss: 0.0383 - val_loss: 0.0390\n",
            "Epoch 13/20\n",
            "1000/1000 [==============================] - 10s 10ms/step - loss: 0.0382 - val_loss: 0.0390\n",
            "Epoch 14/20\n",
            "1000/1000 [==============================] - 10s 10ms/step - loss: 0.0367 - val_loss: 0.0332\n",
            "Epoch 15/20\n",
            "1000/1000 [==============================] - 10s 10ms/step - loss: 0.0329 - val_loss: 0.0321\n",
            "Epoch 16/20\n",
            "1000/1000 [==============================] - 10s 10ms/step - loss: 0.0327 - val_loss: 0.0338\n",
            "Epoch 17/20\n",
            "1000/1000 [==============================] - 10s 10ms/step - loss: 0.0326 - val_loss: 0.0317\n",
            "Epoch 18/20\n",
            "1000/1000 [==============================] - 10s 10ms/step - loss: 0.0325 - val_loss: 0.0334\n",
            "Epoch 19/20\n",
            "1000/1000 [==============================] - 10s 10ms/step - loss: 0.0325 - val_loss: 0.0322\n",
            "Epoch 20/20\n",
            "1000/1000 [==============================] - 10s 10ms/step - loss: 0.0324 - val_loss: 0.0326\n"
          ]
        }
      ]
    }
  ]
}