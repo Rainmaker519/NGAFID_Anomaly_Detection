{
  "nbformat": 4,
  "nbformat_minor": 0,
  "metadata": {
    "colab": {
      "name": "TEP_Benchmark_on_CNN_RNN.ipynb",
      "provenance": [],
      "collapsed_sections": []
    },
    "kernelspec": {
      "name": "python3",
      "display_name": "Python 3"
    },
    "language_info": {
      "name": "python"
    },
    "accelerator": "TPU"
  },
  "cells": [
    {
      "cell_type": "markdown",
      "metadata": {
        "id": "z0laBdydQo_r"
      },
      "source": [
        "# SETUP"
      ]
    },
    {
      "cell_type": "code",
      "metadata": {
        "colab": {
          "base_uri": "https://localhost:8080/"
        },
        "id": "FSqWdN-p6mdR",
        "outputId": "e6cd0184-bcb2-4434-e008-465d206e67bc"
      },
      "source": [
        "#link to the google drive.\n",
        "from google.colab import drive\n",
        "drive.mount('/content/drive')"
      ],
      "execution_count": 2,
      "outputs": [
        {
          "output_type": "stream",
          "name": "stdout",
          "text": [
            "Drive already mounted at /content/drive; to attempt to forcibly remount, call drive.mount(\"/content/drive\", force_remount=True).\n"
          ]
        }
      ]
    },
    {
      "cell_type": "code",
      "metadata": {
        "colab": {
          "base_uri": "https://localhost:8080/"
        },
        "id": "N0Go5LlWR96A",
        "outputId": "e9bb453e-6724-4b85-fac1-dd38f908124e"
      },
      "source": [
        " #Check the package pyreadr.\n",
        " !pip install pyreadr"
      ],
      "execution_count": 1,
      "outputs": [
        {
          "output_type": "stream",
          "name": "stdout",
          "text": [
            "Requirement already satisfied: pyreadr in /usr/local/lib/python3.7/dist-packages (0.4.2)\n",
            "Requirement already satisfied: pandas>0.24.0 in /usr/local/lib/python3.7/dist-packages (from pyreadr) (1.1.5)\n",
            "Requirement already satisfied: numpy>=1.15.4 in /usr/local/lib/python3.7/dist-packages (from pandas>0.24.0->pyreadr) (1.19.5)\n",
            "Requirement already satisfied: python-dateutil>=2.7.3 in /usr/local/lib/python3.7/dist-packages (from pandas>0.24.0->pyreadr) (2.8.2)\n",
            "Requirement already satisfied: pytz>=2017.2 in /usr/local/lib/python3.7/dist-packages (from pandas>0.24.0->pyreadr) (2018.9)\n",
            "Requirement already satisfied: six>=1.5 in /usr/local/lib/python3.7/dist-packages (from python-dateutil>=2.7.3->pandas>0.24.0->pyreadr) (1.15.0)\n"
          ]
        }
      ]
    },
    {
      "cell_type": "code",
      "metadata": {
        "id": "088mMzSVOq0_"
      },
      "source": [
        "import pandas as pd \n",
        "import pyreadr as py \n",
        "import numpy as np \n",
        "import tensorflow as tf\n",
        "import gc \n",
        "import tensorflow_datasets as tfds\n",
        "import tensorflow_probability as tfp\n",
        "from tqdm.notebook import tqdm\n",
        "from sklearn.model_selection import train_test_split, KFold\n",
        "from sklearn import preprocessing\n",
        "import matplotlib as plt\n",
        "from google.colab import files\n",
        "import seaborn as sns\n",
        "tfk = tf.keras\n",
        "tfkl = tf.keras.layers\n",
        "tfpl = tfp.layers\n",
        "tfd = tfp.distributions\n",
        "\n",
        "\n",
        "gc.collect() \n",
        "\n",
        "pd.options.mode.chained_assignment = None"
      ],
      "execution_count": 3,
      "outputs": []
    },
    {
      "cell_type": "code",
      "metadata": {
        "colab": {
          "base_uri": "https://localhost:8080/"
        },
        "id": "-i1wEAxZQmXo",
        "outputId": "7207cb60-3b77-447d-bd91-ae7e285de4d9"
      },
      "source": [
        "#TPU\n",
        "\n",
        "import os\n",
        "assert 'COLAB_TPU_ADDR' in os.environ, 'ERROR: Not connected to a TPU runtime; please see the first cell in this notebook for instructions!'\n",
        "TPU_ADDRESS = 'grpc://' + os.environ['COLAB_TPU_ADDR']\n",
        "print('TPU address is', TPU_ADDRESS)\n",
        "\n",
        "# Detect hardware, return appropriate distribution strategy\n",
        "try:\n",
        "    # TPU detection. No parameters necessary if TPU_NAME environment variable is\n",
        "    # set: this is always the case on Kaggle.\n",
        "    tpu = tf.distribute.cluster_resolver.TPUClusterResolver()\n",
        "    print('Running on TPU ', tpu.master())\n",
        "except ValueError:\n",
        "    tpu = None\n",
        "\n",
        "if tpu:\n",
        "    tf.config.experimental_connect_to_cluster(tpu)\n",
        "    tf.tpu.experimental.initialize_tpu_system(tpu)\n",
        "    strategy = tf.distribute.experimental.TPUStrategy(tpu)\n",
        "else:\n",
        "    # Default distribution strategy in Tensorflow. Works on CPU and single GPU.\n",
        "    strategy = tf.distribute.get_strategy()\n",
        "\n",
        "print(\"REPLICAS: \", strategy.num_replicas_in_sync)"
      ],
      "execution_count": 4,
      "outputs": [
        {
          "output_type": "stream",
          "name": "stdout",
          "text": [
            "TPU address is grpc://10.72.147.90:8470\n",
            "Running on TPU  grpc://10.72.147.90:8470\n",
            "INFO:tensorflow:Deallocate tpu buffers before initializing tpu system.\n"
          ]
        },
        {
          "output_type": "stream",
          "name": "stderr",
          "text": [
            "INFO:tensorflow:Deallocate tpu buffers before initializing tpu system.\n"
          ]
        },
        {
          "output_type": "stream",
          "name": "stdout",
          "text": [
            "INFO:tensorflow:Initializing the TPU system: grpc://10.72.147.90:8470\n"
          ]
        },
        {
          "output_type": "stream",
          "name": "stderr",
          "text": [
            "INFO:tensorflow:Initializing the TPU system: grpc://10.72.147.90:8470\n"
          ]
        },
        {
          "output_type": "stream",
          "name": "stdout",
          "text": [
            "INFO:tensorflow:Finished initializing TPU system.\n"
          ]
        },
        {
          "output_type": "stream",
          "name": "stderr",
          "text": [
            "INFO:tensorflow:Finished initializing TPU system.\n",
            "WARNING:absl:`tf.distribute.experimental.TPUStrategy` is deprecated, please use  the non experimental symbol `tf.distribute.TPUStrategy` instead.\n"
          ]
        },
        {
          "output_type": "stream",
          "name": "stdout",
          "text": [
            "INFO:tensorflow:Found TPU system:\n"
          ]
        },
        {
          "output_type": "stream",
          "name": "stderr",
          "text": [
            "INFO:tensorflow:Found TPU system:\n"
          ]
        },
        {
          "output_type": "stream",
          "name": "stdout",
          "text": [
            "INFO:tensorflow:*** Num TPU Cores: 8\n"
          ]
        },
        {
          "output_type": "stream",
          "name": "stderr",
          "text": [
            "INFO:tensorflow:*** Num TPU Cores: 8\n"
          ]
        },
        {
          "output_type": "stream",
          "name": "stdout",
          "text": [
            "INFO:tensorflow:*** Num TPU Workers: 1\n"
          ]
        },
        {
          "output_type": "stream",
          "name": "stderr",
          "text": [
            "INFO:tensorflow:*** Num TPU Workers: 1\n"
          ]
        },
        {
          "output_type": "stream",
          "name": "stdout",
          "text": [
            "INFO:tensorflow:*** Num TPU Cores Per Worker: 8\n"
          ]
        },
        {
          "output_type": "stream",
          "name": "stderr",
          "text": [
            "INFO:tensorflow:*** Num TPU Cores Per Worker: 8\n"
          ]
        },
        {
          "output_type": "stream",
          "name": "stdout",
          "text": [
            "INFO:tensorflow:*** Available Device: _DeviceAttributes(/job:localhost/replica:0/task:0/device:CPU:0, CPU, 0, 0)\n"
          ]
        },
        {
          "output_type": "stream",
          "name": "stderr",
          "text": [
            "INFO:tensorflow:*** Available Device: _DeviceAttributes(/job:localhost/replica:0/task:0/device:CPU:0, CPU, 0, 0)\n"
          ]
        },
        {
          "output_type": "stream",
          "name": "stdout",
          "text": [
            "INFO:tensorflow:*** Available Device: _DeviceAttributes(/job:worker/replica:0/task:0/device:CPU:0, CPU, 0, 0)\n"
          ]
        },
        {
          "output_type": "stream",
          "name": "stderr",
          "text": [
            "INFO:tensorflow:*** Available Device: _DeviceAttributes(/job:worker/replica:0/task:0/device:CPU:0, CPU, 0, 0)\n"
          ]
        },
        {
          "output_type": "stream",
          "name": "stdout",
          "text": [
            "INFO:tensorflow:*** Available Device: _DeviceAttributes(/job:worker/replica:0/task:0/device:TPU:0, TPU, 0, 0)\n"
          ]
        },
        {
          "output_type": "stream",
          "name": "stderr",
          "text": [
            "INFO:tensorflow:*** Available Device: _DeviceAttributes(/job:worker/replica:0/task:0/device:TPU:0, TPU, 0, 0)\n"
          ]
        },
        {
          "output_type": "stream",
          "name": "stdout",
          "text": [
            "INFO:tensorflow:*** Available Device: _DeviceAttributes(/job:worker/replica:0/task:0/device:TPU:1, TPU, 0, 0)\n"
          ]
        },
        {
          "output_type": "stream",
          "name": "stderr",
          "text": [
            "INFO:tensorflow:*** Available Device: _DeviceAttributes(/job:worker/replica:0/task:0/device:TPU:1, TPU, 0, 0)\n"
          ]
        },
        {
          "output_type": "stream",
          "name": "stdout",
          "text": [
            "INFO:tensorflow:*** Available Device: _DeviceAttributes(/job:worker/replica:0/task:0/device:TPU:2, TPU, 0, 0)\n"
          ]
        },
        {
          "output_type": "stream",
          "name": "stderr",
          "text": [
            "INFO:tensorflow:*** Available Device: _DeviceAttributes(/job:worker/replica:0/task:0/device:TPU:2, TPU, 0, 0)\n"
          ]
        },
        {
          "output_type": "stream",
          "name": "stdout",
          "text": [
            "INFO:tensorflow:*** Available Device: _DeviceAttributes(/job:worker/replica:0/task:0/device:TPU:3, TPU, 0, 0)\n"
          ]
        },
        {
          "output_type": "stream",
          "name": "stderr",
          "text": [
            "INFO:tensorflow:*** Available Device: _DeviceAttributes(/job:worker/replica:0/task:0/device:TPU:3, TPU, 0, 0)\n"
          ]
        },
        {
          "output_type": "stream",
          "name": "stdout",
          "text": [
            "INFO:tensorflow:*** Available Device: _DeviceAttributes(/job:worker/replica:0/task:0/device:TPU:4, TPU, 0, 0)\n"
          ]
        },
        {
          "output_type": "stream",
          "name": "stderr",
          "text": [
            "INFO:tensorflow:*** Available Device: _DeviceAttributes(/job:worker/replica:0/task:0/device:TPU:4, TPU, 0, 0)\n"
          ]
        },
        {
          "output_type": "stream",
          "name": "stdout",
          "text": [
            "INFO:tensorflow:*** Available Device: _DeviceAttributes(/job:worker/replica:0/task:0/device:TPU:5, TPU, 0, 0)\n"
          ]
        },
        {
          "output_type": "stream",
          "name": "stderr",
          "text": [
            "INFO:tensorflow:*** Available Device: _DeviceAttributes(/job:worker/replica:0/task:0/device:TPU:5, TPU, 0, 0)\n"
          ]
        },
        {
          "output_type": "stream",
          "name": "stdout",
          "text": [
            "INFO:tensorflow:*** Available Device: _DeviceAttributes(/job:worker/replica:0/task:0/device:TPU:6, TPU, 0, 0)\n"
          ]
        },
        {
          "output_type": "stream",
          "name": "stderr",
          "text": [
            "INFO:tensorflow:*** Available Device: _DeviceAttributes(/job:worker/replica:0/task:0/device:TPU:6, TPU, 0, 0)\n"
          ]
        },
        {
          "output_type": "stream",
          "name": "stdout",
          "text": [
            "INFO:tensorflow:*** Available Device: _DeviceAttributes(/job:worker/replica:0/task:0/device:TPU:7, TPU, 0, 0)\n"
          ]
        },
        {
          "output_type": "stream",
          "name": "stderr",
          "text": [
            "INFO:tensorflow:*** Available Device: _DeviceAttributes(/job:worker/replica:0/task:0/device:TPU:7, TPU, 0, 0)\n"
          ]
        },
        {
          "output_type": "stream",
          "name": "stdout",
          "text": [
            "INFO:tensorflow:*** Available Device: _DeviceAttributes(/job:worker/replica:0/task:0/device:TPU_SYSTEM:0, TPU_SYSTEM, 0, 0)\n"
          ]
        },
        {
          "output_type": "stream",
          "name": "stderr",
          "text": [
            "INFO:tensorflow:*** Available Device: _DeviceAttributes(/job:worker/replica:0/task:0/device:TPU_SYSTEM:0, TPU_SYSTEM, 0, 0)\n"
          ]
        },
        {
          "output_type": "stream",
          "name": "stdout",
          "text": [
            "INFO:tensorflow:*** Available Device: _DeviceAttributes(/job:worker/replica:0/task:0/device:XLA_CPU:0, XLA_CPU, 0, 0)\n"
          ]
        },
        {
          "output_type": "stream",
          "name": "stderr",
          "text": [
            "INFO:tensorflow:*** Available Device: _DeviceAttributes(/job:worker/replica:0/task:0/device:XLA_CPU:0, XLA_CPU, 0, 0)\n"
          ]
        },
        {
          "output_type": "stream",
          "name": "stdout",
          "text": [
            "REPLICAS:  8\n"
          ]
        }
      ]
    },
    {
      "cell_type": "markdown",
      "metadata": {
        "id": "v6qUuTklSyZq"
      },
      "source": [
        "# HYPER"
      ]
    },
    {
      "cell_type": "code",
      "metadata": {
        "id": "oQ2J7rVBS0sJ"
      },
      "source": [
        "BASE_SEQ_LEN = 500\n",
        "NUM_VAR = 52\n",
        "INPUT_SEQ_LEN = 32 \n",
        "OUTPUT_SEQ_LEN = 1 \n",
        "BATCH_SIZE = 128"
      ],
      "execution_count": 5,
      "outputs": []
    },
    {
      "cell_type": "markdown",
      "metadata": {
        "id": "xxSWs-yuQt3o"
      },
      "source": [
        "# READ DATA"
      ]
    },
    {
      "cell_type": "code",
      "metadata": {
        "id": "Y95pBl8_R_fh"
      },
      "source": [
        "a1 = py.read_r(\"drive/MyDrive/TEP_dataset/TEP_FaultFree_Training.RData\")\n",
        "fault_free_training = a1['fault_free_training']\n",
        "a1 = None \n",
        "a2 = py.read_r(\"drive/MyDrive/TEP_dataset/TEP_Faulty_Training.RData\")\n",
        "faulty_training = a2['faulty_training']\n",
        "a2 = None\n",
        "a3 = py.read_r(\"drive/MyDrive/TEP_dataset/TEP_FaultFree_Testing.RData\")\n",
        "fault_free_testing = a3['fault_free_testing']\n",
        "a3 = None \n",
        "a4 = py.read_r(\"drive/MyDrive/TEP_dataset/TEP_Faulty_Testing.RData\")\n",
        "faulty_testing = a4['faulty_testing']\n",
        "a4 = None "
      ],
      "execution_count": 6,
      "outputs": []
    },
    {
      "cell_type": "code",
      "metadata": {
        "id": "J4HuxdOdQLVy",
        "colab": {
          "base_uri": "https://localhost:8080/"
        },
        "outputId": "af6e281e-6038-4ecb-c954-faaf6b334315"
      },
      "source": [
        "gc.collect()"
      ],
      "execution_count": 7,
      "outputs": [
        {
          "output_type": "execute_result",
          "data": {
            "text/plain": [
              "50"
            ]
          },
          "metadata": {},
          "execution_count": 7
        }
      ]
    },
    {
      "cell_type": "code",
      "metadata": {
        "id": "dL5aYpYvMkW4"
      },
      "source": [
        "for col in fault_free_training.columns: \n",
        "    fault_free_training.loc[: , col] = fault_free_training.loc[: , col].astype('float32')\n",
        "\n",
        "for col in faulty_training.columns: \n",
        "    faulty_training.loc[: , col] = faulty_training.loc[: , col].astype('float32')\n",
        "\n",
        "for col in fault_free_testing.columns: \n",
        "    fault_free_testing.loc[: , col] = fault_free_testing.loc[: , col].astype('float32')\n",
        "\n",
        "for col in faulty_testing.columns: \n",
        "    faulty_testing.loc[: , col] = faulty_testing.loc[: , col].astype('float32')\n"
      ],
      "execution_count": 8,
      "outputs": []
    },
    {
      "cell_type": "code",
      "metadata": {
        "id": "2BkqQupghw10",
        "colab": {
          "base_uri": "https://localhost:8080/"
        },
        "outputId": "58dba0c4-f181-4276-ee4d-38d099eb2b9c"
      },
      "source": [
        "gc.collect()"
      ],
      "execution_count": 9,
      "outputs": [
        {
          "output_type": "execute_result",
          "data": {
            "text/plain": [
              "50"
            ]
          },
          "metadata": {},
          "execution_count": 9
        }
      ]
    },
    {
      "cell_type": "code",
      "metadata": {
        "id": "bYI3wuYOUgDa"
      },
      "source": [
        "def df_to_np_array(df = fault_free_training): \n",
        "    \"\"\" This function will turn the dataframe to numpy array, only use for faulty free dataset\n",
        "    Parameter: dataframe\n",
        "    Return: Numpy array\n",
        "    \"\"\"\n",
        "    examples = []\n",
        "    for i in df.simulationRun.unique():\n",
        "        examples.append(df[df.simulationRun == i].iloc[:, 3:].values)\n",
        "    \n",
        "    return np.stack(examples)\n",
        "\n",
        "\n",
        "def get_slice_random_segment(length):\n",
        "    \"\"\"This function will acquire a length of slice from the dataset.\n",
        "    Parameter: length, length of the dataset\n",
        "    return: array\n",
        "    \"\"\"\n",
        "    def slice_random_segment(x):\n",
        "      \"\"\"This function will return the specific array\n",
        "      Parameter: x, dataset\n",
        "      return: array\n",
        "      \"\"\"\n",
        "      #minval = min numbers of data points, maxval = max numbers of data points\n",
        "      start = tf.random.uniform(shape=[], minval=0, maxval= BASE_SEQ_LEN-length, dtype=tf.int64)\n",
        "      x = x[start:start+length]\n",
        "      print(x)\n",
        "      #reshape will turn x into the shape of (length, NUM_VAR)\n",
        "      x = tf.reshape(x, (length, NUM_VAR))\n",
        "      print(x)\n",
        "      return x \n",
        "    return slice_random_segment\n",
        "\n",
        "def get_split_xy(y_length):\n",
        "  \"\"\"This will get two specific group of data points.\n",
        "  Parameter: y_length\n",
        "  return: x, y \n",
        "  \"\"\"\n",
        "  def split_xy(x):\n",
        "    \"\"\"\n",
        "    Parameter: dataset\n",
        "    \"\"\"\n",
        "    y = x[-y_length:]\n",
        "    return x[:-y_length], y \n",
        "  return split_xy\n",
        "\n",
        "def get_dataset(train_data, shuffle = False, repeat = False): \n",
        "    train_data = df_to_np_array(train_data)\n",
        "    ds = tf.data.Dataset.from_tensor_slices(train_data)\n",
        "    ds = ds.map(get_slice_random_segment(length = INPUT_SEQ_LEN + OUTPUT_SEQ_LEN))\n",
        "    ds = ds.map(get_split_xy(y_length=OUTPUT_SEQ_LEN))\n",
        "\n",
        "    #Changing the value of buffer_size affects how uniform the shuffling\n",
        "    ds = ds.shuffle(512) if shuffle else ds \n",
        "    ds = ds.repeat() if repeat else ds.repeat(2)\n",
        "    ds = ds.batch(BATCH_SIZE, drop_remainder=True)\n",
        "\n",
        "    return ds \n",
        "\n",
        "  \n",
        "def get_detection_xy(df , fault_number, simrun, scaler):\n",
        "    \"\"\"get the testing dataset\n",
        "    Parameter: dataset, fault_number(only for testing dataset), number of simulation run, the scaler you use in the training process\n",
        "    return: x:slice of dataset(testing), y:target value\n",
        "    \"\"\"\n",
        "    \n",
        "    scaled = scaler.transform(df[(df.faultNumber == fault_number) & (df.simulationRun == simrun)].iloc[:500, 3:])\n",
        "\n",
        "    x = []\n",
        "    y = []\n",
        "\n",
        "    for i in range(BASE_SEQ_LEN - INPUT_SEQ_LEN - OUTPUT_SEQ_LEN):\n",
        "        x.append(scaled[i:i+ INPUT_SEQ_LEN])\n",
        "        y.append(scaled[i+INPUT_SEQ_LEN: i + INPUT_SEQ_LEN + OUTPUT_SEQ_LEN])\n",
        "\n",
        "    x = np.stack(x)\n",
        "    y = np.stack(y)\n",
        "\n",
        "    return x,y \n",
        "    \n",
        "    \n",
        "def get_mse(model, df, scaler, fault_number, simrun):\n",
        "    \"\"\" Get loss value: the mean squared error value\n",
        "    Parameter: dataset, simulation run, model\n",
        "    Return: loss value\n",
        "    \"\"\"\n",
        "    x, y = get_detection_xy(df, fault_number, simrun, scaler) \n",
        "    y_pred_1 = model.predict(x, verbose = True)\n",
        "    mse_1 = tfk.losses.MSE(y, y_pred_1).numpy()\n",
        "    return mse_1.flatten()\n"
      ],
      "execution_count": 37,
      "outputs": []
    },
    {
      "cell_type": "code",
      "metadata": {
        "id": "jvg0_Hu1y392"
      },
      "source": [
        "def train_model(df, model):\n",
        "  \"\"\"This function is to tain the model\n",
        "  Parameter: df, model\n",
        "  Return: trained model, and trained scaler\n",
        "  \"\"\"\n",
        "  # train_df = fault_free_training\n",
        "  train_df = df[:]\n",
        "\n",
        "\n",
        "  scaler = preprocessing.MinMaxScaler()\n",
        "  scaler.fit(train_df.iloc[:, 3:].values)\n",
        "\n",
        "  train_df.iloc[:, 3:] = scaler.transform(train_df.iloc[:, 3:].values)\n",
        "  train_ds = get_dataset(train_df, shuffle = True, repeat=True)\n",
        "\n",
        "  model.fit(\n",
        "      train_ds, \n",
        "      epochs = 20,\n",
        "      steps_per_epoch = 1000,\n",
        "  )\n",
        "\n",
        "  return model, scaler"
      ],
      "execution_count": 28,
      "outputs": []
    },
    {
      "cell_type": "code",
      "metadata": {
        "id": "YQb-V1Dzy3Q1"
      },
      "source": [
        "def get_result( model, baseline, scaler, fault_number, simrun):\n",
        "  \"\"\"This function is to get and plot the result\n",
        "  Paramter: baseline, simrun, trained model, and trained scaler\n",
        "  \"\"\"\n",
        "\n",
        "  mse_model_1 = get_mse(model, fault_free_testing, scaler, 0, simrun)\n",
        "  # print(len(mse_model_1))\n",
        "  # print(type(mse_model_1))\n",
        "  # print(mse_model_1)\n",
        "  mse_model_2 = get_mse(model, faulty_testing, scaler, fault_number, simrun)\n",
        "  # print(len(mse_model_2))\n",
        "  # print(type(mse_model_2))\n",
        "  # print(mse_model_2)\n",
        "  # pd.DataFrame({'normal' : mse_model_1, 'with_fault' : mse_model_2, 'baseline': baseline}).plot(ylim = (0.0, 1.0))\n",
        "  return mse_model_1, mse_model_2"
      ],
      "execution_count": 64,
      "outputs": []
    },
    {
      "cell_type": "code",
      "metadata": {
        "colab": {
          "base_uri": "https://localhost:8080/",
          "height": 226
        },
        "id": "fmTXspW49Wud",
        "outputId": "bfb08d15-f895-427c-c7f7-4709c7ac0980"
      },
      "source": [
        "faulty_testing.tail()"
      ],
      "execution_count": 41,
      "outputs": [
        {
          "output_type": "execute_result",
          "data": {
            "text/html": [
              "<div>\n",
              "<style scoped>\n",
              "    .dataframe tbody tr th:only-of-type {\n",
              "        vertical-align: middle;\n",
              "    }\n",
              "\n",
              "    .dataframe tbody tr th {\n",
              "        vertical-align: top;\n",
              "    }\n",
              "\n",
              "    .dataframe thead th {\n",
              "        text-align: right;\n",
              "    }\n",
              "</style>\n",
              "<table border=\"1\" class=\"dataframe\">\n",
              "  <thead>\n",
              "    <tr style=\"text-align: right;\">\n",
              "      <th></th>\n",
              "      <th>faultNumber</th>\n",
              "      <th>simulationRun</th>\n",
              "      <th>sample</th>\n",
              "      <th>xmeas_1</th>\n",
              "      <th>xmeas_2</th>\n",
              "      <th>xmeas_3</th>\n",
              "      <th>xmeas_4</th>\n",
              "      <th>xmeas_5</th>\n",
              "      <th>xmeas_6</th>\n",
              "      <th>xmeas_7</th>\n",
              "      <th>xmeas_8</th>\n",
              "      <th>xmeas_9</th>\n",
              "      <th>xmeas_10</th>\n",
              "      <th>xmeas_11</th>\n",
              "      <th>xmeas_12</th>\n",
              "      <th>xmeas_13</th>\n",
              "      <th>xmeas_14</th>\n",
              "      <th>xmeas_15</th>\n",
              "      <th>xmeas_16</th>\n",
              "      <th>xmeas_17</th>\n",
              "      <th>xmeas_18</th>\n",
              "      <th>xmeas_19</th>\n",
              "      <th>xmeas_20</th>\n",
              "      <th>xmeas_21</th>\n",
              "      <th>xmeas_22</th>\n",
              "      <th>xmeas_23</th>\n",
              "      <th>xmeas_24</th>\n",
              "      <th>xmeas_25</th>\n",
              "      <th>xmeas_26</th>\n",
              "      <th>xmeas_27</th>\n",
              "      <th>xmeas_28</th>\n",
              "      <th>xmeas_29</th>\n",
              "      <th>xmeas_30</th>\n",
              "      <th>xmeas_31</th>\n",
              "      <th>xmeas_32</th>\n",
              "      <th>xmeas_33</th>\n",
              "      <th>xmeas_34</th>\n",
              "      <th>xmeas_35</th>\n",
              "      <th>xmeas_36</th>\n",
              "      <th>xmeas_37</th>\n",
              "      <th>xmeas_38</th>\n",
              "      <th>xmeas_39</th>\n",
              "      <th>xmeas_40</th>\n",
              "      <th>xmeas_41</th>\n",
              "      <th>xmv_1</th>\n",
              "      <th>xmv_2</th>\n",
              "      <th>xmv_3</th>\n",
              "      <th>xmv_4</th>\n",
              "      <th>xmv_5</th>\n",
              "      <th>xmv_6</th>\n",
              "      <th>xmv_7</th>\n",
              "      <th>xmv_8</th>\n",
              "      <th>xmv_9</th>\n",
              "      <th>xmv_10</th>\n",
              "      <th>xmv_11</th>\n",
              "    </tr>\n",
              "  </thead>\n",
              "  <tbody>\n",
              "    <tr>\n",
              "      <th>9599995</th>\n",
              "      <td>20.0</td>\n",
              "      <td>500.0</td>\n",
              "      <td>956.0</td>\n",
              "      <td>0.26494</td>\n",
              "      <td>3719.600098</td>\n",
              "      <td>4536.700195</td>\n",
              "      <td>9.2265</td>\n",
              "      <td>26.875000</td>\n",
              "      <td>42.401001</td>\n",
              "      <td>2708.300049</td>\n",
              "      <td>75.407997</td>\n",
              "      <td>120.400002</td>\n",
              "      <td>0.31196</td>\n",
              "      <td>79.697998</td>\n",
              "      <td>48.987999</td>\n",
              "      <td>2630.800049</td>\n",
              "      <td>24.632000</td>\n",
              "      <td>49.551998</td>\n",
              "      <td>3108.399902</td>\n",
              "      <td>24.014999</td>\n",
              "      <td>64.709000</td>\n",
              "      <td>213.369995</td>\n",
              "      <td>338.089996</td>\n",
              "      <td>94.592003</td>\n",
              "      <td>76.837997</td>\n",
              "      <td>32.090000</td>\n",
              "      <td>8.8622</td>\n",
              "      <td>26.504000</td>\n",
              "      <td>6.7403</td>\n",
              "      <td>18.968</td>\n",
              "      <td>1.6853</td>\n",
              "      <td>32.252998</td>\n",
              "      <td>13.906</td>\n",
              "      <td>24.740999</td>\n",
              "      <td>1.2128</td>\n",
              "      <td>18.209000</td>\n",
              "      <td>2.2578</td>\n",
              "      <td>4.8537</td>\n",
              "      <td>2.3312</td>\n",
              "      <td>0.005927</td>\n",
              "      <td>0.86515</td>\n",
              "      <td>0.12132</td>\n",
              "      <td>54.085999</td>\n",
              "      <td>44.150002</td>\n",
              "      <td>63.375000</td>\n",
              "      <td>54.382000</td>\n",
              "      <td>26.018000</td>\n",
              "      <td>62.068001</td>\n",
              "      <td>20.708000</td>\n",
              "      <td>37.589001</td>\n",
              "      <td>35.120998</td>\n",
              "      <td>45.495998</td>\n",
              "      <td>42.653000</td>\n",
              "      <td>40.816002</td>\n",
              "      <td>15.846000</td>\n",
              "    </tr>\n",
              "    <tr>\n",
              "      <th>9599996</th>\n",
              "      <td>20.0</td>\n",
              "      <td>500.0</td>\n",
              "      <td>957.0</td>\n",
              "      <td>0.25252</td>\n",
              "      <td>3724.000000</td>\n",
              "      <td>4494.299805</td>\n",
              "      <td>9.1873</td>\n",
              "      <td>27.221001</td>\n",
              "      <td>41.999001</td>\n",
              "      <td>2706.000000</td>\n",
              "      <td>74.879997</td>\n",
              "      <td>120.430000</td>\n",
              "      <td>0.33990</td>\n",
              "      <td>79.739998</td>\n",
              "      <td>50.098999</td>\n",
              "      <td>2627.800049</td>\n",
              "      <td>26.879000</td>\n",
              "      <td>48.775002</td>\n",
              "      <td>3106.500000</td>\n",
              "      <td>22.903000</td>\n",
              "      <td>64.724998</td>\n",
              "      <td>214.330002</td>\n",
              "      <td>337.549988</td>\n",
              "      <td>94.585999</td>\n",
              "      <td>76.917999</td>\n",
              "      <td>31.728001</td>\n",
              "      <td>8.8455</td>\n",
              "      <td>26.573999</td>\n",
              "      <td>6.9132</td>\n",
              "      <td>18.830</td>\n",
              "      <td>1.6628</td>\n",
              "      <td>32.700001</td>\n",
              "      <td>13.793</td>\n",
              "      <td>24.455999</td>\n",
              "      <td>1.2055</td>\n",
              "      <td>18.410000</td>\n",
              "      <td>2.2281</td>\n",
              "      <td>4.7304</td>\n",
              "      <td>2.2030</td>\n",
              "      <td>0.005927</td>\n",
              "      <td>0.86515</td>\n",
              "      <td>0.12132</td>\n",
              "      <td>54.085999</td>\n",
              "      <td>44.150002</td>\n",
              "      <td>63.215000</td>\n",
              "      <td>54.236000</td>\n",
              "      <td>25.098000</td>\n",
              "      <td>61.556999</td>\n",
              "      <td>20.655001</td>\n",
              "      <td>40.933998</td>\n",
              "      <td>38.390999</td>\n",
              "      <td>43.699001</td>\n",
              "      <td>42.832001</td>\n",
              "      <td>41.853001</td>\n",
              "      <td>18.486000</td>\n",
              "    </tr>\n",
              "    <tr>\n",
              "      <th>9599997</th>\n",
              "      <td>20.0</td>\n",
              "      <td>500.0</td>\n",
              "      <td>958.0</td>\n",
              "      <td>0.25164</td>\n",
              "      <td>3700.800049</td>\n",
              "      <td>4537.299805</td>\n",
              "      <td>9.2514</td>\n",
              "      <td>26.659000</td>\n",
              "      <td>42.180000</td>\n",
              "      <td>2704.699951</td>\n",
              "      <td>75.070000</td>\n",
              "      <td>120.410004</td>\n",
              "      <td>0.34186</td>\n",
              "      <td>79.847000</td>\n",
              "      <td>49.272999</td>\n",
              "      <td>2626.699951</td>\n",
              "      <td>24.153999</td>\n",
              "      <td>49.615002</td>\n",
              "      <td>3104.100098</td>\n",
              "      <td>23.047001</td>\n",
              "      <td>64.787003</td>\n",
              "      <td>213.699997</td>\n",
              "      <td>337.200012</td>\n",
              "      <td>94.522003</td>\n",
              "      <td>77.127998</td>\n",
              "      <td>31.728001</td>\n",
              "      <td>8.8455</td>\n",
              "      <td>26.573999</td>\n",
              "      <td>6.9132</td>\n",
              "      <td>18.830</td>\n",
              "      <td>1.6628</td>\n",
              "      <td>32.700001</td>\n",
              "      <td>13.793</td>\n",
              "      <td>24.455999</td>\n",
              "      <td>1.2055</td>\n",
              "      <td>18.410000</td>\n",
              "      <td>2.2281</td>\n",
              "      <td>4.7304</td>\n",
              "      <td>2.2030</td>\n",
              "      <td>0.005927</td>\n",
              "      <td>0.86515</td>\n",
              "      <td>0.12132</td>\n",
              "      <td>54.085999</td>\n",
              "      <td>44.150002</td>\n",
              "      <td>63.615002</td>\n",
              "      <td>53.722000</td>\n",
              "      <td>25.184999</td>\n",
              "      <td>61.168999</td>\n",
              "      <td>20.650000</td>\n",
              "      <td>40.694000</td>\n",
              "      <td>35.960999</td>\n",
              "      <td>45.643002</td>\n",
              "      <td>43.146999</td>\n",
              "      <td>40.537998</td>\n",
              "      <td>18.127001</td>\n",
              "    </tr>\n",
              "    <tr>\n",
              "      <th>9599998</th>\n",
              "      <td>20.0</td>\n",
              "      <td>500.0</td>\n",
              "      <td>959.0</td>\n",
              "      <td>0.29097</td>\n",
              "      <td>3641.800049</td>\n",
              "      <td>4525.200195</td>\n",
              "      <td>9.3053</td>\n",
              "      <td>26.823000</td>\n",
              "      <td>42.234001</td>\n",
              "      <td>2705.000000</td>\n",
              "      <td>75.726997</td>\n",
              "      <td>120.410004</td>\n",
              "      <td>0.32497</td>\n",
              "      <td>80.008003</td>\n",
              "      <td>50.580002</td>\n",
              "      <td>2624.800049</td>\n",
              "      <td>24.288000</td>\n",
              "      <td>49.764000</td>\n",
              "      <td>3105.699951</td>\n",
              "      <td>23.391001</td>\n",
              "      <td>64.875000</td>\n",
              "      <td>214.649994</td>\n",
              "      <td>336.459991</td>\n",
              "      <td>94.768997</td>\n",
              "      <td>77.070000</td>\n",
              "      <td>32.044998</td>\n",
              "      <td>9.0099</td>\n",
              "      <td>26.555000</td>\n",
              "      <td>6.9274</td>\n",
              "      <td>19.361</td>\n",
              "      <td>1.5909</td>\n",
              "      <td>32.284000</td>\n",
              "      <td>13.822</td>\n",
              "      <td>24.462999</td>\n",
              "      <td>1.1300</td>\n",
              "      <td>18.712999</td>\n",
              "      <td>2.2772</td>\n",
              "      <td>4.8032</td>\n",
              "      <td>2.3770</td>\n",
              "      <td>0.005927</td>\n",
              "      <td>0.86515</td>\n",
              "      <td>0.12132</td>\n",
              "      <td>54.085999</td>\n",
              "      <td>44.150002</td>\n",
              "      <td>63.167000</td>\n",
              "      <td>54.185001</td>\n",
              "      <td>28.771000</td>\n",
              "      <td>61.139999</td>\n",
              "      <td>20.323000</td>\n",
              "      <td>39.773998</td>\n",
              "      <td>39.806999</td>\n",
              "      <td>45.988998</td>\n",
              "      <td>43.318001</td>\n",
              "      <td>40.826000</td>\n",
              "      <td>17.305000</td>\n",
              "    </tr>\n",
              "    <tr>\n",
              "      <th>9599999</th>\n",
              "      <td>20.0</td>\n",
              "      <td>500.0</td>\n",
              "      <td>960.0</td>\n",
              "      <td>0.29359</td>\n",
              "      <td>3622.199951</td>\n",
              "      <td>4485.100098</td>\n",
              "      <td>9.3070</td>\n",
              "      <td>26.922001</td>\n",
              "      <td>42.610001</td>\n",
              "      <td>2704.800049</td>\n",
              "      <td>75.406998</td>\n",
              "      <td>120.400002</td>\n",
              "      <td>0.32749</td>\n",
              "      <td>80.047997</td>\n",
              "      <td>50.735001</td>\n",
              "      <td>2624.300049</td>\n",
              "      <td>23.738001</td>\n",
              "      <td>48.437000</td>\n",
              "      <td>3105.500000</td>\n",
              "      <td>21.927999</td>\n",
              "      <td>64.962997</td>\n",
              "      <td>214.789993</td>\n",
              "      <td>335.970001</td>\n",
              "      <td>94.531998</td>\n",
              "      <td>76.924004</td>\n",
              "      <td>32.044998</td>\n",
              "      <td>9.0099</td>\n",
              "      <td>26.555000</td>\n",
              "      <td>6.9274</td>\n",
              "      <td>19.361</td>\n",
              "      <td>1.5909</td>\n",
              "      <td>32.284000</td>\n",
              "      <td>13.822</td>\n",
              "      <td>24.462999</td>\n",
              "      <td>1.1300</td>\n",
              "      <td>18.712999</td>\n",
              "      <td>2.2772</td>\n",
              "      <td>4.8032</td>\n",
              "      <td>2.3770</td>\n",
              "      <td>0.005927</td>\n",
              "      <td>0.86515</td>\n",
              "      <td>0.12132</td>\n",
              "      <td>54.085999</td>\n",
              "      <td>44.150002</td>\n",
              "      <td>63.502998</td>\n",
              "      <td>54.665001</td>\n",
              "      <td>28.513000</td>\n",
              "      <td>59.398998</td>\n",
              "      <td>20.145000</td>\n",
              "      <td>39.466999</td>\n",
              "      <td>40.264000</td>\n",
              "      <td>42.916000</td>\n",
              "      <td>43.556999</td>\n",
              "      <td>40.845001</td>\n",
              "      <td>20.782000</td>\n",
              "    </tr>\n",
              "  </tbody>\n",
              "</table>\n",
              "</div>"
            ],
            "text/plain": [
              "         faultNumber  simulationRun  sample  ...      xmv_9     xmv_10     xmv_11\n",
              "9599995         20.0          500.0   956.0  ...  42.653000  40.816002  15.846000\n",
              "9599996         20.0          500.0   957.0  ...  42.832001  41.853001  18.486000\n",
              "9599997         20.0          500.0   958.0  ...  43.146999  40.537998  18.127001\n",
              "9599998         20.0          500.0   959.0  ...  43.318001  40.826000  17.305000\n",
              "9599999         20.0          500.0   960.0  ...  43.556999  40.845001  20.782000\n",
              "\n",
              "[5 rows x 55 columns]"
            ]
          },
          "metadata": {},
          "execution_count": 41
        }
      ]
    },
    {
      "cell_type": "markdown",
      "metadata": {
        "id": "vpoMG2kTVwkk"
      },
      "source": [
        "# CNN MODEL"
      ]
    },
    {
      "cell_type": "code",
      "metadata": {
        "id": "t-4lKJKuSxju"
      },
      "source": [
        "#CNN\n",
        "def get_model_CNN_1():\n",
        "    with strategy.scope():\n",
        "      model = tf.keras.Sequential([\n",
        "                              tf.keras.Input(shape  = (INPUT_SEQ_LEN, NUM_VAR)),\n",
        "                              tfkl.Conv1D(128, 15, 9,activation= 'relu'),\n",
        "                              tfkl.MaxPooling1D(),\n",
        "                              tfkl.Dense(NUM_VAR, activation='sigmoid')\n",
        "\n",
        "      ])\n",
        "      model.compile(optimizer= tfk.optimizers.Adam(learning_rate=1e-4), loss='mse')\n",
        "\n",
        "      return model "
      ],
      "execution_count": 13,
      "outputs": []
    },
    {
      "cell_type": "code",
      "metadata": {
        "id": "r1LHAVU3P8TP"
      },
      "source": [
        "#CNN\n",
        "def get_model_CNN_2():\n",
        "    with strategy.scope():\n",
        "      model = tf.keras.Sequential([\n",
        "                              tf.keras.Input(shape  = (INPUT_SEQ_LEN, NUM_VAR)),\n",
        "                              tfkl.Conv1D(128, 5, 2, activation= 'relu'),\n",
        "                              tfkl.Conv1D(128, 5, 2, activation= 'relu'),\n",
        "                              tfkl.Conv1D(128, 4, 1, activation= 'relu'),\n",
        "                              tfkl.MaxPooling1D(),\n",
        "                              tfkl.Dense(NUM_VAR, activation='sigmoid')\n",
        "\n",
        "      ])\n",
        "      model.compile(optimizer= tfk.optimizers.Adam(learning_rate=1e-4), loss='mse')\n",
        "\n",
        "      return model "
      ],
      "execution_count": 14,
      "outputs": []
    },
    {
      "cell_type": "code",
      "metadata": {
        "id": "TekVBi-FQZFM"
      },
      "source": [
        "#CNN\n",
        "def get_model_CNN_3():\n",
        "    with strategy.scope():\n",
        "      model = tf.keras.Sequential([\n",
        "                              tf.keras.Input(shape  = (INPUT_SEQ_LEN, NUM_VAR)),\n",
        "                              tfkl.Conv1D(64, 5, 1, activation= 'relu'),\n",
        "                              tfkl.Conv1D(64, 5, 1, activation= 'relu'),\n",
        "                              tfkl.MaxPooling1D(),\n",
        "                              tfkl.Conv1D(128, 7, 3, activation= 'relu'),\n",
        "                              tfkl.MaxPooling1D(),\n",
        "                              tfkl.Dense(NUM_VAR, activation='sigmoid')\n",
        "\n",
        "      ])\n",
        "      model.compile(optimizer= tfk.optimizers.Adam(learning_rate=1e-4), loss='mse')\n",
        "\n",
        "      return model "
      ],
      "execution_count": 15,
      "outputs": []
    },
    {
      "cell_type": "code",
      "metadata": {
        "id": "F9yESdUfVAAE"
      },
      "source": [
        "#CNN\n",
        "def get_model_CNN_4():\n",
        "    with strategy.scope():\n",
        "      model = tf.keras.Sequential([\n",
        "                              tf.keras.Input(shape  = (INPUT_SEQ_LEN, NUM_VAR)),\n",
        "                              tfkl.Conv1D(64, 5, 1,activation= 'relu'),\n",
        "                              tfkl.Conv1D(64, 5, 1, activation= 'relu'),\n",
        "                              tfkl.MaxPooling1D(),\n",
        "                              tfkl.Conv1D(128, 5, 2, activation= 'relu'),\n",
        "                              tfkl.Conv1D(128, 3, 2, activation= 'relu'),\n",
        "                              tfkl.Dense(NUM_VAR, activation='sigmoid')\n",
        "\n",
        "      ])\n",
        "      model.compile(optimizer= tfk.optimizers.Adam(learning_rate=1e-4), loss='mse')\n",
        "\n",
        "      return model "
      ],
      "execution_count": 16,
      "outputs": []
    },
    {
      "cell_type": "markdown",
      "metadata": {
        "id": "dVEOOjUrzpTV"
      },
      "source": [
        "# Train the model"
      ]
    },
    {
      "cell_type": "code",
      "metadata": {
        "id": "q3UHMM6XSAX_",
        "colab": {
          "base_uri": "https://localhost:8080/"
        },
        "outputId": "8efced20-93b3-44ca-85a6-cbd78810ef6a"
      },
      "source": [
        "cnn_model_1 = get_model_CNN_1()\n",
        "cnn_model_1, scaler = train_model(fault_free_training ,cnn_model_1)"
      ],
      "execution_count": 17,
      "outputs": [
        {
          "output_type": "stream",
          "name": "stdout",
          "text": [
            "Tensor(\"strided_slice:0\", shape=(None, 52), dtype=float32)\n",
            "Tensor(\"Reshape:0\", shape=(33, 52), dtype=float32)\n",
            "Epoch 1/20\n",
            "WARNING:tensorflow:From /usr/local/lib/python3.7/dist-packages/keras/engine/training.py:2970: StrategyBase.unwrap (from tensorflow.python.distribute.distribute_lib) is deprecated and will be removed in a future version.\n",
            "Instructions for updating:\n",
            "use `experimental_local_results` instead.\n"
          ]
        },
        {
          "output_type": "stream",
          "name": "stderr",
          "text": [
            "WARNING:tensorflow:From /usr/local/lib/python3.7/dist-packages/keras/engine/training.py:2970: StrategyBase.unwrap (from tensorflow.python.distribute.distribute_lib) is deprecated and will be removed in a future version.\n",
            "Instructions for updating:\n",
            "use `experimental_local_results` instead.\n"
          ]
        },
        {
          "output_type": "stream",
          "name": "stdout",
          "text": [
            "1000/1000 [==============================] - 11s 9ms/step - loss: 0.0119\n",
            "Epoch 2/20\n",
            "1000/1000 [==============================] - 9s 9ms/step - loss: 0.0107\n",
            "Epoch 3/20\n",
            "1000/1000 [==============================] - 9s 9ms/step - loss: 0.0105\n",
            "Epoch 4/20\n",
            "1000/1000 [==============================] - 9s 9ms/step - loss: 0.0104\n",
            "Epoch 5/20\n",
            "1000/1000 [==============================] - 9s 9ms/step - loss: 0.0104\n",
            "Epoch 6/20\n",
            "1000/1000 [==============================] - 10s 10ms/step - loss: 0.0103\n",
            "Epoch 7/20\n",
            "1000/1000 [==============================] - 10s 10ms/step - loss: 0.0103\n",
            "Epoch 8/20\n",
            "1000/1000 [==============================] - 9s 9ms/step - loss: 0.0103\n",
            "Epoch 9/20\n",
            "1000/1000 [==============================] - 9s 9ms/step - loss: 0.0102\n",
            "Epoch 10/20\n",
            "1000/1000 [==============================] - 10s 10ms/step - loss: 0.0102\n",
            "Epoch 11/20\n",
            "1000/1000 [==============================] - 10s 10ms/step - loss: 0.0102\n",
            "Epoch 12/20\n",
            "1000/1000 [==============================] - 10s 10ms/step - loss: 0.0102\n",
            "Epoch 13/20\n",
            "1000/1000 [==============================] - 10s 10ms/step - loss: 0.0102\n",
            "Epoch 14/20\n",
            "1000/1000 [==============================] - 10s 10ms/step - loss: 0.0102\n",
            "Epoch 15/20\n",
            "1000/1000 [==============================] - 10s 10ms/step - loss: 0.0102\n",
            "Epoch 16/20\n",
            "1000/1000 [==============================] - 10s 10ms/step - loss: 0.0102\n",
            "Epoch 17/20\n",
            "1000/1000 [==============================] - 10s 10ms/step - loss: 0.0102\n",
            "Epoch 18/20\n",
            "1000/1000 [==============================] - 10s 10ms/step - loss: 0.0101\n",
            "Epoch 19/20\n",
            "1000/1000 [==============================] - 10s 10ms/step - loss: 0.0101\n",
            "Epoch 20/20\n",
            "1000/1000 [==============================] - 10s 10ms/step - loss: 0.0101\n"
          ]
        }
      ]
    },
    {
      "cell_type": "code",
      "metadata": {
        "colab": {
          "base_uri": "https://localhost:8080/"
        },
        "id": "8zKt7Huv5EXz",
        "outputId": "7195bfdb-7fc2-4845-9bab-01c1151cfa15"
      },
      "source": [
        "cnn_model_1.summary()"
      ],
      "execution_count": null,
      "outputs": [
        {
          "output_type": "stream",
          "name": "stdout",
          "text": [
            "Model: \"sequential\"\n",
            "_________________________________________________________________\n",
            "Layer (type)                 Output Shape              Param #   \n",
            "=================================================================\n",
            "conv1d (Conv1D)              (None, 2, 128)            99968     \n",
            "_________________________________________________________________\n",
            "max_pooling1d (MaxPooling1D) (None, 1, 128)            0         \n",
            "_________________________________________________________________\n",
            "dense (Dense)                (None, 1, 52)             6708      \n",
            "=================================================================\n",
            "Total params: 106,676\n",
            "Trainable params: 106,676\n",
            "Non-trainable params: 0\n",
            "_________________________________________________________________\n"
          ]
        }
      ]
    },
    {
      "cell_type": "code",
      "metadata": {
        "colab": {
          "base_uri": "https://localhost:8080/"
        },
        "id": "udkNvGQ94iaN",
        "outputId": "29ec49ec-bcd3-403c-dea4-177a68ac564e"
      },
      "source": [
        "cnn_model_2 = get_model_CNN_2()\n",
        "cnn_model_2, scaler = train_model(fault_free_training ,cnn_model_2)"
      ],
      "execution_count": 49,
      "outputs": [
        {
          "output_type": "stream",
          "name": "stdout",
          "text": [
            "Tensor(\"strided_slice:0\", shape=(None, 52), dtype=float32)\n",
            "Tensor(\"Reshape:0\", shape=(33, 52), dtype=float32)\n",
            "Epoch 1/20\n",
            "1000/1000 [==============================] - 13s 10ms/step - loss: 0.0109\n",
            "Epoch 2/20\n",
            "1000/1000 [==============================] - 11s 11ms/step - loss: 0.0102\n",
            "Epoch 3/20\n",
            "1000/1000 [==============================] - 11s 11ms/step - loss: 0.0101\n",
            "Epoch 4/20\n",
            "1000/1000 [==============================] - 11s 11ms/step - loss: 0.0100\n",
            "Epoch 5/20\n",
            "1000/1000 [==============================] - 11s 11ms/step - loss: 0.0100\n",
            "Epoch 6/20\n",
            "1000/1000 [==============================] - 11s 11ms/step - loss: 0.0099\n",
            "Epoch 7/20\n",
            "1000/1000 [==============================] - 11s 11ms/step - loss: 0.0099\n",
            "Epoch 8/20\n",
            "1000/1000 [==============================] - 11s 11ms/step - loss: 0.0099\n",
            "Epoch 9/20\n",
            "1000/1000 [==============================] - 10s 10ms/step - loss: 0.0099\n",
            "Epoch 10/20\n",
            "1000/1000 [==============================] - 10s 10ms/step - loss: 0.0099\n",
            "Epoch 11/20\n",
            "1000/1000 [==============================] - 10s 10ms/step - loss: 0.0099\n",
            "Epoch 12/20\n",
            "1000/1000 [==============================] - 10s 10ms/step - loss: 0.0098\n",
            "Epoch 13/20\n",
            "1000/1000 [==============================] - 10s 10ms/step - loss: 0.0098\n",
            "Epoch 14/20\n",
            "1000/1000 [==============================] - 10s 10ms/step - loss: 0.0098\n",
            "Epoch 15/20\n",
            "1000/1000 [==============================] - 10s 10ms/step - loss: 0.0098\n",
            "Epoch 16/20\n",
            "1000/1000 [==============================] - 10s 10ms/step - loss: 0.0098\n",
            "Epoch 17/20\n",
            "1000/1000 [==============================] - 10s 10ms/step - loss: 0.0098\n",
            "Epoch 18/20\n",
            "1000/1000 [==============================] - 10s 10ms/step - loss: 0.0098\n",
            "Epoch 19/20\n",
            "1000/1000 [==============================] - 10s 10ms/step - loss: 0.0098\n",
            "Epoch 20/20\n",
            "1000/1000 [==============================] - 10s 10ms/step - loss: 0.0098\n"
          ]
        }
      ]
    },
    {
      "cell_type": "code",
      "metadata": {
        "colab": {
          "base_uri": "https://localhost:8080/"
        },
        "id": "0miziwu-IFFy",
        "outputId": "84cab54c-2894-41fd-ce46-c914969e6a45"
      },
      "source": [
        "cnn_model_2.summary()"
      ],
      "execution_count": null,
      "outputs": [
        {
          "output_type": "stream",
          "name": "stdout",
          "text": [
            "Model: \"sequential_1\"\n",
            "_________________________________________________________________\n",
            "Layer (type)                 Output Shape              Param #   \n",
            "=================================================================\n",
            "conv1d_1 (Conv1D)            (None, 14, 128)           33408     \n",
            "_________________________________________________________________\n",
            "conv1d_2 (Conv1D)            (None, 5, 128)            82048     \n",
            "_________________________________________________________________\n",
            "conv1d_3 (Conv1D)            (None, 2, 128)            65664     \n",
            "_________________________________________________________________\n",
            "max_pooling1d_1 (MaxPooling1 (None, 1, 128)            0         \n",
            "_________________________________________________________________\n",
            "dense_1 (Dense)              (None, 1, 52)             6708      \n",
            "=================================================================\n",
            "Total params: 187,828\n",
            "Trainable params: 187,828\n",
            "Non-trainable params: 0\n",
            "_________________________________________________________________\n"
          ]
        }
      ]
    },
    {
      "cell_type": "code",
      "metadata": {
        "colab": {
          "base_uri": "https://localhost:8080/"
        },
        "id": "1JADcr2h8sXd",
        "outputId": "8fe7ab0f-a994-44d4-a247-42a836280e93"
      },
      "source": [
        "cnn_model_3 = get_model_CNN_3()\n",
        "cnn_model_3, scaler = train_model(fault_free_training ,cnn_model_3)"
      ],
      "execution_count": 50,
      "outputs": [
        {
          "output_type": "stream",
          "name": "stdout",
          "text": [
            "Tensor(\"strided_slice:0\", shape=(None, 52), dtype=float32)\n",
            "Tensor(\"Reshape:0\", shape=(33, 52), dtype=float32)\n",
            "Epoch 1/20\n",
            "1000/1000 [==============================] - 12s 10ms/step - loss: 0.0111\n",
            "Epoch 2/20\n",
            "1000/1000 [==============================] - 10s 10ms/step - loss: 0.0103\n",
            "Epoch 3/20\n",
            "1000/1000 [==============================] - 10s 10ms/step - loss: 0.0102\n",
            "Epoch 4/20\n",
            "1000/1000 [==============================] - 10s 10ms/step - loss: 0.0101\n",
            "Epoch 5/20\n",
            "1000/1000 [==============================] - 10s 10ms/step - loss: 0.0101\n",
            "Epoch 6/20\n",
            "1000/1000 [==============================] - 10s 10ms/step - loss: 0.0101\n",
            "Epoch 7/20\n",
            "1000/1000 [==============================] - 10s 10ms/step - loss: 0.0100\n",
            "Epoch 8/20\n",
            "1000/1000 [==============================] - 10s 10ms/step - loss: 0.0100\n",
            "Epoch 9/20\n",
            "1000/1000 [==============================] - 10s 10ms/step - loss: 0.0100\n",
            "Epoch 10/20\n",
            "1000/1000 [==============================] - 10s 10ms/step - loss: 0.0100\n",
            "Epoch 11/20\n",
            "1000/1000 [==============================] - 10s 10ms/step - loss: 0.0100\n",
            "Epoch 12/20\n",
            "1000/1000 [==============================] - 10s 10ms/step - loss: 0.0100\n",
            "Epoch 13/20\n",
            "1000/1000 [==============================] - 10s 10ms/step - loss: 0.0099\n",
            "Epoch 14/20\n",
            "1000/1000 [==============================] - 10s 10ms/step - loss: 0.0099\n",
            "Epoch 15/20\n",
            "1000/1000 [==============================] - 10s 10ms/step - loss: 0.0099\n",
            "Epoch 16/20\n",
            "1000/1000 [==============================] - 10s 10ms/step - loss: 0.0099\n",
            "Epoch 17/20\n",
            "1000/1000 [==============================] - 10s 10ms/step - loss: 0.0099\n",
            "Epoch 18/20\n",
            "1000/1000 [==============================] - 10s 10ms/step - loss: 0.0099\n",
            "Epoch 19/20\n",
            "1000/1000 [==============================] - 10s 10ms/step - loss: 0.0099\n",
            "Epoch 20/20\n",
            "1000/1000 [==============================] - 10s 10ms/step - loss: 0.0099\n"
          ]
        }
      ]
    },
    {
      "cell_type": "code",
      "metadata": {
        "colab": {
          "base_uri": "https://localhost:8080/"
        },
        "id": "5bHxkaoxJABL",
        "outputId": "bd06de4b-553e-41a1-a79e-14386f36fe74"
      },
      "source": [
        "cnn_model_3.summary()"
      ],
      "execution_count": null,
      "outputs": [
        {
          "output_type": "stream",
          "name": "stdout",
          "text": [
            "Model: \"sequential_2\"\n",
            "_________________________________________________________________\n",
            "Layer (type)                 Output Shape              Param #   \n",
            "=================================================================\n",
            "conv1d_4 (Conv1D)            (None, 28, 64)            16704     \n",
            "_________________________________________________________________\n",
            "conv1d_5 (Conv1D)            (None, 24, 64)            20544     \n",
            "_________________________________________________________________\n",
            "max_pooling1d_2 (MaxPooling1 (None, 12, 64)            0         \n",
            "_________________________________________________________________\n",
            "conv1d_6 (Conv1D)            (None, 2, 128)            57472     \n",
            "_________________________________________________________________\n",
            "max_pooling1d_3 (MaxPooling1 (None, 1, 128)            0         \n",
            "_________________________________________________________________\n",
            "dense_2 (Dense)              (None, 1, 52)             6708      \n",
            "=================================================================\n",
            "Total params: 101,428\n",
            "Trainable params: 101,428\n",
            "Non-trainable params: 0\n",
            "_________________________________________________________________\n"
          ]
        }
      ]
    },
    {
      "cell_type": "code",
      "metadata": {
        "colab": {
          "base_uri": "https://localhost:8080/"
        },
        "id": "sKuTGtBO9gRb",
        "outputId": "89d6a8fa-eb27-4d7f-9ce3-75d49509ca41"
      },
      "source": [
        "cnn_model_4 = get_model_CNN_4()\n",
        "cnn_model_4, scaler = train_model(fault_free_training ,cnn_model_4)"
      ],
      "execution_count": 51,
      "outputs": [
        {
          "output_type": "stream",
          "name": "stdout",
          "text": [
            "Tensor(\"strided_slice:0\", shape=(None, 52), dtype=float32)\n",
            "Tensor(\"Reshape:0\", shape=(33, 52), dtype=float32)\n",
            "Epoch 1/20\n",
            "1000/1000 [==============================] - 13s 10ms/step - loss: 0.0111\n",
            "Epoch 2/20\n",
            "1000/1000 [==============================] - 10s 10ms/step - loss: 0.0104\n",
            "Epoch 3/20\n",
            "1000/1000 [==============================] - 10s 10ms/step - loss: 0.0102\n",
            "Epoch 4/20\n",
            "1000/1000 [==============================] - 10s 10ms/step - loss: 0.0102\n",
            "Epoch 5/20\n",
            "1000/1000 [==============================] - 11s 11ms/step - loss: 0.0101\n",
            "Epoch 6/20\n",
            "1000/1000 [==============================] - 10s 10ms/step - loss: 0.0101\n",
            "Epoch 7/20\n",
            "1000/1000 [==============================] - 10s 10ms/step - loss: 0.0101\n",
            "Epoch 8/20\n",
            "1000/1000 [==============================] - 10s 10ms/step - loss: 0.0100\n",
            "Epoch 9/20\n",
            "1000/1000 [==============================] - 10s 10ms/step - loss: 0.0100\n",
            "Epoch 10/20\n",
            "1000/1000 [==============================] - 10s 10ms/step - loss: 0.0100\n",
            "Epoch 11/20\n",
            "1000/1000 [==============================] - 10s 10ms/step - loss: 0.0100\n",
            "Epoch 12/20\n",
            "1000/1000 [==============================] - 10s 10ms/step - loss: 0.0100\n",
            "Epoch 13/20\n",
            "1000/1000 [==============================] - 10s 10ms/step - loss: 0.0100\n",
            "Epoch 14/20\n",
            "1000/1000 [==============================] - 11s 11ms/step - loss: 0.0100\n",
            "Epoch 15/20\n",
            "1000/1000 [==============================] - 11s 11ms/step - loss: 0.0100\n",
            "Epoch 16/20\n",
            "1000/1000 [==============================] - 10s 10ms/step - loss: 0.0100\n",
            "Epoch 17/20\n",
            "1000/1000 [==============================] - 10s 10ms/step - loss: 0.0099\n",
            "Epoch 18/20\n",
            "1000/1000 [==============================] - 11s 11ms/step - loss: 0.0099\n",
            "Epoch 19/20\n",
            "1000/1000 [==============================] - 10s 10ms/step - loss: 0.0099\n",
            "Epoch 20/20\n",
            "1000/1000 [==============================] - 11s 11ms/step - loss: 0.0099\n"
          ]
        }
      ]
    },
    {
      "cell_type": "code",
      "metadata": {
        "colab": {
          "base_uri": "https://localhost:8080/"
        },
        "id": "z5teNnNaJdtE",
        "outputId": "038d8f4a-0b61-4c07-fa69-4ed204b44642"
      },
      "source": [
        "cnn_model_4.summary()"
      ],
      "execution_count": null,
      "outputs": [
        {
          "output_type": "stream",
          "name": "stdout",
          "text": [
            "Model: \"sequential_3\"\n",
            "_________________________________________________________________\n",
            "Layer (type)                 Output Shape              Param #   \n",
            "=================================================================\n",
            "conv1d_7 (Conv1D)            (None, 28, 64)            16704     \n",
            "_________________________________________________________________\n",
            "conv1d_8 (Conv1D)            (None, 24, 64)            20544     \n",
            "_________________________________________________________________\n",
            "max_pooling1d_4 (MaxPooling1 (None, 12, 64)            0         \n",
            "_________________________________________________________________\n",
            "conv1d_9 (Conv1D)            (None, 4, 128)            41088     \n",
            "_________________________________________________________________\n",
            "conv1d_10 (Conv1D)           (None, 1, 128)            49280     \n",
            "_________________________________________________________________\n",
            "dense_3 (Dense)              (None, 1, 52)             6708      \n",
            "=================================================================\n",
            "Total params: 134,324\n",
            "Trainable params: 134,324\n",
            "Non-trainable params: 0\n",
            "_________________________________________________________________\n"
          ]
        }
      ]
    },
    {
      "cell_type": "markdown",
      "metadata": {
        "id": "av2ztBMM-y-D"
      },
      "source": [
        "# RNN Model"
      ]
    },
    {
      "cell_type": "code",
      "metadata": {
        "id": "uEchhkal-xSU"
      },
      "source": [
        "#LSTM\n",
        "def get_model_1():\n",
        "    with strategy.scope():\n",
        "      model = tf.keras.Sequential([\n",
        "                              tf.keras.Input(shape  = (INPUT_SEQ_LEN, NUM_VAR)),\n",
        "                              tfkl.LSTM(64, return_sequences=True), \n",
        "                              tfkl.LSTM(64, return_sequences=False),\n",
        "                              tfkl.RepeatVector(OUTPUT_SEQ_LEN), \n",
        "                              tfkl.LSTM(64, return_sequences=True),\n",
        "                              tfkl.Dense(NUM_VAR, activation = 'relu')\n",
        "\n",
        "      ])\n",
        "\n",
        "      model.compile(optimizer = tfk.optimizers.Adam(learning_rate=1e-4), loss = tfk.losses.MeanSquaredError() )\n",
        "\n",
        "      return model "
      ],
      "execution_count": null,
      "outputs": []
    },
    {
      "cell_type": "code",
      "metadata": {
        "id": "ToM9mNnj-3ck"
      },
      "source": [
        "#LSTM\n",
        "def get_model_2():\n",
        "    with strategy.scope():\n",
        "      model = tf.keras.Sequential([\n",
        "                              tf.keras.Input(shape  = (INPUT_SEQ_LEN, NUM_VAR)),\n",
        "                              tfkl.LSTM(64, return_sequences=True), \n",
        "                              tfkl.LSTM(64, return_sequences=True),\n",
        "                              tfkl.LSTM(64, return_sequences=False),\n",
        "                              tfkl.Dropout(0.5),\n",
        "                              tfkl.RepeatVector(OUTPUT_SEQ_LEN), \n",
        "                              tfkl.LSTM(64, return_sequences=True),\n",
        "                              tfkl.Dense(NUM_VAR, activation = 'relu')\n",
        "\n",
        "      ])\n",
        "\n",
        "      model.compile(optimizer = tfk.optimizers.Adam(learning_rate=1e-4), loss = \"mse\" )\n",
        "\n",
        "      return model "
      ],
      "execution_count": null,
      "outputs": []
    },
    {
      "cell_type": "code",
      "metadata": {
        "id": "7xFvb8wq-5TP"
      },
      "source": [
        "#GRU\n",
        "def get_model_3():\n",
        "    with strategy.scope():\n",
        "      model = tf.keras.Sequential([\n",
        "                              tf.keras.Input(shape  = (INPUT_SEQ_LEN, NUM_VAR)),\n",
        "                              tfkl.GRU(64, return_sequences=True), \n",
        "                              tfkl.GRU(64, return_sequences=False),\n",
        "                              tfkl.RepeatVector(OUTPUT_SEQ_LEN), \n",
        "                              tfkl.GRU(64, return_sequences=True),\n",
        "                              tfkl.Dense(NUM_VAR, activation = 'relu')\n",
        "\n",
        "      ])\n",
        "\n",
        "      model.compile(optimizer = tfk.optimizers.Adam(learning_rate=1e-4), loss = \"mse\" )\n",
        "\n",
        "      return model "
      ],
      "execution_count": null,
      "outputs": []
    },
    {
      "cell_type": "code",
      "metadata": {
        "id": "_YBr_JTx-7Fq"
      },
      "source": [
        "#GRU\n",
        "def get_model_4():\n",
        "    with strategy.scope():\n",
        "      model = tf.keras.Sequential([\n",
        "                              tf.keras.Input(shape  = (INPUT_SEQ_LEN, NUM_VAR)),\n",
        "                              # tfkl.Conv1D(64, 5, 1),\n",
        "                              tfkl.GRU(64, return_sequences=True), \n",
        "                              tfkl.GRU(64, return_sequences=True),\n",
        "                              tfkl.GRU(64, return_sequences=False),\n",
        "                              tfkl.Dropout(0.5),\n",
        "                              tfkl.RepeatVector(OUTPUT_SEQ_LEN), \n",
        "                              tfkl.GRU(64, return_sequences=True),\n",
        "                              tfkl.Dense(NUM_VAR, activation = 'relu')\n",
        "\n",
        "      ])\n",
        "\n",
        "      model.compile(optimizer = tfk.optimizers.Adam(learning_rate=1e-4), loss = \"mse\" )\n",
        "\n",
        "      return model "
      ],
      "execution_count": null,
      "outputs": []
    },
    {
      "cell_type": "markdown",
      "metadata": {
        "id": "D8ER43tSKLaE"
      },
      "source": [
        "# Get the result"
      ]
    },
    {
      "cell_type": "code",
      "metadata": {
        "id": "wCFMqBsd-LMf",
        "colab": {
          "base_uri": "https://localhost:8080/",
          "height": 1000
        },
        "outputId": "3a65c344-abfa-4af3-aff0-0329d826929e"
      },
      "source": [
        "##the fault data in testing data starting from 8 hr(index 160)\n",
        "baseline = 0.1\n",
        "run = 1\n",
        "fault_number = [i for i in range(1,21)]\n",
        "# models = [cnn_model_1, cnn_model_2, cnn_model_3, cnn_model_4]\n",
        "models = [cnn_model_1]\n",
        "temp_dict = {}\n",
        "\n",
        "for i in range(len(models)):\n",
        "  for j in fault_number:\n",
        "    print(\"fault_number:\" + str(j))\n",
        "    fault_free, faulty = get_result(models[i], 0.1, scaler, j, run)\n",
        "    temp_dict[0] = fault_free\n",
        "    temp_dict[j] = faulty\n",
        "df_loss = pd.DataFrame(temp_dict)\n",
        "df_loss.plot(subplots = True, figsize = (20,20), ylim = (0.0, 1.0), layout= (5,5))"
      ],
      "execution_count": 84,
      "outputs": [
        {
          "output_type": "stream",
          "name": "stdout",
          "text": [
            "fault_number:1\n",
            "15/15 [==============================] - 1s 10ms/step\n",
            "15/15 [==============================] - 1s 9ms/step\n",
            "fault_number:2\n",
            "15/15 [==============================] - 1s 8ms/step\n",
            "15/15 [==============================] - 1s 9ms/step\n",
            "fault_number:3\n",
            "15/15 [==============================] - 1s 9ms/step\n",
            "15/15 [==============================] - 1s 8ms/step\n",
            "fault_number:4\n",
            "15/15 [==============================] - 1s 9ms/step\n",
            "15/15 [==============================] - 1s 9ms/step\n",
            "fault_number:5\n",
            "15/15 [==============================] - 1s 9ms/step\n",
            "15/15 [==============================] - 1s 8ms/step\n",
            "fault_number:6\n",
            "15/15 [==============================] - 1s 8ms/step\n",
            "15/15 [==============================] - 1s 8ms/step\n",
            "fault_number:7\n",
            "15/15 [==============================] - 1s 9ms/step\n",
            "15/15 [==============================] - 1s 9ms/step\n",
            "fault_number:8\n",
            "15/15 [==============================] - 1s 9ms/step\n",
            "15/15 [==============================] - 1s 9ms/step\n",
            "fault_number:9\n",
            "15/15 [==============================] - 1s 9ms/step\n",
            "15/15 [==============================] - 1s 8ms/step\n",
            "fault_number:10\n",
            "15/15 [==============================] - 1s 8ms/step\n",
            "15/15 [==============================] - 1s 9ms/step\n",
            "fault_number:11\n",
            "15/15 [==============================] - 1s 9ms/step\n",
            "15/15 [==============================] - 1s 8ms/step\n",
            "fault_number:12\n",
            "15/15 [==============================] - 1s 8ms/step\n",
            "15/15 [==============================] - 1s 9ms/step\n",
            "fault_number:13\n",
            "15/15 [==============================] - 1s 8ms/step\n",
            "15/15 [==============================] - 1s 9ms/step\n",
            "fault_number:14\n",
            "15/15 [==============================] - 1s 9ms/step\n",
            "15/15 [==============================] - 1s 8ms/step\n",
            "fault_number:15\n",
            "15/15 [==============================] - 1s 9ms/step\n",
            "15/15 [==============================] - 1s 8ms/step\n",
            "fault_number:16\n",
            "15/15 [==============================] - 1s 9ms/step\n",
            "15/15 [==============================] - 1s 8ms/step\n",
            "fault_number:17\n",
            "15/15 [==============================] - 1s 9ms/step\n",
            "15/15 [==============================] - 1s 9ms/step\n",
            "fault_number:18\n",
            "15/15 [==============================] - 1s 9ms/step\n",
            "15/15 [==============================] - 1s 9ms/step\n",
            "fault_number:19\n",
            "15/15 [==============================] - 1s 9ms/step\n",
            "15/15 [==============================] - 1s 8ms/step\n",
            "fault_number:20\n",
            "15/15 [==============================] - 1s 8ms/step\n",
            "15/15 [==============================] - 1s 8ms/step\n"
          ]
        },
        {
          "output_type": "execute_result",
          "data": {
            "text/plain": [
              "array([[<matplotlib.axes._subplots.AxesSubplot object at 0x7f209988d3d0>,\n",
              "        <matplotlib.axes._subplots.AxesSubplot object at 0x7f2098a22450>,\n",
              "        <matplotlib.axes._subplots.AxesSubplot object at 0x7f2097adc8d0>,\n",
              "        <matplotlib.axes._subplots.AxesSubplot object at 0x7f2099078190>,\n",
              "        <matplotlib.axes._subplots.AxesSubplot object at 0x7f2099b3e810>],\n",
              "       [<matplotlib.axes._subplots.AxesSubplot object at 0x7f2099b1d6d0>,\n",
              "        <matplotlib.axes._subplots.AxesSubplot object at 0x7f2099b1e210>,\n",
              "        <matplotlib.axes._subplots.AxesSubplot object at 0x7f20991f8110>,\n",
              "        <matplotlib.axes._subplots.AxesSubplot object at 0x7f20991f8910>,\n",
              "        <matplotlib.axes._subplots.AxesSubplot object at 0x7f2098d08790>],\n",
              "       [<matplotlib.axes._subplots.AxesSubplot object at 0x7f2098de8cd0>,\n",
              "        <matplotlib.axes._subplots.AxesSubplot object at 0x7f2098ddfb90>,\n",
              "        <matplotlib.axes._subplots.AxesSubplot object at 0x7f2097f97410>,\n",
              "        <matplotlib.axes._subplots.AxesSubplot object at 0x7f2097f88690>,\n",
              "        <matplotlib.axes._subplots.AxesSubplot object at 0x7f2098e7f990>],\n",
              "       [<matplotlib.axes._subplots.AxesSubplot object at 0x7f2098cf9d10>,\n",
              "        <matplotlib.axes._subplots.AxesSubplot object at 0x7f2098b43950>,\n",
              "        <matplotlib.axes._subplots.AxesSubplot object at 0x7f209957dcd0>,\n",
              "        <matplotlib.axes._subplots.AxesSubplot object at 0x7f2098d987d0>,\n",
              "        <matplotlib.axes._subplots.AxesSubplot object at 0x7f209a1b5b50>],\n",
              "       [<matplotlib.axes._subplots.AxesSubplot object at 0x7f209855ced0>,\n",
              "        <matplotlib.axes._subplots.AxesSubplot object at 0x7f2097fbf250>,\n",
              "        <matplotlib.axes._subplots.AxesSubplot object at 0x7f2098975750>,\n",
              "        <matplotlib.axes._subplots.AxesSubplot object at 0x7f2099fe5c50>,\n",
              "        <matplotlib.axes._subplots.AxesSubplot object at 0x7f20985b1750>]],\n",
              "      dtype=object)"
            ]
          },
          "metadata": {},
          "execution_count": 84
        },
        {
          "output_type": "display_data",
          "data": {
            "image/png": "[encoded data removed]",
            "text/plain": [
              "<Figure size 1440x1440 with 25 Axes>"
            ]
          },
          "metadata": {
            "needs_background": "light"
          }
        }
      ]
    },
    {
      "cell_type": "code",
      "metadata": {
        "id": "_iv9EWuNmkfM"
      },
      "source": [
        "run = 1\n",
        "mse_f = []\n",
        "mse_fault_f = []\n",
        "target = \"get_model_CNN_\" + str(4) + \"()\"\n",
        "for j in range(30):\n",
        "  cnn_model = eval(target)\n",
        "  print(cnn_model)\n",
        "  cnn_model, scaler = train_model(fault_free_training ,cnn_model)\n",
        "  mse_model_1 = get_mse(cnn_model, fault_free_testing, scaler, run)\n",
        "  mse_model_2 = get_mse(cnn_model, faulty_testing, scaler, run)\n",
        "  mse_fault_f.append(mse_model_1)\n",
        "  mse_f.append(mse_model_2)\n",
        "  \n",
        "np.savetxt('myfile.csv', mse_fault_f, delimiter=',', header = \"4_fault_free\")\n",
        "np.savetxt('myfile_f.csv', mse_f, delimiter=',', header = \"4_fault\")\n",
        "\n",
        "files.download('myfile.csv')\n",
        "files.download('myfile_f.csv')\n"
      ],
      "execution_count": null,
      "outputs": []
    },
    {
      "cell_type": "markdown",
      "metadata": {
        "id": "WMtCI8ghFbu4"
      },
      "source": [
        "# Cross Validation"
      ]
    },
    {
      "cell_type": "code",
      "metadata": {
        "colab": {
          "base_uri": "https://localhost:8080/"
        },
        "id": "8ZxKBQhqO6eO",
        "outputId": "220c52a9-3fb4-4b05-e859-b376455ebfa1"
      },
      "source": [
        "#cross validation\n",
        "for train_split, val_split in KFold().split([i+1 for i in range(500)]):\n",
        "    train_df = fault_free_training[fault_free_training.simulationRun.isin(train_split)]\n",
        "    val_df = fault_free_training[fault_free_training.simulationRun.isin(val_split)]\n",
        "\n",
        "  \n",
        "    scaler = preprocessing.MinMaxScaler()\n",
        "    scaler.fit(train_df.iloc[:, 3:].values)\n",
        "\n",
        "    train_df.iloc[:, 3:] = scaler.transform(train_df.iloc[:, 3:].values)\n",
        "    val_df.iloc[:, 3:] = scaler.transform(val_df.iloc[:, 3:].values)\n",
        "\n",
        "    train_ds = get_dataset(train_df, shuffle = True, repeat=True)\n",
        "    val_ds = get_dataset(val_df)\n",
        "\n",
        "\n",
        "    model = get_model_1() \n",
        "\n",
        "\n",
        "    model.fit(\n",
        "        train_ds, \n",
        "        epochs = 20,\n",
        "        steps_per_epoch = 1000,\n",
        "        validation_data= val_ds,\n",
        "        \n",
        "    )\n",
        "\n",
        "    break\n"
      ],
      "execution_count": null,
      "outputs": [
        {
          "output_type": "stream",
          "name": "stdout",
          "text": [
            "Epoch 1/20\n",
            "1000/1000 [==============================] - 18s 11ms/step - loss: 0.1253 - val_loss: 0.1170\n",
            "Epoch 2/20\n",
            "1000/1000 [==============================] - 9s 9ms/step - loss: 0.0784 - val_loss: 0.0672\n",
            "Epoch 3/20\n",
            "1000/1000 [==============================] - 10s 10ms/step - loss: 0.0535 - val_loss: 0.0463\n",
            "Epoch 4/20\n",
            "1000/1000 [==============================] - 10s 10ms/step - loss: 0.0472 - val_loss: 0.0478\n",
            "Epoch 5/20\n",
            "1000/1000 [==============================] - 9s 9ms/step - loss: 0.0470 - val_loss: 0.0474\n",
            "Epoch 6/20\n",
            "1000/1000 [==============================] - 10s 10ms/step - loss: 0.0468 - val_loss: 0.0471\n",
            "Epoch 7/20\n",
            "1000/1000 [==============================] - 9s 9ms/step - loss: 0.0466 - val_loss: 0.0473\n",
            "Epoch 8/20\n",
            "1000/1000 [==============================] - 9s 9ms/step - loss: 0.0460 - val_loss: 0.0422\n",
            "Epoch 9/20\n",
            "1000/1000 [==============================] - 10s 10ms/step - loss: 0.0412 - val_loss: 0.0385\n",
            "Epoch 10/20\n",
            "1000/1000 [==============================] - 10s 10ms/step - loss: 0.0377 - val_loss: 0.0376\n",
            "Epoch 11/20\n",
            "1000/1000 [==============================] - 10s 10ms/step - loss: 0.0355 - val_loss: 0.0330\n",
            "Epoch 12/20\n",
            "1000/1000 [==============================] - 10s 10ms/step - loss: 0.0328 - val_loss: 0.0337\n",
            "Epoch 13/20\n",
            "1000/1000 [==============================] - 10s 10ms/step - loss: 0.0294 - val_loss: 0.0278\n",
            "Epoch 14/20\n",
            "1000/1000 [==============================] - 10s 10ms/step - loss: 0.0278 - val_loss: 0.0274\n",
            "Epoch 15/20\n",
            "1000/1000 [==============================] - 10s 10ms/step - loss: 0.0277 - val_loss: 0.0279\n",
            "Epoch 16/20\n",
            "1000/1000 [==============================] - 10s 10ms/step - loss: 0.0276 - val_loss: 0.0280\n",
            "Epoch 17/20\n",
            "1000/1000 [==============================] - 10s 10ms/step - loss: 0.0275 - val_loss: 0.0279\n",
            "Epoch 18/20\n",
            "1000/1000 [==============================] - 10s 10ms/step - loss: 0.0274 - val_loss: 0.0265\n",
            "Epoch 19/20\n",
            "1000/1000 [==============================] - 10s 10ms/step - loss: 0.0273 - val_loss: 0.0267\n",
            "Epoch 20/20\n",
            "1000/1000 [==============================] - 10s 10ms/step - loss: 0.0272 - val_loss: 0.0264\n"
          ]
        }
      ]
    },
    {
      "cell_type": "code",
      "metadata": {
        "id": "0BWWF6Uusz2-"
      },
      "source": [
        "#add the ndarray then do the significant test from data point 160"
      ],
      "execution_count": null,
      "outputs": []
    }
  ]
}