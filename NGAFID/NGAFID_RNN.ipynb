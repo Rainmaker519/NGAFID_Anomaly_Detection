{
  "nbformat": 4,
  "nbformat_minor": 0,
  "metadata": {
    "colab": {
      "name": "NGAFID_RNN.ipynb",
      "provenance": [],
      "collapsed_sections": []
    },
    "kernelspec": {
      "name": "python3",
      "display_name": "Python 3"
    },
    "language_info": {
      "name": "python"
    },
    "accelerator": "TPU"
  },
  "cells": [
    {
      "cell_type": "markdown",
      "metadata": {
        "id": "z0laBdydQo_r"
      },
      "source": [
        "# SETUP"
      ]
    },
    {
      "cell_type": "code",
      "metadata": {
        "id": "088mMzSVOq0_"
      },
      "source": [
        "import pandas as pd \n",
        "import pyreadr as py \n",
        "import numpy as np \n",
        "import tensorflow as tf\n",
        "import gc \n",
        "import tensorflow_datasets as tfds\n",
        "import tensorflow_probability as tfp\n",
        "from tqdm.notebook import tqdm\n",
        "from sklearn.model_selection import train_test_split, KFold\n",
        "from sklearn import preprocessing\n",
        "import matplotlib as plt\n",
        "tfk = tf.keras\n",
        "tfkl = tf.keras.layers\n",
        "tfpl = tfp.layers\n",
        "tfd = tfp.distributions\n",
        "\n",
        "\n",
        "gc.collect() \n",
        "\n",
        "pd.options.mode.chained_assignment = None"
      ],
      "execution_count": 1,
      "outputs": []
    },
    {
      "cell_type": "code",
      "metadata": {
        "colab": {
          "base_uri": "https://localhost:8080/"
        },
        "id": "-i1wEAxZQmXo",
        "outputId": "d193d3ca-3b22-430c-ab7e-70e0fe92f859"
      },
      "source": [
        "# #TPU\n",
        "\n",
        "# import os\n",
        "# assert 'COLAB_TPU_ADDR' in os.environ, 'ERROR: Not connected to a TPU runtime; please see the first cell in this notebook for instructions!'\n",
        "# TPU_ADDRESS = 'grpc://' + os.environ['COLAB_TPU_ADDR']\n",
        "# print('TPU address is', TPU_ADDRESS)\n",
        "\n",
        "# # Detect hardware, return appropriate distribution strategy\n",
        "# try:\n",
        "#     # TPU detection. No parameters necessary if TPU_NAME environment variable is\n",
        "#     # set: this is always the case on Kaggle.\n",
        "#     tpu = tf.distribute.cluster_resolver.TPUClusterResolver()\n",
        "#     print('Running on TPU ', tpu.master())\n",
        "# except ValueError:\n",
        "#     tpu = None\n",
        "\n",
        "# if tpu:\n",
        "#     tf.config.experimental_connect_to_cluster(tpu)\n",
        "#     tf.tpu.experimental.initialize_tpu_system(tpu)\n",
        "#     strategy = tf.distribute.experimental.TPUStrategy(tpu)\n",
        "# else:\n",
        "#     # Default distribution strategy in Tensorflow. Works on CPU and single GPU.\n",
        "#     strategy = tf.distribute.get_strategy()\n",
        "\n",
        "# print(\"REPLICAS: \", strategy.num_replicas_in_sync)"
      ],
      "execution_count": 2,
      "outputs": [
        {
          "output_type": "stream",
          "name": "stdout",
          "text": [
            "TPU address is grpc://10.87.159.114:8470\n",
            "Running on TPU  grpc://10.87.159.114:8470\n",
            "INFO:tensorflow:Clearing out eager caches\n"
          ]
        },
        {
          "output_type": "stream",
          "name": "stderr",
          "text": [
            "INFO:tensorflow:Clearing out eager caches\n"
          ]
        },
        {
          "output_type": "stream",
          "name": "stdout",
          "text": [
            "INFO:tensorflow:Initializing the TPU system: grpc://10.87.159.114:8470\n"
          ]
        },
        {
          "output_type": "stream",
          "name": "stderr",
          "text": [
            "INFO:tensorflow:Initializing the TPU system: grpc://10.87.159.114:8470\n"
          ]
        },
        {
          "output_type": "stream",
          "name": "stdout",
          "text": [
            "INFO:tensorflow:Finished initializing TPU system.\n"
          ]
        },
        {
          "output_type": "stream",
          "name": "stderr",
          "text": [
            "INFO:tensorflow:Finished initializing TPU system.\n",
            "WARNING:absl:`tf.distribute.experimental.TPUStrategy` is deprecated, please use  the non experimental symbol `tf.distribute.TPUStrategy` instead.\n"
          ]
        },
        {
          "output_type": "stream",
          "name": "stdout",
          "text": [
            "INFO:tensorflow:Found TPU system:\n"
          ]
        },
        {
          "output_type": "stream",
          "name": "stderr",
          "text": [
            "INFO:tensorflow:Found TPU system:\n"
          ]
        },
        {
          "output_type": "stream",
          "name": "stdout",
          "text": [
            "INFO:tensorflow:*** Num TPU Cores: 8\n"
          ]
        },
        {
          "output_type": "stream",
          "name": "stderr",
          "text": [
            "INFO:tensorflow:*** Num TPU Cores: 8\n"
          ]
        },
        {
          "output_type": "stream",
          "name": "stdout",
          "text": [
            "INFO:tensorflow:*** Num TPU Workers: 1\n"
          ]
        },
        {
          "output_type": "stream",
          "name": "stderr",
          "text": [
            "INFO:tensorflow:*** Num TPU Workers: 1\n"
          ]
        },
        {
          "output_type": "stream",
          "name": "stdout",
          "text": [
            "INFO:tensorflow:*** Num TPU Cores Per Worker: 8\n"
          ]
        },
        {
          "output_type": "stream",
          "name": "stderr",
          "text": [
            "INFO:tensorflow:*** Num TPU Cores Per Worker: 8\n"
          ]
        },
        {
          "output_type": "stream",
          "name": "stdout",
          "text": [
            "INFO:tensorflow:*** Available Device: _DeviceAttributes(/job:localhost/replica:0/task:0/device:CPU:0, CPU, 0, 0)\n"
          ]
        },
        {
          "output_type": "stream",
          "name": "stderr",
          "text": [
            "INFO:tensorflow:*** Available Device: _DeviceAttributes(/job:localhost/replica:0/task:0/device:CPU:0, CPU, 0, 0)\n"
          ]
        },
        {
          "output_type": "stream",
          "name": "stdout",
          "text": [
            "INFO:tensorflow:*** Available Device: _DeviceAttributes(/job:worker/replica:0/task:0/device:CPU:0, CPU, 0, 0)\n"
          ]
        },
        {
          "output_type": "stream",
          "name": "stderr",
          "text": [
            "INFO:tensorflow:*** Available Device: _DeviceAttributes(/job:worker/replica:0/task:0/device:CPU:0, CPU, 0, 0)\n"
          ]
        },
        {
          "output_type": "stream",
          "name": "stdout",
          "text": [
            "INFO:tensorflow:*** Available Device: _DeviceAttributes(/job:worker/replica:0/task:0/device:TPU:0, TPU, 0, 0)\n"
          ]
        },
        {
          "output_type": "stream",
          "name": "stderr",
          "text": [
            "INFO:tensorflow:*** Available Device: _DeviceAttributes(/job:worker/replica:0/task:0/device:TPU:0, TPU, 0, 0)\n"
          ]
        },
        {
          "output_type": "stream",
          "name": "stdout",
          "text": [
            "INFO:tensorflow:*** Available Device: _DeviceAttributes(/job:worker/replica:0/task:0/device:TPU:1, TPU, 0, 0)\n"
          ]
        },
        {
          "output_type": "stream",
          "name": "stderr",
          "text": [
            "INFO:tensorflow:*** Available Device: _DeviceAttributes(/job:worker/replica:0/task:0/device:TPU:1, TPU, 0, 0)\n"
          ]
        },
        {
          "output_type": "stream",
          "name": "stdout",
          "text": [
            "INFO:tensorflow:*** Available Device: _DeviceAttributes(/job:worker/replica:0/task:0/device:TPU:2, TPU, 0, 0)\n"
          ]
        },
        {
          "output_type": "stream",
          "name": "stderr",
          "text": [
            "INFO:tensorflow:*** Available Device: _DeviceAttributes(/job:worker/replica:0/task:0/device:TPU:2, TPU, 0, 0)\n"
          ]
        },
        {
          "output_type": "stream",
          "name": "stdout",
          "text": [
            "INFO:tensorflow:*** Available Device: _DeviceAttributes(/job:worker/replica:0/task:0/device:TPU:3, TPU, 0, 0)\n"
          ]
        },
        {
          "output_type": "stream",
          "name": "stderr",
          "text": [
            "INFO:tensorflow:*** Available Device: _DeviceAttributes(/job:worker/replica:0/task:0/device:TPU:3, TPU, 0, 0)\n"
          ]
        },
        {
          "output_type": "stream",
          "name": "stdout",
          "text": [
            "INFO:tensorflow:*** Available Device: _DeviceAttributes(/job:worker/replica:0/task:0/device:TPU:4, TPU, 0, 0)\n"
          ]
        },
        {
          "output_type": "stream",
          "name": "stderr",
          "text": [
            "INFO:tensorflow:*** Available Device: _DeviceAttributes(/job:worker/replica:0/task:0/device:TPU:4, TPU, 0, 0)\n"
          ]
        },
        {
          "output_type": "stream",
          "name": "stdout",
          "text": [
            "INFO:tensorflow:*** Available Device: _DeviceAttributes(/job:worker/replica:0/task:0/device:TPU:5, TPU, 0, 0)\n"
          ]
        },
        {
          "output_type": "stream",
          "name": "stderr",
          "text": [
            "INFO:tensorflow:*** Available Device: _DeviceAttributes(/job:worker/replica:0/task:0/device:TPU:5, TPU, 0, 0)\n"
          ]
        },
        {
          "output_type": "stream",
          "name": "stdout",
          "text": [
            "INFO:tensorflow:*** Available Device: _DeviceAttributes(/job:worker/replica:0/task:0/device:TPU:6, TPU, 0, 0)\n"
          ]
        },
        {
          "output_type": "stream",
          "name": "stderr",
          "text": [
            "INFO:tensorflow:*** Available Device: _DeviceAttributes(/job:worker/replica:0/task:0/device:TPU:6, TPU, 0, 0)\n"
          ]
        },
        {
          "output_type": "stream",
          "name": "stdout",
          "text": [
            "INFO:tensorflow:*** Available Device: _DeviceAttributes(/job:worker/replica:0/task:0/device:TPU:7, TPU, 0, 0)\n"
          ]
        },
        {
          "output_type": "stream",
          "name": "stderr",
          "text": [
            "INFO:tensorflow:*** Available Device: _DeviceAttributes(/job:worker/replica:0/task:0/device:TPU:7, TPU, 0, 0)\n"
          ]
        },
        {
          "output_type": "stream",
          "name": "stdout",
          "text": [
            "INFO:tensorflow:*** Available Device: _DeviceAttributes(/job:worker/replica:0/task:0/device:TPU_SYSTEM:0, TPU_SYSTEM, 0, 0)\n"
          ]
        },
        {
          "output_type": "stream",
          "name": "stderr",
          "text": [
            "INFO:tensorflow:*** Available Device: _DeviceAttributes(/job:worker/replica:0/task:0/device:TPU_SYSTEM:0, TPU_SYSTEM, 0, 0)\n"
          ]
        },
        {
          "output_type": "stream",
          "name": "stdout",
          "text": [
            "INFO:tensorflow:*** Available Device: _DeviceAttributes(/job:worker/replica:0/task:0/device:XLA_CPU:0, XLA_CPU, 0, 0)\n"
          ]
        },
        {
          "output_type": "stream",
          "name": "stderr",
          "text": [
            "INFO:tensorflow:*** Available Device: _DeviceAttributes(/job:worker/replica:0/task:0/device:XLA_CPU:0, XLA_CPU, 0, 0)\n"
          ]
        },
        {
          "output_type": "stream",
          "name": "stdout",
          "text": [
            "REPLICAS:  8\n"
          ]
        }
      ]
    },
    {
      "cell_type": "markdown",
      "metadata": {
        "id": "v6qUuTklSyZq"
      },
      "source": [
        "# HYPER"
      ]
    },
    {
      "cell_type": "code",
      "metadata": {
        "id": "oQ2J7rVBS0sJ"
      },
      "source": [
        "BASE_SEQ_LEN = 4467\n",
        "NUM_VAR = 31\n",
        "INPUT_SEQ_LEN = 16 \n",
        "OUTPUT_SEQ_LEN = 1 \n",
        "BATCH_SIZE = 128"
      ],
      "execution_count": 51,
      "outputs": []
    },
    {
      "cell_type": "markdown",
      "metadata": {
        "id": "xxSWs-yuQt3o"
      },
      "source": [
        "# READ DATA"
      ]
    },
    {
      "cell_type": "code",
      "metadata": {
        "id": "NDHAdjPxGtOO"
      },
      "source": [
        "url = 'https://raw.githubusercontent.com/Rainmaker519/NGAFID_Anomaly_Detection/main/NGAFID_dataset/c172_file_2.csv'\n",
        "data = pd.read_csv(url)"
      ],
      "execution_count": 18,
      "outputs": []
    },
    {
      "cell_type": "code",
      "metadata": {
        "colab": {
          "base_uri": "https://localhost:8080/",
          "height": 320
        },
        "id": "YnRSuF6nHLhs",
        "outputId": "62ac0767-8b88-419d-e0bd-ef2e82e1d01d"
      },
      "source": [
        "data.describe()"
      ],
      "execution_count": 19,
      "outputs": [
        {
          "output_type": "execute_result",
          "data": {
            "text/html": [
              "<div>\n",
              "<style scoped>\n",
              "    .dataframe tbody tr th:only-of-type {\n",
              "        vertical-align: middle;\n",
              "    }\n",
              "\n",
              "    .dataframe tbody tr th {\n",
              "        vertical-align: top;\n",
              "    }\n",
              "\n",
              "    .dataframe thead th {\n",
              "        text-align: right;\n",
              "    }\n",
              "</style>\n",
              "<table border=\"1\" class=\"dataframe\">\n",
              "  <thead>\n",
              "    <tr style=\"text-align: right;\">\n",
              "      <th></th>\n",
              "      <th>AltAGL</th>\n",
              "      <th>AltB</th>\n",
              "      <th>AltGPS</th>\n",
              "      <th>AltMSL</th>\n",
              "      <th>BaroA</th>\n",
              "      <th>E1_CHT1</th>\n",
              "      <th>E1_CHT2</th>\n",
              "      <th>E1_CHT3</th>\n",
              "      <th>E1_CHT4</th>\n",
              "      <th>E1_EGT1</th>\n",
              "      <th>E1_EGT2</th>\n",
              "      <th>E1_EGT3</th>\n",
              "      <th>E1_EGT4</th>\n",
              "      <th>E1_FFlow</th>\n",
              "      <th>E1_OilP</th>\n",
              "      <th>E1_OilT</th>\n",
              "      <th>E1_RPM</th>\n",
              "      <th>FQtyL</th>\n",
              "      <th>FQtyR</th>\n",
              "      <th>GndSpd</th>\n",
              "      <th>IAS</th>\n",
              "      <th>LatAc</th>\n",
              "      <th>NormAc</th>\n",
              "      <th>OAT</th>\n",
              "      <th>Pitch</th>\n",
              "      <th>Roll</th>\n",
              "      <th>TAS</th>\n",
              "      <th>VSpd</th>\n",
              "      <th>VSpdG</th>\n",
              "      <th>WndDr</th>\n",
              "      <th>WndSpd</th>\n",
              "    </tr>\n",
              "  </thead>\n",
              "  <tbody>\n",
              "    <tr>\n",
              "      <th>count</th>\n",
              "      <td>4467.000000</td>\n",
              "      <td>4467.000000</td>\n",
              "      <td>4467.000000</td>\n",
              "      <td>4467.000000</td>\n",
              "      <td>4467.000000</td>\n",
              "      <td>4467.000000</td>\n",
              "      <td>4467.000000</td>\n",
              "      <td>4467.000000</td>\n",
              "      <td>4467.000000</td>\n",
              "      <td>4467.000000</td>\n",
              "      <td>4467.000000</td>\n",
              "      <td>4467.000000</td>\n",
              "      <td>4467.000000</td>\n",
              "      <td>4467.000000</td>\n",
              "      <td>4467.000000</td>\n",
              "      <td>4467.000000</td>\n",
              "      <td>4467.000000</td>\n",
              "      <td>4467.000000</td>\n",
              "      <td>4467.000000</td>\n",
              "      <td>4467.000000</td>\n",
              "      <td>4467.000000</td>\n",
              "      <td>4467.000000</td>\n",
              "      <td>4467.000000</td>\n",
              "      <td>4467.000000</td>\n",
              "      <td>4467.000000</td>\n",
              "      <td>4467.000000</td>\n",
              "      <td>4467.000000</td>\n",
              "      <td>4467.000000</td>\n",
              "      <td>4467.000000</td>\n",
              "      <td>4467.000000</td>\n",
              "      <td>4467.000000</td>\n",
              "    </tr>\n",
              "    <tr>\n",
              "      <th>mean</th>\n",
              "      <td>621.904634</td>\n",
              "      <td>1447.365413</td>\n",
              "      <td>1354.174905</td>\n",
              "      <td>1443.162077</td>\n",
              "      <td>30.003956</td>\n",
              "      <td>282.680786</td>\n",
              "      <td>306.380663</td>\n",
              "      <td>309.696344</td>\n",
              "      <td>322.298849</td>\n",
              "      <td>1271.838117</td>\n",
              "      <td>1240.913891</td>\n",
              "      <td>1269.034569</td>\n",
              "      <td>1242.800405</td>\n",
              "      <td>8.043550</td>\n",
              "      <td>63.439507</td>\n",
              "      <td>166.060369</td>\n",
              "      <td>1923.664607</td>\n",
              "      <td>13.878471</td>\n",
              "      <td>16.101974</td>\n",
              "      <td>78.021084</td>\n",
              "      <td>76.867974</td>\n",
              "      <td>-0.012691</td>\n",
              "      <td>0.024941</td>\n",
              "      <td>21.816835</td>\n",
              "      <td>2.927833</td>\n",
              "      <td>-2.875534</td>\n",
              "      <td>79.852026</td>\n",
              "      <td>-15.005946</td>\n",
              "      <td>-15.201948</td>\n",
              "      <td>61.420081</td>\n",
              "      <td>5.150486</td>\n",
              "    </tr>\n",
              "    <tr>\n",
              "      <th>std</th>\n",
              "      <td>430.763101</td>\n",
              "      <td>419.003121</td>\n",
              "      <td>422.684410</td>\n",
              "      <td>422.680796</td>\n",
              "      <td>0.009185</td>\n",
              "      <td>23.679792</td>\n",
              "      <td>26.798223</td>\n",
              "      <td>24.313926</td>\n",
              "      <td>26.057577</td>\n",
              "      <td>113.993135</td>\n",
              "      <td>151.593224</td>\n",
              "      <td>114.742380</td>\n",
              "      <td>110.930938</td>\n",
              "      <td>4.633955</td>\n",
              "      <td>7.356695</td>\n",
              "      <td>5.454409</td>\n",
              "      <td>597.475491</td>\n",
              "      <td>2.211355</td>\n",
              "      <td>1.415391</td>\n",
              "      <td>26.455299</td>\n",
              "      <td>28.560461</td>\n",
              "      <td>0.029323</td>\n",
              "      <td>0.103672</td>\n",
              "      <td>1.108857</td>\n",
              "      <td>3.980810</td>\n",
              "      <td>12.151214</td>\n",
              "      <td>29.889523</td>\n",
              "      <td>488.473980</td>\n",
              "      <td>517.127489</td>\n",
              "      <td>103.837486</td>\n",
              "      <td>3.116676</td>\n",
              "    </tr>\n",
              "    <tr>\n",
              "      <th>min</th>\n",
              "      <td>0.000000</td>\n",
              "      <td>825.500000</td>\n",
              "      <td>739.300000</td>\n",
              "      <td>828.500000</td>\n",
              "      <td>29.990000</td>\n",
              "      <td>197.340000</td>\n",
              "      <td>201.590000</td>\n",
              "      <td>219.090000</td>\n",
              "      <td>225.070000</td>\n",
              "      <td>990.490000</td>\n",
              "      <td>797.260000</td>\n",
              "      <td>993.090000</td>\n",
              "      <td>957.750000</td>\n",
              "      <td>1.710000</td>\n",
              "      <td>42.950000</td>\n",
              "      <td>150.220000</td>\n",
              "      <td>767.800000</td>\n",
              "      <td>8.330000</td>\n",
              "      <td>9.790000</td>\n",
              "      <td>0.000000</td>\n",
              "      <td>-1.000000</td>\n",
              "      <td>-0.420000</td>\n",
              "      <td>-1.120000</td>\n",
              "      <td>19.200000</td>\n",
              "      <td>-22.420000</td>\n",
              "      <td>-58.460000</td>\n",
              "      <td>-1.000000</td>\n",
              "      <td>-3850.600000</td>\n",
              "      <td>-4169.300000</td>\n",
              "      <td>-179.900000</td>\n",
              "      <td>0.000000</td>\n",
              "    </tr>\n",
              "    <tr>\n",
              "      <th>25%</th>\n",
              "      <td>218.000000</td>\n",
              "      <td>1057.900000</td>\n",
              "      <td>960.900000</td>\n",
              "      <td>1050.150000</td>\n",
              "      <td>29.990000</td>\n",
              "      <td>267.375000</td>\n",
              "      <td>290.080000</td>\n",
              "      <td>292.560000</td>\n",
              "      <td>304.485000</td>\n",
              "      <td>1176.890000</td>\n",
              "      <td>1123.615000</td>\n",
              "      <td>1181.035000</td>\n",
              "      <td>1155.965000</td>\n",
              "      <td>2.475000</td>\n",
              "      <td>55.340000</td>\n",
              "      <td>163.085000</td>\n",
              "      <td>1237.900000</td>\n",
              "      <td>11.960000</td>\n",
              "      <td>15.230000</td>\n",
              "      <td>70.080000</td>\n",
              "      <td>69.390000</td>\n",
              "      <td>-0.030000</td>\n",
              "      <td>-0.020000</td>\n",
              "      <td>21.500000</td>\n",
              "      <td>0.525000</td>\n",
              "      <td>-3.440000</td>\n",
              "      <td>72.000000</td>\n",
              "      <td>-318.070000</td>\n",
              "      <td>-330.700000</td>\n",
              "      <td>0.000000</td>\n",
              "      <td>2.530000</td>\n",
              "    </tr>\n",
              "    <tr>\n",
              "      <th>50%</th>\n",
              "      <td>705.000000</td>\n",
              "      <td>1529.900000</td>\n",
              "      <td>1432.900000</td>\n",
              "      <td>1522.100000</td>\n",
              "      <td>30.010000</td>\n",
              "      <td>289.760000</td>\n",
              "      <td>314.860000</td>\n",
              "      <td>317.460000</td>\n",
              "      <td>330.750000</td>\n",
              "      <td>1322.650000</td>\n",
              "      <td>1327.840000</td>\n",
              "      <td>1322.010000</td>\n",
              "      <td>1302.580000</td>\n",
              "      <td>8.780000</td>\n",
              "      <td>67.290000</td>\n",
              "      <td>167.760000</td>\n",
              "      <td>2225.200000</td>\n",
              "      <td>13.540000</td>\n",
              "      <td>16.100000</td>\n",
              "      <td>81.390000</td>\n",
              "      <td>79.290000</td>\n",
              "      <td>-0.010000</td>\n",
              "      <td>0.010000</td>\n",
              "      <td>21.800000</td>\n",
              "      <td>2.320000</td>\n",
              "      <td>-0.100000</td>\n",
              "      <td>82.000000</td>\n",
              "      <td>-9.520000</td>\n",
              "      <td>-3.900000</td>\n",
              "      <td>101.900000</td>\n",
              "      <td>5.250000</td>\n",
              "    </tr>\n",
              "    <tr>\n",
              "      <th>75%</th>\n",
              "      <td>814.500000</td>\n",
              "      <td>1642.400000</td>\n",
              "      <td>1540.850000</td>\n",
              "      <td>1629.850000</td>\n",
              "      <td>30.010000</td>\n",
              "      <td>299.965000</td>\n",
              "      <td>322.860000</td>\n",
              "      <td>327.235000</td>\n",
              "      <td>341.645000</td>\n",
              "      <td>1346.820000</td>\n",
              "      <td>1347.425000</td>\n",
              "      <td>1353.805000</td>\n",
              "      <td>1322.390000</td>\n",
              "      <td>10.575000</td>\n",
              "      <td>68.660000</td>\n",
              "      <td>169.865000</td>\n",
              "      <td>2406.500000</td>\n",
              "      <td>15.650000</td>\n",
              "      <td>17.150000</td>\n",
              "      <td>97.520000</td>\n",
              "      <td>97.245000</td>\n",
              "      <td>0.000000</td>\n",
              "      <td>0.050000</td>\n",
              "      <td>22.800000</td>\n",
              "      <td>4.905000</td>\n",
              "      <td>1.310000</td>\n",
              "      <td>101.000000</td>\n",
              "      <td>220.415000</td>\n",
              "      <td>216.500000</td>\n",
              "      <td>148.100000</td>\n",
              "      <td>7.730000</td>\n",
              "    </tr>\n",
              "    <tr>\n",
              "      <th>max</th>\n",
              "      <td>1365.000000</td>\n",
              "      <td>2203.500000</td>\n",
              "      <td>2089.900000</td>\n",
              "      <td>2178.800000</td>\n",
              "      <td>30.010000</td>\n",
              "      <td>319.640000</td>\n",
              "      <td>351.060000</td>\n",
              "      <td>348.560000</td>\n",
              "      <td>360.260000</td>\n",
              "      <td>1416.460000</td>\n",
              "      <td>1394.960000</td>\n",
              "      <td>1394.470000</td>\n",
              "      <td>1359.690000</td>\n",
              "      <td>15.520000</td>\n",
              "      <td>75.490000</td>\n",
              "      <td>173.800000</td>\n",
              "      <td>2618.100000</td>\n",
              "      <td>21.830000</td>\n",
              "      <td>21.090000</td>\n",
              "      <td>123.300000</td>\n",
              "      <td>126.200000</td>\n",
              "      <td>0.180000</td>\n",
              "      <td>0.850000</td>\n",
              "      <td>24.000000</td>\n",
              "      <td>22.550000</td>\n",
              "      <td>31.890000</td>\n",
              "      <td>132.000000</td>\n",
              "      <td>3669.790000</td>\n",
              "      <td>3858.300000</td>\n",
              "      <td>179.900000</td>\n",
              "      <td>12.560000</td>\n",
              "    </tr>\n",
              "  </tbody>\n",
              "</table>\n",
              "</div>"
            ],
            "text/plain": [
              "            AltAGL         AltB  ...        WndDr       WndSpd\n",
              "count  4467.000000  4467.000000  ...  4467.000000  4467.000000\n",
              "mean    621.904634  1447.365413  ...    61.420081     5.150486\n",
              "std     430.763101   419.003121  ...   103.837486     3.116676\n",
              "min       0.000000   825.500000  ...  -179.900000     0.000000\n",
              "25%     218.000000  1057.900000  ...     0.000000     2.530000\n",
              "50%     705.000000  1529.900000  ...   101.900000     5.250000\n",
              "75%     814.500000  1642.400000  ...   148.100000     7.730000\n",
              "max    1365.000000  2203.500000  ...   179.900000    12.560000\n",
              "\n",
              "[8 rows x 31 columns]"
            ]
          },
          "metadata": {},
          "execution_count": 19
        }
      ]
    },
    {
      "cell_type": "markdown",
      "metadata": {
        "id": "vpoMG2kTVwkk"
      },
      "source": [
        "# MODEL"
      ]
    },
    {
      "cell_type": "code",
      "metadata": {
        "id": "bYI3wuYOUgDa"
      },
      "source": [
        "def get_slice_random_segment(length):\n",
        "    \"\"\"This function will acquire a length of slice from the dataset.\n",
        "    Parameter: length, length of the dataset\n",
        "    return: array\n",
        "    \"\"\"\n",
        "    def slice_random_segment(x):\n",
        "      \"\"\"This function will return the specific array\n",
        "      Parameter: x, dataset\n",
        "      return: array\n",
        "      \"\"\"\n",
        "      #minval = min numbers of data points, maxval = max numbers of data points\n",
        "      start = tf.random.uniform(shape=[], minval=0, maxval= BASE_SEQ_LEN-length, dtype=tf.int64)\n",
        "      x = x[start:start+length]\n",
        "      #reshape will turn x into the shape of (length, NUM_VAR)\n",
        "      x = tf.reshape(x, (length, NUM_VAR))\n",
        "      return x \n",
        "    return slice_random_segment\n",
        "\n",
        "def get_split_xy(y_length):\n",
        "  \"\"\"This will get two specific group of data points.\n",
        "  Parameter: y_length\n",
        "  return: x, y \n",
        "  \"\"\"\n",
        "  def split_xy(x):\n",
        "    \"\"\"\n",
        "    Parameter: dataset\n",
        "    \"\"\"\n",
        "    y = x[-y_length:]\n",
        "    return x[:-y_length], y \n",
        "  return split_xy\n",
        "\n",
        "def get_dataset(train_data, shuffle = False, repeat = False): \n",
        "    ds = tf.data.Dataset.from_tensor_slices(train_data)\n",
        "    print(ds)\n",
        "    ds = ds.map(get_slice_random_segment(length = INPUT_SEQ_LEN + OUTPUT_SEQ_LEN ))\n",
        "    ds = ds.map(get_split_xy(y_length=OUTPUT_SEQ_LEN))\n",
        "    print(ds)\n",
        "\n",
        "    #Changing the value of buffer_size affects how uniform the shuffling\n",
        "    ds = ds.shuffle(512) if shuffle else ds \n",
        "    ds = ds.repeat() if repeat else ds.repeat(2)\n",
        "    ds = ds.batch(BATCH_SIZE, drop_remainder=True)\n",
        "\n",
        "    return ds \n",
        "\n",
        "\n",
        "def get_detection_xy(df):\n",
        "    \"\"\"get the testing dataset\n",
        "    Parameter: dataset\n",
        "    return: x:slice of dataset(testing), y:target value\n",
        "    \"\"\"\n",
        "    scaled = scaler.transform(df)\n",
        "\n",
        "    x = []\n",
        "    y = []\n",
        "\n",
        "    for i in range(BASE_SEQ_LEN - INPUT_SEQ_LEN - OUTPUT_SEQ_LEN):\n",
        "        x.append(scaled[i:i+ INPUT_SEQ_LEN])\n",
        "        y.append(scaled[i+INPUT_SEQ_LEN: i + INPUT_SEQ_LEN + OUTPUT_SEQ_LEN])\n",
        "\n",
        "    x = np.stack(x)\n",
        "    y = np.stack(y)\n",
        "\n",
        "    return x,y \n",
        "    \n",
        "def get_mse(df, model):\n",
        "    \"\"\" Get loss value: the mean squared error value\n",
        "    Parameter: dataset, model\n",
        "    Return: loss value\n",
        "    \"\"\"\n",
        "    x, y = get_detection_xy(df) \n",
        "    y_pred_1 = model.predict(x, verbose = True)\n",
        "    mse_1 = tfk.losses.MSE(y, y_pred_1).numpy()\n",
        "    return mse_1.flatten()\n"
      ],
      "execution_count": 69,
      "outputs": []
    },
    {
      "cell_type": "code",
      "metadata": {
        "id": "17mCyV75Vxnj"
      },
      "source": [
        "#LSTM\n",
        "def get_model_1():\n",
        "    with strategy.scope():\n",
        "      model = tf.keras.Sequential([\n",
        "                              tf.keras.Input(shape  = (INPUT_SEQ_LEN, NUM_VAR)),\n",
        "                              tfkl.LSTM(64, return_sequences=True), \n",
        "                              tfkl.LSTM(64, return_sequences=False),\n",
        "                              tfkl.RepeatVector(OUTPUT_SEQ_LEN), \n",
        "                              tfkl.LSTM(64, return_sequences=True),\n",
        "                              tfkl.Dense(NUM_VAR, activation = 'relu')\n",
        "\n",
        "      ])\n",
        "\n",
        "      model.compile(optimizer = tfk.optimizers.Adam(learning_rate=1e-4), loss = \"mse\" )\n",
        "\n",
        "      return model "
      ],
      "execution_count": 53,
      "outputs": []
    },
    {
      "cell_type": "code",
      "metadata": {
        "id": "3fK_QybpXJLE"
      },
      "source": [
        "#LSTM\n",
        "def get_model_2():\n",
        "    with strategy.scope():\n",
        "      model = tf.keras.Sequential([\n",
        "                              tf.keras.Input(shape  = (INPUT_SEQ_LEN, NUM_VAR)),\n",
        "                              tfkl.LSTM(64, return_sequences=True), \n",
        "                              tfkl.LSTM(64, return_sequences=True),\n",
        "                              tfkl.LSTM(64, return_sequences=False),\n",
        "                              tfkl.Dropout(0.5),\n",
        "                              tfkl.RepeatVector(OUTPUT_SEQ_LEN), \n",
        "                              tfkl.LSTM(64, return_sequences=True),\n",
        "                              tfkl.Dense(NUM_VAR, activation = 'relu')\n",
        "\n",
        "      ])\n",
        "\n",
        "      model.compile(optimizer = tfk.optimizers.Adam(learning_rate=1e-4), loss = \"mse\" )\n",
        "\n",
        "      return model "
      ],
      "execution_count": null,
      "outputs": []
    },
    {
      "cell_type": "code",
      "metadata": {
        "id": "MRYdT0dDXKkF"
      },
      "source": [
        "#GRU\n",
        "def get_model_3():\n",
        "    with strategy.scope():\n",
        "      model = tf.keras.Sequential([\n",
        "                              tf.keras.Input(shape  = (INPUT_SEQ_LEN, NUM_VAR)),\n",
        "                              tfkl.GRU(64, return_sequences=True), \n",
        "                              tfkl.GRU(64, return_sequences=False),\n",
        "                              tfkl.RepeatVector(OUTPUT_SEQ_LEN), \n",
        "                              tfkl.GRU(64, return_sequences=True),\n",
        "                              tfkl.Dense(NUM_VAR, activation = 'relu')\n",
        "\n",
        "      ])\n",
        "\n",
        "      model.compile(optimizer = tfk.optimizers.Adam(learning_rate=1e-4), loss = \"mse\" )\n",
        "\n",
        "      return model "
      ],
      "execution_count": null,
      "outputs": []
    },
    {
      "cell_type": "code",
      "metadata": {
        "id": "YeTl-WGfXLp9"
      },
      "source": [
        "#GRU\n",
        "def get_model_4():\n",
        "    with strategy.scope():\n",
        "      model = tf.keras.Sequential([\n",
        "                              tf.keras.Input(shape  = (INPUT_SEQ_LEN, NUM_VAR)),\n",
        "                              # tfkl.Conv1D(64, 5, 1),\n",
        "                              tfkl.GRU(64, return_sequences=True), \n",
        "                              tfkl.GRU(64, return_sequences=True),\n",
        "                              tfkl.GRU(64, return_sequences=False),\n",
        "                              tfkl.Dropout(0.5),\n",
        "                              tfkl.RepeatVector(OUTPUT_SEQ_LEN), \n",
        "                              tfkl.GRU(64, return_sequences=True),\n",
        "                              tfkl.Dense(NUM_VAR, activation = 'relu')\n",
        "\n",
        "      ])\n",
        "\n",
        "      model.compile(optimizer = tfk.optimizers.Adam(learning_rate=1e-4), loss = \"mse\" )\n",
        "\n",
        "      return model \n"
      ],
      "execution_count": null,
      "outputs": []
    },
    {
      "cell_type": "code",
      "metadata": {
        "id": "GFUBEA3o6i7g"
      },
      "source": [
        "def train_model(df, model):\n",
        "  # train_df = fault_free_training\n",
        "  train_df = df\n",
        "\n",
        "  scaler = preprocessing.MinMaxScaler()\n",
        "  scaler.fit(train_df.iloc[:,:].values)\n",
        "\n",
        "  \n",
        "  train_df.iloc[:,:] = scaler.transform(train_df.iloc[:,:].values)\n",
        "  print(train_df)\n",
        "  train_ds = get_dataset(train_df, shuffle = True, repeat=True)\n",
        "  print(train_ds)\n",
        "  model.fit(\n",
        "      train_ds, \n",
        "      epochs = 20,\n",
        "      steps_per_epoch = 1000,\n",
        "  )\n",
        "\n",
        "  return model"
      ],
      "execution_count": 61,
      "outputs": []
    },
    {
      "cell_type": "code",
      "metadata": {
        "colab": {
          "base_uri": "https://localhost:8080/",
          "height": 1000
        },
        "id": "qiXkOhmvGdN-",
        "outputId": "795f10de-1ee3-4ce5-db88-9cf1e5ea774f"
      },
      "source": [
        "model = get_model_1()\n",
        "model = train_model(data, model)"
      ],
      "execution_count": 70,
      "outputs": [
        {
          "output_type": "stream",
          "name": "stdout",
          "text": [
            "        AltAGL      AltB    AltGPS  ...     VSpdG     WndDr    WndSpd\n",
            "0     0.793407  0.776052  0.803421  ...  0.424224  0.412173  0.158439\n",
            "1     0.788278  0.768070  0.794906  ...  0.427662  0.404113  0.157643\n",
            "2     0.779487  0.763716  0.786317  ...  0.430116  0.395775  0.156051\n",
            "3     0.770696  0.757184  0.777654  ...  0.430602  0.385492  0.154459\n",
            "4     0.762637  0.748476  0.769140  ...  0.432072  0.372429  0.152070\n",
            "...        ...       ...       ...  ...       ...       ...       ...\n",
            "4462  0.000000  0.007983  0.008663  ...  0.519371  0.500000  0.000000\n",
            "4463  0.000000  0.007983  0.008589  ...  0.519371  0.500000  0.000000\n",
            "4464  0.000000  0.007983  0.008589  ...  0.519371  0.500000  0.000000\n",
            "4465  0.000000  0.008708  0.008441  ...  0.518885  0.500000  0.000000\n",
            "4466  0.000000  0.008708  0.008441  ...  0.519371  0.500000  0.000000\n",
            "\n",
            "[4467 rows x 31 columns]\n",
            "<TensorSliceDataset shapes: (31,), types: tf.float64>\n",
            "<MapDataset shapes: ((16, 31), (1, 31)), types: (tf.float64, tf.float64)>\n",
            "<BatchDataset shapes: ((128, 16, 31), (128, 1, 31)), types: (tf.float64, tf.float64)>\n",
            "Epoch 1/20\n"
          ]
        },
        {
          "output_type": "error",
          "ename": "InvalidArgumentError",
          "evalue": "ignored",
          "traceback": [
            "\u001b[0;31m---------------------------------------------------------------------------\u001b[0m",
            "\u001b[0;31mInvalidArgumentError\u001b[0m                      Traceback (most recent call last)",
            "\u001b[0;32m<ipython-input-70-5c2798f77065>\u001b[0m in \u001b[0;36m<module>\u001b[0;34m()\u001b[0m\n\u001b[1;32m      1\u001b[0m \u001b[0mmodel\u001b[0m \u001b[0;34m=\u001b[0m \u001b[0mget_model_1\u001b[0m\u001b[0;34m(\u001b[0m\u001b[0;34m)\u001b[0m\u001b[0;34m\u001b[0m\u001b[0;34m\u001b[0m\u001b[0m\n\u001b[0;32m----> 2\u001b[0;31m \u001b[0mmodel\u001b[0m \u001b[0;34m=\u001b[0m \u001b[0mtrain_model\u001b[0m\u001b[0;34m(\u001b[0m\u001b[0mdata\u001b[0m\u001b[0;34m,\u001b[0m \u001b[0mmodel\u001b[0m\u001b[0;34m)\u001b[0m\u001b[0;34m\u001b[0m\u001b[0;34m\u001b[0m\u001b[0m\n\u001b[0m",
            "\u001b[0;32m<ipython-input-61-cfd51ddd5710>\u001b[0m in \u001b[0;36mtrain_model\u001b[0;34m(df, model)\u001b[0m\n\u001b[1;32m     14\u001b[0m       \u001b[0mtrain_ds\u001b[0m\u001b[0;34m,\u001b[0m\u001b[0;34m\u001b[0m\u001b[0;34m\u001b[0m\u001b[0m\n\u001b[1;32m     15\u001b[0m       \u001b[0mepochs\u001b[0m \u001b[0;34m=\u001b[0m \u001b[0;36m20\u001b[0m\u001b[0;34m,\u001b[0m\u001b[0;34m\u001b[0m\u001b[0;34m\u001b[0m\u001b[0m\n\u001b[0;32m---> 16\u001b[0;31m       \u001b[0msteps_per_epoch\u001b[0m \u001b[0;34m=\u001b[0m \u001b[0;36m1000\u001b[0m\u001b[0;34m,\u001b[0m\u001b[0;34m\u001b[0m\u001b[0;34m\u001b[0m\u001b[0m\n\u001b[0m\u001b[1;32m     17\u001b[0m   )\n\u001b[1;32m     18\u001b[0m \u001b[0;34m\u001b[0m\u001b[0m\n",
            "\u001b[0;32m/usr/local/lib/python3.7/dist-packages/keras/engine/training.py\u001b[0m in \u001b[0;36mfit\u001b[0;34m(self, x, y, batch_size, epochs, verbose, callbacks, validation_split, validation_data, shuffle, class_weight, sample_weight, initial_epoch, steps_per_epoch, validation_steps, validation_batch_size, validation_freq, max_queue_size, workers, use_multiprocessing)\u001b[0m\n\u001b[1;32m   1187\u001b[0m               \u001b[0mlogs\u001b[0m \u001b[0;34m=\u001b[0m \u001b[0mtmp_logs\u001b[0m  \u001b[0;31m# No error, now safe to assign to logs.\u001b[0m\u001b[0;34m\u001b[0m\u001b[0;34m\u001b[0m\u001b[0m\n\u001b[1;32m   1188\u001b[0m               \u001b[0mend_step\u001b[0m \u001b[0;34m=\u001b[0m \u001b[0mstep\u001b[0m \u001b[0;34m+\u001b[0m \u001b[0mdata_handler\u001b[0m\u001b[0;34m.\u001b[0m\u001b[0mstep_increment\u001b[0m\u001b[0;34m\u001b[0m\u001b[0;34m\u001b[0m\u001b[0m\n\u001b[0;32m-> 1189\u001b[0;31m               \u001b[0mcallbacks\u001b[0m\u001b[0;34m.\u001b[0m\u001b[0mon_train_batch_end\u001b[0m\u001b[0;34m(\u001b[0m\u001b[0mend_step\u001b[0m\u001b[0;34m,\u001b[0m \u001b[0mlogs\u001b[0m\u001b[0;34m)\u001b[0m\u001b[0;34m\u001b[0m\u001b[0;34m\u001b[0m\u001b[0m\n\u001b[0m\u001b[1;32m   1190\u001b[0m               \u001b[0;32mif\u001b[0m \u001b[0mself\u001b[0m\u001b[0;34m.\u001b[0m\u001b[0mstop_training\u001b[0m\u001b[0;34m:\u001b[0m\u001b[0;34m\u001b[0m\u001b[0;34m\u001b[0m\u001b[0m\n\u001b[1;32m   1191\u001b[0m                 \u001b[0;32mbreak\u001b[0m\u001b[0;34m\u001b[0m\u001b[0;34m\u001b[0m\u001b[0m\n",
            "\u001b[0;32m/usr/local/lib/python3.7/dist-packages/keras/callbacks.py\u001b[0m in \u001b[0;36mon_train_batch_end\u001b[0;34m(self, batch, logs)\u001b[0m\n\u001b[1;32m    433\u001b[0m     \"\"\"\n\u001b[1;32m    434\u001b[0m     \u001b[0;32mif\u001b[0m \u001b[0mself\u001b[0m\u001b[0;34m.\u001b[0m\u001b[0m_should_call_train_batch_hooks\u001b[0m\u001b[0;34m:\u001b[0m\u001b[0;34m\u001b[0m\u001b[0;34m\u001b[0m\u001b[0m\n\u001b[0;32m--> 435\u001b[0;31m       \u001b[0mself\u001b[0m\u001b[0;34m.\u001b[0m\u001b[0m_call_batch_hook\u001b[0m\u001b[0;34m(\u001b[0m\u001b[0mModeKeys\u001b[0m\u001b[0;34m.\u001b[0m\u001b[0mTRAIN\u001b[0m\u001b[0;34m,\u001b[0m \u001b[0;34m'end'\u001b[0m\u001b[0;34m,\u001b[0m \u001b[0mbatch\u001b[0m\u001b[0;34m,\u001b[0m \u001b[0mlogs\u001b[0m\u001b[0;34m=\u001b[0m\u001b[0mlogs\u001b[0m\u001b[0;34m)\u001b[0m\u001b[0;34m\u001b[0m\u001b[0;34m\u001b[0m\u001b[0m\n\u001b[0m\u001b[1;32m    436\u001b[0m \u001b[0;34m\u001b[0m\u001b[0m\n\u001b[1;32m    437\u001b[0m   \u001b[0;32mdef\u001b[0m \u001b[0mon_test_batch_begin\u001b[0m\u001b[0;34m(\u001b[0m\u001b[0mself\u001b[0m\u001b[0;34m,\u001b[0m \u001b[0mbatch\u001b[0m\u001b[0;34m,\u001b[0m \u001b[0mlogs\u001b[0m\u001b[0;34m=\u001b[0m\u001b[0;32mNone\u001b[0m\u001b[0;34m)\u001b[0m\u001b[0;34m:\u001b[0m\u001b[0;34m\u001b[0m\u001b[0;34m\u001b[0m\u001b[0m\n",
            "\u001b[0;32m/usr/local/lib/python3.7/dist-packages/keras/callbacks.py\u001b[0m in \u001b[0;36m_call_batch_hook\u001b[0;34m(self, mode, hook, batch, logs)\u001b[0m\n\u001b[1;32m    293\u001b[0m       \u001b[0mself\u001b[0m\u001b[0;34m.\u001b[0m\u001b[0m_call_batch_begin_hook\u001b[0m\u001b[0;34m(\u001b[0m\u001b[0mmode\u001b[0m\u001b[0;34m,\u001b[0m \u001b[0mbatch\u001b[0m\u001b[0;34m,\u001b[0m \u001b[0mlogs\u001b[0m\u001b[0;34m)\u001b[0m\u001b[0;34m\u001b[0m\u001b[0;34m\u001b[0m\u001b[0m\n\u001b[1;32m    294\u001b[0m     \u001b[0;32melif\u001b[0m \u001b[0mhook\u001b[0m \u001b[0;34m==\u001b[0m \u001b[0;34m'end'\u001b[0m\u001b[0;34m:\u001b[0m\u001b[0;34m\u001b[0m\u001b[0;34m\u001b[0m\u001b[0m\n\u001b[0;32m--> 295\u001b[0;31m       \u001b[0mself\u001b[0m\u001b[0;34m.\u001b[0m\u001b[0m_call_batch_end_hook\u001b[0m\u001b[0;34m(\u001b[0m\u001b[0mmode\u001b[0m\u001b[0;34m,\u001b[0m \u001b[0mbatch\u001b[0m\u001b[0;34m,\u001b[0m \u001b[0mlogs\u001b[0m\u001b[0;34m)\u001b[0m\u001b[0;34m\u001b[0m\u001b[0;34m\u001b[0m\u001b[0m\n\u001b[0m\u001b[1;32m    296\u001b[0m     \u001b[0;32melse\u001b[0m\u001b[0;34m:\u001b[0m\u001b[0;34m\u001b[0m\u001b[0;34m\u001b[0m\u001b[0m\n\u001b[1;32m    297\u001b[0m       \u001b[0;32mraise\u001b[0m \u001b[0mValueError\u001b[0m\u001b[0;34m(\u001b[0m\u001b[0;34m'Unrecognized hook: {}'\u001b[0m\u001b[0;34m.\u001b[0m\u001b[0mformat\u001b[0m\u001b[0;34m(\u001b[0m\u001b[0mhook\u001b[0m\u001b[0;34m)\u001b[0m\u001b[0;34m)\u001b[0m\u001b[0;34m\u001b[0m\u001b[0;34m\u001b[0m\u001b[0m\n",
            "\u001b[0;32m/usr/local/lib/python3.7/dist-packages/keras/callbacks.py\u001b[0m in \u001b[0;36m_call_batch_end_hook\u001b[0;34m(self, mode, batch, logs)\u001b[0m\n\u001b[1;32m    313\u001b[0m       \u001b[0mself\u001b[0m\u001b[0;34m.\u001b[0m\u001b[0m_batch_times\u001b[0m\u001b[0;34m.\u001b[0m\u001b[0mappend\u001b[0m\u001b[0;34m(\u001b[0m\u001b[0mbatch_time\u001b[0m\u001b[0;34m)\u001b[0m\u001b[0;34m\u001b[0m\u001b[0;34m\u001b[0m\u001b[0m\n\u001b[1;32m    314\u001b[0m \u001b[0;34m\u001b[0m\u001b[0m\n\u001b[0;32m--> 315\u001b[0;31m     \u001b[0mself\u001b[0m\u001b[0;34m.\u001b[0m\u001b[0m_call_batch_hook_helper\u001b[0m\u001b[0;34m(\u001b[0m\u001b[0mhook_name\u001b[0m\u001b[0;34m,\u001b[0m \u001b[0mbatch\u001b[0m\u001b[0;34m,\u001b[0m \u001b[0mlogs\u001b[0m\u001b[0;34m)\u001b[0m\u001b[0;34m\u001b[0m\u001b[0;34m\u001b[0m\u001b[0m\n\u001b[0m\u001b[1;32m    316\u001b[0m \u001b[0;34m\u001b[0m\u001b[0m\n\u001b[1;32m    317\u001b[0m     \u001b[0;32mif\u001b[0m \u001b[0mlen\u001b[0m\u001b[0;34m(\u001b[0m\u001b[0mself\u001b[0m\u001b[0;34m.\u001b[0m\u001b[0m_batch_times\u001b[0m\u001b[0;34m)\u001b[0m \u001b[0;34m>=\u001b[0m \u001b[0mself\u001b[0m\u001b[0;34m.\u001b[0m\u001b[0m_num_batches_for_timing_check\u001b[0m\u001b[0;34m:\u001b[0m\u001b[0;34m\u001b[0m\u001b[0;34m\u001b[0m\u001b[0m\n",
            "\u001b[0;32m/usr/local/lib/python3.7/dist-packages/keras/callbacks.py\u001b[0m in \u001b[0;36m_call_batch_hook_helper\u001b[0;34m(self, hook_name, batch, logs)\u001b[0m\n\u001b[1;32m    351\u001b[0m     \u001b[0;32mfor\u001b[0m \u001b[0mcallback\u001b[0m \u001b[0;32min\u001b[0m \u001b[0mself\u001b[0m\u001b[0;34m.\u001b[0m\u001b[0mcallbacks\u001b[0m\u001b[0;34m:\u001b[0m\u001b[0;34m\u001b[0m\u001b[0;34m\u001b[0m\u001b[0m\n\u001b[1;32m    352\u001b[0m       \u001b[0mhook\u001b[0m \u001b[0;34m=\u001b[0m \u001b[0mgetattr\u001b[0m\u001b[0;34m(\u001b[0m\u001b[0mcallback\u001b[0m\u001b[0;34m,\u001b[0m \u001b[0mhook_name\u001b[0m\u001b[0;34m)\u001b[0m\u001b[0;34m\u001b[0m\u001b[0;34m\u001b[0m\u001b[0m\n\u001b[0;32m--> 353\u001b[0;31m       \u001b[0mhook\u001b[0m\u001b[0;34m(\u001b[0m\u001b[0mbatch\u001b[0m\u001b[0;34m,\u001b[0m \u001b[0mlogs\u001b[0m\u001b[0;34m)\u001b[0m\u001b[0;34m\u001b[0m\u001b[0;34m\u001b[0m\u001b[0m\n\u001b[0m\u001b[1;32m    354\u001b[0m \u001b[0;34m\u001b[0m\u001b[0m\n\u001b[1;32m    355\u001b[0m     \u001b[0;32mif\u001b[0m \u001b[0mself\u001b[0m\u001b[0;34m.\u001b[0m\u001b[0m_check_timing\u001b[0m\u001b[0;34m:\u001b[0m\u001b[0;34m\u001b[0m\u001b[0;34m\u001b[0m\u001b[0m\n",
            "\u001b[0;32m/usr/local/lib/python3.7/dist-packages/keras/callbacks.py\u001b[0m in \u001b[0;36mon_train_batch_end\u001b[0;34m(self, batch, logs)\u001b[0m\n\u001b[1;32m   1026\u001b[0m \u001b[0;34m\u001b[0m\u001b[0m\n\u001b[1;32m   1027\u001b[0m   \u001b[0;32mdef\u001b[0m \u001b[0mon_train_batch_end\u001b[0m\u001b[0;34m(\u001b[0m\u001b[0mself\u001b[0m\u001b[0;34m,\u001b[0m \u001b[0mbatch\u001b[0m\u001b[0;34m,\u001b[0m \u001b[0mlogs\u001b[0m\u001b[0;34m=\u001b[0m\u001b[0;32mNone\u001b[0m\u001b[0;34m)\u001b[0m\u001b[0;34m:\u001b[0m\u001b[0;34m\u001b[0m\u001b[0;34m\u001b[0m\u001b[0m\n\u001b[0;32m-> 1028\u001b[0;31m     \u001b[0mself\u001b[0m\u001b[0;34m.\u001b[0m\u001b[0m_batch_update_progbar\u001b[0m\u001b[0;34m(\u001b[0m\u001b[0mbatch\u001b[0m\u001b[0;34m,\u001b[0m \u001b[0mlogs\u001b[0m\u001b[0;34m)\u001b[0m\u001b[0;34m\u001b[0m\u001b[0;34m\u001b[0m\u001b[0m\n\u001b[0m\u001b[1;32m   1029\u001b[0m \u001b[0;34m\u001b[0m\u001b[0m\n\u001b[1;32m   1030\u001b[0m   \u001b[0;32mdef\u001b[0m \u001b[0mon_test_batch_end\u001b[0m\u001b[0;34m(\u001b[0m\u001b[0mself\u001b[0m\u001b[0;34m,\u001b[0m \u001b[0mbatch\u001b[0m\u001b[0;34m,\u001b[0m \u001b[0mlogs\u001b[0m\u001b[0;34m=\u001b[0m\u001b[0;32mNone\u001b[0m\u001b[0;34m)\u001b[0m\u001b[0;34m:\u001b[0m\u001b[0;34m\u001b[0m\u001b[0;34m\u001b[0m\u001b[0m\n",
            "\u001b[0;32m/usr/local/lib/python3.7/dist-packages/keras/callbacks.py\u001b[0m in \u001b[0;36m_batch_update_progbar\u001b[0;34m(self, batch, logs)\u001b[0m\n\u001b[1;32m   1098\u001b[0m     \u001b[0;32mif\u001b[0m \u001b[0mself\u001b[0m\u001b[0;34m.\u001b[0m\u001b[0mverbose\u001b[0m \u001b[0;34m==\u001b[0m \u001b[0;36m1\u001b[0m\u001b[0;34m:\u001b[0m\u001b[0;34m\u001b[0m\u001b[0;34m\u001b[0m\u001b[0m\n\u001b[1;32m   1099\u001b[0m       \u001b[0;31m# Only block async when verbose = 1.\u001b[0m\u001b[0;34m\u001b[0m\u001b[0;34m\u001b[0m\u001b[0;34m\u001b[0m\u001b[0m\n\u001b[0;32m-> 1100\u001b[0;31m       \u001b[0mlogs\u001b[0m \u001b[0;34m=\u001b[0m \u001b[0mtf_utils\u001b[0m\u001b[0;34m.\u001b[0m\u001b[0msync_to_numpy_or_python_type\u001b[0m\u001b[0;34m(\u001b[0m\u001b[0mlogs\u001b[0m\u001b[0;34m)\u001b[0m\u001b[0;34m\u001b[0m\u001b[0;34m\u001b[0m\u001b[0m\n\u001b[0m\u001b[1;32m   1101\u001b[0m       \u001b[0mself\u001b[0m\u001b[0;34m.\u001b[0m\u001b[0mprogbar\u001b[0m\u001b[0;34m.\u001b[0m\u001b[0mupdate\u001b[0m\u001b[0;34m(\u001b[0m\u001b[0mself\u001b[0m\u001b[0;34m.\u001b[0m\u001b[0mseen\u001b[0m\u001b[0;34m,\u001b[0m \u001b[0mlist\u001b[0m\u001b[0;34m(\u001b[0m\u001b[0mlogs\u001b[0m\u001b[0;34m.\u001b[0m\u001b[0mitems\u001b[0m\u001b[0;34m(\u001b[0m\u001b[0;34m)\u001b[0m\u001b[0;34m)\u001b[0m\u001b[0;34m,\u001b[0m \u001b[0mfinalize\u001b[0m\u001b[0;34m=\u001b[0m\u001b[0;32mFalse\u001b[0m\u001b[0;34m)\u001b[0m\u001b[0;34m\u001b[0m\u001b[0;34m\u001b[0m\u001b[0m\n\u001b[1;32m   1102\u001b[0m \u001b[0;34m\u001b[0m\u001b[0m\n",
            "\u001b[0;32m/usr/local/lib/python3.7/dist-packages/keras/utils/tf_utils.py\u001b[0m in \u001b[0;36msync_to_numpy_or_python_type\u001b[0;34m(tensors)\u001b[0m\n\u001b[1;32m    514\u001b[0m     \u001b[0;32mreturn\u001b[0m \u001b[0mt\u001b[0m  \u001b[0;31m# Don't turn ragged or sparse tensors to NumPy.\u001b[0m\u001b[0;34m\u001b[0m\u001b[0;34m\u001b[0m\u001b[0m\n\u001b[1;32m    515\u001b[0m \u001b[0;34m\u001b[0m\u001b[0m\n\u001b[0;32m--> 516\u001b[0;31m   \u001b[0;32mreturn\u001b[0m \u001b[0mtf\u001b[0m\u001b[0;34m.\u001b[0m\u001b[0mnest\u001b[0m\u001b[0;34m.\u001b[0m\u001b[0mmap_structure\u001b[0m\u001b[0;34m(\u001b[0m\u001b[0m_to_single_numpy_or_python_type\u001b[0m\u001b[0;34m,\u001b[0m \u001b[0mtensors\u001b[0m\u001b[0;34m)\u001b[0m\u001b[0;34m\u001b[0m\u001b[0;34m\u001b[0m\u001b[0m\n\u001b[0m\u001b[1;32m    517\u001b[0m \u001b[0;34m\u001b[0m\u001b[0m\n\u001b[1;32m    518\u001b[0m \u001b[0;34m\u001b[0m\u001b[0m\n",
            "\u001b[0;32m/usr/local/lib/python3.7/dist-packages/tensorflow/python/util/nest.py\u001b[0m in \u001b[0;36mmap_structure\u001b[0;34m(func, *structure, **kwargs)\u001b[0m\n\u001b[1;32m    867\u001b[0m \u001b[0;34m\u001b[0m\u001b[0m\n\u001b[1;32m    868\u001b[0m   return pack_sequence_as(\n\u001b[0;32m--> 869\u001b[0;31m       \u001b[0mstructure\u001b[0m\u001b[0;34m[\u001b[0m\u001b[0;36m0\u001b[0m\u001b[0;34m]\u001b[0m\u001b[0;34m,\u001b[0m \u001b[0;34m[\u001b[0m\u001b[0mfunc\u001b[0m\u001b[0;34m(\u001b[0m\u001b[0;34m*\u001b[0m\u001b[0mx\u001b[0m\u001b[0;34m)\u001b[0m \u001b[0;32mfor\u001b[0m \u001b[0mx\u001b[0m \u001b[0;32min\u001b[0m \u001b[0mentries\u001b[0m\u001b[0;34m]\u001b[0m\u001b[0;34m,\u001b[0m\u001b[0;34m\u001b[0m\u001b[0;34m\u001b[0m\u001b[0m\n\u001b[0m\u001b[1;32m    870\u001b[0m       expand_composites=expand_composites)\n\u001b[1;32m    871\u001b[0m \u001b[0;34m\u001b[0m\u001b[0m\n",
            "\u001b[0;32m/usr/local/lib/python3.7/dist-packages/tensorflow/python/util/nest.py\u001b[0m in \u001b[0;36m<listcomp>\u001b[0;34m(.0)\u001b[0m\n\u001b[1;32m    867\u001b[0m \u001b[0;34m\u001b[0m\u001b[0m\n\u001b[1;32m    868\u001b[0m   return pack_sequence_as(\n\u001b[0;32m--> 869\u001b[0;31m       \u001b[0mstructure\u001b[0m\u001b[0;34m[\u001b[0m\u001b[0;36m0\u001b[0m\u001b[0;34m]\u001b[0m\u001b[0;34m,\u001b[0m \u001b[0;34m[\u001b[0m\u001b[0mfunc\u001b[0m\u001b[0;34m(\u001b[0m\u001b[0;34m*\u001b[0m\u001b[0mx\u001b[0m\u001b[0;34m)\u001b[0m \u001b[0;32mfor\u001b[0m \u001b[0mx\u001b[0m \u001b[0;32min\u001b[0m \u001b[0mentries\u001b[0m\u001b[0;34m]\u001b[0m\u001b[0;34m,\u001b[0m\u001b[0;34m\u001b[0m\u001b[0;34m\u001b[0m\u001b[0m\n\u001b[0m\u001b[1;32m    870\u001b[0m       expand_composites=expand_composites)\n\u001b[1;32m    871\u001b[0m \u001b[0;34m\u001b[0m\u001b[0m\n",
            "\u001b[0;32m/usr/local/lib/python3.7/dist-packages/keras/utils/tf_utils.py\u001b[0m in \u001b[0;36m_to_single_numpy_or_python_type\u001b[0;34m(t)\u001b[0m\n\u001b[1;32m    510\u001b[0m   \u001b[0;32mdef\u001b[0m \u001b[0m_to_single_numpy_or_python_type\u001b[0m\u001b[0;34m(\u001b[0m\u001b[0mt\u001b[0m\u001b[0;34m)\u001b[0m\u001b[0;34m:\u001b[0m\u001b[0;34m\u001b[0m\u001b[0;34m\u001b[0m\u001b[0m\n\u001b[1;32m    511\u001b[0m     \u001b[0;32mif\u001b[0m \u001b[0misinstance\u001b[0m\u001b[0;34m(\u001b[0m\u001b[0mt\u001b[0m\u001b[0;34m,\u001b[0m \u001b[0mtf\u001b[0m\u001b[0;34m.\u001b[0m\u001b[0mTensor\u001b[0m\u001b[0;34m)\u001b[0m\u001b[0;34m:\u001b[0m\u001b[0;34m\u001b[0m\u001b[0;34m\u001b[0m\u001b[0m\n\u001b[0;32m--> 512\u001b[0;31m       \u001b[0mx\u001b[0m \u001b[0;34m=\u001b[0m \u001b[0mt\u001b[0m\u001b[0;34m.\u001b[0m\u001b[0mnumpy\u001b[0m\u001b[0;34m(\u001b[0m\u001b[0;34m)\u001b[0m\u001b[0;34m\u001b[0m\u001b[0;34m\u001b[0m\u001b[0m\n\u001b[0m\u001b[1;32m    513\u001b[0m       \u001b[0;32mreturn\u001b[0m \u001b[0mx\u001b[0m\u001b[0;34m.\u001b[0m\u001b[0mitem\u001b[0m\u001b[0;34m(\u001b[0m\u001b[0;34m)\u001b[0m \u001b[0;32mif\u001b[0m \u001b[0mnp\u001b[0m\u001b[0;34m.\u001b[0m\u001b[0mndim\u001b[0m\u001b[0;34m(\u001b[0m\u001b[0mx\u001b[0m\u001b[0;34m)\u001b[0m \u001b[0;34m==\u001b[0m \u001b[0;36m0\u001b[0m \u001b[0;32melse\u001b[0m \u001b[0mx\u001b[0m\u001b[0;34m\u001b[0m\u001b[0;34m\u001b[0m\u001b[0m\n\u001b[1;32m    514\u001b[0m     \u001b[0;32mreturn\u001b[0m \u001b[0mt\u001b[0m  \u001b[0;31m# Don't turn ragged or sparse tensors to NumPy.\u001b[0m\u001b[0;34m\u001b[0m\u001b[0;34m\u001b[0m\u001b[0m\n",
            "\u001b[0;32m/usr/local/lib/python3.7/dist-packages/tensorflow/python/framework/ops.py\u001b[0m in \u001b[0;36mnumpy\u001b[0;34m(self)\u001b[0m\n\u001b[1;32m   1092\u001b[0m     \"\"\"\n\u001b[1;32m   1093\u001b[0m     \u001b[0;31m# TODO(slebedev): Consider avoiding a copy for non-CPU or remote tensors.\u001b[0m\u001b[0;34m\u001b[0m\u001b[0;34m\u001b[0m\u001b[0;34m\u001b[0m\u001b[0m\n\u001b[0;32m-> 1094\u001b[0;31m     \u001b[0mmaybe_arr\u001b[0m \u001b[0;34m=\u001b[0m \u001b[0mself\u001b[0m\u001b[0;34m.\u001b[0m\u001b[0m_numpy\u001b[0m\u001b[0;34m(\u001b[0m\u001b[0;34m)\u001b[0m  \u001b[0;31m# pylint: disable=protected-access\u001b[0m\u001b[0;34m\u001b[0m\u001b[0;34m\u001b[0m\u001b[0m\n\u001b[0m\u001b[1;32m   1095\u001b[0m     \u001b[0;32mreturn\u001b[0m \u001b[0mmaybe_arr\u001b[0m\u001b[0;34m.\u001b[0m\u001b[0mcopy\u001b[0m\u001b[0;34m(\u001b[0m\u001b[0;34m)\u001b[0m \u001b[0;32mif\u001b[0m \u001b[0misinstance\u001b[0m\u001b[0;34m(\u001b[0m\u001b[0mmaybe_arr\u001b[0m\u001b[0;34m,\u001b[0m \u001b[0mnp\u001b[0m\u001b[0;34m.\u001b[0m\u001b[0mndarray\u001b[0m\u001b[0;34m)\u001b[0m \u001b[0;32melse\u001b[0m \u001b[0mmaybe_arr\u001b[0m\u001b[0;34m\u001b[0m\u001b[0;34m\u001b[0m\u001b[0m\n\u001b[1;32m   1096\u001b[0m \u001b[0;34m\u001b[0m\u001b[0m\n",
            "\u001b[0;32m/usr/local/lib/python3.7/dist-packages/tensorflow/python/framework/ops.py\u001b[0m in \u001b[0;36m_numpy\u001b[0;34m(self)\u001b[0m\n\u001b[1;32m   1060\u001b[0m       \u001b[0;32mreturn\u001b[0m \u001b[0mself\u001b[0m\u001b[0;34m.\u001b[0m\u001b[0m_numpy_internal\u001b[0m\u001b[0;34m(\u001b[0m\u001b[0;34m)\u001b[0m\u001b[0;34m\u001b[0m\u001b[0;34m\u001b[0m\u001b[0m\n\u001b[1;32m   1061\u001b[0m     \u001b[0;32mexcept\u001b[0m \u001b[0mcore\u001b[0m\u001b[0;34m.\u001b[0m\u001b[0m_NotOkStatusException\u001b[0m \u001b[0;32mas\u001b[0m \u001b[0me\u001b[0m\u001b[0;34m:\u001b[0m  \u001b[0;31m# pylint: disable=protected-access\u001b[0m\u001b[0;34m\u001b[0m\u001b[0;34m\u001b[0m\u001b[0m\n\u001b[0;32m-> 1062\u001b[0;31m       \u001b[0msix\u001b[0m\u001b[0;34m.\u001b[0m\u001b[0mraise_from\u001b[0m\u001b[0;34m(\u001b[0m\u001b[0mcore\u001b[0m\u001b[0;34m.\u001b[0m\u001b[0m_status_to_exception\u001b[0m\u001b[0;34m(\u001b[0m\u001b[0me\u001b[0m\u001b[0;34m.\u001b[0m\u001b[0mcode\u001b[0m\u001b[0;34m,\u001b[0m \u001b[0me\u001b[0m\u001b[0;34m.\u001b[0m\u001b[0mmessage\u001b[0m\u001b[0;34m)\u001b[0m\u001b[0;34m,\u001b[0m \u001b[0;32mNone\u001b[0m\u001b[0;34m)\u001b[0m  \u001b[0;31m# pylint: disable=protected-access\u001b[0m\u001b[0;34m\u001b[0m\u001b[0;34m\u001b[0m\u001b[0m\n\u001b[0m\u001b[1;32m   1063\u001b[0m \u001b[0;34m\u001b[0m\u001b[0m\n\u001b[1;32m   1064\u001b[0m   \u001b[0;34m@\u001b[0m\u001b[0mproperty\u001b[0m\u001b[0;34m\u001b[0m\u001b[0;34m\u001b[0m\u001b[0m\n",
            "\u001b[0;32m/usr/local/lib/python3.7/dist-packages/six.py\u001b[0m in \u001b[0;36mraise_from\u001b[0;34m(value, from_value)\u001b[0m\n",
            "\u001b[0;31mInvalidArgumentError\u001b[0m: 6 root error(s) found.\n  (0) Invalid argument: {{function_node __inference_train_function_112162}} Input to reshape is a tensor with 0 values, but the requested shape has 527\n\t [[{{node Reshape}}]]\n\t [[MultiDeviceIteratorGetNextFromShard]]\n\t [[RemoteCall]]\n\t [[IteratorGetNext]]\n\t [[tpu_compile_succeeded_assert/_8750466498505700297/_3/_17]]\n  (1) Invalid argument: {{function_node __inference_train_function_112162}} Input to reshape is a tensor with 0 values, but the requested shape has 527\n\t [[{{node Reshape}}]]\n\t [[MultiDeviceIteratorGetNextFromShard]]\n\t [[RemoteCall]]\n\t [[IteratorGetNext]]\n\t [[tpu_compile_succeeded_assert/_8750466498505700297/_3/_29]]\n  (2) Invalid argument: {{function_node __inference_train_function_112162}} Input to reshape is a tensor with 0 values, but the requested shape has 527\n\t [[{{node Reshape}}]]\n\t [[MultiDeviceIteratorGetNextFromShard]]\n\t [[RemoteCall]]\n\t [[IteratorGetNext]]\n\t [[TPUReplicate/_compile/_7886512398046317763/_2/_20]]\n  (3) Invalid argument: {{function_node __inference_train_function_112162}} Input to reshape is a tensor with 0 values, but the requested shape has 527\n\t [[{{node Reshape}}]]\n\t [[MultiDeviceIteratorGetNextFromShard]]\n\t [[RemoteCall]]\n\t [[IteratorGetNext]]\n\t [[tpu_compile_succeeded_assert/_8750466498505700297/_3/_47]]\n  (4) Invalid argument: {{function_node __inference_train_function_112162}} Input to reshape is a tensor with 0 values, but the requested shape has 527\n\t [[{{node Reshape}}]]\n\t [[MultiDeviceIteratorGetNextFromShard]]\n\t [[RemoteCall]]\n\t [[IteratorGetNext]]\n  (5) Invalid argument: {{function_node __inference_train_function_112162}} Input to reshape is a tensor with 0 values, but the requested shape has 527\n\t [[{{node Reshape}}]]\n\t [[MultiDeviceIteratorGetNextFromShard]]\n\t [[RemoteCall]]\n\t [[IteratorGetNext]]\n\t [[cluster_train_function/_execute_0_0/_51]]\n0 successful operations.\n3 derived errors ignored."
          ]
        }
      ]
    },
    {
      "cell_type": "code",
      "metadata": {
        "colab": {
          "base_uri": "https://localhost:8080/"
        },
        "id": "8zKt7Huv5EXz",
        "outputId": "87b2c7ec-cb11-4779-e9bc-011d2f7ad52c"
      },
      "source": [
        "model.summary()"
      ],
      "execution_count": null,
      "outputs": [
        {
          "output_type": "stream",
          "name": "stdout",
          "text": [
            "Model: \"sequential\"\n",
            "_________________________________________________________________\n",
            "Layer (type)                 Output Shape              Param #   \n",
            "=================================================================\n",
            "lstm (LSTM)                  (None, 32, 64)            29952     \n",
            "_________________________________________________________________\n",
            "lstm_1 (LSTM)                (None, 64)                33024     \n",
            "_________________________________________________________________\n",
            "repeat_vector (RepeatVector) (None, 1, 64)             0         \n",
            "_________________________________________________________________\n",
            "lstm_2 (LSTM)                (None, 1, 64)             33024     \n",
            "_________________________________________________________________\n",
            "dense (Dense)                (None, 1, 52)             3380      \n",
            "=================================================================\n",
            "Total params: 99,380\n",
            "Trainable params: 99,380\n",
            "Non-trainable params: 0\n",
            "_________________________________________________________________\n"
          ]
        }
      ]
    },
    {
      "cell_type": "code",
      "metadata": {
        "colab": {
          "base_uri": "https://localhost:8080/"
        },
        "id": "udkNvGQ94iaN",
        "outputId": "01568568-cfac-40d7-ca10-9b1eb4e6bc99"
      },
      "source": [
        "model_2 = get_model_2()\n",
        "model_2 = train_model(fault_free_training, model_2) "
      ],
      "execution_count": null,
      "outputs": [
        {
          "output_type": "stream",
          "name": "stdout",
          "text": [
            "Epoch 1/20\n",
            "1000/1000 [==============================] - 17s 9ms/step - loss: 0.0420\n",
            "Epoch 2/20\n",
            "1000/1000 [==============================] - 9s 9ms/step - loss: 0.0191\n",
            "Epoch 3/20\n",
            "1000/1000 [==============================] - 9s 9ms/step - loss: 0.0167\n",
            "Epoch 4/20\n",
            "1000/1000 [==============================] - 9s 9ms/step - loss: 0.0158\n",
            "Epoch 5/20\n",
            "1000/1000 [==============================] - 9s 9ms/step - loss: 0.0155\n",
            "Epoch 6/20\n",
            "1000/1000 [==============================] - 9s 9ms/step - loss: 0.0154\n",
            "Epoch 7/20\n",
            "1000/1000 [==============================] - 9s 9ms/step - loss: 0.0153\n",
            "Epoch 8/20\n",
            "1000/1000 [==============================] - 9s 9ms/step - loss: 0.0152\n",
            "Epoch 9/20\n",
            "1000/1000 [==============================] - 9s 9ms/step - loss: 0.0151\n",
            "Epoch 10/20\n",
            "1000/1000 [==============================] - 9s 9ms/step - loss: 0.0151\n",
            "Epoch 11/20\n",
            "1000/1000 [==============================] - 9s 9ms/step - loss: 0.0150\n",
            "Epoch 12/20\n",
            "1000/1000 [==============================] - 9s 9ms/step - loss: 0.0150\n",
            "Epoch 13/20\n",
            "1000/1000 [==============================] - 9s 9ms/step - loss: 0.0149\n",
            "Epoch 14/20\n",
            "1000/1000 [==============================] - 9s 9ms/step - loss: 0.0149\n",
            "Epoch 15/20\n",
            "1000/1000 [==============================] - 9s 9ms/step - loss: 0.0148\n",
            "Epoch 16/20\n",
            "1000/1000 [==============================] - 9s 9ms/step - loss: 0.0147\n",
            "Epoch 17/20\n",
            "1000/1000 [==============================] - 9s 9ms/step - loss: 0.0146\n",
            "Epoch 18/20\n",
            "1000/1000 [==============================] - 9s 9ms/step - loss: 0.0146\n",
            "Epoch 19/20\n",
            "1000/1000 [==============================] - 9s 9ms/step - loss: 0.0145\n",
            "Epoch 20/20\n",
            "1000/1000 [==============================] - 10s 10ms/step - loss: 0.0144\n"
          ]
        }
      ]
    },
    {
      "cell_type": "code",
      "metadata": {
        "colab": {
          "base_uri": "https://localhost:8080/"
        },
        "id": "0miziwu-IFFy",
        "outputId": "b324bf6f-0853-494a-8b1d-c51e2b716eef"
      },
      "source": [
        "model_2.summary()"
      ],
      "execution_count": null,
      "outputs": [
        {
          "output_type": "stream",
          "name": "stdout",
          "text": [
            "Model: \"sequential_1\"\n",
            "_________________________________________________________________\n",
            "Layer (type)                 Output Shape              Param #   \n",
            "=================================================================\n",
            "lstm_3 (LSTM)                (None, 32, 64)            29952     \n",
            "_________________________________________________________________\n",
            "lstm_4 (LSTM)                (None, 32, 64)            33024     \n",
            "_________________________________________________________________\n",
            "lstm_5 (LSTM)                (None, 64)                33024     \n",
            "_________________________________________________________________\n",
            "dropout (Dropout)            (None, 64)                0         \n",
            "_________________________________________________________________\n",
            "repeat_vector_1 (RepeatVecto (None, 1, 64)             0         \n",
            "_________________________________________________________________\n",
            "lstm_6 (LSTM)                (None, 1, 64)             33024     \n",
            "_________________________________________________________________\n",
            "dense_1 (Dense)              (None, 1, 52)             3380      \n",
            "=================================================================\n",
            "Total params: 132,404\n",
            "Trainable params: 132,404\n",
            "Non-trainable params: 0\n",
            "_________________________________________________________________\n"
          ]
        }
      ]
    },
    {
      "cell_type": "code",
      "metadata": {
        "colab": {
          "base_uri": "https://localhost:8080/"
        },
        "id": "1JADcr2h8sXd",
        "outputId": "c34b709d-db8b-4e40-a0cd-e28ca0824375"
      },
      "source": [
        "model_3 = get_model_3()\n",
        "model_3 = train_model(fault_free_training, model_3)"
      ],
      "execution_count": null,
      "outputs": [
        {
          "output_type": "stream",
          "name": "stdout",
          "text": [
            "Epoch 1/20\n",
            "1000/1000 [==============================] - 14s 8ms/step - loss: 0.0674\n",
            "Epoch 2/20\n",
            "1000/1000 [==============================] - 8s 8ms/step - loss: 0.0539\n",
            "Epoch 3/20\n",
            "1000/1000 [==============================] - 8s 8ms/step - loss: 0.0531\n",
            "Epoch 4/20\n",
            "1000/1000 [==============================] - 8s 8ms/step - loss: 0.0490\n",
            "Epoch 5/20\n",
            "1000/1000 [==============================] - 8s 8ms/step - loss: 0.0421\n",
            "Epoch 6/20\n",
            "1000/1000 [==============================] - 8s 8ms/step - loss: 0.0416\n",
            "Epoch 7/20\n",
            "1000/1000 [==============================] - 11s 11ms/step - loss: 0.0413\n",
            "Epoch 8/20\n",
            "1000/1000 [==============================] - 9s 9ms/step - loss: 0.0410\n",
            "Epoch 9/20\n",
            "1000/1000 [==============================] - 8s 8ms/step - loss: 0.0408\n",
            "Epoch 10/20\n",
            "1000/1000 [==============================] - 8s 8ms/step - loss: 0.0406\n",
            "Epoch 11/20\n",
            "1000/1000 [==============================] - 8s 8ms/step - loss: 0.0404\n",
            "Epoch 12/20\n",
            "1000/1000 [==============================] - 8s 8ms/step - loss: 0.0403\n",
            "Epoch 13/20\n",
            "1000/1000 [==============================] - 8s 8ms/step - loss: 0.0401\n",
            "Epoch 14/20\n",
            "1000/1000 [==============================] - 8s 8ms/step - loss: 0.0401\n",
            "Epoch 15/20\n",
            "1000/1000 [==============================] - 8s 8ms/step - loss: 0.0400\n",
            "Epoch 16/20\n",
            "1000/1000 [==============================] - 8s 8ms/step - loss: 0.0399\n",
            "Epoch 17/20\n",
            "1000/1000 [==============================] - 8s 8ms/step - loss: 0.0399\n",
            "Epoch 18/20\n",
            "1000/1000 [==============================] - 8s 8ms/step - loss: 0.0399\n",
            "Epoch 19/20\n",
            "1000/1000 [==============================] - 8s 8ms/step - loss: 0.0398\n",
            "Epoch 20/20\n",
            "1000/1000 [==============================] - 8s 8ms/step - loss: 0.0398\n"
          ]
        }
      ]
    },
    {
      "cell_type": "code",
      "metadata": {
        "colab": {
          "base_uri": "https://localhost:8080/"
        },
        "id": "5bHxkaoxJABL",
        "outputId": "4c8af93c-09ed-4bda-dc99-766f019d7311"
      },
      "source": [
        "model_3.summary()"
      ],
      "execution_count": null,
      "outputs": [
        {
          "output_type": "stream",
          "name": "stdout",
          "text": [
            "Model: \"sequential_2\"\n",
            "_________________________________________________________________\n",
            "Layer (type)                 Output Shape              Param #   \n",
            "=================================================================\n",
            "gru (GRU)                    (None, 32, 64)            22656     \n",
            "_________________________________________________________________\n",
            "gru_1 (GRU)                  (None, 64)                24960     \n",
            "_________________________________________________________________\n",
            "repeat_vector_2 (RepeatVecto (None, 1, 64)             0         \n",
            "_________________________________________________________________\n",
            "gru_2 (GRU)                  (None, 1, 64)             24960     \n",
            "_________________________________________________________________\n",
            "dense_2 (Dense)              (None, 1, 52)             3380      \n",
            "=================================================================\n",
            "Total params: 75,956\n",
            "Trainable params: 75,956\n",
            "Non-trainable params: 0\n",
            "_________________________________________________________________\n"
          ]
        }
      ]
    },
    {
      "cell_type": "code",
      "metadata": {
        "colab": {
          "base_uri": "https://localhost:8080/"
        },
        "id": "sKuTGtBO9gRb",
        "outputId": "a77a0e32-1049-489d-fbce-420face7d010"
      },
      "source": [
        "model_4 = get_model_4()\n",
        "model_4 = train_model(fault_free_training, model_4)"
      ],
      "execution_count": null,
      "outputs": [
        {
          "output_type": "stream",
          "name": "stdout",
          "text": [
            "Epoch 1/20\n",
            "1000/1000 [==============================] - 17s 9ms/step - loss: 0.0410\n",
            "Epoch 2/20\n",
            "1000/1000 [==============================] - 9s 9ms/step - loss: 0.0221\n",
            "Epoch 3/20\n",
            "1000/1000 [==============================] - 9s 9ms/step - loss: 0.0201\n",
            "Epoch 4/20\n",
            "1000/1000 [==============================] - 9s 9ms/step - loss: 0.0196\n",
            "Epoch 5/20\n",
            "1000/1000 [==============================] - 9s 9ms/step - loss: 0.0193\n",
            "Epoch 6/20\n",
            "1000/1000 [==============================] - 9s 9ms/step - loss: 0.0189\n",
            "Epoch 7/20\n",
            "1000/1000 [==============================] - 9s 9ms/step - loss: 0.0186\n",
            "Epoch 8/20\n",
            "1000/1000 [==============================] - 9s 9ms/step - loss: 0.0150\n",
            "Epoch 9/20\n",
            "1000/1000 [==============================] - 9s 9ms/step - loss: 0.0139\n",
            "Epoch 10/20\n",
            "1000/1000 [==============================] - 9s 9ms/step - loss: 0.0137\n",
            "Epoch 11/20\n",
            "1000/1000 [==============================] - 9s 9ms/step - loss: 0.0135\n",
            "Epoch 12/20\n",
            "1000/1000 [==============================] - 9s 9ms/step - loss: 0.0133\n",
            "Epoch 13/20\n",
            "1000/1000 [==============================] - 9s 9ms/step - loss: 0.0131\n",
            "Epoch 14/20\n",
            "1000/1000 [==============================] - 9s 9ms/step - loss: 0.0130\n",
            "Epoch 15/20\n",
            "1000/1000 [==============================] - 9s 9ms/step - loss: 0.0129\n",
            "Epoch 16/20\n",
            "1000/1000 [==============================] - 9s 9ms/step - loss: 0.0128\n",
            "Epoch 17/20\n",
            "1000/1000 [==============================] - 9s 9ms/step - loss: 0.0127\n",
            "Epoch 18/20\n",
            "1000/1000 [==============================] - 9s 9ms/step - loss: 0.0125\n",
            "Epoch 19/20\n",
            "1000/1000 [==============================] - 9s 9ms/step - loss: 0.0083\n",
            "Epoch 20/20\n",
            "1000/1000 [==============================] - 9s 9ms/step - loss: 0.0081\n"
          ]
        }
      ]
    },
    {
      "cell_type": "code",
      "metadata": {
        "colab": {
          "base_uri": "https://localhost:8080/"
        },
        "id": "z5teNnNaJdtE",
        "outputId": "c3aa3b56-c1f5-4fc0-9f00-ffc83d64dc6b"
      },
      "source": [
        "model_4.summary()"
      ],
      "execution_count": null,
      "outputs": [
        {
          "output_type": "stream",
          "name": "stdout",
          "text": [
            "Model: \"sequential_3\"\n",
            "_________________________________________________________________\n",
            "Layer (type)                 Output Shape              Param #   \n",
            "=================================================================\n",
            "gru_3 (GRU)                  (None, 32, 64)            22656     \n",
            "_________________________________________________________________\n",
            "gru_4 (GRU)                  (None, 32, 64)            24960     \n",
            "_________________________________________________________________\n",
            "gru_5 (GRU)                  (None, 64)                24960     \n",
            "_________________________________________________________________\n",
            "dropout_1 (Dropout)          (None, 64)                0         \n",
            "_________________________________________________________________\n",
            "repeat_vector_3 (RepeatVecto (None, 1, 64)             0         \n",
            "_________________________________________________________________\n",
            "gru_6 (GRU)                  (None, 1, 64)             24960     \n",
            "_________________________________________________________________\n",
            "dense_3 (Dense)              (None, 1, 52)             3380      \n",
            "=================================================================\n",
            "Total params: 100,916\n",
            "Trainable params: 100,916\n",
            "Non-trainable params: 0\n",
            "_________________________________________________________________\n"
          ]
        }
      ]
    },
    {
      "cell_type": "markdown",
      "metadata": {
        "id": "D8ER43tSKLaE"
      },
      "source": [
        "# Get the result"
      ]
    },
    {
      "cell_type": "code",
      "metadata": {
        "id": "07UV9KE1DSkt"
      },
      "source": [
        "def get_result(model, baseline, simrun):\n",
        "  mse_model_1 = get_mse(fault_free_testing, simrun, model)\n",
        "  mse_model_2 = get_mse(faulty_testing, simrun, model)\n",
        "  pd.DataFrame({'normal' : mse_model_1, 'with_fault' : mse_model_2, 'baseline': baseline}).plot(ylim = (0.0, 1.0))"
      ],
      "execution_count": null,
      "outputs": []
    },
    {
      "cell_type": "code",
      "metadata": {
        "id": "wCFMqBsd-LMf",
        "colab": {
          "base_uri": "https://localhost:8080/",
          "height": 346
        },
        "outputId": "2b2b30b5-28cb-4aa7-834b-ffdd7824d9d0"
      },
      "source": [
        "baseline = 0.1\n",
        "run = 1\n",
        "models = [model, model_2, model_3, model_4]\n",
        "\n",
        "\n",
        "for i in range(len(models)):\n",
        "  get_result(models[i], 0.1, run)"
      ],
      "execution_count": null,
      "outputs": [
        {
          "output_type": "error",
          "ename": "NameError",
          "evalue": "ignored",
          "traceback": [
            "\u001b[0;31m---------------------------------------------------------------------------\u001b[0m",
            "\u001b[0;31mNameError\u001b[0m                                 Traceback (most recent call last)",
            "\u001b[0;32m<ipython-input-31-f58ae84a7186>\u001b[0m in \u001b[0;36m<module>\u001b[0;34m()\u001b[0m\n\u001b[1;32m      5\u001b[0m \u001b[0;34m\u001b[0m\u001b[0m\n\u001b[1;32m      6\u001b[0m \u001b[0;32mfor\u001b[0m \u001b[0mi\u001b[0m \u001b[0;32min\u001b[0m \u001b[0mrange\u001b[0m\u001b[0;34m(\u001b[0m\u001b[0mlen\u001b[0m\u001b[0;34m(\u001b[0m\u001b[0mmodels\u001b[0m\u001b[0;34m)\u001b[0m\u001b[0;34m)\u001b[0m\u001b[0;34m:\u001b[0m\u001b[0;34m\u001b[0m\u001b[0;34m\u001b[0m\u001b[0m\n\u001b[0;32m----> 7\u001b[0;31m   \u001b[0mget_result\u001b[0m\u001b[0;34m(\u001b[0m\u001b[0mmodels\u001b[0m\u001b[0;34m[\u001b[0m\u001b[0mi\u001b[0m\u001b[0;34m]\u001b[0m\u001b[0;34m,\u001b[0m \u001b[0;36m0.1\u001b[0m\u001b[0;34m,\u001b[0m \u001b[0mrun\u001b[0m\u001b[0;34m)\u001b[0m\u001b[0;34m\u001b[0m\u001b[0;34m\u001b[0m\u001b[0m\n\u001b[0m",
            "\u001b[0;32m<ipython-input-24-99ebb5194eb6>\u001b[0m in \u001b[0;36mget_result\u001b[0;34m(model, baseline, simrun)\u001b[0m\n\u001b[1;32m      1\u001b[0m \u001b[0;32mdef\u001b[0m \u001b[0mget_result\u001b[0m\u001b[0;34m(\u001b[0m\u001b[0mmodel\u001b[0m\u001b[0;34m,\u001b[0m \u001b[0mbaseline\u001b[0m\u001b[0;34m,\u001b[0m \u001b[0msimrun\u001b[0m\u001b[0;34m)\u001b[0m\u001b[0;34m:\u001b[0m\u001b[0;34m\u001b[0m\u001b[0;34m\u001b[0m\u001b[0m\n\u001b[0;32m----> 2\u001b[0;31m   \u001b[0mmse_model_1\u001b[0m \u001b[0;34m=\u001b[0m \u001b[0mget_mse\u001b[0m\u001b[0;34m(\u001b[0m\u001b[0mfault_free_testing\u001b[0m\u001b[0;34m,\u001b[0m \u001b[0msimrun\u001b[0m\u001b[0;34m,\u001b[0m \u001b[0mmodel\u001b[0m\u001b[0;34m)\u001b[0m\u001b[0;34m\u001b[0m\u001b[0;34m\u001b[0m\u001b[0m\n\u001b[0m\u001b[1;32m      3\u001b[0m   \u001b[0mmse_model_2\u001b[0m \u001b[0;34m=\u001b[0m \u001b[0mget_mse\u001b[0m\u001b[0;34m(\u001b[0m\u001b[0mfaulty_testing\u001b[0m\u001b[0;34m,\u001b[0m \u001b[0msimrun\u001b[0m\u001b[0;34m,\u001b[0m \u001b[0mmodel\u001b[0m\u001b[0;34m)\u001b[0m\u001b[0;34m\u001b[0m\u001b[0;34m\u001b[0m\u001b[0m\n\u001b[1;32m      4\u001b[0m   \u001b[0mpd\u001b[0m\u001b[0;34m.\u001b[0m\u001b[0mDataFrame\u001b[0m\u001b[0;34m(\u001b[0m\u001b[0;34m{\u001b[0m\u001b[0;34m'normal'\u001b[0m \u001b[0;34m:\u001b[0m \u001b[0mmse_model_1\u001b[0m\u001b[0;34m,\u001b[0m \u001b[0;34m'with_fault'\u001b[0m \u001b[0;34m:\u001b[0m \u001b[0mmse_model_2\u001b[0m\u001b[0;34m,\u001b[0m \u001b[0;34m'baseline'\u001b[0m\u001b[0;34m:\u001b[0m \u001b[0mbaseline\u001b[0m\u001b[0;34m}\u001b[0m\u001b[0;34m)\u001b[0m\u001b[0;34m.\u001b[0m\u001b[0mplot\u001b[0m\u001b[0;34m(\u001b[0m\u001b[0mylim\u001b[0m \u001b[0;34m=\u001b[0m \u001b[0;34m(\u001b[0m\u001b[0;36m0.0\u001b[0m\u001b[0;34m,\u001b[0m \u001b[0;36m1.0\u001b[0m\u001b[0;34m)\u001b[0m\u001b[0;34m)\u001b[0m\u001b[0;34m\u001b[0m\u001b[0;34m\u001b[0m\u001b[0m\n",
            "\u001b[0;32m<ipython-input-30-5d0e4d0a8f3e>\u001b[0m in \u001b[0;36mget_mse\u001b[0;34m(df, simrun, model)\u001b[0m\n\u001b[1;32m     80\u001b[0m     \u001b[0mReturn\u001b[0m\u001b[0;34m:\u001b[0m \u001b[0mloss\u001b[0m \u001b[0mvalue\u001b[0m\u001b[0;34m\u001b[0m\u001b[0;34m\u001b[0m\u001b[0m\n\u001b[1;32m     81\u001b[0m     \"\"\"\n\u001b[0;32m---> 82\u001b[0;31m     \u001b[0mx\u001b[0m\u001b[0;34m,\u001b[0m \u001b[0my\u001b[0m \u001b[0;34m=\u001b[0m \u001b[0mget_detection_xy\u001b[0m\u001b[0;34m(\u001b[0m\u001b[0mdf\u001b[0m\u001b[0;34m,\u001b[0m \u001b[0msimrun\u001b[0m\u001b[0;34m)\u001b[0m\u001b[0;34m\u001b[0m\u001b[0;34m\u001b[0m\u001b[0m\n\u001b[0m\u001b[1;32m     83\u001b[0m     \u001b[0my_pred_1\u001b[0m \u001b[0;34m=\u001b[0m \u001b[0mmodel\u001b[0m\u001b[0;34m.\u001b[0m\u001b[0mpredict\u001b[0m\u001b[0;34m(\u001b[0m\u001b[0mx\u001b[0m\u001b[0;34m,\u001b[0m \u001b[0mverbose\u001b[0m \u001b[0;34m=\u001b[0m \u001b[0;32mTrue\u001b[0m\u001b[0;34m)\u001b[0m\u001b[0;34m\u001b[0m\u001b[0;34m\u001b[0m\u001b[0m\n\u001b[1;32m     84\u001b[0m     \u001b[0mmse_1\u001b[0m \u001b[0;34m=\u001b[0m \u001b[0mtfk\u001b[0m\u001b[0;34m.\u001b[0m\u001b[0mlosses\u001b[0m\u001b[0;34m.\u001b[0m\u001b[0mMSE\u001b[0m\u001b[0;34m(\u001b[0m\u001b[0my\u001b[0m\u001b[0;34m,\u001b[0m \u001b[0my_pred_1\u001b[0m\u001b[0;34m)\u001b[0m\u001b[0;34m.\u001b[0m\u001b[0mnumpy\u001b[0m\u001b[0;34m(\u001b[0m\u001b[0;34m)\u001b[0m\u001b[0;34m\u001b[0m\u001b[0;34m\u001b[0m\u001b[0m\n",
            "\u001b[0;32m<ipython-input-30-5d0e4d0a8f3e>\u001b[0m in \u001b[0;36mget_detection_xy\u001b[0;34m(df, simrun)\u001b[0m\n\u001b[1;32m     61\u001b[0m     \u001b[0;32mreturn\u001b[0m\u001b[0;34m:\u001b[0m \u001b[0mx\u001b[0m\u001b[0;34m:\u001b[0m\u001b[0mslice\u001b[0m \u001b[0mof\u001b[0m \u001b[0mdataset\u001b[0m\u001b[0;34m(\u001b[0m\u001b[0mtesting\u001b[0m\u001b[0;34m)\u001b[0m\u001b[0;34m,\u001b[0m \u001b[0my\u001b[0m\u001b[0;34m:\u001b[0m\u001b[0mtarget\u001b[0m \u001b[0mvalue\u001b[0m\u001b[0;34m\u001b[0m\u001b[0;34m\u001b[0m\u001b[0m\n\u001b[1;32m     62\u001b[0m     \"\"\"\n\u001b[0;32m---> 63\u001b[0;31m     \u001b[0mscaled\u001b[0m \u001b[0;34m=\u001b[0m \u001b[0mscaler\u001b[0m\u001b[0;34m.\u001b[0m\u001b[0mtransform\u001b[0m\u001b[0;34m(\u001b[0m\u001b[0mdf\u001b[0m\u001b[0;34m[\u001b[0m\u001b[0mdf\u001b[0m\u001b[0;34m.\u001b[0m\u001b[0msimulationRun\u001b[0m \u001b[0;34m==\u001b[0m \u001b[0msimrun\u001b[0m\u001b[0;34m]\u001b[0m\u001b[0;34m.\u001b[0m\u001b[0miloc\u001b[0m\u001b[0;34m[\u001b[0m\u001b[0;34m:\u001b[0m\u001b[0;36m500\u001b[0m\u001b[0;34m,\u001b[0m \u001b[0;36m3\u001b[0m\u001b[0;34m:\u001b[0m\u001b[0;34m]\u001b[0m\u001b[0;34m)\u001b[0m\u001b[0;34m\u001b[0m\u001b[0;34m\u001b[0m\u001b[0m\n\u001b[0m\u001b[1;32m     64\u001b[0m \u001b[0;34m\u001b[0m\u001b[0m\n\u001b[1;32m     65\u001b[0m     \u001b[0mx\u001b[0m \u001b[0;34m=\u001b[0m \u001b[0;34m[\u001b[0m\u001b[0;34m]\u001b[0m\u001b[0;34m\u001b[0m\u001b[0;34m\u001b[0m\u001b[0m\n",
            "\u001b[0;31mNameError\u001b[0m: name 'scaler' is not defined"
          ]
        }
      ]
    },
    {
      "cell_type": "markdown",
      "metadata": {
        "id": "1SCbTKejI_CL"
      },
      "source": [
        ""
      ]
    },
    {
      "cell_type": "code",
      "metadata": {
        "colab": {
          "base_uri": "https://localhost:8080/"
        },
        "id": "8ZxKBQhqO6eO",
        "outputId": "d98e8516-099c-4a7a-ac7f-4a1d58184c6d"
      },
      "source": [
        "#cross validation\n",
        "for train_split, val_split in KFold().split([i+1 for i in range(500)]):\n",
        "    train_df = fault_free_training[fault_free_training.simulationRun.isin(train_split)]\n",
        "    val_df = fault_free_training[fault_free_training.simulationRun.isin(val_split)]\n",
        "\n",
        "\n",
        "    scaler = preprocessing.MinMaxScaler()\n",
        "    scaler.fit(train_df.iloc[:, 3:].values)\n",
        "\n",
        "    train_df.iloc[:, 3:] = scaler.transform(train_df.iloc[:, 3:].values)\n",
        "    val_df.iloc[:, 3:] = scaler.transform(val_df.iloc[:, 3:].values)\n",
        "\n",
        "    train_ds = get_dataset(train_df, shuffle = True, repeat=True)\n",
        "    val_ds = get_dataset(val_df)\n",
        "\n",
        "\n",
        "    model = get_model() \n",
        "\n",
        "\n",
        "    model.fit(\n",
        "        train_ds, \n",
        "        epochs = 20,\n",
        "        steps_per_epoch = 1000,\n",
        "        validation_data= val_ds,\n",
        "        \n",
        "    )\n",
        "\n",
        "    break\n"
      ],
      "execution_count": null,
      "outputs": [
        {
          "output_type": "stream",
          "name": "stdout",
          "text": [
            "Epoch 1/20\n",
            "1000/1000 [==============================] - 17s 11ms/step - loss: 0.1071 - val_loss: 0.0980\n",
            "Epoch 2/20\n",
            "1000/1000 [==============================] - 10s 10ms/step - loss: 0.0744 - val_loss: 0.0678\n",
            "Epoch 3/20\n",
            "1000/1000 [==============================] - 10s 10ms/step - loss: 0.0604 - val_loss: 0.0538\n",
            "Epoch 4/20\n",
            "1000/1000 [==============================] - 10s 10ms/step - loss: 0.0501 - val_loss: 0.0491\n",
            "Epoch 5/20\n",
            "1000/1000 [==============================] - 10s 10ms/step - loss: 0.0485 - val_loss: 0.0479\n",
            "Epoch 6/20\n",
            "1000/1000 [==============================] - 10s 10ms/step - loss: 0.0484 - val_loss: 0.0485\n",
            "Epoch 7/20\n",
            "1000/1000 [==============================] - 10s 10ms/step - loss: 0.0451 - val_loss: 0.0421\n",
            "Epoch 8/20\n",
            "1000/1000 [==============================] - 10s 10ms/step - loss: 0.0424 - val_loss: 0.0407\n",
            "Epoch 9/20\n",
            "1000/1000 [==============================] - 10s 10ms/step - loss: 0.0420 - val_loss: 0.0427\n",
            "Epoch 10/20\n",
            "1000/1000 [==============================] - 10s 10ms/step - loss: 0.0385 - val_loss: 0.0373\n",
            "Epoch 11/20\n",
            "1000/1000 [==============================] - 10s 10ms/step - loss: 0.0369 - val_loss: 0.0375\n",
            "Epoch 12/20\n",
            "1000/1000 [==============================] - 10s 10ms/step - loss: 0.0368 - val_loss: 0.0371\n",
            "Epoch 13/20\n",
            "1000/1000 [==============================] - 10s 10ms/step - loss: 0.0366 - val_loss: 0.0364\n",
            "Epoch 14/20\n",
            "1000/1000 [==============================] - 10s 10ms/step - loss: 0.0365 - val_loss: 0.0370\n",
            "Epoch 15/20\n",
            "1000/1000 [==============================] - 10s 10ms/step - loss: 0.0364 - val_loss: 0.0360\n",
            "Epoch 16/20\n",
            "1000/1000 [==============================] - 10s 10ms/step - loss: 0.0363 - val_loss: 0.0354\n",
            "Epoch 17/20\n",
            "1000/1000 [==============================] - 10s 10ms/step - loss: 0.0362 - val_loss: 0.0367\n",
            "Epoch 18/20\n",
            "1000/1000 [==============================] - 10s 10ms/step - loss: 0.0361 - val_loss: 0.0371\n",
            "Epoch 19/20\n",
            "1000/1000 [==============================] - 10s 10ms/step - loss: 0.0360 - val_loss: 0.0361\n",
            "Epoch 20/20\n",
            "1000/1000 [==============================] - 10s 10ms/step - loss: 0.0360 - val_loss: 0.0364\n"
          ]
        }
      ]
    },
    {
      "cell_type": "code",
      "metadata": {
        "colab": {
          "base_uri": "https://localhost:8080/"
        },
        "id": "YOQ1No56wu1m",
        "outputId": "86cf3711-864f-4bb7-d88a-144f66131bba"
      },
      "source": [
        "fault_free_training.shape"
      ],
      "execution_count": null,
      "outputs": [
        {
          "output_type": "execute_result",
          "data": {
            "text/plain": [
              "(250000, 55)"
            ]
          },
          "metadata": {},
          "execution_count": 15
        }
      ]
    },
    {
      "cell_type": "code",
      "metadata": {
        "id": "2uqDmXQlwxxZ"
      },
      "source": [
        "#test  cnn\n",
        "#CNN\n",
        "def get_cnn_1():\n",
        "    with strategy.scope():\n",
        "      model = tf.keras.Sequential([\n",
        "                              tf.keras.Input(shape  = (INPUT_SEQ_LEN, NUM_VAR)),\n",
        "                              tfkl.Conv1D(128, 3, strides = 1, padding = 'same', activation= 'relu'), \n",
        "                              # tfkl.Conv1D(64, return_sequences=False),\n",
        "                              # tfkl.RepeatVector(OUTPUT_SEQ_LEN), \n",
        "                              # tfkl.Conv1D(64, return_sequences=True),\n",
        "                              tf.keras.layers.GlobalAveragePooling1D(),\n",
        "                              tfkl.Dense(NUM_VAR, activation='sigmoid')\n",
        "\n",
        "      ])\n",
        "      model.compile(optimizer='adam', loss='mse', metrics=['accuracy'])\n",
        "\n",
        "      return model "
      ],
      "execution_count": null,
      "outputs": []
    },
    {
      "cell_type": "code",
      "metadata": {
        "id": "OzfXV9yynKaF"
      },
      "source": [
        ""
      ],
      "execution_count": null,
      "outputs": []
    }
  ]
}