{
  "nbformat": 4,
  "nbformat_minor": 0,
  "metadata": {
    "colab": {
      "name": "NGAFID_RNN.ipynb",
      "provenance": [],
      "collapsed_sections": []
    },
    "kernelspec": {
      "name": "python3",
      "display_name": "Python 3"
    },
    "language_info": {
      "name": "python"
    },
    "accelerator": "TPU"
  },
  "cells": [
    {
      "cell_type": "markdown",
      "metadata": {
        "id": "z0laBdydQo_r"
      },
      "source": [
        "# SETUP"
      ]
    },
    {
      "cell_type": "code",
      "metadata": {
        "id": "088mMzSVOq0_"
      },
      "source": [
        "#solve the dataset will be changed after the training process\n",
        "\n",
        "import pandas as pd \n",
        "import numpy as np \n",
        "import tensorflow as tf\n",
        "import gc \n",
        "import tensorflow_datasets as tfds\n",
        "import tensorflow_probability as tfp\n",
        "from tqdm.notebook import tqdm\n",
        "from sklearn.model_selection import train_test_split, KFold\n",
        "from sklearn import preprocessing\n",
        "import matplotlib as plt\n",
        "tfk = tf.keras\n",
        "tfkl = tf.keras.layers\n",
        "tfpl = tfp.layers\n",
        "tfd = tfp.distributions\n",
        "\n",
        "\n",
        "gc.collect() \n",
        "\n",
        "pd.options.mode.chained_assignment = None"
      ],
      "execution_count": 2,
      "outputs": []
    },
    {
      "cell_type": "code",
      "metadata": {
        "colab": {
          "base_uri": "https://localhost:8080/"
        },
        "id": "-i1wEAxZQmXo",
        "outputId": "80474a6c-89cb-4cef-cf22-c8b0f518e39c"
      },
      "source": [
        "#TPU\n",
        "\n",
        "import os\n",
        "assert 'COLAB_TPU_ADDR' in os.environ, 'ERROR: Not connected to a TPU runtime; please see the first cell in this notebook for instructions!'\n",
        "TPU_ADDRESS = 'grpc://' + os.environ['COLAB_TPU_ADDR']\n",
        "print('TPU address is', TPU_ADDRESS)\n",
        "\n",
        "# Detect hardware, return appropriate distribution strategy\n",
        "try:\n",
        "    # TPU detection. No parameters necessary if TPU_NAME environment variable is\n",
        "    # set: this is always the case on Kaggle.\n",
        "    tpu = tf.distribute.cluster_resolver.TPUClusterResolver()\n",
        "    print('Running on TPU ', tpu.master())\n",
        "except ValueError:\n",
        "    tpu = None\n",
        "\n",
        "if tpu:\n",
        "    tf.config.experimental_connect_to_cluster(tpu)\n",
        "    tf.tpu.experimental.initialize_tpu_system(tpu)\n",
        "    strategy = tf.distribute.experimental.TPUStrategy(tpu)\n",
        "else:\n",
        "    # Default distribution strategy in Tensorflow. Works on CPU and single GPU.\n",
        "    strategy = tf.distribute.get_strategy()\n",
        "\n",
        "print(\"REPLICAS: \", strategy.num_replicas_in_sync)"
      ],
      "execution_count": 3,
      "outputs": [
        {
          "output_type": "stream",
          "name": "stdout",
          "text": [
            "TPU address is grpc://10.55.94.122:8470\n",
            "Running on TPU  grpc://10.55.94.122:8470\n",
            "INFO:tensorflow:Clearing out eager caches\n"
          ]
        },
        {
          "output_type": "stream",
          "name": "stderr",
          "text": [
            "INFO:tensorflow:Clearing out eager caches\n"
          ]
        },
        {
          "output_type": "stream",
          "name": "stdout",
          "text": [
            "INFO:tensorflow:Initializing the TPU system: grpc://10.55.94.122:8470\n"
          ]
        },
        {
          "output_type": "stream",
          "name": "stderr",
          "text": [
            "INFO:tensorflow:Initializing the TPU system: grpc://10.55.94.122:8470\n"
          ]
        },
        {
          "output_type": "stream",
          "name": "stdout",
          "text": [
            "INFO:tensorflow:Finished initializing TPU system.\n"
          ]
        },
        {
          "output_type": "stream",
          "name": "stderr",
          "text": [
            "INFO:tensorflow:Finished initializing TPU system.\n",
            "WARNING:absl:`tf.distribute.experimental.TPUStrategy` is deprecated, please use  the non experimental symbol `tf.distribute.TPUStrategy` instead.\n"
          ]
        },
        {
          "output_type": "stream",
          "name": "stdout",
          "text": [
            "INFO:tensorflow:Found TPU system:\n"
          ]
        },
        {
          "output_type": "stream",
          "name": "stderr",
          "text": [
            "INFO:tensorflow:Found TPU system:\n"
          ]
        },
        {
          "output_type": "stream",
          "name": "stdout",
          "text": [
            "INFO:tensorflow:*** Num TPU Cores: 8\n"
          ]
        },
        {
          "output_type": "stream",
          "name": "stderr",
          "text": [
            "INFO:tensorflow:*** Num TPU Cores: 8\n"
          ]
        },
        {
          "output_type": "stream",
          "name": "stdout",
          "text": [
            "INFO:tensorflow:*** Num TPU Workers: 1\n"
          ]
        },
        {
          "output_type": "stream",
          "name": "stderr",
          "text": [
            "INFO:tensorflow:*** Num TPU Workers: 1\n"
          ]
        },
        {
          "output_type": "stream",
          "name": "stdout",
          "text": [
            "INFO:tensorflow:*** Num TPU Cores Per Worker: 8\n"
          ]
        },
        {
          "output_type": "stream",
          "name": "stderr",
          "text": [
            "INFO:tensorflow:*** Num TPU Cores Per Worker: 8\n"
          ]
        },
        {
          "output_type": "stream",
          "name": "stdout",
          "text": [
            "INFO:tensorflow:*** Available Device: _DeviceAttributes(/job:localhost/replica:0/task:0/device:CPU:0, CPU, 0, 0)\n"
          ]
        },
        {
          "output_type": "stream",
          "name": "stderr",
          "text": [
            "INFO:tensorflow:*** Available Device: _DeviceAttributes(/job:localhost/replica:0/task:0/device:CPU:0, CPU, 0, 0)\n"
          ]
        },
        {
          "output_type": "stream",
          "name": "stdout",
          "text": [
            "INFO:tensorflow:*** Available Device: _DeviceAttributes(/job:worker/replica:0/task:0/device:CPU:0, CPU, 0, 0)\n"
          ]
        },
        {
          "output_type": "stream",
          "name": "stderr",
          "text": [
            "INFO:tensorflow:*** Available Device: _DeviceAttributes(/job:worker/replica:0/task:0/device:CPU:0, CPU, 0, 0)\n"
          ]
        },
        {
          "output_type": "stream",
          "name": "stdout",
          "text": [
            "INFO:tensorflow:*** Available Device: _DeviceAttributes(/job:worker/replica:0/task:0/device:TPU:0, TPU, 0, 0)\n"
          ]
        },
        {
          "output_type": "stream",
          "name": "stderr",
          "text": [
            "INFO:tensorflow:*** Available Device: _DeviceAttributes(/job:worker/replica:0/task:0/device:TPU:0, TPU, 0, 0)\n"
          ]
        },
        {
          "output_type": "stream",
          "name": "stdout",
          "text": [
            "INFO:tensorflow:*** Available Device: _DeviceAttributes(/job:worker/replica:0/task:0/device:TPU:1, TPU, 0, 0)\n"
          ]
        },
        {
          "output_type": "stream",
          "name": "stderr",
          "text": [
            "INFO:tensorflow:*** Available Device: _DeviceAttributes(/job:worker/replica:0/task:0/device:TPU:1, TPU, 0, 0)\n"
          ]
        },
        {
          "output_type": "stream",
          "name": "stdout",
          "text": [
            "INFO:tensorflow:*** Available Device: _DeviceAttributes(/job:worker/replica:0/task:0/device:TPU:2, TPU, 0, 0)\n"
          ]
        },
        {
          "output_type": "stream",
          "name": "stderr",
          "text": [
            "INFO:tensorflow:*** Available Device: _DeviceAttributes(/job:worker/replica:0/task:0/device:TPU:2, TPU, 0, 0)\n"
          ]
        },
        {
          "output_type": "stream",
          "name": "stdout",
          "text": [
            "INFO:tensorflow:*** Available Device: _DeviceAttributes(/job:worker/replica:0/task:0/device:TPU:3, TPU, 0, 0)\n"
          ]
        },
        {
          "output_type": "stream",
          "name": "stderr",
          "text": [
            "INFO:tensorflow:*** Available Device: _DeviceAttributes(/job:worker/replica:0/task:0/device:TPU:3, TPU, 0, 0)\n"
          ]
        },
        {
          "output_type": "stream",
          "name": "stdout",
          "text": [
            "INFO:tensorflow:*** Available Device: _DeviceAttributes(/job:worker/replica:0/task:0/device:TPU:4, TPU, 0, 0)\n"
          ]
        },
        {
          "output_type": "stream",
          "name": "stderr",
          "text": [
            "INFO:tensorflow:*** Available Device: _DeviceAttributes(/job:worker/replica:0/task:0/device:TPU:4, TPU, 0, 0)\n"
          ]
        },
        {
          "output_type": "stream",
          "name": "stdout",
          "text": [
            "INFO:tensorflow:*** Available Device: _DeviceAttributes(/job:worker/replica:0/task:0/device:TPU:5, TPU, 0, 0)\n"
          ]
        },
        {
          "output_type": "stream",
          "name": "stderr",
          "text": [
            "INFO:tensorflow:*** Available Device: _DeviceAttributes(/job:worker/replica:0/task:0/device:TPU:5, TPU, 0, 0)\n"
          ]
        },
        {
          "output_type": "stream",
          "name": "stdout",
          "text": [
            "INFO:tensorflow:*** Available Device: _DeviceAttributes(/job:worker/replica:0/task:0/device:TPU:6, TPU, 0, 0)\n"
          ]
        },
        {
          "output_type": "stream",
          "name": "stderr",
          "text": [
            "INFO:tensorflow:*** Available Device: _DeviceAttributes(/job:worker/replica:0/task:0/device:TPU:6, TPU, 0, 0)\n"
          ]
        },
        {
          "output_type": "stream",
          "name": "stdout",
          "text": [
            "INFO:tensorflow:*** Available Device: _DeviceAttributes(/job:worker/replica:0/task:0/device:TPU:7, TPU, 0, 0)\n"
          ]
        },
        {
          "output_type": "stream",
          "name": "stderr",
          "text": [
            "INFO:tensorflow:*** Available Device: _DeviceAttributes(/job:worker/replica:0/task:0/device:TPU:7, TPU, 0, 0)\n"
          ]
        },
        {
          "output_type": "stream",
          "name": "stdout",
          "text": [
            "INFO:tensorflow:*** Available Device: _DeviceAttributes(/job:worker/replica:0/task:0/device:TPU_SYSTEM:0, TPU_SYSTEM, 0, 0)\n"
          ]
        },
        {
          "output_type": "stream",
          "name": "stderr",
          "text": [
            "INFO:tensorflow:*** Available Device: _DeviceAttributes(/job:worker/replica:0/task:0/device:TPU_SYSTEM:0, TPU_SYSTEM, 0, 0)\n"
          ]
        },
        {
          "output_type": "stream",
          "name": "stdout",
          "text": [
            "INFO:tensorflow:*** Available Device: _DeviceAttributes(/job:worker/replica:0/task:0/device:XLA_CPU:0, XLA_CPU, 0, 0)\n"
          ]
        },
        {
          "output_type": "stream",
          "name": "stderr",
          "text": [
            "INFO:tensorflow:*** Available Device: _DeviceAttributes(/job:worker/replica:0/task:0/device:XLA_CPU:0, XLA_CPU, 0, 0)\n"
          ]
        },
        {
          "output_type": "stream",
          "name": "stdout",
          "text": [
            "REPLICAS:  8\n"
          ]
        }
      ]
    },
    {
      "cell_type": "markdown",
      "metadata": {
        "id": "v6qUuTklSyZq"
      },
      "source": [
        "# HYPER"
      ]
    },
    {
      "cell_type": "code",
      "metadata": {
        "id": "oQ2J7rVBS0sJ"
      },
      "source": [
        "BASE_SEQ_LEN = 1000\n",
        "NUM_VAR = 31\n",
        "INPUT_SEQ_LEN = 32 \n",
        "OUTPUT_SEQ_LEN = 1 \n",
        "BATCH_SIZE = 128"
      ],
      "execution_count": 27,
      "outputs": []
    },
    {
      "cell_type": "markdown",
      "metadata": {
        "id": "xxSWs-yuQt3o"
      },
      "source": [
        "# READ DATA"
      ]
    },
    {
      "cell_type": "code",
      "metadata": {
        "id": "Y95pBl8_R_fh"
      },
      "source": [
        "url = 'https://raw.githubusercontent.com/Rainmaker519/NGAFID_Anomaly_Detection/main/NGAFID_dataset/c172_file_2.csv'\n",
        "dataset = pd.read_csv(url)"
      ],
      "execution_count": 42,
      "outputs": []
    },
    {
      "cell_type": "code",
      "metadata": {
        "colab": {
          "base_uri": "https://localhost:8080/",
          "height": 320
        },
        "id": "yzF1XEUNG1iK",
        "outputId": "8b1f9235-008a-4432-9e68-79f86b873410"
      },
      "source": [
        "dataset.describe()"
      ],
      "execution_count": 43,
      "outputs": [
        {
          "output_type": "execute_result",
          "data": {
            "text/html": [
              "<div>\n",
              "<style scoped>\n",
              "    .dataframe tbody tr th:only-of-type {\n",
              "        vertical-align: middle;\n",
              "    }\n",
              "\n",
              "    .dataframe tbody tr th {\n",
              "        vertical-align: top;\n",
              "    }\n",
              "\n",
              "    .dataframe thead th {\n",
              "        text-align: right;\n",
              "    }\n",
              "</style>\n",
              "<table border=\"1\" class=\"dataframe\">\n",
              "  <thead>\n",
              "    <tr style=\"text-align: right;\">\n",
              "      <th></th>\n",
              "      <th>AltAGL</th>\n",
              "      <th>AltB</th>\n",
              "      <th>AltGPS</th>\n",
              "      <th>AltMSL</th>\n",
              "      <th>BaroA</th>\n",
              "      <th>E1_CHT1</th>\n",
              "      <th>E1_CHT2</th>\n",
              "      <th>E1_CHT3</th>\n",
              "      <th>E1_CHT4</th>\n",
              "      <th>E1_EGT1</th>\n",
              "      <th>E1_EGT2</th>\n",
              "      <th>E1_EGT3</th>\n",
              "      <th>E1_EGT4</th>\n",
              "      <th>E1_FFlow</th>\n",
              "      <th>E1_OilP</th>\n",
              "      <th>E1_OilT</th>\n",
              "      <th>E1_RPM</th>\n",
              "      <th>FQtyL</th>\n",
              "      <th>FQtyR</th>\n",
              "      <th>GndSpd</th>\n",
              "      <th>IAS</th>\n",
              "      <th>LatAc</th>\n",
              "      <th>NormAc</th>\n",
              "      <th>OAT</th>\n",
              "      <th>Pitch</th>\n",
              "      <th>Roll</th>\n",
              "      <th>TAS</th>\n",
              "      <th>VSpd</th>\n",
              "      <th>VSpdG</th>\n",
              "      <th>WndDr</th>\n",
              "      <th>WndSpd</th>\n",
              "    </tr>\n",
              "  </thead>\n",
              "  <tbody>\n",
              "    <tr>\n",
              "      <th>count</th>\n",
              "      <td>4467.000000</td>\n",
              "      <td>4467.000000</td>\n",
              "      <td>4467.000000</td>\n",
              "      <td>4467.000000</td>\n",
              "      <td>4467.000000</td>\n",
              "      <td>4467.000000</td>\n",
              "      <td>4467.000000</td>\n",
              "      <td>4467.000000</td>\n",
              "      <td>4467.000000</td>\n",
              "      <td>4467.000000</td>\n",
              "      <td>4467.000000</td>\n",
              "      <td>4467.000000</td>\n",
              "      <td>4467.000000</td>\n",
              "      <td>4467.000000</td>\n",
              "      <td>4467.000000</td>\n",
              "      <td>4467.000000</td>\n",
              "      <td>4467.000000</td>\n",
              "      <td>4467.000000</td>\n",
              "      <td>4467.000000</td>\n",
              "      <td>4467.000000</td>\n",
              "      <td>4467.000000</td>\n",
              "      <td>4467.000000</td>\n",
              "      <td>4467.000000</td>\n",
              "      <td>4467.000000</td>\n",
              "      <td>4467.000000</td>\n",
              "      <td>4467.000000</td>\n",
              "      <td>4467.000000</td>\n",
              "      <td>4467.000000</td>\n",
              "      <td>4467.000000</td>\n",
              "      <td>4467.000000</td>\n",
              "      <td>4467.000000</td>\n",
              "    </tr>\n",
              "    <tr>\n",
              "      <th>mean</th>\n",
              "      <td>621.904634</td>\n",
              "      <td>1447.365413</td>\n",
              "      <td>1354.174905</td>\n",
              "      <td>1443.162077</td>\n",
              "      <td>30.003956</td>\n",
              "      <td>282.680786</td>\n",
              "      <td>306.380663</td>\n",
              "      <td>309.696344</td>\n",
              "      <td>322.298849</td>\n",
              "      <td>1271.838117</td>\n",
              "      <td>1240.913891</td>\n",
              "      <td>1269.034569</td>\n",
              "      <td>1242.800405</td>\n",
              "      <td>8.043550</td>\n",
              "      <td>63.439507</td>\n",
              "      <td>166.060369</td>\n",
              "      <td>1923.664607</td>\n",
              "      <td>13.878471</td>\n",
              "      <td>16.101974</td>\n",
              "      <td>78.021084</td>\n",
              "      <td>76.867974</td>\n",
              "      <td>-0.012691</td>\n",
              "      <td>0.024941</td>\n",
              "      <td>21.816835</td>\n",
              "      <td>2.927833</td>\n",
              "      <td>-2.875534</td>\n",
              "      <td>79.852026</td>\n",
              "      <td>-15.005946</td>\n",
              "      <td>-15.201948</td>\n",
              "      <td>61.420081</td>\n",
              "      <td>5.150486</td>\n",
              "    </tr>\n",
              "    <tr>\n",
              "      <th>std</th>\n",
              "      <td>430.763101</td>\n",
              "      <td>419.003121</td>\n",
              "      <td>422.684410</td>\n",
              "      <td>422.680796</td>\n",
              "      <td>0.009185</td>\n",
              "      <td>23.679792</td>\n",
              "      <td>26.798223</td>\n",
              "      <td>24.313926</td>\n",
              "      <td>26.057577</td>\n",
              "      <td>113.993135</td>\n",
              "      <td>151.593224</td>\n",
              "      <td>114.742380</td>\n",
              "      <td>110.930938</td>\n",
              "      <td>4.633955</td>\n",
              "      <td>7.356695</td>\n",
              "      <td>5.454409</td>\n",
              "      <td>597.475491</td>\n",
              "      <td>2.211355</td>\n",
              "      <td>1.415391</td>\n",
              "      <td>26.455299</td>\n",
              "      <td>28.560461</td>\n",
              "      <td>0.029323</td>\n",
              "      <td>0.103672</td>\n",
              "      <td>1.108857</td>\n",
              "      <td>3.980810</td>\n",
              "      <td>12.151214</td>\n",
              "      <td>29.889523</td>\n",
              "      <td>488.473980</td>\n",
              "      <td>517.127489</td>\n",
              "      <td>103.837486</td>\n",
              "      <td>3.116676</td>\n",
              "    </tr>\n",
              "    <tr>\n",
              "      <th>min</th>\n",
              "      <td>0.000000</td>\n",
              "      <td>825.500000</td>\n",
              "      <td>739.300000</td>\n",
              "      <td>828.500000</td>\n",
              "      <td>29.990000</td>\n",
              "      <td>197.340000</td>\n",
              "      <td>201.590000</td>\n",
              "      <td>219.090000</td>\n",
              "      <td>225.070000</td>\n",
              "      <td>990.490000</td>\n",
              "      <td>797.260000</td>\n",
              "      <td>993.090000</td>\n",
              "      <td>957.750000</td>\n",
              "      <td>1.710000</td>\n",
              "      <td>42.950000</td>\n",
              "      <td>150.220000</td>\n",
              "      <td>767.800000</td>\n",
              "      <td>8.330000</td>\n",
              "      <td>9.790000</td>\n",
              "      <td>0.000000</td>\n",
              "      <td>-1.000000</td>\n",
              "      <td>-0.420000</td>\n",
              "      <td>-1.120000</td>\n",
              "      <td>19.200000</td>\n",
              "      <td>-22.420000</td>\n",
              "      <td>-58.460000</td>\n",
              "      <td>-1.000000</td>\n",
              "      <td>-3850.600000</td>\n",
              "      <td>-4169.300000</td>\n",
              "      <td>-179.900000</td>\n",
              "      <td>0.000000</td>\n",
              "    </tr>\n",
              "    <tr>\n",
              "      <th>25%</th>\n",
              "      <td>218.000000</td>\n",
              "      <td>1057.900000</td>\n",
              "      <td>960.900000</td>\n",
              "      <td>1050.150000</td>\n",
              "      <td>29.990000</td>\n",
              "      <td>267.375000</td>\n",
              "      <td>290.080000</td>\n",
              "      <td>292.560000</td>\n",
              "      <td>304.485000</td>\n",
              "      <td>1176.890000</td>\n",
              "      <td>1123.615000</td>\n",
              "      <td>1181.035000</td>\n",
              "      <td>1155.965000</td>\n",
              "      <td>2.475000</td>\n",
              "      <td>55.340000</td>\n",
              "      <td>163.085000</td>\n",
              "      <td>1237.900000</td>\n",
              "      <td>11.960000</td>\n",
              "      <td>15.230000</td>\n",
              "      <td>70.080000</td>\n",
              "      <td>69.390000</td>\n",
              "      <td>-0.030000</td>\n",
              "      <td>-0.020000</td>\n",
              "      <td>21.500000</td>\n",
              "      <td>0.525000</td>\n",
              "      <td>-3.440000</td>\n",
              "      <td>72.000000</td>\n",
              "      <td>-318.070000</td>\n",
              "      <td>-330.700000</td>\n",
              "      <td>0.000000</td>\n",
              "      <td>2.530000</td>\n",
              "    </tr>\n",
              "    <tr>\n",
              "      <th>50%</th>\n",
              "      <td>705.000000</td>\n",
              "      <td>1529.900000</td>\n",
              "      <td>1432.900000</td>\n",
              "      <td>1522.100000</td>\n",
              "      <td>30.010000</td>\n",
              "      <td>289.760000</td>\n",
              "      <td>314.860000</td>\n",
              "      <td>317.460000</td>\n",
              "      <td>330.750000</td>\n",
              "      <td>1322.650000</td>\n",
              "      <td>1327.840000</td>\n",
              "      <td>1322.010000</td>\n",
              "      <td>1302.580000</td>\n",
              "      <td>8.780000</td>\n",
              "      <td>67.290000</td>\n",
              "      <td>167.760000</td>\n",
              "      <td>2225.200000</td>\n",
              "      <td>13.540000</td>\n",
              "      <td>16.100000</td>\n",
              "      <td>81.390000</td>\n",
              "      <td>79.290000</td>\n",
              "      <td>-0.010000</td>\n",
              "      <td>0.010000</td>\n",
              "      <td>21.800000</td>\n",
              "      <td>2.320000</td>\n",
              "      <td>-0.100000</td>\n",
              "      <td>82.000000</td>\n",
              "      <td>-9.520000</td>\n",
              "      <td>-3.900000</td>\n",
              "      <td>101.900000</td>\n",
              "      <td>5.250000</td>\n",
              "    </tr>\n",
              "    <tr>\n",
              "      <th>75%</th>\n",
              "      <td>814.500000</td>\n",
              "      <td>1642.400000</td>\n",
              "      <td>1540.850000</td>\n",
              "      <td>1629.850000</td>\n",
              "      <td>30.010000</td>\n",
              "      <td>299.965000</td>\n",
              "      <td>322.860000</td>\n",
              "      <td>327.235000</td>\n",
              "      <td>341.645000</td>\n",
              "      <td>1346.820000</td>\n",
              "      <td>1347.425000</td>\n",
              "      <td>1353.805000</td>\n",
              "      <td>1322.390000</td>\n",
              "      <td>10.575000</td>\n",
              "      <td>68.660000</td>\n",
              "      <td>169.865000</td>\n",
              "      <td>2406.500000</td>\n",
              "      <td>15.650000</td>\n",
              "      <td>17.150000</td>\n",
              "      <td>97.520000</td>\n",
              "      <td>97.245000</td>\n",
              "      <td>0.000000</td>\n",
              "      <td>0.050000</td>\n",
              "      <td>22.800000</td>\n",
              "      <td>4.905000</td>\n",
              "      <td>1.310000</td>\n",
              "      <td>101.000000</td>\n",
              "      <td>220.415000</td>\n",
              "      <td>216.500000</td>\n",
              "      <td>148.100000</td>\n",
              "      <td>7.730000</td>\n",
              "    </tr>\n",
              "    <tr>\n",
              "      <th>max</th>\n",
              "      <td>1365.000000</td>\n",
              "      <td>2203.500000</td>\n",
              "      <td>2089.900000</td>\n",
              "      <td>2178.800000</td>\n",
              "      <td>30.010000</td>\n",
              "      <td>319.640000</td>\n",
              "      <td>351.060000</td>\n",
              "      <td>348.560000</td>\n",
              "      <td>360.260000</td>\n",
              "      <td>1416.460000</td>\n",
              "      <td>1394.960000</td>\n",
              "      <td>1394.470000</td>\n",
              "      <td>1359.690000</td>\n",
              "      <td>15.520000</td>\n",
              "      <td>75.490000</td>\n",
              "      <td>173.800000</td>\n",
              "      <td>2618.100000</td>\n",
              "      <td>21.830000</td>\n",
              "      <td>21.090000</td>\n",
              "      <td>123.300000</td>\n",
              "      <td>126.200000</td>\n",
              "      <td>0.180000</td>\n",
              "      <td>0.850000</td>\n",
              "      <td>24.000000</td>\n",
              "      <td>22.550000</td>\n",
              "      <td>31.890000</td>\n",
              "      <td>132.000000</td>\n",
              "      <td>3669.790000</td>\n",
              "      <td>3858.300000</td>\n",
              "      <td>179.900000</td>\n",
              "      <td>12.560000</td>\n",
              "    </tr>\n",
              "  </tbody>\n",
              "</table>\n",
              "</div>"
            ],
            "text/plain": [
              "            AltAGL         AltB  ...        WndDr       WndSpd\n",
              "count  4467.000000  4467.000000  ...  4467.000000  4467.000000\n",
              "mean    621.904634  1447.365413  ...    61.420081     5.150486\n",
              "std     430.763101   419.003121  ...   103.837486     3.116676\n",
              "min       0.000000   825.500000  ...  -179.900000     0.000000\n",
              "25%     218.000000  1057.900000  ...     0.000000     2.530000\n",
              "50%     705.000000  1529.900000  ...   101.900000     5.250000\n",
              "75%     814.500000  1642.400000  ...   148.100000     7.730000\n",
              "max    1365.000000  2203.500000  ...   179.900000    12.560000\n",
              "\n",
              "[8 rows x 31 columns]"
            ]
          },
          "metadata": {},
          "execution_count": 43
        }
      ]
    },
    {
      "cell_type": "code",
      "metadata": {
        "id": "5_Du3PqjQmx7"
      },
      "source": [
        "#cut the dataset to 1000 in the mid point\n",
        "data = dataset[(int(len(dataset)/2)-499):(int(len(dataset)/2)+501)]"
      ],
      "execution_count": 44,
      "outputs": []
    },
    {
      "cell_type": "code",
      "metadata": {
        "colab": {
          "base_uri": "https://localhost:8080/",
          "height": 320
        },
        "id": "yAq9ZBb2XowI",
        "outputId": "8bb4766b-4ae4-4769-bfea-7399c71323c6"
      },
      "source": [
        "data.describe()"
      ],
      "execution_count": 45,
      "outputs": [
        {
          "output_type": "execute_result",
          "data": {
            "text/html": [
              "<div>\n",
              "<style scoped>\n",
              "    .dataframe tbody tr th:only-of-type {\n",
              "        vertical-align: middle;\n",
              "    }\n",
              "\n",
              "    .dataframe tbody tr th {\n",
              "        vertical-align: top;\n",
              "    }\n",
              "\n",
              "    .dataframe thead th {\n",
              "        text-align: right;\n",
              "    }\n",
              "</style>\n",
              "<table border=\"1\" class=\"dataframe\">\n",
              "  <thead>\n",
              "    <tr style=\"text-align: right;\">\n",
              "      <th></th>\n",
              "      <th>AltAGL</th>\n",
              "      <th>AltB</th>\n",
              "      <th>AltGPS</th>\n",
              "      <th>AltMSL</th>\n",
              "      <th>BaroA</th>\n",
              "      <th>E1_CHT1</th>\n",
              "      <th>E1_CHT2</th>\n",
              "      <th>E1_CHT3</th>\n",
              "      <th>E1_CHT4</th>\n",
              "      <th>E1_EGT1</th>\n",
              "      <th>E1_EGT2</th>\n",
              "      <th>E1_EGT3</th>\n",
              "      <th>E1_EGT4</th>\n",
              "      <th>E1_FFlow</th>\n",
              "      <th>E1_OilP</th>\n",
              "      <th>E1_OilT</th>\n",
              "      <th>E1_RPM</th>\n",
              "      <th>FQtyL</th>\n",
              "      <th>FQtyR</th>\n",
              "      <th>GndSpd</th>\n",
              "      <th>IAS</th>\n",
              "      <th>LatAc</th>\n",
              "      <th>NormAc</th>\n",
              "      <th>OAT</th>\n",
              "      <th>Pitch</th>\n",
              "      <th>Roll</th>\n",
              "      <th>TAS</th>\n",
              "      <th>VSpd</th>\n",
              "      <th>VSpdG</th>\n",
              "      <th>WndDr</th>\n",
              "      <th>WndSpd</th>\n",
              "    </tr>\n",
              "  </thead>\n",
              "  <tbody>\n",
              "    <tr>\n",
              "      <th>count</th>\n",
              "      <td>1000.000000</td>\n",
              "      <td>1000.000000</td>\n",
              "      <td>1000.00000</td>\n",
              "      <td>1000.000000</td>\n",
              "      <td>1.000000e+03</td>\n",
              "      <td>1000.000000</td>\n",
              "      <td>1000.000000</td>\n",
              "      <td>1000.000000</td>\n",
              "      <td>1000.000000</td>\n",
              "      <td>1000.000000</td>\n",
              "      <td>1000.000000</td>\n",
              "      <td>1000.000000</td>\n",
              "      <td>1000.000000</td>\n",
              "      <td>1000.000000</td>\n",
              "      <td>1000.000000</td>\n",
              "      <td>1000.00000</td>\n",
              "      <td>1000.000000</td>\n",
              "      <td>1000.000000</td>\n",
              "      <td>1000.000000</td>\n",
              "      <td>1000.000000</td>\n",
              "      <td>1000.000000</td>\n",
              "      <td>1000.000000</td>\n",
              "      <td>1000.000000</td>\n",
              "      <td>1000.000000</td>\n",
              "      <td>1000.000000</td>\n",
              "      <td>1000.000000</td>\n",
              "      <td>1000.00000</td>\n",
              "      <td>1000.000000</td>\n",
              "      <td>1000.000000</td>\n",
              "      <td>1000.000000</td>\n",
              "      <td>1000.00000</td>\n",
              "    </tr>\n",
              "    <tr>\n",
              "      <th>mean</th>\n",
              "      <td>561.461000</td>\n",
              "      <td>1390.146000</td>\n",
              "      <td>1290.12030</td>\n",
              "      <td>1379.260200</td>\n",
              "      <td>3.001000e+01</td>\n",
              "      <td>288.452540</td>\n",
              "      <td>313.248960</td>\n",
              "      <td>314.742510</td>\n",
              "      <td>327.743290</td>\n",
              "      <td>1282.929330</td>\n",
              "      <td>1266.607850</td>\n",
              "      <td>1288.068020</td>\n",
              "      <td>1261.800910</td>\n",
              "      <td>8.222110</td>\n",
              "      <td>64.386530</td>\n",
              "      <td>167.96197</td>\n",
              "      <td>1985.525900</td>\n",
              "      <td>13.536750</td>\n",
              "      <td>16.310060</td>\n",
              "      <td>79.746550</td>\n",
              "      <td>77.605200</td>\n",
              "      <td>-0.015680</td>\n",
              "      <td>0.041760</td>\n",
              "      <td>22.035700</td>\n",
              "      <td>2.953630</td>\n",
              "      <td>-4.810890</td>\n",
              "      <td>80.51300</td>\n",
              "      <td>15.046890</td>\n",
              "      <td>14.623800</td>\n",
              "      <td>48.646000</td>\n",
              "      <td>5.19748</td>\n",
              "    </tr>\n",
              "    <tr>\n",
              "      <th>std</th>\n",
              "      <td>330.752944</td>\n",
              "      <td>324.377129</td>\n",
              "      <td>323.13947</td>\n",
              "      <td>323.082523</td>\n",
              "      <td>6.291450e-13</td>\n",
              "      <td>18.391257</td>\n",
              "      <td>20.713554</td>\n",
              "      <td>18.880194</td>\n",
              "      <td>19.545436</td>\n",
              "      <td>104.343063</td>\n",
              "      <td>127.395336</td>\n",
              "      <td>101.032753</td>\n",
              "      <td>95.315497</td>\n",
              "      <td>4.037312</td>\n",
              "      <td>6.513404</td>\n",
              "      <td>1.26322</td>\n",
              "      <td>513.563468</td>\n",
              "      <td>0.878951</td>\n",
              "      <td>1.000322</td>\n",
              "      <td>23.277238</td>\n",
              "      <td>25.217058</td>\n",
              "      <td>0.030784</td>\n",
              "      <td>0.115575</td>\n",
              "      <td>0.806713</td>\n",
              "      <td>3.644298</td>\n",
              "      <td>14.677612</td>\n",
              "      <td>26.30939</td>\n",
              "      <td>428.135224</td>\n",
              "      <td>458.946867</td>\n",
              "      <td>120.928823</td>\n",
              "      <td>3.17479</td>\n",
              "    </tr>\n",
              "    <tr>\n",
              "      <th>min</th>\n",
              "      <td>0.000000</td>\n",
              "      <td>829.900000</td>\n",
              "      <td>740.60000</td>\n",
              "      <td>829.800000</td>\n",
              "      <td>3.001000e+01</td>\n",
              "      <td>251.720000</td>\n",
              "      <td>270.110000</td>\n",
              "      <td>276.990000</td>\n",
              "      <td>287.500000</td>\n",
              "      <td>990.490000</td>\n",
              "      <td>919.110000</td>\n",
              "      <td>1007.920000</td>\n",
              "      <td>984.870000</td>\n",
              "      <td>1.780000</td>\n",
              "      <td>49.060000</td>\n",
              "      <td>164.99000</td>\n",
              "      <td>779.800000</td>\n",
              "      <td>9.600000</td>\n",
              "      <td>13.410000</td>\n",
              "      <td>2.970000</td>\n",
              "      <td>-0.580000</td>\n",
              "      <td>-0.120000</td>\n",
              "      <td>-0.200000</td>\n",
              "      <td>21.000000</td>\n",
              "      <td>-5.200000</td>\n",
              "      <td>-58.460000</td>\n",
              "      <td>-1.00000</td>\n",
              "      <td>-1103.340000</td>\n",
              "      <td>-1169.300000</td>\n",
              "      <td>-179.900000</td>\n",
              "      <td>0.00000</td>\n",
              "    </tr>\n",
              "    <tr>\n",
              "      <th>25%</th>\n",
              "      <td>230.750000</td>\n",
              "      <td>1074.900000</td>\n",
              "      <td>970.87500</td>\n",
              "      <td>1060.100000</td>\n",
              "      <td>3.001000e+01</td>\n",
              "      <td>273.025000</td>\n",
              "      <td>300.205000</td>\n",
              "      <td>302.092500</td>\n",
              "      <td>314.555000</td>\n",
              "      <td>1285.855000</td>\n",
              "      <td>1264.075000</td>\n",
              "      <td>1281.207500</td>\n",
              "      <td>1259.027500</td>\n",
              "      <td>5.282500</td>\n",
              "      <td>64.232500</td>\n",
              "      <td>167.25750</td>\n",
              "      <td>1924.950000</td>\n",
              "      <td>13.040000</td>\n",
              "      <td>15.700000</td>\n",
              "      <td>73.485000</td>\n",
              "      <td>72.672500</td>\n",
              "      <td>-0.030000</td>\n",
              "      <td>-0.030000</td>\n",
              "      <td>21.500000</td>\n",
              "      <td>0.517500</td>\n",
              "      <td>-10.477500</td>\n",
              "      <td>75.00000</td>\n",
              "      <td>-251.810000</td>\n",
              "      <td>-279.500000</td>\n",
              "      <td>-27.550000</td>\n",
              "      <td>2.55000</td>\n",
              "    </tr>\n",
              "    <tr>\n",
              "      <th>50%</th>\n",
              "      <td>737.000000</td>\n",
              "      <td>1563.900000</td>\n",
              "      <td>1456.85000</td>\n",
              "      <td>1545.950000</td>\n",
              "      <td>3.001000e+01</td>\n",
              "      <td>293.890000</td>\n",
              "      <td>315.900000</td>\n",
              "      <td>317.250000</td>\n",
              "      <td>330.765000</td>\n",
              "      <td>1320.115000</td>\n",
              "      <td>1327.470000</td>\n",
              "      <td>1331.555000</td>\n",
              "      <td>1303.950000</td>\n",
              "      <td>8.680000</td>\n",
              "      <td>67.145000</td>\n",
              "      <td>168.08500</td>\n",
              "      <td>2204.100000</td>\n",
              "      <td>13.570000</td>\n",
              "      <td>16.220000</td>\n",
              "      <td>87.240000</td>\n",
              "      <td>85.385000</td>\n",
              "      <td>-0.020000</td>\n",
              "      <td>0.020000</td>\n",
              "      <td>21.800000</td>\n",
              "      <td>2.720000</td>\n",
              "      <td>-0.320000</td>\n",
              "      <td>89.00000</td>\n",
              "      <td>16.115000</td>\n",
              "      <td>0.000000</td>\n",
              "      <td>100.000000</td>\n",
              "      <td>5.30000</td>\n",
              "    </tr>\n",
              "    <tr>\n",
              "      <th>75%</th>\n",
              "      <td>793.000000</td>\n",
              "      <td>1616.900000</td>\n",
              "      <td>1514.02500</td>\n",
              "      <td>1603.150000</td>\n",
              "      <td>3.001000e+01</td>\n",
              "      <td>299.407500</td>\n",
              "      <td>323.667500</td>\n",
              "      <td>325.175000</td>\n",
              "      <td>339.372500</td>\n",
              "      <td>1337.792500</td>\n",
              "      <td>1341.317500</td>\n",
              "      <td>1348.705000</td>\n",
              "      <td>1315.287500</td>\n",
              "      <td>9.580000</td>\n",
              "      <td>68.105000</td>\n",
              "      <td>168.80000</td>\n",
              "      <td>2296.900000</td>\n",
              "      <td>14.110000</td>\n",
              "      <td>16.880000</td>\n",
              "      <td>94.940000</td>\n",
              "      <td>93.572500</td>\n",
              "      <td>0.000000</td>\n",
              "      <td>0.072500</td>\n",
              "      <td>22.500000</td>\n",
              "      <td>5.052500</td>\n",
              "      <td>1.712500</td>\n",
              "      <td>97.00000</td>\n",
              "      <td>245.512500</td>\n",
              "      <td>241.175000</td>\n",
              "      <td>143.000000</td>\n",
              "      <td>7.58000</td>\n",
              "    </tr>\n",
              "    <tr>\n",
              "      <th>max</th>\n",
              "      <td>1071.000000</td>\n",
              "      <td>1879.900000</td>\n",
              "      <td>1792.20000</td>\n",
              "      <td>1881.300000</td>\n",
              "      <td>3.001000e+01</td>\n",
              "      <td>317.980000</td>\n",
              "      <td>347.390000</td>\n",
              "      <td>345.990000</td>\n",
              "      <td>358.460000</td>\n",
              "      <td>1415.330000</td>\n",
              "      <td>1391.750000</td>\n",
              "      <td>1393.230000</td>\n",
              "      <td>1358.850000</td>\n",
              "      <td>15.410000</td>\n",
              "      <td>72.030000</td>\n",
              "      <td>170.97000</td>\n",
              "      <td>2488.700000</td>\n",
              "      <td>15.820000</td>\n",
              "      <td>20.170000</td>\n",
              "      <td>110.780000</td>\n",
              "      <td>109.190000</td>\n",
              "      <td>0.130000</td>\n",
              "      <td>0.850000</td>\n",
              "      <td>23.800000</td>\n",
              "      <td>13.600000</td>\n",
              "      <td>31.890000</td>\n",
              "      <td>113.00000</td>\n",
              "      <td>1168.790000</td>\n",
              "      <td>1232.300000</td>\n",
              "      <td>179.900000</td>\n",
              "      <td>12.56000</td>\n",
              "    </tr>\n",
              "  </tbody>\n",
              "</table>\n",
              "</div>"
            ],
            "text/plain": [
              "            AltAGL         AltB  ...        WndDr      WndSpd\n",
              "count  1000.000000  1000.000000  ...  1000.000000  1000.00000\n",
              "mean    561.461000  1390.146000  ...    48.646000     5.19748\n",
              "std     330.752944   324.377129  ...   120.928823     3.17479\n",
              "min       0.000000   829.900000  ...  -179.900000     0.00000\n",
              "25%     230.750000  1074.900000  ...   -27.550000     2.55000\n",
              "50%     737.000000  1563.900000  ...   100.000000     5.30000\n",
              "75%     793.000000  1616.900000  ...   143.000000     7.58000\n",
              "max    1071.000000  1879.900000  ...   179.900000    12.56000\n",
              "\n",
              "[8 rows x 31 columns]"
            ]
          },
          "metadata": {},
          "execution_count": 45
        }
      ]
    },
    {
      "cell_type": "code",
      "metadata": {
        "id": "bYI3wuYOUgDa"
      },
      "source": [
        "def df_to_np_array(df): \n",
        "    \"\"\" This function will turn the dataframe to numpy array\n",
        "    Parameter: dataframe\n",
        "    Return: Numpy array\n",
        "    \"\"\"\n",
        "    examples = []\n",
        "    examples.append(df.iloc[:, :].values)\n",
        "    \n",
        "    return np.stack(examples)\n",
        "\n",
        "def get_slice_random_segment(length):\n",
        "    \"\"\"This function will acquire a length of slice from the dataset.\n",
        "    Parameter: length, length of the dataset\n",
        "    return: array\n",
        "    \"\"\"\n",
        "    def slice_random_segment(x):\n",
        "      \"\"\"This function will return the specific array\n",
        "      Parameter: x, dataset\n",
        "      return: array\n",
        "      \"\"\"\n",
        "      #minval = min numbers of data points, maxval = max numbers of data points\n",
        "      start = tf.random.uniform(shape=[], minval=0, maxval= BASE_SEQ_LEN-length, dtype=tf.int64)\n",
        "      x = x[start:start+length]\n",
        "      print(x)\n",
        "      #reshape will turn x into the shape of (length, NUM_VAR)\n",
        "      x = tf.reshape(x, (length, NUM_VAR))\n",
        "      print(x)\n",
        "      return x \n",
        "    return slice_random_segment\n",
        "\n",
        "def get_split_xy(y_length):\n",
        "  \"\"\"This will get two specific group of data points.\n",
        "  Parameter: y_length\n",
        "  return: x, y \n",
        "  \"\"\"\n",
        "  def split_xy(x):\n",
        "    \"\"\"\n",
        "    Parameter: dataset\n",
        "    \"\"\"\n",
        "    y = x[-y_length:]\n",
        "    return x[:-y_length], y \n",
        "  return split_xy\n",
        "\n",
        "def get_dataset(train_data, shuffle = False, repeat = False): \n",
        "    train_data = df_to_np_array(train_data)\n",
        "    print(train_data)\n",
        "    ds = tf.data.Dataset.from_tensor_slices(train_data)\n",
        "    print(ds)\n",
        "    ds = ds.map(get_slice_random_segment(length = INPUT_SEQ_LEN + OUTPUT_SEQ_LEN))\n",
        "    ds = ds.map(get_split_xy(y_length=OUTPUT_SEQ_LEN))\n",
        "\n",
        "    #Changing the value of buffer_size affects how uniform the shuffling\n",
        "    ds = ds.shuffle(512) if shuffle else ds \n",
        "    ds = ds.repeat() if repeat else ds.repeat(2)\n",
        "    ds = ds.batch(BATCH_SIZE, drop_remainder=True)\n",
        "\n",
        "    return ds \n",
        "\n",
        "  \n",
        "def get_detection_xy(df , scaler):\n",
        "    \"\"\"get the testing dataset\n",
        "    Parameter: dataset, number of simulation run, the scaler you use in the training process\n",
        "    return: x:slice of dataset(testing), y:target value\n",
        "    \"\"\"\n",
        "    \n",
        "    scaled = scaler.transform(df.iloc[:, :])\n",
        "\n",
        "    x = []\n",
        "    y = []\n",
        "\n",
        "    for i in range(BASE_SEQ_LEN - INPUT_SEQ_LEN - OUTPUT_SEQ_LEN):\n",
        "        x.append(scaled[i:i+ INPUT_SEQ_LEN])\n",
        "        y.append(scaled[i+INPUT_SEQ_LEN: i + INPUT_SEQ_LEN + OUTPUT_SEQ_LEN])\n",
        "\n",
        "    x = np.stack(x)\n",
        "    y = np.stack(y)\n",
        "\n",
        "    return x,y \n",
        "    \n",
        "    \n",
        "def get_mse(model, df, scaler):\n",
        "    \"\"\" Get loss value: the mean squared error value\n",
        "    Parameter: dataset, simulation run, model\n",
        "    Return: loss value\n",
        "    \"\"\"\n",
        "    x, y = get_detection_xy(df, scaler) \n",
        "    y_pred_1 = model.predict(x, verbose = True)\n",
        "    mse_1 = tfk.losses.MSE(y, y_pred_1).numpy()\n",
        "    return mse_1.flatten()\n"
      ],
      "execution_count": 19,
      "outputs": []
    },
    {
      "cell_type": "code",
      "metadata": {
        "id": "jvg0_Hu1y392"
      },
      "source": [
        "def train_model(df, model):\n",
        "  \"\"\"This function is to tain the model\n",
        "  Parameter: df, model\n",
        "  Return: trained model, and trained scaler\n",
        "  \"\"\"\n",
        "  train_df = df[:]\n",
        "\n",
        "\n",
        "  scaler = preprocessing.MinMaxScaler()\n",
        "  scaler.fit(train_df.iloc[:, :].values)\n",
        "\n",
        "  train_df.iloc[:, :] = scaler.transform(train_df.iloc[:, :].values)\n",
        "  train_ds = get_dataset(train_df, shuffle = True, repeat=True)\n",
        "\n",
        "  model.fit(\n",
        "      train_ds, \n",
        "      epochs = 20,\n",
        "      steps_per_epoch = 1000,\n",
        "  )\n",
        "\n",
        "  return model, scaler"
      ],
      "execution_count": 8,
      "outputs": []
    },
    {
      "cell_type": "code",
      "metadata": {
        "id": "YQb-V1Dzy3Q1"
      },
      "source": [
        "def get_result( model, baseline, scaler):\n",
        "  \"\"\"This function is to get and plot the result\n",
        "  Paramter: baseline, simrun, trained model, and trained scaler\n",
        "  \"\"\"\n",
        "\n",
        "  mse_model_1 = get_mse(model, data, scaler)\n",
        "  # mse_model_2 = get_mse(model, faulty_testing, scaler, simrun)\n",
        "  pd.DataFrame({'normal' : mse_model_1, 'baseline': baseline}).plot(ylim = (0.0, 1))"
      ],
      "execution_count": 37,
      "outputs": []
    },
    {
      "cell_type": "markdown",
      "metadata": {
        "id": "vpoMG2kTVwkk"
      },
      "source": [
        "# MODEL"
      ]
    },
    {
      "cell_type": "code",
      "metadata": {
        "id": "17mCyV75Vxnj"
      },
      "source": [
        "#LSTM\n",
        "def get_model_1():\n",
        "    with strategy.scope():\n",
        "      model = tf.keras.Sequential([\n",
        "                              tf.keras.Input(shape  = (INPUT_SEQ_LEN, NUM_VAR)),\n",
        "                              tfkl.LSTM(64, return_sequences=True), \n",
        "                              tfkl.LSTM(64, return_sequences=False),\n",
        "                              tfkl.RepeatVector(OUTPUT_SEQ_LEN), \n",
        "                              tfkl.LSTM(64, return_sequences=True),\n",
        "                              tfkl.Dense(NUM_VAR, activation = 'relu')\n",
        "\n",
        "      ])\n",
        "\n",
        "      model.compile(optimizer = tfk.optimizers.Adam(learning_rate=1e-4), loss = \"mse\" )\n",
        "\n",
        "      return model "
      ],
      "execution_count": 10,
      "outputs": []
    },
    {
      "cell_type": "code",
      "metadata": {
        "id": "3fK_QybpXJLE"
      },
      "source": [
        "#LSTM\n",
        "def get_model_2():\n",
        "    with strategy.scope():\n",
        "      model = tf.keras.Sequential([\n",
        "                              tf.keras.Input(shape  = (INPUT_SEQ_LEN, NUM_VAR)),\n",
        "                              tfkl.LSTM(64, return_sequences=True), \n",
        "                              tfkl.LSTM(64, return_sequences=True),\n",
        "                              tfkl.LSTM(64, return_sequences=False),\n",
        "                              tfkl.Dropout(0.5),\n",
        "                              tfkl.RepeatVector(OUTPUT_SEQ_LEN), \n",
        "                              tfkl.LSTM(64, return_sequences=True),\n",
        "                              tfkl.Dense(NUM_VAR, activation = 'relu')\n",
        "\n",
        "      ])\n",
        "\n",
        "      model.compile(optimizer = tfk.optimizers.Adam(learning_rate=1e-4), loss = \"mse\" )\n",
        "\n",
        "      return model "
      ],
      "execution_count": null,
      "outputs": []
    },
    {
      "cell_type": "code",
      "metadata": {
        "id": "MRYdT0dDXKkF"
      },
      "source": [
        "#GRU\n",
        "def get_model_3():\n",
        "    with strategy.scope():\n",
        "      model = tf.keras.Sequential([\n",
        "                              tf.keras.Input(shape  = (INPUT_SEQ_LEN, NUM_VAR)),\n",
        "                              tfkl.GRU(64, return_sequences=True), \n",
        "                              tfkl.GRU(64, return_sequences=False),\n",
        "                              tfkl.RepeatVector(OUTPUT_SEQ_LEN), \n",
        "                              tfkl.GRU(64, return_sequences=True),\n",
        "                              tfkl.Dense(NUM_VAR, activation = 'relu')\n",
        "\n",
        "      ])\n",
        "\n",
        "      model.compile(optimizer = tfk.optimizers.Adam(learning_rate=1e-4), loss = \"mse\" )\n",
        "\n",
        "      return model "
      ],
      "execution_count": null,
      "outputs": []
    },
    {
      "cell_type": "code",
      "metadata": {
        "id": "YeTl-WGfXLp9"
      },
      "source": [
        "#GRU\n",
        "def get_model_4():\n",
        "    with strategy.scope():\n",
        "      model = tf.keras.Sequential([\n",
        "                              tf.keras.Input(shape  = (INPUT_SEQ_LEN, NUM_VAR)),\n",
        "                              # tfkl.Conv1D(64, 5, 1),\n",
        "                              tfkl.GRU(64, return_sequences=True), \n",
        "                              tfkl.GRU(64, return_sequences=True),\n",
        "                              tfkl.GRU(64, return_sequences=False),\n",
        "                              tfkl.Dropout(0.5),\n",
        "                              tfkl.RepeatVector(OUTPUT_SEQ_LEN), \n",
        "                              tfkl.GRU(64, return_sequences=True),\n",
        "                              tfkl.Dense(NUM_VAR, activation = 'relu')\n",
        "\n",
        "      ])\n",
        "\n",
        "      model.compile(optimizer = tfk.optimizers.Adam(learning_rate=1e-4), loss = \"mse\" )\n",
        "\n",
        "      return model \n"
      ],
      "execution_count": null,
      "outputs": []
    },
    {
      "cell_type": "markdown",
      "metadata": {
        "id": "dVEOOjUrzpTV"
      },
      "source": [
        "# Train the model"
      ]
    },
    {
      "cell_type": "code",
      "metadata": {
        "colab": {
          "base_uri": "https://localhost:8080/"
        },
        "id": "qiXkOhmvGdN-",
        "outputId": "f2b3c92d-ca33-4f52-95d7-dc2d719747e8"
      },
      "source": [
        "model = get_model_1()\n",
        "model, scaler = train_model(data ,model)"
      ],
      "execution_count": 35,
      "outputs": [
        {
          "output_type": "stream",
          "name": "stdout",
          "text": [
            "[[[0.33239963 0.34666667 0.33919741 ... 0.23280313 0.68788216 0.54219745]\n",
            "  [0.32026144 0.32952381 0.32978319 ... 0.23771652 0.68982768 0.53423567]\n",
            "  [0.31185808 0.32       0.32065424 ... 0.24591939 0.692607   0.52388535]\n",
            "  ...\n",
            "  [0.73762838 0.74380952 0.72613161 ... 0.29018155 0.75541968 0.66321656]\n",
            "  [0.7264239  0.73809524 0.71500571 ... 0.19999167 0.74819344 0.64171975]\n",
            "  [0.7124183  0.72761905 0.70074173 ... 0.11967022 0.7409672  0.61783439]]]\n",
            "<TensorSliceDataset shapes: (1000, 31), types: tf.float64>\n",
            "Tensor(\"strided_slice:0\", shape=(None, 31), dtype=float64)\n",
            "Tensor(\"Reshape:0\", shape=(33, 31), dtype=float64)\n",
            "Epoch 1/20\n",
            "1000/1000 [==============================] - 38s 33ms/step - loss: 0.1247\n",
            "Epoch 2/20\n",
            "1000/1000 [==============================] - 33s 33ms/step - loss: 0.0819\n",
            "Epoch 3/20\n",
            "1000/1000 [==============================] - 35s 35ms/step - loss: 0.0792\n",
            "Epoch 4/20\n",
            "1000/1000 [==============================] - 32s 32ms/step - loss: 0.0627\n",
            "Epoch 5/20\n",
            "1000/1000 [==============================] - 33s 33ms/step - loss: 0.0441\n",
            "Epoch 6/20\n",
            "1000/1000 [==============================] - 33s 33ms/step - loss: 0.0268\n",
            "Epoch 7/20\n",
            "1000/1000 [==============================] - 31s 31ms/step - loss: 0.0265\n",
            "Epoch 8/20\n",
            "1000/1000 [==============================] - 33s 33ms/step - loss: 0.0262\n",
            "Epoch 9/20\n",
            "1000/1000 [==============================] - 31s 31ms/step - loss: 0.0261\n",
            "Epoch 10/20\n",
            "1000/1000 [==============================] - 32s 32ms/step - loss: 0.0259\n",
            "Epoch 11/20\n",
            "1000/1000 [==============================] - 32s 32ms/step - loss: 0.0259\n",
            "Epoch 12/20\n",
            "1000/1000 [==============================] - 31s 31ms/step - loss: 0.0258\n",
            "Epoch 13/20\n",
            "1000/1000 [==============================] - 36s 36ms/step - loss: 0.0257\n",
            "Epoch 14/20\n",
            "1000/1000 [==============================] - 34s 34ms/step - loss: 0.0157\n",
            "Epoch 15/20\n",
            "1000/1000 [==============================] - 32s 32ms/step - loss: 0.0131\n",
            "Epoch 16/20\n",
            "1000/1000 [==============================] - 34s 34ms/step - loss: 0.0131\n",
            "Epoch 17/20\n",
            "1000/1000 [==============================] - 33s 33ms/step - loss: 0.0130\n",
            "Epoch 18/20\n",
            "1000/1000 [==============================] - 32s 32ms/step - loss: 0.0129\n",
            "Epoch 19/20\n",
            "1000/1000 [==============================] - 34s 34ms/step - loss: 0.0130\n",
            "Epoch 20/20\n",
            "1000/1000 [==============================] - 33s 33ms/step - loss: 0.0129\n"
          ]
        }
      ]
    },
    {
      "cell_type": "code",
      "metadata": {
        "colab": {
          "base_uri": "https://localhost:8080/"
        },
        "id": "8zKt7Huv5EXz",
        "outputId": "9b48c730-3711-4759-9ee5-e24788ccdb5d"
      },
      "source": [
        "model.summary()"
      ],
      "execution_count": null,
      "outputs": [
        {
          "output_type": "stream",
          "name": "stdout",
          "text": [
            "Model: \"sequential\"\n",
            "_________________________________________________________________\n",
            "Layer (type)                 Output Shape              Param #   \n",
            "=================================================================\n",
            "lstm (LSTM)                  (None, 32, 64)            29952     \n",
            "_________________________________________________________________\n",
            "lstm_1 (LSTM)                (None, 64)                33024     \n",
            "_________________________________________________________________\n",
            "repeat_vector (RepeatVector) (None, 1, 64)             0         \n",
            "_________________________________________________________________\n",
            "lstm_2 (LSTM)                (None, 1, 64)             33024     \n",
            "_________________________________________________________________\n",
            "dense (Dense)                (None, 1, 52)             3380      \n",
            "=================================================================\n",
            "Total params: 99,380\n",
            "Trainable params: 99,380\n",
            "Non-trainable params: 0\n",
            "_________________________________________________________________\n"
          ]
        }
      ]
    },
    {
      "cell_type": "code",
      "metadata": {
        "colab": {
          "base_uri": "https://localhost:8080/"
        },
        "id": "udkNvGQ94iaN",
        "outputId": "6be8c771-3f03-4e6b-ca38-4e011a266c15"
      },
      "source": [
        "model_2 = get_model_2()\n",
        "model_2, scaler = train_model(fault_free_training ,model_2)"
      ],
      "execution_count": null,
      "outputs": [
        {
          "output_type": "stream",
          "name": "stdout",
          "text": [
            "Epoch 1/20\n",
            "1000/1000 [==============================] - 22s 9ms/step - loss: 0.0540\n",
            "Epoch 2/20\n",
            "1000/1000 [==============================] - 9s 9ms/step - loss: 0.0334\n",
            "Epoch 3/20\n",
            "1000/1000 [==============================] - 9s 9ms/step - loss: 0.0298\n",
            "Epoch 4/20\n",
            "1000/1000 [==============================] - 9s 9ms/step - loss: 0.0254\n",
            "Epoch 5/20\n",
            "1000/1000 [==============================] - 9s 9ms/step - loss: 0.0250\n",
            "Epoch 6/20\n",
            "1000/1000 [==============================] - 9s 9ms/step - loss: 0.0248\n",
            "Epoch 7/20\n",
            "1000/1000 [==============================] - 9s 9ms/step - loss: 0.0247\n",
            "Epoch 8/20\n",
            "1000/1000 [==============================] - 9s 9ms/step - loss: 0.0246\n",
            "Epoch 9/20\n",
            "1000/1000 [==============================] - 9s 9ms/step - loss: 0.0245\n",
            "Epoch 10/20\n",
            "1000/1000 [==============================] - 9s 9ms/step - loss: 0.0245\n",
            "Epoch 11/20\n",
            "1000/1000 [==============================] - 9s 9ms/step - loss: 0.0244\n",
            "Epoch 12/20\n",
            "1000/1000 [==============================] - 9s 9ms/step - loss: 0.0244\n",
            "Epoch 13/20\n",
            "1000/1000 [==============================] - 9s 9ms/step - loss: 0.0244\n",
            "Epoch 14/20\n",
            "1000/1000 [==============================] - 9s 9ms/step - loss: 0.0243\n",
            "Epoch 15/20\n",
            "1000/1000 [==============================] - 9s 9ms/step - loss: 0.0243\n",
            "Epoch 16/20\n",
            "1000/1000 [==============================] - 9s 9ms/step - loss: 0.0242\n",
            "Epoch 17/20\n",
            "1000/1000 [==============================] - 9s 9ms/step - loss: 0.0242\n",
            "Epoch 18/20\n",
            "1000/1000 [==============================] - 9s 9ms/step - loss: 0.0240\n",
            "Epoch 19/20\n",
            "1000/1000 [==============================] - 9s 9ms/step - loss: 0.0239\n",
            "Epoch 20/20\n",
            "1000/1000 [==============================] - 9s 9ms/step - loss: 0.0238\n"
          ]
        }
      ]
    },
    {
      "cell_type": "code",
      "metadata": {
        "colab": {
          "base_uri": "https://localhost:8080/"
        },
        "id": "0miziwu-IFFy",
        "outputId": "02c30bb6-e38f-40e7-d0ee-ad604f60fc31"
      },
      "source": [
        "model_2.summary()"
      ],
      "execution_count": null,
      "outputs": [
        {
          "output_type": "stream",
          "name": "stdout",
          "text": [
            "Model: \"sequential_1\"\n",
            "_________________________________________________________________\n",
            "Layer (type)                 Output Shape              Param #   \n",
            "=================================================================\n",
            "lstm_3 (LSTM)                (None, 32, 64)            29952     \n",
            "_________________________________________________________________\n",
            "lstm_4 (LSTM)                (None, 32, 64)            33024     \n",
            "_________________________________________________________________\n",
            "lstm_5 (LSTM)                (None, 64)                33024     \n",
            "_________________________________________________________________\n",
            "dropout (Dropout)            (None, 64)                0         \n",
            "_________________________________________________________________\n",
            "repeat_vector_1 (RepeatVecto (None, 1, 64)             0         \n",
            "_________________________________________________________________\n",
            "lstm_6 (LSTM)                (None, 1, 64)             33024     \n",
            "_________________________________________________________________\n",
            "dense_1 (Dense)              (None, 1, 52)             3380      \n",
            "=================================================================\n",
            "Total params: 132,404\n",
            "Trainable params: 132,404\n",
            "Non-trainable params: 0\n",
            "_________________________________________________________________\n"
          ]
        }
      ]
    },
    {
      "cell_type": "code",
      "metadata": {
        "colab": {
          "base_uri": "https://localhost:8080/"
        },
        "id": "1JADcr2h8sXd",
        "outputId": "c996ae4f-a96f-468f-d45c-8093bd7e4256"
      },
      "source": [
        "model_3 = get_model_3()\n",
        "model_3, scaler = train_model(fault_free_training ,model_3)"
      ],
      "execution_count": null,
      "outputs": [
        {
          "output_type": "stream",
          "name": "stdout",
          "text": [
            "Epoch 1/20\n",
            "1000/1000 [==============================] - 15s 8ms/step - loss: 0.1008\n",
            "Epoch 2/20\n",
            "1000/1000 [==============================] - 8s 8ms/step - loss: 0.0798\n",
            "Epoch 3/20\n",
            "1000/1000 [==============================] - 8s 8ms/step - loss: 0.0701\n",
            "Epoch 4/20\n",
            "1000/1000 [==============================] - 8s 8ms/step - loss: 0.0432\n",
            "Epoch 5/20\n",
            "1000/1000 [==============================] - 8s 8ms/step - loss: 0.0406\n",
            "Epoch 6/20\n",
            "1000/1000 [==============================] - 8s 8ms/step - loss: 0.0401\n",
            "Epoch 7/20\n",
            "1000/1000 [==============================] - 8s 8ms/step - loss: 0.0399\n",
            "Epoch 8/20\n",
            "1000/1000 [==============================] - 8s 8ms/step - loss: 0.0396\n",
            "Epoch 9/20\n",
            "1000/1000 [==============================] - 8s 8ms/step - loss: 0.0393\n",
            "Epoch 10/20\n",
            "1000/1000 [==============================] - 8s 8ms/step - loss: 0.0367\n",
            "Epoch 11/20\n",
            "1000/1000 [==============================] - 8s 8ms/step - loss: 0.0344\n",
            "Epoch 12/20\n",
            "1000/1000 [==============================] - 8s 8ms/step - loss: 0.0343\n",
            "Epoch 13/20\n",
            "1000/1000 [==============================] - 8s 8ms/step - loss: 0.0342\n",
            "Epoch 14/20\n",
            "1000/1000 [==============================] - 8s 8ms/step - loss: 0.0341\n",
            "Epoch 15/20\n",
            "1000/1000 [==============================] - 8s 8ms/step - loss: 0.0340\n",
            "Epoch 16/20\n",
            "1000/1000 [==============================] - 8s 8ms/step - loss: 0.0340\n",
            "Epoch 17/20\n",
            "1000/1000 [==============================] - 8s 8ms/step - loss: 0.0339\n",
            "Epoch 18/20\n",
            "1000/1000 [==============================] - 8s 8ms/step - loss: 0.0339\n",
            "Epoch 19/20\n",
            "1000/1000 [==============================] - 8s 8ms/step - loss: 0.0339\n",
            "Epoch 20/20\n",
            "1000/1000 [==============================] - 8s 8ms/step - loss: 0.0338\n"
          ]
        }
      ]
    },
    {
      "cell_type": "code",
      "metadata": {
        "colab": {
          "base_uri": "https://localhost:8080/"
        },
        "id": "5bHxkaoxJABL",
        "outputId": "75117b35-00b0-4e4f-eef3-4226d7cc1688"
      },
      "source": [
        "model_3.summary()"
      ],
      "execution_count": null,
      "outputs": [
        {
          "output_type": "stream",
          "name": "stdout",
          "text": [
            "Model: \"sequential_2\"\n",
            "_________________________________________________________________\n",
            "Layer (type)                 Output Shape              Param #   \n",
            "=================================================================\n",
            "gru (GRU)                    (None, 32, 64)            22656     \n",
            "_________________________________________________________________\n",
            "gru_1 (GRU)                  (None, 64)                24960     \n",
            "_________________________________________________________________\n",
            "repeat_vector_2 (RepeatVecto (None, 1, 64)             0         \n",
            "_________________________________________________________________\n",
            "gru_2 (GRU)                  (None, 1, 64)             24960     \n",
            "_________________________________________________________________\n",
            "dense_2 (Dense)              (None, 1, 52)             3380      \n",
            "=================================================================\n",
            "Total params: 75,956\n",
            "Trainable params: 75,956\n",
            "Non-trainable params: 0\n",
            "_________________________________________________________________\n"
          ]
        }
      ]
    },
    {
      "cell_type": "code",
      "metadata": {
        "colab": {
          "base_uri": "https://localhost:8080/"
        },
        "id": "sKuTGtBO9gRb",
        "outputId": "8d4b137f-3015-4a8a-e3da-7def0ea580b0"
      },
      "source": [
        "model_4 = get_model_4()\n",
        "model_4, scaler = train_model(fault_free_training ,model_4)"
      ],
      "execution_count": null,
      "outputs": [
        {
          "output_type": "stream",
          "name": "stdout",
          "text": [
            "Epoch 1/20\n",
            "1000/1000 [==============================] - 17s 9ms/step - loss: 0.0501\n",
            "Epoch 2/20\n",
            "1000/1000 [==============================] - 9s 9ms/step - loss: 0.0288\n",
            "Epoch 3/20\n",
            "1000/1000 [==============================] - 9s 9ms/step - loss: 0.0270\n",
            "Epoch 4/20\n",
            "1000/1000 [==============================] - 9s 9ms/step - loss: 0.0265\n",
            "Epoch 5/20\n",
            "1000/1000 [==============================] - 9s 9ms/step - loss: 0.0262\n",
            "Epoch 6/20\n",
            "1000/1000 [==============================] - 9s 9ms/step - loss: 0.0258\n",
            "Epoch 7/20\n",
            "1000/1000 [==============================] - 13s 13ms/step - loss: 0.0250\n",
            "Epoch 8/20\n",
            "1000/1000 [==============================] - 9s 9ms/step - loss: 0.0202\n",
            "Epoch 9/20\n",
            "1000/1000 [==============================] - 9s 9ms/step - loss: 0.0199\n",
            "Epoch 10/20\n",
            "1000/1000 [==============================] - 9s 9ms/step - loss: 0.0197\n",
            "Epoch 11/20\n",
            "1000/1000 [==============================] - 9s 9ms/step - loss: 0.0196\n",
            "Epoch 12/20\n",
            "1000/1000 [==============================] - 9s 9ms/step - loss: 0.0194\n",
            "Epoch 13/20\n",
            "1000/1000 [==============================] - 9s 9ms/step - loss: 0.0192\n",
            "Epoch 14/20\n",
            "1000/1000 [==============================] - 9s 9ms/step - loss: 0.0191\n",
            "Epoch 15/20\n",
            "1000/1000 [==============================] - 9s 9ms/step - loss: 0.0190\n",
            "Epoch 16/20\n",
            "1000/1000 [==============================] - 9s 9ms/step - loss: 0.0188\n",
            "Epoch 17/20\n",
            "1000/1000 [==============================] - 9s 9ms/step - loss: 0.0188\n",
            "Epoch 18/20\n",
            "1000/1000 [==============================] - 9s 9ms/step - loss: 0.0187\n",
            "Epoch 19/20\n",
            "1000/1000 [==============================] - 9s 9ms/step - loss: 0.0187\n",
            "Epoch 20/20\n",
            "1000/1000 [==============================] - 9s 9ms/step - loss: 0.0187\n"
          ]
        }
      ]
    },
    {
      "cell_type": "code",
      "metadata": {
        "colab": {
          "base_uri": "https://localhost:8080/"
        },
        "id": "z5teNnNaJdtE",
        "outputId": "f7f297e9-74e1-42f4-df15-3180c3193222"
      },
      "source": [
        "model_4.summary()"
      ],
      "execution_count": null,
      "outputs": [
        {
          "output_type": "stream",
          "name": "stdout",
          "text": [
            "Model: \"sequential_3\"\n",
            "_________________________________________________________________\n",
            "Layer (type)                 Output Shape              Param #   \n",
            "=================================================================\n",
            "gru_3 (GRU)                  (None, 32, 64)            22656     \n",
            "_________________________________________________________________\n",
            "gru_4 (GRU)                  (None, 32, 64)            24960     \n",
            "_________________________________________________________________\n",
            "gru_5 (GRU)                  (None, 64)                24960     \n",
            "_________________________________________________________________\n",
            "dropout_1 (Dropout)          (None, 64)                0         \n",
            "_________________________________________________________________\n",
            "repeat_vector_3 (RepeatVecto (None, 1, 64)             0         \n",
            "_________________________________________________________________\n",
            "gru_6 (GRU)                  (None, 1, 64)             24960     \n",
            "_________________________________________________________________\n",
            "dense_3 (Dense)              (None, 1, 52)             3380      \n",
            "=================================================================\n",
            "Total params: 100,916\n",
            "Trainable params: 100,916\n",
            "Non-trainable params: 0\n",
            "_________________________________________________________________\n"
          ]
        }
      ]
    },
    {
      "cell_type": "markdown",
      "metadata": {
        "id": "D8ER43tSKLaE"
      },
      "source": [
        "# Get the result"
      ]
    },
    {
      "cell_type": "code",
      "metadata": {
        "id": "MO3uDBQidyqe"
      },
      "source": [
        "baseline = 0.1\n",
        "run = 1\n",
        "models = [model, model_2, model_3, model_4]\n",
        "\n",
        "\n",
        "for i in range(len(models)):\n",
        "  get_result(models[i], 0.1, scaler, run)"
      ],
      "execution_count": null,
      "outputs": []
    },
    {
      "cell_type": "code",
      "metadata": {
        "colab": {
          "base_uri": "https://localhost:8080/",
          "height": 286
        },
        "id": "0Abiny02NA2k",
        "outputId": "0abd3d7f-471a-4f64-8114-8556130972fc"
      },
      "source": [
        "baseline = 0.1\n",
        "run = 1\n",
        "\n",
        "get_result(model, 0.1, scaler)"
      ],
      "execution_count": 29,
      "outputs": [
        {
          "output_type": "stream",
          "name": "stdout",
          "text": [
            "31/31 [==============================] - 3s 59ms/step\n"
          ]
        },
        {
          "output_type": "display_data",
          "data": {
            "image/png": "[encoded data removed]",
            "text/plain": [
              "<Figure size 432x288 with 1 Axes>"
            ]
          },
          "metadata": {
            "needs_background": "light"
          }
        }
      ]
    },
    {
      "cell_type": "markdown",
      "metadata": {
        "id": "WMtCI8ghFbu4"
      },
      "source": [
        "# Cross Validation"
      ]
    },
    {
      "cell_type": "code",
      "metadata": {
        "id": "gPA-KyKOd1zE"
      },
      "source": [
        "#cross validation\n",
        "for train_split, val_split in KFold().split([i+1 for i in range(500)]):\n",
        "    train_df = fault_free_training[fault_free_training.simulationRun.isin(train_split)]\n",
        "    val_df = fault_free_training[fault_free_training.simulationRun.isin(val_split)]\n",
        "\n",
        "  \n",
        "    scaler = preprocessing.MinMaxScaler()\n",
        "    scaler.fit(train_df.iloc[:, 3:].values)\n",
        "\n",
        "    train_df.iloc[:, 3:] = scaler.transform(train_df.iloc[:, 3:].values)\n",
        "    val_df.iloc[:, 3:] = scaler.transform(val_df.iloc[:, 3:].values)\n",
        "\n",
        "    train_ds = get_dataset(train_df, shuffle = True, repeat=True)\n",
        "    val_ds = get_dataset(val_df)\n",
        "\n",
        "\n",
        "    model = get_model_1() \n",
        "\n",
        "\n",
        "    model.fit(\n",
        "        train_ds, \n",
        "        epochs = 20,\n",
        "        steps_per_epoch = 1000,\n",
        "        validation_data= val_ds,\n",
        "        \n",
        "    )\n",
        "\n",
        "    break\n"
      ],
      "execution_count": null,
      "outputs": []
    }
  ]
}